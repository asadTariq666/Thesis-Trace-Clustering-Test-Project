{
 "cells": [
  {
   "cell_type": "code",
   "execution_count": 4,
   "metadata": {},
   "outputs": [],
   "source": [
    "import pm4py"
   ]
  },
  {
   "cell_type": "code",
   "execution_count": 1,
   "metadata": {},
   "outputs": [],
   "source": [
    "import numpy as np"
   ]
  },
  {
   "cell_type": "code",
   "execution_count": 7,
   "metadata": {},
   "outputs": [
    {
     "name": "stdout",
     "output_type": "stream",
     "text": [
      "{'attributes': {'enddate_planned': datetime.datetime(2011, 12, 6, 1, 6, 40, 10000, tzinfo=datetime.timezone(datetime.timedelta(seconds=3600))), 'enddate': datetime.datetime(2011, 10, 18, 13, 56, 55, 943000, tzinfo=datetime.timezone(datetime.timedelta(seconds=7200))), 'channel': 'Internet', 'startdate': datetime.datetime(2011, 10, 11, 1, 6, 40, 20000, tzinfo=datetime.timezone(datetime.timedelta(seconds=7200))), 'group': 'Group 5', 'deadline': datetime.datetime(2011, 12, 6, 1, 6, 40, tzinfo=datetime.timezone(datetime.timedelta(seconds=3600))), 'department': 'General', 'responsible': 'Resource04', 'concept:name': 'case-10017'}, 'events': [{'org:resource': 'Resource30', 'concept:instance': 'task-43021', 'org:group': 'EMPTY', 'concept:name': 'Confirmation of receipt', 'lifecycle:transition': 'complete', 'time:timestamp': datetime.datetime(2011, 10, 18, 13, 46, 39, 679000, tzinfo=datetime.timezone(datetime.timedelta(seconds=7200)))}, '..', {'org:resource': 'admin2', 'concept:instance': 'task-43686', 'org:group': 'Group 1', 'concept:name': 'T03 Adjust confirmation of receipt', 'lifecycle:transition': 'complete', 'time:timestamp': datetime.datetime(2011, 10, 18, 13, 56, 57, 603000, tzinfo=datetime.timezone(datetime.timedelta(seconds=7200)))}]}\n"
     ]
    }
   ],
   "source": [
    "print(log[0]) #prints the first trace of the log\n",
    "#print(log[0][0])"
   ]
  },
  {
   "cell_type": "code",
   "execution_count": 15,
   "metadata": {},
   "outputs": [],
   "source": [
    "log_Test = [['a','h'],['a','b','c','d','e','f','g','i'],['a','b','d','e','g','i'],['a','b','d','e','f','g','i'],\n",
    "['a','c','b','d','h','i'], ['a','c','b','d','e','g','h'],['a','b','d','h','i']]"
   ]
  },
  {
   "cell_type": "code",
   "execution_count": 16,
   "metadata": {},
   "outputs": [
    {
     "name": "stderr",
     "output_type": "stream",
     "text": [
      "/Users/asadtariq/opt/anaconda3/envs/env-IDS2020/lib/python3.7/site-packages/ipykernel_launcher.py:1: VisibleDeprecationWarning: Creating an ndarray from ragged nested sequences (which is a list-or-tuple of lists-or-tuples-or ndarrays with different lengths or shapes) is deprecated. If you meant to do this, you must specify 'dtype=object' when creating the ndarray.\n",
      "  \"\"\"Entry point for launching an IPython kernel.\n"
     ]
    }
   ],
   "source": [
    "np_arr = np.array(log_Test)"
   ]
  },
  {
   "cell_type": "code",
   "execution_count": 17,
   "metadata": {},
   "outputs": [
    {
     "data": {
      "text/plain": [
       "7"
      ]
     },
     "execution_count": 17,
     "metadata": {},
     "output_type": "execute_result"
    }
   ],
   "source": [
    "len(log_Test)\n"
   ]
  },
  {
   "cell_type": "code",
   "execution_count": 18,
   "metadata": {},
   "outputs": [],
   "source": [
    "vectors = [[0,0,0,0,0,0,0,0,0],[0,0,0,0,0,0,0,0,0],[0,0,0,0,0,0,0,0,0],[0,0,0,0,0,0,0,0,0],[0,0,0,0,0,0,0,0,0],\n",
    "[0,0,0,0,0,0,0,0,0],[0,0,0,0,0,0,0,0,0]]\n",
    "for i in range(len(log_Test)):\n",
    "        for j in range(len(log_Test[i])):\n",
    "                if log_Test[i][j] == 'a':\n",
    "                    vectors[i][0] += 1\n",
    "                elif log_Test[i][j] == 'b':\n",
    "                    vectors[i][1] += 1\n",
    "                elif log_Test[i][j] == 'c':\n",
    "                    vectors[i][2] += 1\n",
    "                elif log_Test[i][j] == 'd':\n",
    "                    vectors[i][3] += 1\n",
    "                elif log_Test[i][j] == 'e':\n",
    "                    vectors[i][4] += 1\n",
    "                elif log_Test[i][j] == 'f':\n",
    "                    vectors[i][5] += 1\n",
    "                elif log_Test[i][j] == 'g':\n",
    "                    vectors[i][6] += 1\n",
    "                elif log_Test[i][j] == 'h':\n",
    "                    vectors[i][7] += 1\n",
    "                elif log_Test[i][j] == 'i':\n",
    "                    vectors[i][8] += 1"
   ]
  },
  {
   "cell_type": "code",
   "execution_count": 19,
   "metadata": {},
   "outputs": [
    {
     "name": "stdout",
     "output_type": "stream",
     "text": [
      "[[1, 0, 0, 0, 0, 0, 0, 1, 0], [1, 1, 1, 1, 1, 1, 1, 0, 1], [1, 1, 0, 1, 1, 0, 1, 0, 1], [1, 1, 0, 1, 1, 1, 1, 0, 1], [1, 1, 1, 1, 0, 0, 0, 1, 1], [1, 1, 1, 1, 1, 0, 1, 1, 0], [1, 1, 0, 1, 0, 0, 0, 1, 1]]\n"
     ]
    }
   ],
   "source": [
    "print(vectors)"
   ]
  },
  {
   "cell_type": "code",
   "execution_count": 44,
   "metadata": {},
   "outputs": [
    {
     "data": {
      "text/plain": [
       "(['a', 'b', 'c', 'd', 'e', 'f', 'g', 'i'], ['a', 'h'])"
      ]
     },
     "execution_count": 44,
     "metadata": {},
     "output_type": "execute_result"
    }
   ],
   "source": [
    "np_arr[1],np_arr[0]"
   ]
  },
  {
   "cell_type": "code",
   "execution_count": 20,
   "metadata": {},
   "outputs": [],
   "source": [
    "np_vectors = np.array(vectors)"
   ]
  },
  {
   "cell_type": "code",
   "execution_count": 84,
   "metadata": {},
   "outputs": [
    {
     "data": {
      "text/plain": [
       "2.8284271247461903"
      ]
     },
     "execution_count": 84,
     "metadata": {},
     "output_type": "execute_result"
    }
   ],
   "source": [
    "import numpy as np\n",
    "temp = np_vectors[1]-np_vectors[0]\n",
    "np.linalg.norm(temp)\n"
   ]
  },
  {
   "cell_type": "markdown",
   "metadata": {},
   "source": [
    "# Euclidean distance"
   ]
  },
  {
   "cell_type": "code",
   "execution_count": 85,
   "metadata": {},
   "outputs": [
    {
     "data": {
      "text/plain": [
       "array([[0.        , 2.82842712, 2.44948974, 2.64575131, 2.        ,\n",
       "        2.23606798, 1.73205081],\n",
       "       [2.82842712, 0.        , 1.41421356, 1.        , 2.        ,\n",
       "        1.73205081, 2.23606798],\n",
       "       [2.44948974, 1.41421356, 0.        , 1.        , 2.        ,\n",
       "        1.73205081, 1.73205081],\n",
       "       [2.64575131, 1.        , 1.        , 0.        , 2.23606798,\n",
       "        2.        , 2.        ],\n",
       "       [2.        , 2.        , 2.        , 2.23606798, 0.        ,\n",
       "        1.73205081, 1.        ],\n",
       "       [2.23606798, 1.73205081, 1.73205081, 2.        , 1.73205081,\n",
       "        0.        , 2.        ],\n",
       "       [1.73205081, 2.23606798, 1.73205081, 2.        , 1.        ,\n",
       "        2.        , 0.        ]])"
      ]
     },
     "execution_count": 85,
     "metadata": {},
     "output_type": "execute_result"
    }
   ],
   "source": [
    "distance = np.zeros((7,7))\n",
    "#print(distance)\n",
    "for i in range(len(np_vectors-1)):\n",
    "    j=i+1\n",
    "    for j in range(len(np_vectors)-1):\n",
    "        temp = np_vectors[i]-np_vectors[j]\n",
    "        value = np.linalg.norm(temp)\n",
    "        distance[i][j]=value\n",
    "        distance[j][i]=value\n",
    "\n",
    "\n",
    "distance"
   ]
  },
  {
   "cell_type": "markdown",
   "metadata": {},
   "source": [
    "# EMD\n"
   ]
  },
  {
   "cell_type": "code",
   "execution_count": 115,
   "metadata": {},
   "outputs": [
    {
     "data": {
      "text/plain": [
       "array([[0.        , 0.66666667, 0.44444444, 0.55555556, 0.44444444,\n",
       "        0.55555556, 0.33333333],\n",
       "       [0.66666667, 0.        , 0.22222222, 0.11111111, 0.22222222,\n",
       "        0.11111111, 0.33333333],\n",
       "       [0.44444444, 0.22222222, 0.        , 0.11111111, 0.        ,\n",
       "        0.11111111, 0.11111111],\n",
       "       [0.55555556, 0.11111111, 0.11111111, 0.        , 0.11111111,\n",
       "        0.        , 0.22222222],\n",
       "       [0.44444444, 0.22222222, 0.        , 0.11111111, 0.        ,\n",
       "        0.11111111, 0.11111111],\n",
       "       [0.55555556, 0.11111111, 0.11111111, 0.        , 0.11111111,\n",
       "        0.        , 0.22222222],\n",
       "       [0.33333333, 0.33333333, 0.11111111, 0.22222222, 0.11111111,\n",
       "        0.22222222, 0.        ]])"
      ]
     },
     "execution_count": 115,
     "metadata": {},
     "output_type": "execute_result"
    }
   ],
   "source": [
    "distance = np.zeros((7,7))\n",
    "#print(distance)\n",
    "for i in range(len(np_vectors-1)):\n",
    "    j=i+1\n",
    "    for j in range(len(np_vectors)-1):\n",
    "        value = wasserstein_distance(np_vectors[i],np_vectors[j])\n",
    "        distance[i][j]=value\n",
    "        distance[j][i]=value\n",
    "\n",
    "\n",
    "distance"
   ]
  },
  {
   "cell_type": "markdown",
   "metadata": {},
   "source": [
    "# KMeans - Euclidean"
   ]
  },
  {
   "cell_type": "markdown",
   "metadata": {},
   "source": [
    "## Elbow method to find optimal clusters"
   ]
  },
  {
   "cell_type": "code",
   "execution_count": 21,
   "metadata": {},
   "outputs": [
    {
     "data": {
      "text/plain": [
       "array([2, 1, 1, 1, 0, 0, 0], dtype=int32)"
      ]
     },
     "execution_count": 21,
     "metadata": {},
     "output_type": "execute_result"
    }
   ],
   "source": [
    "from sklearn.cluster import KMeans\n",
    "import numpy as np\n",
    "\n",
    "kmeans = KMeans(n_clusters=3, random_state=0).fit(np_vectors)\n",
    "kmeans.labels_\n",
    "\n",
    "clustered  = kmeans.predict(np_vectors)\n",
    "\n",
    "clustered\n"
   ]
  },
  {
   "cell_type": "code",
   "execution_count": 28,
   "metadata": {},
   "outputs": [
    {
     "data": {
      "text/plain": [
       "3"
      ]
     },
     "execution_count": 28,
     "metadata": {},
     "output_type": "execute_result"
    }
   ],
   "source": [
    "#number of unique clusters\n",
    "unique_clusters= len(np.unique(clustered))\n",
    "unique_clusters"
   ]
  },
  {
   "cell_type": "code",
   "execution_count": 35,
   "metadata": {},
   "outputs": [
    {
     "data": {
      "text/plain": [
       "array([3., 3., 1.])"
      ]
     },
     "execution_count": 35,
     "metadata": {},
     "output_type": "execute_result"
    }
   ],
   "source": [
    "# Array for calculation of 3d array of different lengths of sublogs based on clusters\n",
    "count=np.zeros(unique_clusters)\n",
    "\n",
    "for i in range(len(clustered-1)):\n",
    "    count[clustered[i]] += 1\n",
    "count"
   ]
  },
  {
   "cell_type": "code",
   "execution_count": null,
   "metadata": {},
   "outputs": [],
   "source": [
    "\n",
    "distance = [[[0 for k in xrange(n)] for j in xrange(n)] for i in xrange(n)]"
   ]
  },
  {
   "cell_type": "code",
   "execution_count": null,
   "metadata": {},
   "outputs": [],
   "source": []
  },
  {
   "cell_type": "code",
   "execution_count": 64,
   "metadata": {},
   "outputs": [],
   "source": [
    "# 3d array for sub event logs\n",
    "\n",
    "#how to create array of lists python or list of arrays\n",
    "sub_log1 = np.array(count[0])\n",
    "sub_log2 = np.array(count[1])\n",
    "sub_log3 = np.array(count[2])"
   ]
  },
  {
   "cell_type": "code",
   "execution_count": 65,
   "metadata": {},
   "outputs": [
    {
     "data": {
      "text/plain": [
       "array(3.)"
      ]
     },
     "execution_count": 65,
     "metadata": {},
     "output_type": "execute_result"
    }
   ],
   "source": [
    "sub_log1"
   ]
  },
  {
   "cell_type": "code",
   "execution_count": 63,
   "metadata": {},
   "outputs": [
    {
     "ename": "AttributeError",
     "evalue": "'numpy.ndarray' object has no attribute 'append'",
     "output_type": "error",
     "traceback": [
      "\u001b[0;31m---------------------------------------------------------------------------\u001b[0m",
      "\u001b[0;31mAttributeError\u001b[0m                            Traceback (most recent call last)",
      "\u001b[0;32m/var/folders/dk/9q84mn0j1nzfg85t9zx5d1480000gn/T/ipykernel_82368/588991314.py\u001b[0m in \u001b[0;36m<module>\u001b[0;34m\u001b[0m\n\u001b[1;32m      1\u001b[0m \u001b[0;31m#np.append(sub_log1, log_Test[0], axis=None)\u001b[0m\u001b[0;34m\u001b[0m\u001b[0;34m\u001b[0m\u001b[0;34m\u001b[0m\u001b[0m\n\u001b[0;32m----> 2\u001b[0;31m \u001b[0msub_log1\u001b[0m\u001b[0;34m.\u001b[0m\u001b[0mappend\u001b[0m\u001b[0;34m(\u001b[0m\u001b[0mlog_Test\u001b[0m\u001b[0;34m[\u001b[0m\u001b[0;36m1\u001b[0m\u001b[0;34m]\u001b[0m\u001b[0;34m)\u001b[0m\u001b[0;34m\u001b[0m\u001b[0;34m\u001b[0m\u001b[0m\n\u001b[0m",
      "\u001b[0;31mAttributeError\u001b[0m: 'numpy.ndarray' object has no attribute 'append'"
     ]
    }
   ],
   "source": [
    "#np.append(sub_log1, log_Test[0], axis=None)\n",
    "sub_log1.append(log_Test[1])"
   ]
  },
  {
   "cell_type": "code",
   "execution_count": 42,
   "metadata": {},
   "outputs": [],
   "source": [
    "distance[0]=log_Test[0]"
   ]
  },
  {
   "cell_type": "code",
   "execution_count": 43,
   "metadata": {},
   "outputs": [
    {
     "data": {
      "text/plain": [
       "[['a', 'h'], array([0., 0., 0.]), array([0., 0., 0.])]"
      ]
     },
     "execution_count": 43,
     "metadata": {},
     "output_type": "execute_result"
    }
   ],
   "source": [
    "distance"
   ]
  },
  {
   "cell_type": "code",
   "execution_count": null,
   "metadata": {},
   "outputs": [],
   "source": [
    "0\n",
    "123\n",
    "456\n",
    "\n",
    "log_Test = [['a','h'],['a','b','c','d','e','f','g','i'],['a','b','d','e','g','i'],['a','b','d','e','f','g','i'],\n",
    "['a','c','b','d','h','i'], ['a','c','b','d','e','g','h'],['a','b','d','h','i']]"
   ]
  },
  {
   "cell_type": "code",
   "execution_count": null,
   "metadata": {},
   "outputs": [],
   "source": [
    "log2 = [['a','h']]\n",
    "log1 = [['a','b','c','d','e','f','g','i'],['a','b','d','e','g','i'],['a','b','d','e','f','g','i']]\n",
    "log0 = [['a','c','b','d','h','i'], ['a','c','b','d','e','g','h'],['a','b','d','h','i']]"
   ]
  },
  {
   "cell_type": "code",
   "execution_count": 22,
   "metadata": {},
   "outputs": [
    {
     "name": "stdout",
     "output_type": "stream",
     "text": [
      "1 2\n",
      "1 3\n",
      "2 1\n",
      "2 3\n",
      "3 1\n",
      "3 2\n",
      "4 5\n",
      "5 4\n",
      "6 4\n",
      "6 5\n"
     ]
    }
   ],
   "source": [
    "for i in range(len(clustered-1)):\n",
    "    j=i+1\n",
    "    for j in range(len(clustered)-1):\n",
    "        if clustered[i]==clustered[j] and i!=j :\n",
    "            print(i,j)\n",
    "            #print(log_Test[i],log_Test[j],' are identical')"
   ]
  },
  {
   "cell_type": "code",
   "execution_count": 22,
   "metadata": {},
   "outputs": [],
   "source": [
    "# Group clusters based on similarities i.e 0,5 - 1,2,3 - 4,6"
   ]
  },
  {
   "cell_type": "markdown",
   "metadata": {},
   "source": [
    "# DB SCAN"
   ]
  },
  {
   "cell_type": "markdown",
   "metadata": {},
   "source": [
    "## Hamming Distance"
   ]
  },
  {
   "cell_type": "code",
   "execution_count": 30,
   "metadata": {},
   "outputs": [
    {
     "data": {
      "text/plain": [
       "array([0, 1, 1, 1, 2, 3, 2])"
      ]
     },
     "execution_count": 30,
     "metadata": {},
     "output_type": "execute_result"
    }
   ],
   "source": [
    "from sklearn.cluster import DBSCAN\n",
    "clustering = DBSCAN(eps=0.2, min_samples=1, metric ='hamming').fit(np_vectors)\n",
    "\n",
    "\n",
    "clustering = clustering.fit_predict(np_vectors)\n",
    "clustering\n",
    "# clustered = clustering.labels_\n",
    "# clustered\n"
   ]
  },
  {
   "cell_type": "code",
   "execution_count": 31,
   "metadata": {},
   "outputs": [
    {
     "name": "stdout",
     "output_type": "stream",
     "text": [
      "1 2\n",
      "1 3\n",
      "2 1\n",
      "2 3\n",
      "3 1\n",
      "3 2\n",
      "6 4\n"
     ]
    }
   ],
   "source": [
    "for i in range(len(clustering-1)):\n",
    "    j=i+1\n",
    "    for j in range(len(clustering)-1):\n",
    "        if clustering[i]==clustering[j] and i!=j :\n",
    "            print(i,j)\n",
    "            #print(log_Test[i],log_Test[j],' are identical')"
   ]
  },
  {
   "cell_type": "markdown",
   "metadata": {},
   "source": [
    "## Euclidean Distance"
   ]
  },
  {
   "cell_type": "code",
   "execution_count": 42,
   "metadata": {},
   "outputs": [
    {
     "data": {
      "text/plain": [
       "array([0, 1, 1, 1, 2, 3, 2])"
      ]
     },
     "execution_count": 42,
     "metadata": {},
     "output_type": "execute_result"
    }
   ],
   "source": [
    "from sklearn.cluster import DBSCAN\n",
    "clustering = DBSCAN(eps=1, min_samples=1, metric ='euclidean').fit(np_vectors)\n",
    "\n",
    "\n",
    "clustering = clustering.fit_predict(np_vectors)\n",
    "clustering\n",
    "# clustered = clustering.labels_\n",
    "# clustered\n"
   ]
  },
  {
   "cell_type": "code",
   "execution_count": 43,
   "metadata": {},
   "outputs": [
    {
     "name": "stdout",
     "output_type": "stream",
     "text": [
      "1 2\n",
      "1 3\n",
      "2 1\n",
      "2 3\n",
      "3 1\n",
      "3 2\n",
      "6 4\n"
     ]
    }
   ],
   "source": [
    "for i in range(len(clustering-1)):\n",
    "    j=i+1\n",
    "    for j in range(len(clustering)-1):\n",
    "        if clustering[i]==clustering[j] and i!=j :\n",
    "            print(i,j)\n",
    "            #print(log_Test[i],log_Test[j],' are identical')"
   ]
  },
  {
   "cell_type": "markdown",
   "metadata": {},
   "source": [
    "## Jaccard  Distance"
   ]
  },
  {
   "cell_type": "code",
   "execution_count": 54,
   "metadata": {},
   "outputs": [
    {
     "name": "stderr",
     "output_type": "stream",
     "text": [
      "/Users/asadtariq/opt/anaconda3/envs/env-IDS2020/lib/python3.7/site-packages/sklearn/metrics/pairwise.py:1875: DataConversionWarning: Data was converted to boolean for metric jaccard\n",
      "  warnings.warn(msg, DataConversionWarning)\n",
      "/Users/asadtariq/opt/anaconda3/envs/env-IDS2020/lib/python3.7/site-packages/sklearn/metrics/pairwise.py:1875: DataConversionWarning: Data was converted to boolean for metric jaccard\n",
      "  warnings.warn(msg, DataConversionWarning)\n"
     ]
    },
    {
     "data": {
      "text/plain": [
       "array([0, 1, 1, 1, 2, 3, 2])"
      ]
     },
     "execution_count": 54,
     "metadata": {},
     "output_type": "execute_result"
    }
   ],
   "source": [
    "from sklearn.cluster import DBSCAN\n",
    "clustering = DBSCAN(eps=0.2, min_samples=1, metric ='jaccard').fit(np_vectors)\n",
    "\n",
    "\n",
    "clustering = clustering.fit_predict(np_vectors)\n",
    "clustering\n",
    "# clustered = clustering.labels_\n",
    "# clustered"
   ]
  },
  {
   "cell_type": "code",
   "execution_count": 55,
   "metadata": {},
   "outputs": [
    {
     "name": "stdout",
     "output_type": "stream",
     "text": [
      "1 2\n",
      "1 3\n",
      "2 1\n",
      "2 3\n",
      "3 1\n",
      "3 2\n",
      "6 4\n"
     ]
    }
   ],
   "source": [
    "for i in range(len(clustering-1)):\n",
    "    j=i+1\n",
    "    for j in range(len(clustering)-1):\n",
    "        if clustering[i]==clustering[j] and i!=j :\n",
    "            print(i,j)\n",
    "            #print(log_Test[i],log_Test[j],' are identical')"
   ]
  },
  {
   "cell_type": "markdown",
   "metadata": {},
   "source": [
    "# Agglomerative Clustering"
   ]
  },
  {
   "cell_type": "markdown",
   "metadata": {},
   "source": [
    "## Euclidean"
   ]
  },
  {
   "cell_type": "code",
   "execution_count": 63,
   "metadata": {},
   "outputs": [
    {
     "data": {
      "text/plain": [
       "array([0, 1, 1, 1, 0, 2, 0])"
      ]
     },
     "execution_count": 63,
     "metadata": {},
     "output_type": "execute_result"
    }
   ],
   "source": [
    "from sklearn.cluster import AgglomerativeClustering\n",
    "\n",
    "clustering = AgglomerativeClustering(n_clusters=3,affinity='euclidean').fit(np_vectors)\n",
    "clustering =clustering.labels_\n",
    "clustering"
   ]
  },
  {
   "cell_type": "code",
   "execution_count": 64,
   "metadata": {},
   "outputs": [
    {
     "name": "stdout",
     "output_type": "stream",
     "text": [
      "0 4\n",
      "1 2\n",
      "1 3\n",
      "2 1\n",
      "2 3\n",
      "3 1\n",
      "3 2\n",
      "4 0\n",
      "6 0\n",
      "6 4\n"
     ]
    }
   ],
   "source": [
    "for i in range(len(clustering-1)):\n",
    "    j=i+1\n",
    "    for j in range(len(clustering)-1):\n",
    "        if clustering[i]==clustering[j] and i!=j :\n",
    "            print(i,j)\n",
    "            #print(log_Test[i],log_Test[j],' are identical')"
   ]
  },
  {
   "cell_type": "code",
   "execution_count": 89,
   "metadata": {},
   "outputs": [
    {
     "data": {
      "text/plain": [
       "array([[1, 0, 0, 0, 0, 0, 0, 1, 0],\n",
       "       [1, 1, 1, 1, 1, 1, 1, 0, 1],\n",
       "       [1, 1, 0, 1, 1, 0, 1, 0, 1],\n",
       "       [1, 1, 0, 1, 1, 1, 1, 0, 1],\n",
       "       [1, 1, 1, 1, 0, 0, 0, 1, 1],\n",
       "       [1, 1, 1, 1, 1, 0, 1, 1, 0],\n",
       "       [1, 1, 0, 1, 0, 0, 0, 1, 1]])"
      ]
     },
     "execution_count": 89,
     "metadata": {},
     "output_type": "execute_result"
    }
   ],
   "source": [
    "np_vectors"
   ]
  },
  {
   "cell_type": "code",
   "execution_count": 75,
   "metadata": {},
   "outputs": [
    {
     "name": "stdout",
     "output_type": "stream",
     "text": [
      "1 2\n",
      "1 3\n",
      "2 1\n",
      "2 3\n",
      "3 1\n",
      "3 2\n",
      "6 4\n"
     ]
    }
   ],
   "source": [
    "for i in range(len(clustering-1)):\n",
    "    j=i+1\n",
    "    for j in range(len(clustering)-1):\n",
    "        if clustering[i]==clustering[j] and i!=j :\n",
    "            print(i,j)\n",
    "            #print(log_Test[i],log_Test[j],' are identical')"
   ]
  },
  {
   "cell_type": "code",
   "execution_count": 97,
   "metadata": {},
   "outputs": [
    {
     "name": "stdout",
     "output_type": "stream",
     "text": [
      "Requirement already satisfied: minisom in /Users/asadtariq/opt/anaconda3/envs/env-IDS2020/lib/python3.7/site-packages (2.3.0)\n",
      "Note: you may need to restart the kernel to use updated packages.\n"
     ]
    }
   ],
   "source": [
    "pip install minisom"
   ]
  },
  {
   "cell_type": "code",
   "execution_count": 100,
   "metadata": {},
   "outputs": [],
   "source": [
    "som = MiniSom(10,10,9,sigma=1,learning_rate=0.5)"
   ]
  },
  {
   "cell_type": "code",
   "execution_count": 101,
   "metadata": {},
   "outputs": [],
   "source": [
    "som.random_weights_init(np_vectors)"
   ]
  },
  {
   "cell_type": "code",
   "execution_count": 102,
   "metadata": {},
   "outputs": [],
   "source": [
    "som.train_random(data = np_vectors,num_iteration=100)"
   ]
  },
  {
   "cell_type": "code",
   "execution_count": 106,
   "metadata": {},
   "outputs": [
    {
     "data": {
      "text/plain": [
       "defaultdict(list,\n",
       "            {(0, 2): [array([1, 0, 0, 0, 0, 0, 0, 1, 0])],\n",
       "             (8, 0): [array([1, 1, 1, 1, 1, 1, 1, 0, 1])],\n",
       "             (9, 4): [array([1, 1, 0, 1, 1, 0, 1, 0, 1])],\n",
       "             (9, 9): [array([1, 1, 0, 1, 1, 1, 1, 0, 1])],\n",
       "             (4, 5): [array([1, 1, 1, 1, 0, 0, 0, 1, 1])],\n",
       "             (1, 8): [array([1, 1, 1, 1, 1, 0, 1, 1, 0])],\n",
       "             (4, 0): [array([1, 1, 0, 1, 0, 0, 0, 1, 1])]})"
      ]
     },
     "execution_count": 106,
     "metadata": {},
     "output_type": "execute_result"
    }
   ],
   "source": [
    "mappings = som.win_map(np_vectors)\n",
    "mappings"
   ]
  },
  {
   "cell_type": "code",
   "execution_count": 108,
   "metadata": {},
   "outputs": [
    {
     "name": "stdout",
     "output_type": "stream",
     "text": [
      "Collecting susi\n",
      "  Downloading susi-1.2.2.zip (36 kB)\n",
      "Requirement already satisfied: joblib in /Users/asadtariq/opt/anaconda3/envs/env-IDS2020/lib/python3.7/site-packages (from susi) (1.1.0)\n",
      "Requirement already satisfied: numpy in /Users/asadtariq/opt/anaconda3/envs/env-IDS2020/lib/python3.7/site-packages (from susi) (1.21.5)\n",
      "Requirement already satisfied: scikit-learn in /Users/asadtariq/opt/anaconda3/envs/env-IDS2020/lib/python3.7/site-packages (from susi) (1.0.2)\n",
      "Requirement already satisfied: scipy in /Users/asadtariq/opt/anaconda3/envs/env-IDS2020/lib/python3.7/site-packages (from susi) (1.7.3)\n",
      "Requirement already satisfied: tqdm in /Users/asadtariq/opt/anaconda3/envs/env-IDS2020/lib/python3.7/site-packages (from susi) (4.62.3)\n",
      "Requirement already satisfied: matplotlib in /Users/asadtariq/opt/anaconda3/envs/env-IDS2020/lib/python3.7/site-packages (from susi) (3.5.1)\n",
      "Requirement already satisfied: packaging>=20.0 in /Users/asadtariq/opt/anaconda3/envs/env-IDS2020/lib/python3.7/site-packages (from matplotlib->susi) (21.3)\n",
      "Requirement already satisfied: cycler>=0.10 in /Users/asadtariq/opt/anaconda3/envs/env-IDS2020/lib/python3.7/site-packages (from matplotlib->susi) (0.11.0)\n",
      "Requirement already satisfied: python-dateutil>=2.7 in /Users/asadtariq/opt/anaconda3/envs/env-IDS2020/lib/python3.7/site-packages (from matplotlib->susi) (2.8.2)\n",
      "Requirement already satisfied: kiwisolver>=1.0.1 in /Users/asadtariq/opt/anaconda3/envs/env-IDS2020/lib/python3.7/site-packages (from matplotlib->susi) (1.3.2)\n",
      "Requirement already satisfied: fonttools>=4.22.0 in /Users/asadtariq/opt/anaconda3/envs/env-IDS2020/lib/python3.7/site-packages (from matplotlib->susi) (4.28.4)\n",
      "Requirement already satisfied: pyparsing>=2.2.1 in /Users/asadtariq/opt/anaconda3/envs/env-IDS2020/lib/python3.7/site-packages (from matplotlib->susi) (3.0.4)\n",
      "Requirement already satisfied: pillow>=6.2.0 in /Users/asadtariq/opt/anaconda3/envs/env-IDS2020/lib/python3.7/site-packages (from matplotlib->susi) (8.4.0)\n",
      "Requirement already satisfied: six>=1.5 in /Users/asadtariq/opt/anaconda3/envs/env-IDS2020/lib/python3.7/site-packages (from python-dateutil>=2.7->matplotlib->susi) (1.16.0)\n",
      "Requirement already satisfied: threadpoolctl>=2.0.0 in /Users/asadtariq/opt/anaconda3/envs/env-IDS2020/lib/python3.7/site-packages (from scikit-learn->susi) (3.0.0)\n",
      "Building wheels for collected packages: susi\n",
      "  Building wheel for susi (setup.py) ... \u001b[?25ldone\n",
      "\u001b[?25h  Created wheel for susi: filename=susi-1.2.2-py3-none-any.whl size=26888 sha256=e253b3a134e2b509c579c154c7374fe90497537067cc6223f3b603e08b5e32f3\n",
      "  Stored in directory: /Users/asadtariq/Library/Caches/pip/wheels/0b/64/36/b21fb1595a8c693b545719175d354c3ed710896f5b4c4d6763\n",
      "Successfully built susi\n",
      "Installing collected packages: susi\n",
      "Successfully installed susi-1.2.2\n",
      "Note: you may need to restart the kernel to use updated packages.\n"
     ]
    }
   ],
   "source": [
    "pip install susi"
   ]
  },
  {
   "cell_type": "code",
   "execution_count": 111,
   "metadata": {},
   "outputs": [
    {
     "data": {
      "text/plain": [
       "(array([[1., 0., 0., 0., 0., 0., 0., 0., 0., 1.],\n",
       "        [0., 0., 0., 0., 0., 0., 0., 0., 0., 0.],\n",
       "        [0., 0., 0., 0., 0., 0., 0., 0., 0., 0.],\n",
       "        [0., 0., 0., 0., 0., 0., 0., 0., 0., 0.],\n",
       "        [0., 0., 0., 0., 1., 0., 0., 0., 0., 0.],\n",
       "        [1., 0., 0., 0., 0., 0., 0., 0., 0., 1.],\n",
       "        [0., 0., 0., 0., 0., 0., 0., 0., 0., 0.],\n",
       "        [0., 0., 0., 0., 0., 0., 0., 0., 0., 0.],\n",
       "        [0., 0., 0., 0., 0., 0., 0., 0., 0., 0.],\n",
       "        [0., 0., 1., 0., 0., 0., 0., 0., 0., 1.]]),\n",
       " array([0. , 0.9, 1.8, 2.7, 3.6, 4.5, 5.4, 6.3, 7.2, 8.1, 9. ]),\n",
       " array([0. , 0.9, 1.8, 2.7, 3.6, 4.5, 5.4, 6.3, 7.2, 8.1, 9. ]),\n",
       " <matplotlib.collections.QuadMesh at 0x7f8fa5b56e50>)"
      ]
     },
     "execution_count": 111,
     "metadata": {},
     "output_type": "execute_result"
    },
    {
     "data": {
      "image/png": "[encoded data removed]",
      "text/plain": [
       "<Figure size 432x288 with 1 Axes>"
      ]
     },
     "metadata": {
      "needs_background": "light"
     },
     "output_type": "display_data"
    }
   ],
   "source": [
    "import susi\n",
    "import matplotlib.pyplot as plt\n",
    "som = susi.SOMClustering()\n",
    "som.fit(np_vectors)\n",
    "bmu_list = som.get_bmus(np_vectors)\n",
    "plt.hist2d([np_vectors[0] for np_vectors in bmu_list], [np_vectors[1] for np_vectors in bmu_list])"
   ]
  },
  {
   "cell_type": "code",
   "execution_count": 117,
   "metadata": {},
   "outputs": [
    {
     "data": {
      "text/plain": [
       "array([[1, 0, 0, 0, 0, 0, 0, 1, 0],\n",
       "       [1, 1, 1, 1, 1, 1, 1, 0, 1],\n",
       "       [1, 1, 0, 1, 1, 0, 1, 0, 1],\n",
       "       [1, 1, 0, 1, 1, 1, 1, 0, 1],\n",
       "       [1, 1, 1, 1, 0, 0, 0, 1, 1],\n",
       "       [1, 1, 1, 1, 1, 0, 1, 1, 0],\n",
       "       [1, 1, 0, 1, 0, 0, 0, 1, 1]])"
      ]
     },
     "execution_count": 117,
     "metadata": {},
     "output_type": "execute_result"
    }
   ],
   "source": [
    "np_vectors"
   ]
  },
  {
   "cell_type": "code",
   "execution_count": 118,
   "metadata": {},
   "outputs": [
    {
     "name": "stdout",
     "output_type": "stream",
     "text": [
      "[array([0, 9]), array([9, 4]), array([5, 0]), array([9, 0]), array([0, 0]), array([7, 9]), array([0, 4])]\n"
     ]
    },
    {
     "data": {
      "text/plain": [
       "<matplotlib.image.AxesImage at 0x7f8fa5681250>"
      ]
     },
     "execution_count": 118,
     "metadata": {},
     "output_type": "execute_result"
    },
    {
     "data": {
      "image/png": "[encoded data removed]",
      "text/plain": [
       "<Figure size 432x288 with 1 Axes>"
      ]
     },
     "metadata": {
      "needs_background": "light"
     },
     "output_type": "display_data"
    }
   ],
   "source": [
    "import susi\n",
    "import numpy as np\n",
    "import matplotlib.pyplot as plt\n",
    "som = susi.SOMClustering()\n",
    "som.fit(np_vectors)\n",
    "umat = som.get_u_matrix()\n",
    "clusters = som.get_bmus(np_vectors)\n",
    "print(clusters)\n",
    "plt.imshow(np.squeeze(umat))"
   ]
  },
  {
   "cell_type": "code",
   "execution_count": 127,
   "metadata": {},
   "outputs": [
    {
     "data": {
      "text/plain": [
       "[array([0, 9]),\n",
       " array([9, 4]),\n",
       " array([5, 0]),\n",
       " array([9, 0]),\n",
       " array([0, 0]),\n",
       " array([7, 9]),\n",
       " array([0, 4])]"
      ]
     },
     "execution_count": 127,
     "metadata": {},
     "output_type": "execute_result"
    }
   ],
   "source": [
    "clusters = som.get_clusters(np_vectors)\n",
    "clusters"
   ]
  },
  {
   "cell_type": "code",
   "execution_count": 120,
   "metadata": {},
   "outputs": [
    {
     "data": {
      "text/plain": [
       "array([[0, 9],\n",
       "       [9, 4],\n",
       "       [5, 0],\n",
       "       [9, 0],\n",
       "       [0, 0],\n",
       "       [7, 9],\n",
       "       [0, 4]])"
      ]
     },
     "execution_count": 120,
     "metadata": {},
     "output_type": "execute_result"
    }
   ],
   "source": [
    "X_transformed = som.transform(np_vectors)\n",
    "X_transformed"
   ]
  },
  {
   "cell_type": "code",
   "execution_count": 7,
   "metadata": {},
   "outputs": [
    {
     "name": "stdout",
     "output_type": "stream",
     "text": [
      "Requirement already satisfied: SimpSOM in /Users/asadtariq/opt/anaconda3/envs/env-IDS2020/lib/python3.7/site-packages (2.0.1)\n",
      "Requirement already satisfied: matplotlib>=3.3.3 in /Users/asadtariq/opt/anaconda3/envs/env-IDS2020/lib/python3.7/site-packages (from SimpSOM) (3.5.1)\n",
      "Requirement already satisfied: numpy>=1.19.5 in /Users/asadtariq/opt/anaconda3/envs/env-IDS2020/lib/python3.7/site-packages (from SimpSOM) (1.21.5)\n",
      "Requirement already satisfied: scikit-learn>=0.22.2.post1 in /Users/asadtariq/opt/anaconda3/envs/env-IDS2020/lib/python3.7/site-packages (from SimpSOM) (1.0.2)\n",
      "Requirement already satisfied: pyparsing>=2.2.1 in /Users/asadtariq/opt/anaconda3/envs/env-IDS2020/lib/python3.7/site-packages (from matplotlib>=3.3.3->SimpSOM) (3.0.4)\n",
      "Requirement already satisfied: pillow>=6.2.0 in /Users/asadtariq/opt/anaconda3/envs/env-IDS2020/lib/python3.7/site-packages (from matplotlib>=3.3.3->SimpSOM) (8.4.0)\n",
      "Requirement already satisfied: packaging>=20.0 in /Users/asadtariq/opt/anaconda3/envs/env-IDS2020/lib/python3.7/site-packages (from matplotlib>=3.3.3->SimpSOM) (21.3)\n",
      "Requirement already satisfied: fonttools>=4.22.0 in /Users/asadtariq/opt/anaconda3/envs/env-IDS2020/lib/python3.7/site-packages (from matplotlib>=3.3.3->SimpSOM) (4.28.4)\n",
      "Requirement already satisfied: python-dateutil>=2.7 in /Users/asadtariq/opt/anaconda3/envs/env-IDS2020/lib/python3.7/site-packages (from matplotlib>=3.3.3->SimpSOM) (2.8.2)\n",
      "Requirement already satisfied: kiwisolver>=1.0.1 in /Users/asadtariq/opt/anaconda3/envs/env-IDS2020/lib/python3.7/site-packages (from matplotlib>=3.3.3->SimpSOM) (1.3.2)\n",
      "Requirement already satisfied: cycler>=0.10 in /Users/asadtariq/opt/anaconda3/envs/env-IDS2020/lib/python3.7/site-packages (from matplotlib>=3.3.3->SimpSOM) (0.11.0)\n",
      "Requirement already satisfied: threadpoolctl>=2.0.0 in /Users/asadtariq/opt/anaconda3/envs/env-IDS2020/lib/python3.7/site-packages (from scikit-learn>=0.22.2.post1->SimpSOM) (3.0.0)\n",
      "Requirement already satisfied: scipy>=1.1.0 in /Users/asadtariq/opt/anaconda3/envs/env-IDS2020/lib/python3.7/site-packages (from scikit-learn>=0.22.2.post1->SimpSOM) (1.7.3)\n",
      "Requirement already satisfied: joblib>=0.11 in /Users/asadtariq/opt/anaconda3/envs/env-IDS2020/lib/python3.7/site-packages (from scikit-learn>=0.22.2.post1->SimpSOM) (1.1.0)\n",
      "Requirement already satisfied: six>=1.5 in /Users/asadtariq/opt/anaconda3/envs/env-IDS2020/lib/python3.7/site-packages (from python-dateutil>=2.7->matplotlib>=3.3.3->SimpSOM) (1.16.0)\n",
      "Note: you may need to restart the kernel to use updated packages.\n"
     ]
    }
   ],
   "source": [
    "\n",
    "pip install SimpSOM"
   ]
  },
  {
   "cell_type": "code",
   "execution_count": 12,
   "metadata": {},
   "outputs": [
    {
     "ename": "ModuleNotFoundError",
     "evalue": "No module named 'SimpSOM'",
     "output_type": "error",
     "traceback": [
      "\u001b[0;31m---------------------------------------------------------------------------\u001b[0m",
      "\u001b[0;31mModuleNotFoundError\u001b[0m                       Traceback (most recent call last)",
      "\u001b[0;32m/var/folders/dk/9q84mn0j1nzfg85t9zx5d1480000gn/T/ipykernel_82368/3812896780.py\u001b[0m in \u001b[0;36m<module>\u001b[0;34m\u001b[0m\n\u001b[0;32m----> 1\u001b[0;31m \u001b[0;32mimport\u001b[0m \u001b[0mSimpSOM\u001b[0m \u001b[0;32mas\u001b[0m \u001b[0msps\u001b[0m\u001b[0;34m\u001b[0m\u001b[0;34m\u001b[0m\u001b[0m\n\u001b[0m\u001b[1;32m      2\u001b[0m \u001b[0;34m\u001b[0m\u001b[0m\n\u001b[1;32m      3\u001b[0m \u001b[0;31m#Build a network 20x20 with a weights format taken from the raw_data and activate Periodic Boundary Conditions.\u001b[0m\u001b[0;34m\u001b[0m\u001b[0;34m\u001b[0m\u001b[0;34m\u001b[0m\u001b[0m\n\u001b[1;32m      4\u001b[0m \u001b[0mnet\u001b[0m \u001b[0;34m=\u001b[0m \u001b[0msps\u001b[0m\u001b[0;34m.\u001b[0m\u001b[0msomNet\u001b[0m\u001b[0;34m(\u001b[0m\u001b[0;36m7\u001b[0m\u001b[0;34m,\u001b[0m \u001b[0;36m7\u001b[0m\u001b[0;34m,\u001b[0m \u001b[0mnp_vectors\u001b[0m\u001b[0;34m,\u001b[0m \u001b[0mPBC\u001b[0m\u001b[0;34m=\u001b[0m\u001b[0;32mTrue\u001b[0m\u001b[0;34m)\u001b[0m\u001b[0;34m\u001b[0m\u001b[0;34m\u001b[0m\u001b[0m\n\u001b[1;32m      5\u001b[0m \u001b[0;34m\u001b[0m\u001b[0m\n",
      "\u001b[0;31mModuleNotFoundError\u001b[0m: No module named 'SimpSOM'"
     ]
    }
   ],
   "source": [
    "\n",
    "import SimpSOM as sps\n",
    "\n",
    "#Build a network 20x20 with a weights format taken from the raw_data and activate Periodic Boundary Conditions. \n",
    "net = sps.somNet(7, 7, np_vectors, PBC=True)\n",
    "\n",
    "#Train the network for 10000 epochs and with initial learning rate of 0.1. \n",
    "net.train(0.01, 10000)"
   ]
  },
  {
   "cell_type": "code",
   "execution_count": 121,
   "metadata": {},
   "outputs": [],
   "source": [
    "X = np_vectors"
   ]
  },
  {
   "cell_type": "code",
   "execution_count": 13,
   "metadata": {},
   "outputs": [
    {
     "name": "stdout",
     "output_type": "stream",
     "text": [
      "\u001b[31mERROR: Could not find a version that satisfies the requirement somlearn (from versions: none)\u001b[0m\u001b[31m\n",
      "\u001b[0m\u001b[31mERROR: No matching distribution found for somlearn\u001b[0m\u001b[31m\n",
      "\u001b[0mNote: you may need to restart the kernel to use updated packages.\n"
     ]
    }
   ],
   "source": [
    "pip install somlearn"
   ]
  },
  {
   "cell_type": "code",
   "execution_count": 14,
   "metadata": {},
   "outputs": [
    {
     "ename": "ModuleNotFoundError",
     "evalue": "No module named 'somlearn'",
     "output_type": "error",
     "traceback": [
      "\u001b[0;31m---------------------------------------------------------------------------\u001b[0m",
      "\u001b[0;31mModuleNotFoundError\u001b[0m                       Traceback (most recent call last)",
      "\u001b[0;32m/var/folders/dk/9q84mn0j1nzfg85t9zx5d1480000gn/T/ipykernel_82368/4103456754.py\u001b[0m in \u001b[0;36m<module>\u001b[0;34m\u001b[0m\n\u001b[1;32m      1\u001b[0m \u001b[0;32mfrom\u001b[0m \u001b[0mcollections\u001b[0m \u001b[0;32mimport\u001b[0m \u001b[0mCounter\u001b[0m\u001b[0;34m\u001b[0m\u001b[0;34m\u001b[0m\u001b[0m\n\u001b[1;32m      2\u001b[0m \u001b[0;32mfrom\u001b[0m \u001b[0msklearn\u001b[0m\u001b[0;34m.\u001b[0m\u001b[0mdatasets\u001b[0m \u001b[0;32mimport\u001b[0m \u001b[0mmake_classification\u001b[0m\u001b[0;34m\u001b[0m\u001b[0;34m\u001b[0m\u001b[0m\n\u001b[0;32m----> 3\u001b[0;31m \u001b[0;32mfrom\u001b[0m \u001b[0msomlearn\u001b[0m \u001b[0;32mimport\u001b[0m \u001b[0mSOM\u001b[0m\u001b[0;34m\u001b[0m\u001b[0;34m\u001b[0m\u001b[0m\n\u001b[0m\u001b[1;32m      4\u001b[0m \u001b[0mX\u001b[0m\u001b[0;34m,\u001b[0m \u001b[0m_\u001b[0m \u001b[0;34m=\u001b[0m \u001b[0mmake_classification\u001b[0m\u001b[0;34m(\u001b[0m\u001b[0mrandom_state\u001b[0m\u001b[0;34m=\u001b[0m\u001b[0;36m0\u001b[0m\u001b[0;34m)\u001b[0m\u001b[0;34m\u001b[0m\u001b[0;34m\u001b[0m\u001b[0m\n\u001b[1;32m      5\u001b[0m \u001b[0msom\u001b[0m \u001b[0;34m=\u001b[0m \u001b[0mSOM\u001b[0m\u001b[0;34m(\u001b[0m\u001b[0mn_columns\u001b[0m\u001b[0;34m=\u001b[0m\u001b[0;36m2\u001b[0m\u001b[0;34m,\u001b[0m \u001b[0mn_rows\u001b[0m\u001b[0;34m=\u001b[0m\u001b[0;36m2\u001b[0m\u001b[0;34m,\u001b[0m \u001b[0mrandom_state\u001b[0m\u001b[0;34m=\u001b[0m\u001b[0;36m1\u001b[0m\u001b[0;34m)\u001b[0m\u001b[0;34m\u001b[0m\u001b[0;34m\u001b[0m\u001b[0m\n",
      "\u001b[0;31mModuleNotFoundError\u001b[0m: No module named 'somlearn'"
     ]
    }
   ],
   "source": [
    "from collections import Counter\n",
    "from sklearn.datasets import make_classification\n",
    "from somlearn import SOM\n",
    "X, _ = make_classification(random_state=0)\n",
    "som = SOM(n_columns=2, n_rows=2, random_state=1)\n",
    "labels = som.fit_predict(X)\n",
    "print(sorted(Counter(labels).items()))\n",
    "\n",
    "print(som.neighbors_.tolist())"
   ]
  },
  {
   "cell_type": "markdown",
   "metadata": {},
   "source": [
    "# EMD Implementation"
   ]
  },
  {
   "cell_type": "code",
   "execution_count": 99,
   "metadata": {},
   "outputs": [
    {
     "data": {
      "text/plain": [
       "(array([1, 0, 0, 0, 0, 0, 0, 1, 0]), array([1, 1, 1, 1, 1, 1, 1, 0, 1]))"
      ]
     },
     "execution_count": 99,
     "metadata": {},
     "output_type": "execute_result"
    }
   ],
   "source": [
    "a = np_vectors[0]\n",
    "b= np_vectors[1]\n",
    "\n",
    "a,b"
   ]
  },
  {
   "cell_type": "code",
   "execution_count": 98,
   "metadata": {},
   "outputs": [
    {
     "data": {
      "text/plain": [
       "0.2222222222222222"
      ]
     },
     "execution_count": 98,
     "metadata": {},
     "output_type": "execute_result"
    }
   ],
   "source": [
    "from scipy.stats import wasserstein_distance\n",
    "wasserstein_distance(a, b)"
   ]
  },
  {
   "cell_type": "code",
   "execution_count": 112,
   "metadata": {},
   "outputs": [
    {
     "data": {
      "text/plain": [
       "3.333333333333334"
      ]
     },
     "execution_count": 112,
     "metadata": {},
     "output_type": "execute_result"
    }
   ],
   "source": [
    "wasserstein_distance([0, 1,0], [5, 6,0])"
   ]
  },
  {
   "cell_type": "code",
   "execution_count": 102,
   "metadata": {},
   "outputs": [
    {
     "data": {
      "text/plain": [
       "[0, 1, 2, 3, 4, 5, 6, 5, 6]"
      ]
     },
     "execution_count": 102,
     "metadata": {},
     "output_type": "execute_result"
    }
   ],
   "source": [
    "earth = 0\n",
    "earth1 = 0\n",
    "diff = 0\n",
    "s= len(a)\n",
    "su = []\n",
    "diff_array = []\n",
    "for i in range (0,s):\n",
    "    diff = a[i]-b[i]\n",
    "    diff_array.append(diff)\n",
    "    diff = 0\n",
    "diff_array,s,su\n",
    "for j in range (0,s):\n",
    "    earth = (earth + diff_array[j])\n",
    "    earth1= abs(earth)\n",
    "    su.append(earth1)\n",
    "su"
   ]
  },
  {
   "cell_type": "code",
   "execution_count": 100,
   "metadata": {},
   "outputs": [
    {
     "name": "stdout",
     "output_type": "stream",
     "text": [
      "4.0\n"
     ]
    }
   ],
   "source": [
    "\n",
    "earth = 0\n",
    "earth1 = 0\n",
    "diff = 0\n",
    "s= len(a)\n",
    "su = []\n",
    "diff_array = []\n",
    "for i in range (0,s):\n",
    "    diff = a[i]-b[i]\n",
    "    diff_array.append(diff)\n",
    "    diff = 0\n",
    "for j in range (0,s):\n",
    "    earth = (earth + diff_array[j])\n",
    "    earth1= abs(earth)\n",
    "    su.append(earth1)\n",
    "emd_output = sum(su)/(s-1)\n",
    "print(emd_output)"
   ]
  },
  {
   "cell_type": "code",
   "execution_count": 120,
   "metadata": {},
   "outputs": [
    {
     "name": "stdout",
     "output_type": "stream",
     "text": [
      "Requirement already satisfied: nltk in /Users/asadtariq/opt/anaconda3/envs/env-IDS2020/lib/python3.7/site-packages (3.7)\n",
      "Requirement already satisfied: click in /Users/asadtariq/opt/anaconda3/envs/env-IDS2020/lib/python3.7/site-packages (from nltk) (8.0.4)\n",
      "Requirement already satisfied: tqdm in /Users/asadtariq/opt/anaconda3/envs/env-IDS2020/lib/python3.7/site-packages (from nltk) (4.62.3)\n",
      "Requirement already satisfied: joblib in /Users/asadtariq/opt/anaconda3/envs/env-IDS2020/lib/python3.7/site-packages (from nltk) (1.1.0)\n",
      "Requirement already satisfied: regex>=2021.8.3 in /Users/asadtariq/opt/anaconda3/envs/env-IDS2020/lib/python3.7/site-packages (from nltk) (2022.3.15)\n",
      "Requirement already satisfied: importlib-metadata in /Users/asadtariq/opt/anaconda3/envs/env-IDS2020/lib/python3.7/site-packages (from click->nltk) (4.8.2)\n",
      "Requirement already satisfied: zipp>=0.5 in /Users/asadtariq/opt/anaconda3/envs/env-IDS2020/lib/python3.7/site-packages (from importlib-metadata->click->nltk) (3.6.0)\n",
      "Requirement already satisfied: typing-extensions>=3.6.4 in /Users/asadtariq/opt/anaconda3/envs/env-IDS2020/lib/python3.7/site-packages (from importlib-metadata->click->nltk) (3.10.0.2)\n",
      "Note: you may need to restart the kernel to use updated packages.\n"
     ]
    }
   ],
   "source": [
    "pip install nltk"
   ]
  },
  {
   "cell_type": "code",
   "execution_count": 121,
   "metadata": {},
   "outputs": [],
   "source": [
    "from nltk.cluster.kmeans import KMeansCluster"
   ]
  },
  {
   "cell_type": "code",
   "execution_count": 67,
   "metadata": {},
   "outputs": [
    {
     "ename": "TypeError",
     "evalue": "'str' object is not callable",
     "output_type": "error",
     "traceback": [
      "\u001b[0;31m---------------------------------------------------------------------------\u001b[0m",
      "\u001b[0;31mTypeError\u001b[0m                                 Traceback (most recent call last)",
      "\u001b[0;32m/var/folders/dk/9q84mn0j1nzfg85t9zx5d1480000gn/T/ipykernel_77478/3376820305.py\u001b[0m in \u001b[0;36m<module>\u001b[0;34m\u001b[0m\n\u001b[1;32m      4\u001b[0m \u001b[0;34m\u001b[0m\u001b[0m\n\u001b[1;32m      5\u001b[0m \u001b[0mkclusterer\u001b[0m \u001b[0;34m=\u001b[0m \u001b[0mKMeansClusterer\u001b[0m\u001b[0;34m(\u001b[0m\u001b[0mNUM_CLUSTERS\u001b[0m\u001b[0;34m,\u001b[0m \u001b[0mdistance\u001b[0m\u001b[0;34m=\u001b[0m \u001b[0;34m\"hamming\"\u001b[0m\u001b[0;34m,\u001b[0m \u001b[0mrepeats\u001b[0m\u001b[0;34m=\u001b[0m\u001b[0;36m25\u001b[0m\u001b[0;34m)\u001b[0m\u001b[0;34m\u001b[0m\u001b[0;34m\u001b[0m\u001b[0m\n\u001b[0;32m----> 6\u001b[0;31m \u001b[0massigned_clusters\u001b[0m \u001b[0;34m=\u001b[0m \u001b[0mkclusterer\u001b[0m\u001b[0;34m.\u001b[0m\u001b[0mcluster\u001b[0m\u001b[0;34m(\u001b[0m\u001b[0mdata\u001b[0m\u001b[0;34m,\u001b[0m \u001b[0massign_clusters\u001b[0m\u001b[0;34m=\u001b[0m\u001b[0;32mTrue\u001b[0m\u001b[0;34m)\u001b[0m\u001b[0;34m\u001b[0m\u001b[0;34m\u001b[0m\u001b[0m\n\u001b[0m",
      "\u001b[0;32m~/opt/anaconda3/envs/env-IDS2020/lib/python3.7/site-packages/nltk/cluster/util.py\u001b[0m in \u001b[0;36mcluster\u001b[0;34m(self, vectors, assign_clusters, trace)\u001b[0m\n\u001b[1;32m     57\u001b[0m \u001b[0;34m\u001b[0m\u001b[0m\n\u001b[1;32m     58\u001b[0m         \u001b[0;31m# call abstract method to cluster the vectors\u001b[0m\u001b[0;34m\u001b[0m\u001b[0;34m\u001b[0m\u001b[0;34m\u001b[0m\u001b[0m\n\u001b[0;32m---> 59\u001b[0;31m         \u001b[0mself\u001b[0m\u001b[0;34m.\u001b[0m\u001b[0mcluster_vectorspace\u001b[0m\u001b[0;34m(\u001b[0m\u001b[0mvectors\u001b[0m\u001b[0;34m,\u001b[0m \u001b[0mtrace\u001b[0m\u001b[0;34m)\u001b[0m\u001b[0;34m\u001b[0m\u001b[0;34m\u001b[0m\u001b[0m\n\u001b[0m\u001b[1;32m     60\u001b[0m \u001b[0;34m\u001b[0m\u001b[0m\n\u001b[1;32m     61\u001b[0m         \u001b[0;31m# assign the vectors to clusters\u001b[0m\u001b[0;34m\u001b[0m\u001b[0;34m\u001b[0m\u001b[0;34m\u001b[0m\u001b[0m\n",
      "\u001b[0;32m~/opt/anaconda3/envs/env-IDS2020/lib/python3.7/site-packages/nltk/cluster/kmeans.py\u001b[0m in \u001b[0;36mcluster_vectorspace\u001b[0;34m(self, vectors, trace)\u001b[0m\n\u001b[1;32m     89\u001b[0m             \u001b[0;32mif\u001b[0m \u001b[0;32mnot\u001b[0m \u001b[0mself\u001b[0m\u001b[0;34m.\u001b[0m\u001b[0m_means\u001b[0m \u001b[0;32mor\u001b[0m \u001b[0mtrial\u001b[0m \u001b[0;34m>\u001b[0m \u001b[0;36m1\u001b[0m\u001b[0;34m:\u001b[0m\u001b[0;34m\u001b[0m\u001b[0;34m\u001b[0m\u001b[0m\n\u001b[1;32m     90\u001b[0m                 \u001b[0mself\u001b[0m\u001b[0;34m.\u001b[0m\u001b[0m_means\u001b[0m \u001b[0;34m=\u001b[0m \u001b[0mself\u001b[0m\u001b[0;34m.\u001b[0m\u001b[0m_rng\u001b[0m\u001b[0;34m.\u001b[0m\u001b[0msample\u001b[0m\u001b[0;34m(\u001b[0m\u001b[0mlist\u001b[0m\u001b[0;34m(\u001b[0m\u001b[0mvectors\u001b[0m\u001b[0;34m)\u001b[0m\u001b[0;34m,\u001b[0m \u001b[0mself\u001b[0m\u001b[0;34m.\u001b[0m\u001b[0m_num_means\u001b[0m\u001b[0;34m)\u001b[0m\u001b[0;34m\u001b[0m\u001b[0;34m\u001b[0m\u001b[0m\n\u001b[0;32m---> 91\u001b[0;31m             \u001b[0mself\u001b[0m\u001b[0;34m.\u001b[0m\u001b[0m_cluster_vectorspace\u001b[0m\u001b[0;34m(\u001b[0m\u001b[0mvectors\u001b[0m\u001b[0;34m,\u001b[0m \u001b[0mtrace\u001b[0m\u001b[0;34m)\u001b[0m\u001b[0;34m\u001b[0m\u001b[0;34m\u001b[0m\u001b[0m\n\u001b[0m\u001b[1;32m     92\u001b[0m             \u001b[0mmeanss\u001b[0m\u001b[0;34m.\u001b[0m\u001b[0mappend\u001b[0m\u001b[0;34m(\u001b[0m\u001b[0mself\u001b[0m\u001b[0;34m.\u001b[0m\u001b[0m_means\u001b[0m\u001b[0;34m)\u001b[0m\u001b[0;34m\u001b[0m\u001b[0;34m\u001b[0m\u001b[0m\n\u001b[1;32m     93\u001b[0m \u001b[0;34m\u001b[0m\u001b[0m\n",
      "\u001b[0;32m~/opt/anaconda3/envs/env-IDS2020/lib/python3.7/site-packages/nltk/cluster/kmeans.py\u001b[0m in \u001b[0;36m_cluster_vectorspace\u001b[0;34m(self, vectors, trace)\u001b[0m\n\u001b[1;32m    120\u001b[0m                 \u001b[0mclusters\u001b[0m \u001b[0;34m=\u001b[0m \u001b[0;34m[\u001b[0m\u001b[0;34m[\u001b[0m\u001b[0;34m]\u001b[0m \u001b[0;32mfor\u001b[0m \u001b[0mm\u001b[0m \u001b[0;32min\u001b[0m \u001b[0mrange\u001b[0m\u001b[0;34m(\u001b[0m\u001b[0mself\u001b[0m\u001b[0;34m.\u001b[0m\u001b[0m_num_means\u001b[0m\u001b[0;34m)\u001b[0m\u001b[0;34m]\u001b[0m\u001b[0;34m\u001b[0m\u001b[0;34m\u001b[0m\u001b[0m\n\u001b[1;32m    121\u001b[0m                 \u001b[0;32mfor\u001b[0m \u001b[0mvector\u001b[0m \u001b[0;32min\u001b[0m \u001b[0mvectors\u001b[0m\u001b[0;34m:\u001b[0m\u001b[0;34m\u001b[0m\u001b[0;34m\u001b[0m\u001b[0m\n\u001b[0;32m--> 122\u001b[0;31m                     \u001b[0mindex\u001b[0m \u001b[0;34m=\u001b[0m \u001b[0mself\u001b[0m\u001b[0;34m.\u001b[0m\u001b[0mclassify_vectorspace\u001b[0m\u001b[0;34m(\u001b[0m\u001b[0mvector\u001b[0m\u001b[0;34m)\u001b[0m\u001b[0;34m\u001b[0m\u001b[0;34m\u001b[0m\u001b[0m\n\u001b[0m\u001b[1;32m    123\u001b[0m                     \u001b[0mclusters\u001b[0m\u001b[0;34m[\u001b[0m\u001b[0mindex\u001b[0m\u001b[0;34m]\u001b[0m\u001b[0;34m.\u001b[0m\u001b[0mappend\u001b[0m\u001b[0;34m(\u001b[0m\u001b[0mvector\u001b[0m\u001b[0;34m)\u001b[0m\u001b[0;34m\u001b[0m\u001b[0;34m\u001b[0m\u001b[0m\n\u001b[1;32m    124\u001b[0m \u001b[0;34m\u001b[0m\u001b[0m\n",
      "\u001b[0;32m~/opt/anaconda3/envs/env-IDS2020/lib/python3.7/site-packages/nltk/cluster/kmeans.py\u001b[0m in \u001b[0;36mclassify_vectorspace\u001b[0;34m(self, vector)\u001b[0m\n\u001b[1;32m    145\u001b[0m         \u001b[0;32mfor\u001b[0m \u001b[0mindex\u001b[0m \u001b[0;32min\u001b[0m \u001b[0mrange\u001b[0m\u001b[0;34m(\u001b[0m\u001b[0mlen\u001b[0m\u001b[0;34m(\u001b[0m\u001b[0mself\u001b[0m\u001b[0;34m.\u001b[0m\u001b[0m_means\u001b[0m\u001b[0;34m)\u001b[0m\u001b[0;34m)\u001b[0m\u001b[0;34m:\u001b[0m\u001b[0;34m\u001b[0m\u001b[0;34m\u001b[0m\u001b[0m\n\u001b[1;32m    146\u001b[0m             \u001b[0mmean\u001b[0m \u001b[0;34m=\u001b[0m \u001b[0mself\u001b[0m\u001b[0;34m.\u001b[0m\u001b[0m_means\u001b[0m\u001b[0;34m[\u001b[0m\u001b[0mindex\u001b[0m\u001b[0;34m]\u001b[0m\u001b[0;34m\u001b[0m\u001b[0;34m\u001b[0m\u001b[0m\n\u001b[0;32m--> 147\u001b[0;31m             \u001b[0mdist\u001b[0m \u001b[0;34m=\u001b[0m \u001b[0mself\u001b[0m\u001b[0;34m.\u001b[0m\u001b[0m_distance\u001b[0m\u001b[0;34m(\u001b[0m\u001b[0mvector\u001b[0m\u001b[0;34m,\u001b[0m \u001b[0mmean\u001b[0m\u001b[0;34m)\u001b[0m\u001b[0;34m\u001b[0m\u001b[0;34m\u001b[0m\u001b[0m\n\u001b[0m\u001b[1;32m    148\u001b[0m             \u001b[0;32mif\u001b[0m \u001b[0mbest_distance\u001b[0m \u001b[0;32mis\u001b[0m \u001b[0;32mNone\u001b[0m \u001b[0;32mor\u001b[0m \u001b[0mdist\u001b[0m \u001b[0;34m<\u001b[0m \u001b[0mbest_distance\u001b[0m\u001b[0;34m:\u001b[0m\u001b[0;34m\u001b[0m\u001b[0;34m\u001b[0m\u001b[0m\n\u001b[1;32m    149\u001b[0m                 \u001b[0mbest_index\u001b[0m\u001b[0;34m,\u001b[0m \u001b[0mbest_distance\u001b[0m \u001b[0;34m=\u001b[0m \u001b[0mindex\u001b[0m\u001b[0;34m,\u001b[0m \u001b[0mdist\u001b[0m\u001b[0;34m\u001b[0m\u001b[0;34m\u001b[0m\u001b[0m\n",
      "\u001b[0;31mTypeError\u001b[0m: 'str' object is not callable"
     ]
    }
   ],
   "source": [
    "from nltk.cluster.kmeans import KMeansClusterer\n",
    "NUM_CLUSTERS = 3\n",
    "data = np_vectors\n",
    "\n",
    "kclusterer = KMeansClusterer(NUM_CLUSTERS, distance= \"hamming\", repeats=25)\n",
    "assigned_clusters = kclusterer.cluster(data, assign_clusters=True)"
   ]
  },
  {
   "cell_type": "code",
   "execution_count": null,
   "metadata": {},
   "outputs": [],
   "source": [
    "from sklearn.cluster import KMeans\n",
    "import numpy as np\n",
    "\n",
    "kmeans = KMeans(n_clusters=3, random_state=0).fit(np_vectors)\n",
    "kmeans.labels_\n",
    "\n",
    "clustered  = kmeans.predict(np_vectors)\n",
    "\n",
    "clustered"
   ]
  }
 ],
 "metadata": {
  "interpreter": {
   "hash": "68b05c9bfdb91354079bf16310792c8d1ef79f18475fa28e8e70b295c6c72f0c"
  },
  "kernelspec": {
   "display_name": "Python 3.7.11 ('env-IDS2020')",
   "language": "python",
   "name": "python3"
  },
  "language_info": {
   "codemirror_mode": {
    "name": "ipython",
    "version": 3
   },
   "file_extension": ".py",
   "mimetype": "text/x-python",
   "name": "python",
   "nbconvert_exporter": "python",
   "pygments_lexer": "ipython3",
   "version": "3.7.7"
  },
  "orig_nbformat": 4
 },
 "nbformat": 4,
 "nbformat_minor": 2
}
