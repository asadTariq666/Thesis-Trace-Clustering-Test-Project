{
 "cells": [
  {
   "cell_type": "markdown",
   "metadata": {},
   "source": [
    "# Trace Clustering in Process Mining"
   ]
  },
  {
   "cell_type": "markdown",
   "metadata": {},
   "source": [
    "## Importing librarires"
   ]
  },
  {
   "cell_type": "code",
   "execution_count": 1,
   "metadata": {},
   "outputs": [],
   "source": [
    "import pm4py\n",
    "import numpy as np\n",
    "import pandas as pd\n",
    "import matplotlib.pyplot as plt\n",
    "import warnings\n",
    "warnings.simplefilter(\"ignore\")"
   ]
  },
  {
   "cell_type": "code",
   "execution_count": 2,
   "metadata": {},
   "outputs": [],
   "source": [
    "from pm4py.objects.log.log import EventLog"
   ]
  },
  {
   "cell_type": "markdown",
   "metadata": {},
   "source": [
    "\n",
    "## Importing log\n",
    "Importing event log of RoadTraffic. It is in XES format with 51 traces."
   ]
  },
  {
   "cell_type": "code",
   "execution_count": 3,
   "metadata": {},
   "outputs": [
    {
     "name": "stderr",
     "output_type": "stream",
     "text": [
      "parsing log, completed traces :: 100%|██████████| 1104/1104 [00:00<00:00, 1523.65it/s]\n"
     ]
    }
   ],
   "source": [
    "# Importing a XES event log\n",
    "from pm4py.objects.log.importer.xes import importer as xes_importer\n",
    "log = xes_importer.apply('DataSets/Repair.xes')\n",
    "#log[1],type(log)"
   ]
  },
  {
   "cell_type": "markdown",
   "metadata": {},
   "source": [
    "## Petrinet from Alpha miner on complete log"
   ]
  },
  {
   "cell_type": "code",
   "execution_count": 4,
   "metadata": {},
   "outputs": [
    {
     "data": {
      "image/png": "[encoded data removed]",
      "text/plain": [
       "<IPython.core.display.Image object>"
      ]
     },
     "metadata": {},
     "output_type": "display_data"
    }
   ],
   "source": [
    "## Import the petrinet visualizer object\n",
    "from pm4py.algo.discovery.alpha import algorithm as alpha_miner\n",
    "net, initial_marking, final_marking = alpha_miner.apply(log)\n",
    "from pm4py.visualization.petrinet import visualizer as pn_visualizer\n",
    "# Visualise \n",
    "gviz = pn_visualizer.apply(net, initial_marking, final_marking) \n",
    "pn_visualizer.view(gviz)"
   ]
  },
  {
   "cell_type": "markdown",
   "metadata": {},
   "source": [
    "## Log Fitness"
   ]
  },
  {
   "cell_type": "code",
   "execution_count": 5,
   "metadata": {},
   "outputs": [
    {
     "name": "stderr",
     "output_type": "stream",
     "text": [
      "replaying log with TBR, completed variants :: 100%|██████████| 77/77 [00:00<00:00, 920.50it/s]\n",
      "replaying log with TBR, completed variants :: 100%|██████████| 233/233 [00:00<00:00, 1022.06it/s]"
     ]
    },
    {
     "name": "stdout",
     "output_type": "stream",
     "text": [
      "Fitness of log is:  68.28336942892967 %\n",
      "Precision of log is:  23.940950770631463 %\n"
     ]
    },
    {
     "name": "stderr",
     "output_type": "stream",
     "text": [
      "\n"
     ]
    }
   ],
   "source": [
    "from pm4py.algo.discovery.alpha import algorithm as alpha_miner\n",
    "net, im, fm = alpha_miner.apply(log)\n",
    "from pm4py.algo.evaluation.replay_fitness import algorithm as replay_fitness_evaluator\n",
    "fitness = replay_fitness_evaluator.apply(log, net, im, fm, variant=replay_fitness_evaluator.Variants.TOKEN_BASED)\n",
    "from pm4py.algo.evaluation.precision import algorithm as precision_evaluator\n",
    "prec = precision_evaluator.apply(log, net, im, fm, variant=precision_evaluator.Variants.ETCONFORMANCE_TOKEN)\n",
    "#prec\n",
    "#fitness, type(fitness)\n",
    "print('Fitness of log is: ', fitness['log_fitness']*100,'%')\n",
    "print('Precision of log is: ', prec*100,'%')"
   ]
  },
  {
   "cell_type": "markdown",
   "metadata": {},
   "source": [
    "### Extracting total Activities"
   ]
  },
  {
   "cell_type": "code",
   "execution_count": 6,
   "metadata": {},
   "outputs": [
    {
     "data": {
      "text/plain": [
       "({'Register': 1104,\n",
       "  'Analyze Defect': 2208,\n",
       "  'Repair (Complex)': 1449,\n",
       "  'Test Repair': 3016,\n",
       "  'Inform User': 1102,\n",
       "  'Archive Repair': 1000,\n",
       "  'Repair (Simple)': 1570,\n",
       "  'Restart Repair': 406},\n",
       " {'System': 3612,\n",
       "  'Tester3': 910,\n",
       "  'SolverC1': 534,\n",
       "  'Tester2': 904,\n",
       "  'SolverS1': 592,\n",
       "  'Tester6': 876,\n",
       "  'SolverS2': 498,\n",
       "  'Tester4': 788,\n",
       "  'Tester1': 902,\n",
       "  'SolverS3': 480,\n",
       "  'SolverC3': 401,\n",
       "  'Tester5': 844,\n",
       "  'SolverC2': 514})"
      ]
     },
     "execution_count": 6,
     "metadata": {},
     "output_type": "execute_result"
    }
   ],
   "source": [
    "from pm4py.algo.filtering.log.attributes import attributes_filter\n",
    "activities = attributes_filter.get_attribute_values(log, \"concept:name\")\n",
    "resources = attributes_filter.get_attribute_values(log, \"org:resource\")\n",
    "activities,resources"
   ]
  },
  {
   "cell_type": "markdown",
   "metadata": {},
   "source": [
    "### Converting Resource keys in to a list"
   ]
  },
  {
   "cell_type": "code",
   "execution_count": 7,
   "metadata": {},
   "outputs": [
    {
     "data": {
      "text/plain": [
       "['System',\n",
       " 'Tester3',\n",
       " 'SolverC1',\n",
       " 'Tester2',\n",
       " 'SolverS1',\n",
       " 'Tester6',\n",
       " 'SolverS2',\n",
       " 'Tester4',\n",
       " 'Tester1',\n",
       " 'SolverS3',\n",
       " 'SolverC3',\n",
       " 'Tester5',\n",
       " 'SolverC2']"
      ]
     },
     "execution_count": 7,
     "metadata": {},
     "output_type": "execute_result"
    }
   ],
   "source": [
    "resources_array = resources.keys()\n",
    "resources_array = list(resources_array)\n",
    "resources_array\n"
   ]
  },
  {
   "cell_type": "markdown",
   "metadata": {},
   "source": [
    "### Getting activities of each Trace in a Dataframe"
   ]
  },
  {
   "cell_type": "code",
   "execution_count": 17,
   "metadata": {},
   "outputs": [
    {
     "data": {
      "text/plain": [
       "{'attributes': {'concept:name': '1', 'description': 'Simulated process instance'}, 'events': [{'org:resource': 'System', 'time:timestamp': datetime.datetime(1970, 1, 2, 12, 23, tzinfo=datetime.timezone(datetime.timedelta(seconds=3600))), 'concept:name': 'Register', 'lifecycle:transition': 'complete', 'case:concept:name': '1', 'case:description': 'Simulated process instance'}, '..', {'numberRepairs': '0', 'org:resource': 'System', 'lifecycle:transition': 'complete', 'time:timestamp': datetime.datetime(1970, 1, 2, 13, 10, tzinfo=datetime.timezone(datetime.timedelta(seconds=3600))), 'concept:name': 'Archive Repair', 'defectFixed': 'true', 'case:concept:name': '1', 'case:description': 'Simulated process instance'}]}"
      ]
     },
     "execution_count": 17,
     "metadata": {},
     "output_type": "execute_result"
    }
   ],
   "source": [
    "log[0]"
   ]
  },
  {
   "cell_type": "code",
   "execution_count": 20,
   "metadata": {},
   "outputs": [
    {
     "data": {
      "text/html": [
       "<div>\n",
       "<style scoped>\n",
       "    .dataframe tbody tr th:only-of-type {\n",
       "        vertical-align: middle;\n",
       "    }\n",
       "\n",
       "    .dataframe tbody tr th {\n",
       "        vertical-align: top;\n",
       "    }\n",
       "\n",
       "    .dataframe thead th {\n",
       "        text-align: right;\n",
       "    }\n",
       "</style>\n",
       "<table border=\"1\" class=\"dataframe\">\n",
       "  <thead>\n",
       "    <tr style=\"text-align: right;\">\n",
       "      <th></th>\n",
       "      <th>Case ID</th>\n",
       "      <th>Resource</th>\n",
       "    </tr>\n",
       "  </thead>\n",
       "  <tbody>\n",
       "    <tr>\n",
       "      <th>0</th>\n",
       "      <td>1</td>\n",
       "      <td>System</td>\n",
       "    </tr>\n",
       "    <tr>\n",
       "      <th>1</th>\n",
       "      <td>1</td>\n",
       "      <td>Tester3</td>\n",
       "    </tr>\n",
       "    <tr>\n",
       "      <th>2</th>\n",
       "      <td>1</td>\n",
       "      <td>SolverC1</td>\n",
       "    </tr>\n",
       "    <tr>\n",
       "      <th>3</th>\n",
       "      <td>1</td>\n",
       "      <td>Tester3</td>\n",
       "    </tr>\n",
       "    <tr>\n",
       "      <th>4</th>\n",
       "      <td>1</td>\n",
       "      <td>System</td>\n",
       "    </tr>\n",
       "    <tr>\n",
       "      <th>5</th>\n",
       "      <td>1</td>\n",
       "      <td>System</td>\n",
       "    </tr>\n",
       "    <tr>\n",
       "      <th>6</th>\n",
       "      <td>10</td>\n",
       "      <td>System</td>\n",
       "    </tr>\n",
       "    <tr>\n",
       "      <th>7</th>\n",
       "      <td>10</td>\n",
       "      <td>Tester2</td>\n",
       "    </tr>\n",
       "    <tr>\n",
       "      <th>8</th>\n",
       "      <td>10</td>\n",
       "      <td>SolverS1</td>\n",
       "    </tr>\n",
       "    <tr>\n",
       "      <th>9</th>\n",
       "      <td>10</td>\n",
       "      <td>Tester6</td>\n",
       "    </tr>\n",
       "  </tbody>\n",
       "</table>\n",
       "</div>"
      ],
      "text/plain": [
       "   Case ID  Resource\n",
       "0        1    System\n",
       "1        1   Tester3\n",
       "2        1  SolverC1\n",
       "3        1   Tester3\n",
       "4        1    System\n",
       "5        1    System\n",
       "6       10    System\n",
       "7       10   Tester2\n",
       "8       10  SolverS1\n",
       "9       10   Tester6"
      ]
     },
     "execution_count": 20,
     "metadata": {},
     "output_type": "execute_result"
    }
   ],
   "source": [
    "## Converting log in to a pandas dataframe\n",
    "data = pd.read_csv('Datasets/Repair.csv')\n",
    "#dataframe.to_csv('log.csv')\n",
    "#dataframe\n",
    "## Trace profiling on Activities\n",
    "#data\n",
    "dataframe =data[['Case ID','Resource']]\n",
    "dataframe.head(10)"
   ]
  },
  {
   "cell_type": "code",
   "execution_count": null,
   "metadata": {},
   "outputs": [],
   "source": []
  },
  {
   "cell_type": "markdown",
   "metadata": {},
   "source": [
    "### Making np_array from Dataframe and grouping them on the basis of case identifier"
   ]
  },
  {
   "cell_type": "code",
   "execution_count": 123,
   "metadata": {},
   "outputs": [
    {
     "data": {
      "text/plain": [
       "array([array(['Register', 'Analyze Defect', 'Repair (Complex)', 'Test Repair',\n",
       "              'Inform User', 'Archive Repair'], dtype=object)                 ,\n",
       "       array(['Register', 'Analyze Defect', 'Inform User', 'Repair (Complex)',\n",
       "              'Test Repair', 'Archive Repair'], dtype=object)                 ,\n",
       "       array(['Register', 'Analyze Defect', 'Repair (Simple)', 'Inform User',\n",
       "              'Test Repair', 'Archive Repair'], dtype=object)                ,\n",
       "       ...,\n",
       "       array(['Register', 'Analyze Defect', 'Repair (Complex)', 'Test Repair',\n",
       "              'Inform User', 'Restart Repair', 'Repair (Complex)', 'Test Repair'],\n",
       "             dtype=object)                                                        ,\n",
       "       array(['Register', 'Analyze Defect', 'Inform User', 'Repair (Simple)',\n",
       "              'Test Repair', 'Restart Repair', 'Repair (Simple)', 'Test Repair'],\n",
       "             dtype=object)                                                       ,\n",
       "       array(['Register', 'Analyze Defect', 'Repair (Simple)', 'Test Repair',\n",
       "              'Restart Repair', 'Repair (Simple)', 'Test Repair', 'Inform User',\n",
       "              'Restart Repair', 'Repair (Simple)', 'Test Repair'], dtype=object)],\n",
       "      dtype=object)"
      ]
     },
     "execution_count": 123,
     "metadata": {},
     "output_type": "execute_result"
    }
   ],
   "source": [
    "np_arr = np.array(dataframe)\n",
    "#np_arr\n",
    "n = np.unique(np_arr[:,0])\n",
    "events = np.array( [(np_arr[np_arr[:,0]==i,1]) for i in n] )\n",
    "events"
   ]
  },
  {
   "cell_type": "markdown",
   "metadata": {},
   "source": [
    "## 2d Vector of Number of CASES X Number of Activities"
   ]
  },
  {
   "cell_type": "code",
   "execution_count": 22,
   "metadata": {},
   "outputs": [
    {
     "data": {
      "text/plain": [
       "[[0, 0, 0, 0, 0, 0, 0, 0, 0, 0, 0, 0, 0],\n",
       " [0, 0, 0, 0, 0, 0, 0, 0, 0, 0, 0, 0, 0],\n",
       " [0, 0, 0, 0, 0, 0, 0, 0, 0, 0, 0, 0, 0],\n",
       " [0, 0, 0, 0, 0, 0, 0, 0, 0, 0, 0, 0, 0],\n",
       " [0, 0, 0, 0, 0, 0, 0, 0, 0, 0, 0, 0, 0],\n",
       " [0, 0, 0, 0, 0, 0, 0, 0, 0, 0, 0, 0, 0],\n",
       " [0, 0, 0, 0, 0, 0, 0, 0, 0, 0, 0, 0, 0],\n",
       " [0, 0, 0, 0, 0, 0, 0, 0, 0, 0, 0, 0, 0],\n",
       " [0, 0, 0, 0, 0, 0, 0, 0, 0, 0, 0, 0, 0],\n",
       " [0, 0, 0, 0, 0, 0, 0, 0, 0, 0, 0, 0, 0],\n",
       " [0, 0, 0, 0, 0, 0, 0, 0, 0, 0, 0, 0, 0],\n",
       " [0, 0, 0, 0, 0, 0, 0, 0, 0, 0, 0, 0, 0],\n",
       " [0, 0, 0, 0, 0, 0, 0, 0, 0, 0, 0, 0, 0],\n",
       " [0, 0, 0, 0, 0, 0, 0, 0, 0, 0, 0, 0, 0],\n",
       " [0, 0, 0, 0, 0, 0, 0, 0, 0, 0, 0, 0, 0],\n",
       " [0, 0, 0, 0, 0, 0, 0, 0, 0, 0, 0, 0, 0],\n",
       " [0, 0, 0, 0, 0, 0, 0, 0, 0, 0, 0, 0, 0],\n",
       " [0, 0, 0, 0, 0, 0, 0, 0, 0, 0, 0, 0, 0],\n",
       " [0, 0, 0, 0, 0, 0, 0, 0, 0, 0, 0, 0, 0],\n",
       " [0, 0, 0, 0, 0, 0, 0, 0, 0, 0, 0, 0, 0],\n",
       " [0, 0, 0, 0, 0, 0, 0, 0, 0, 0, 0, 0, 0],\n",
       " [0, 0, 0, 0, 0, 0, 0, 0, 0, 0, 0, 0, 0],\n",
       " [0, 0, 0, 0, 0, 0, 0, 0, 0, 0, 0, 0, 0],\n",
       " [0, 0, 0, 0, 0, 0, 0, 0, 0, 0, 0, 0, 0],\n",
       " [0, 0, 0, 0, 0, 0, 0, 0, 0, 0, 0, 0, 0],\n",
       " [0, 0, 0, 0, 0, 0, 0, 0, 0, 0, 0, 0, 0],\n",
       " [0, 0, 0, 0, 0, 0, 0, 0, 0, 0, 0, 0, 0],\n",
       " [0, 0, 0, 0, 0, 0, 0, 0, 0, 0, 0, 0, 0],\n",
       " [0, 0, 0, 0, 0, 0, 0, 0, 0, 0, 0, 0, 0],\n",
       " [0, 0, 0, 0, 0, 0, 0, 0, 0, 0, 0, 0, 0],\n",
       " [0, 0, 0, 0, 0, 0, 0, 0, 0, 0, 0, 0, 0],\n",
       " [0, 0, 0, 0, 0, 0, 0, 0, 0, 0, 0, 0, 0],\n",
       " [0, 0, 0, 0, 0, 0, 0, 0, 0, 0, 0, 0, 0],\n",
       " [0, 0, 0, 0, 0, 0, 0, 0, 0, 0, 0, 0, 0],\n",
       " [0, 0, 0, 0, 0, 0, 0, 0, 0, 0, 0, 0, 0],\n",
       " [0, 0, 0, 0, 0, 0, 0, 0, 0, 0, 0, 0, 0],\n",
       " [0, 0, 0, 0, 0, 0, 0, 0, 0, 0, 0, 0, 0],\n",
       " [0, 0, 0, 0, 0, 0, 0, 0, 0, 0, 0, 0, 0],\n",
       " [0, 0, 0, 0, 0, 0, 0, 0, 0, 0, 0, 0, 0],\n",
       " [0, 0, 0, 0, 0, 0, 0, 0, 0, 0, 0, 0, 0],\n",
       " [0, 0, 0, 0, 0, 0, 0, 0, 0, 0, 0, 0, 0],\n",
       " [0, 0, 0, 0, 0, 0, 0, 0, 0, 0, 0, 0, 0],\n",
       " [0, 0, 0, 0, 0, 0, 0, 0, 0, 0, 0, 0, 0],\n",
       " [0, 0, 0, 0, 0, 0, 0, 0, 0, 0, 0, 0, 0],\n",
       " [0, 0, 0, 0, 0, 0, 0, 0, 0, 0, 0, 0, 0],\n",
       " [0, 0, 0, 0, 0, 0, 0, 0, 0, 0, 0, 0, 0],\n",
       " [0, 0, 0, 0, 0, 0, 0, 0, 0, 0, 0, 0, 0],\n",
       " [0, 0, 0, 0, 0, 0, 0, 0, 0, 0, 0, 0, 0],\n",
       " [0, 0, 0, 0, 0, 0, 0, 0, 0, 0, 0, 0, 0],\n",
       " [0, 0, 0, 0, 0, 0, 0, 0, 0, 0, 0, 0, 0],\n",
       " [0, 0, 0, 0, 0, 0, 0, 0, 0, 0, 0, 0, 0],\n",
       " [0, 0, 0, 0, 0, 0, 0, 0, 0, 0, 0, 0, 0],\n",
       " [0, 0, 0, 0, 0, 0, 0, 0, 0, 0, 0, 0, 0],\n",
       " [0, 0, 0, 0, 0, 0, 0, 0, 0, 0, 0, 0, 0],\n",
       " [0, 0, 0, 0, 0, 0, 0, 0, 0, 0, 0, 0, 0],\n",
       " [0, 0, 0, 0, 0, 0, 0, 0, 0, 0, 0, 0, 0],\n",
       " [0, 0, 0, 0, 0, 0, 0, 0, 0, 0, 0, 0, 0],\n",
       " [0, 0, 0, 0, 0, 0, 0, 0, 0, 0, 0, 0, 0],\n",
       " [0, 0, 0, 0, 0, 0, 0, 0, 0, 0, 0, 0, 0],\n",
       " [0, 0, 0, 0, 0, 0, 0, 0, 0, 0, 0, 0, 0],\n",
       " [0, 0, 0, 0, 0, 0, 0, 0, 0, 0, 0, 0, 0],\n",
       " [0, 0, 0, 0, 0, 0, 0, 0, 0, 0, 0, 0, 0],\n",
       " [0, 0, 0, 0, 0, 0, 0, 0, 0, 0, 0, 0, 0],\n",
       " [0, 0, 0, 0, 0, 0, 0, 0, 0, 0, 0, 0, 0],\n",
       " [0, 0, 0, 0, 0, 0, 0, 0, 0, 0, 0, 0, 0],\n",
       " [0, 0, 0, 0, 0, 0, 0, 0, 0, 0, 0, 0, 0],\n",
       " [0, 0, 0, 0, 0, 0, 0, 0, 0, 0, 0, 0, 0],\n",
       " [0, 0, 0, 0, 0, 0, 0, 0, 0, 0, 0, 0, 0],\n",
       " [0, 0, 0, 0, 0, 0, 0, 0, 0, 0, 0, 0, 0],\n",
       " [0, 0, 0, 0, 0, 0, 0, 0, 0, 0, 0, 0, 0],\n",
       " [0, 0, 0, 0, 0, 0, 0, 0, 0, 0, 0, 0, 0],\n",
       " [0, 0, 0, 0, 0, 0, 0, 0, 0, 0, 0, 0, 0],\n",
       " [0, 0, 0, 0, 0, 0, 0, 0, 0, 0, 0, 0, 0],\n",
       " [0, 0, 0, 0, 0, 0, 0, 0, 0, 0, 0, 0, 0],\n",
       " [0, 0, 0, 0, 0, 0, 0, 0, 0, 0, 0, 0, 0],\n",
       " [0, 0, 0, 0, 0, 0, 0, 0, 0, 0, 0, 0, 0],\n",
       " [0, 0, 0, 0, 0, 0, 0, 0, 0, 0, 0, 0, 0],\n",
       " [0, 0, 0, 0, 0, 0, 0, 0, 0, 0, 0, 0, 0],\n",
       " [0, 0, 0, 0, 0, 0, 0, 0, 0, 0, 0, 0, 0],\n",
       " [0, 0, 0, 0, 0, 0, 0, 0, 0, 0, 0, 0, 0],\n",
       " [0, 0, 0, 0, 0, 0, 0, 0, 0, 0, 0, 0, 0],\n",
       " [0, 0, 0, 0, 0, 0, 0, 0, 0, 0, 0, 0, 0],\n",
       " [0, 0, 0, 0, 0, 0, 0, 0, 0, 0, 0, 0, 0],\n",
       " [0, 0, 0, 0, 0, 0, 0, 0, 0, 0, 0, 0, 0],\n",
       " [0, 0, 0, 0, 0, 0, 0, 0, 0, 0, 0, 0, 0],\n",
       " [0, 0, 0, 0, 0, 0, 0, 0, 0, 0, 0, 0, 0],\n",
       " [0, 0, 0, 0, 0, 0, 0, 0, 0, 0, 0, 0, 0],\n",
       " [0, 0, 0, 0, 0, 0, 0, 0, 0, 0, 0, 0, 0],\n",
       " [0, 0, 0, 0, 0, 0, 0, 0, 0, 0, 0, 0, 0],\n",
       " [0, 0, 0, 0, 0, 0, 0, 0, 0, 0, 0, 0, 0],\n",
       " [0, 0, 0, 0, 0, 0, 0, 0, 0, 0, 0, 0, 0],\n",
       " [0, 0, 0, 0, 0, 0, 0, 0, 0, 0, 0, 0, 0],\n",
       " [0, 0, 0, 0, 0, 0, 0, 0, 0, 0, 0, 0, 0],\n",
       " [0, 0, 0, 0, 0, 0, 0, 0, 0, 0, 0, 0, 0],\n",
       " [0, 0, 0, 0, 0, 0, 0, 0, 0, 0, 0, 0, 0],\n",
       " [0, 0, 0, 0, 0, 0, 0, 0, 0, 0, 0, 0, 0],\n",
       " [0, 0, 0, 0, 0, 0, 0, 0, 0, 0, 0, 0, 0],\n",
       " [0, 0, 0, 0, 0, 0, 0, 0, 0, 0, 0, 0, 0],\n",
       " [0, 0, 0, 0, 0, 0, 0, 0, 0, 0, 0, 0, 0],\n",
       " [0, 0, 0, 0, 0, 0, 0, 0, 0, 0, 0, 0, 0],\n",
       " [0, 0, 0, 0, 0, 0, 0, 0, 0, 0, 0, 0, 0],\n",
       " [0, 0, 0, 0, 0, 0, 0, 0, 0, 0, 0, 0, 0],\n",
       " [0, 0, 0, 0, 0, 0, 0, 0, 0, 0, 0, 0, 0],\n",
       " [0, 0, 0, 0, 0, 0, 0, 0, 0, 0, 0, 0, 0],\n",
       " [0, 0, 0, 0, 0, 0, 0, 0, 0, 0, 0, 0, 0],\n",
       " [0, 0, 0, 0, 0, 0, 0, 0, 0, 0, 0, 0, 0],\n",
       " [0, 0, 0, 0, 0, 0, 0, 0, 0, 0, 0, 0, 0],\n",
       " [0, 0, 0, 0, 0, 0, 0, 0, 0, 0, 0, 0, 0],\n",
       " [0, 0, 0, 0, 0, 0, 0, 0, 0, 0, 0, 0, 0],\n",
       " [0, 0, 0, 0, 0, 0, 0, 0, 0, 0, 0, 0, 0],\n",
       " [0, 0, 0, 0, 0, 0, 0, 0, 0, 0, 0, 0, 0],\n",
       " [0, 0, 0, 0, 0, 0, 0, 0, 0, 0, 0, 0, 0],\n",
       " [0, 0, 0, 0, 0, 0, 0, 0, 0, 0, 0, 0, 0],\n",
       " [0, 0, 0, 0, 0, 0, 0, 0, 0, 0, 0, 0, 0],\n",
       " [0, 0, 0, 0, 0, 0, 0, 0, 0, 0, 0, 0, 0],\n",
       " [0, 0, 0, 0, 0, 0, 0, 0, 0, 0, 0, 0, 0],\n",
       " [0, 0, 0, 0, 0, 0, 0, 0, 0, 0, 0, 0, 0],\n",
       " [0, 0, 0, 0, 0, 0, 0, 0, 0, 0, 0, 0, 0],\n",
       " [0, 0, 0, 0, 0, 0, 0, 0, 0, 0, 0, 0, 0],\n",
       " [0, 0, 0, 0, 0, 0, 0, 0, 0, 0, 0, 0, 0],\n",
       " [0, 0, 0, 0, 0, 0, 0, 0, 0, 0, 0, 0, 0],\n",
       " [0, 0, 0, 0, 0, 0, 0, 0, 0, 0, 0, 0, 0],\n",
       " [0, 0, 0, 0, 0, 0, 0, 0, 0, 0, 0, 0, 0],\n",
       " [0, 0, 0, 0, 0, 0, 0, 0, 0, 0, 0, 0, 0],\n",
       " [0, 0, 0, 0, 0, 0, 0, 0, 0, 0, 0, 0, 0],\n",
       " [0, 0, 0, 0, 0, 0, 0, 0, 0, 0, 0, 0, 0],\n",
       " [0, 0, 0, 0, 0, 0, 0, 0, 0, 0, 0, 0, 0],\n",
       " [0, 0, 0, 0, 0, 0, 0, 0, 0, 0, 0, 0, 0],\n",
       " [0, 0, 0, 0, 0, 0, 0, 0, 0, 0, 0, 0, 0],\n",
       " [0, 0, 0, 0, 0, 0, 0, 0, 0, 0, 0, 0, 0],\n",
       " [0, 0, 0, 0, 0, 0, 0, 0, 0, 0, 0, 0, 0],\n",
       " [0, 0, 0, 0, 0, 0, 0, 0, 0, 0, 0, 0, 0],\n",
       " [0, 0, 0, 0, 0, 0, 0, 0, 0, 0, 0, 0, 0],\n",
       " [0, 0, 0, 0, 0, 0, 0, 0, 0, 0, 0, 0, 0],\n",
       " [0, 0, 0, 0, 0, 0, 0, 0, 0, 0, 0, 0, 0],\n",
       " [0, 0, 0, 0, 0, 0, 0, 0, 0, 0, 0, 0, 0],\n",
       " [0, 0, 0, 0, 0, 0, 0, 0, 0, 0, 0, 0, 0],\n",
       " [0, 0, 0, 0, 0, 0, 0, 0, 0, 0, 0, 0, 0],\n",
       " [0, 0, 0, 0, 0, 0, 0, 0, 0, 0, 0, 0, 0],\n",
       " [0, 0, 0, 0, 0, 0, 0, 0, 0, 0, 0, 0, 0],\n",
       " [0, 0, 0, 0, 0, 0, 0, 0, 0, 0, 0, 0, 0],\n",
       " [0, 0, 0, 0, 0, 0, 0, 0, 0, 0, 0, 0, 0],\n",
       " [0, 0, 0, 0, 0, 0, 0, 0, 0, 0, 0, 0, 0],\n",
       " [0, 0, 0, 0, 0, 0, 0, 0, 0, 0, 0, 0, 0],\n",
       " [0, 0, 0, 0, 0, 0, 0, 0, 0, 0, 0, 0, 0],\n",
       " [0, 0, 0, 0, 0, 0, 0, 0, 0, 0, 0, 0, 0],\n",
       " [0, 0, 0, 0, 0, 0, 0, 0, 0, 0, 0, 0, 0],\n",
       " [0, 0, 0, 0, 0, 0, 0, 0, 0, 0, 0, 0, 0],\n",
       " [0, 0, 0, 0, 0, 0, 0, 0, 0, 0, 0, 0, 0],\n",
       " [0, 0, 0, 0, 0, 0, 0, 0, 0, 0, 0, 0, 0],\n",
       " [0, 0, 0, 0, 0, 0, 0, 0, 0, 0, 0, 0, 0],\n",
       " [0, 0, 0, 0, 0, 0, 0, 0, 0, 0, 0, 0, 0],\n",
       " [0, 0, 0, 0, 0, 0, 0, 0, 0, 0, 0, 0, 0],\n",
       " [0, 0, 0, 0, 0, 0, 0, 0, 0, 0, 0, 0, 0],\n",
       " [0, 0, 0, 0, 0, 0, 0, 0, 0, 0, 0, 0, 0],\n",
       " [0, 0, 0, 0, 0, 0, 0, 0, 0, 0, 0, 0, 0],\n",
       " [0, 0, 0, 0, 0, 0, 0, 0, 0, 0, 0, 0, 0],\n",
       " [0, 0, 0, 0, 0, 0, 0, 0, 0, 0, 0, 0, 0],\n",
       " [0, 0, 0, 0, 0, 0, 0, 0, 0, 0, 0, 0, 0],\n",
       " [0, 0, 0, 0, 0, 0, 0, 0, 0, 0, 0, 0, 0],\n",
       " [0, 0, 0, 0, 0, 0, 0, 0, 0, 0, 0, 0, 0],\n",
       " [0, 0, 0, 0, 0, 0, 0, 0, 0, 0, 0, 0, 0],\n",
       " [0, 0, 0, 0, 0, 0, 0, 0, 0, 0, 0, 0, 0],\n",
       " [0, 0, 0, 0, 0, 0, 0, 0, 0, 0, 0, 0, 0],\n",
       " [0, 0, 0, 0, 0, 0, 0, 0, 0, 0, 0, 0, 0],\n",
       " [0, 0, 0, 0, 0, 0, 0, 0, 0, 0, 0, 0, 0],\n",
       " [0, 0, 0, 0, 0, 0, 0, 0, 0, 0, 0, 0, 0],\n",
       " [0, 0, 0, 0, 0, 0, 0, 0, 0, 0, 0, 0, 0],\n",
       " [0, 0, 0, 0, 0, 0, 0, 0, 0, 0, 0, 0, 0],\n",
       " [0, 0, 0, 0, 0, 0, 0, 0, 0, 0, 0, 0, 0],\n",
       " [0, 0, 0, 0, 0, 0, 0, 0, 0, 0, 0, 0, 0],\n",
       " [0, 0, 0, 0, 0, 0, 0, 0, 0, 0, 0, 0, 0],\n",
       " [0, 0, 0, 0, 0, 0, 0, 0, 0, 0, 0, 0, 0],\n",
       " [0, 0, 0, 0, 0, 0, 0, 0, 0, 0, 0, 0, 0],\n",
       " [0, 0, 0, 0, 0, 0, 0, 0, 0, 0, 0, 0, 0],\n",
       " [0, 0, 0, 0, 0, 0, 0, 0, 0, 0, 0, 0, 0],\n",
       " [0, 0, 0, 0, 0, 0, 0, 0, 0, 0, 0, 0, 0],\n",
       " [0, 0, 0, 0, 0, 0, 0, 0, 0, 0, 0, 0, 0],\n",
       " [0, 0, 0, 0, 0, 0, 0, 0, 0, 0, 0, 0, 0],\n",
       " [0, 0, 0, 0, 0, 0, 0, 0, 0, 0, 0, 0, 0],\n",
       " [0, 0, 0, 0, 0, 0, 0, 0, 0, 0, 0, 0, 0],\n",
       " [0, 0, 0, 0, 0, 0, 0, 0, 0, 0, 0, 0, 0],\n",
       " [0, 0, 0, 0, 0, 0, 0, 0, 0, 0, 0, 0, 0],\n",
       " [0, 0, 0, 0, 0, 0, 0, 0, 0, 0, 0, 0, 0],\n",
       " [0, 0, 0, 0, 0, 0, 0, 0, 0, 0, 0, 0, 0],\n",
       " [0, 0, 0, 0, 0, 0, 0, 0, 0, 0, 0, 0, 0],\n",
       " [0, 0, 0, 0, 0, 0, 0, 0, 0, 0, 0, 0, 0],\n",
       " [0, 0, 0, 0, 0, 0, 0, 0, 0, 0, 0, 0, 0],\n",
       " [0, 0, 0, 0, 0, 0, 0, 0, 0, 0, 0, 0, 0],\n",
       " [0, 0, 0, 0, 0, 0, 0, 0, 0, 0, 0, 0, 0],\n",
       " [0, 0, 0, 0, 0, 0, 0, 0, 0, 0, 0, 0, 0],\n",
       " [0, 0, 0, 0, 0, 0, 0, 0, 0, 0, 0, 0, 0],\n",
       " [0, 0, 0, 0, 0, 0, 0, 0, 0, 0, 0, 0, 0],\n",
       " [0, 0, 0, 0, 0, 0, 0, 0, 0, 0, 0, 0, 0],\n",
       " [0, 0, 0, 0, 0, 0, 0, 0, 0, 0, 0, 0, 0],\n",
       " [0, 0, 0, 0, 0, 0, 0, 0, 0, 0, 0, 0, 0],\n",
       " [0, 0, 0, 0, 0, 0, 0, 0, 0, 0, 0, 0, 0],\n",
       " [0, 0, 0, 0, 0, 0, 0, 0, 0, 0, 0, 0, 0],\n",
       " [0, 0, 0, 0, 0, 0, 0, 0, 0, 0, 0, 0, 0],\n",
       " [0, 0, 0, 0, 0, 0, 0, 0, 0, 0, 0, 0, 0],\n",
       " [0, 0, 0, 0, 0, 0, 0, 0, 0, 0, 0, 0, 0],\n",
       " [0, 0, 0, 0, 0, 0, 0, 0, 0, 0, 0, 0, 0],\n",
       " [0, 0, 0, 0, 0, 0, 0, 0, 0, 0, 0, 0, 0],\n",
       " [0, 0, 0, 0, 0, 0, 0, 0, 0, 0, 0, 0, 0],\n",
       " [0, 0, 0, 0, 0, 0, 0, 0, 0, 0, 0, 0, 0],\n",
       " [0, 0, 0, 0, 0, 0, 0, 0, 0, 0, 0, 0, 0],\n",
       " [0, 0, 0, 0, 0, 0, 0, 0, 0, 0, 0, 0, 0],\n",
       " [0, 0, 0, 0, 0, 0, 0, 0, 0, 0, 0, 0, 0],\n",
       " [0, 0, 0, 0, 0, 0, 0, 0, 0, 0, 0, 0, 0],\n",
       " [0, 0, 0, 0, 0, 0, 0, 0, 0, 0, 0, 0, 0],\n",
       " [0, 0, 0, 0, 0, 0, 0, 0, 0, 0, 0, 0, 0],\n",
       " [0, 0, 0, 0, 0, 0, 0, 0, 0, 0, 0, 0, 0],\n",
       " [0, 0, 0, 0, 0, 0, 0, 0, 0, 0, 0, 0, 0],\n",
       " [0, 0, 0, 0, 0, 0, 0, 0, 0, 0, 0, 0, 0],\n",
       " [0, 0, 0, 0, 0, 0, 0, 0, 0, 0, 0, 0, 0],\n",
       " [0, 0, 0, 0, 0, 0, 0, 0, 0, 0, 0, 0, 0],\n",
       " [0, 0, 0, 0, 0, 0, 0, 0, 0, 0, 0, 0, 0],\n",
       " [0, 0, 0, 0, 0, 0, 0, 0, 0, 0, 0, 0, 0],\n",
       " [0, 0, 0, 0, 0, 0, 0, 0, 0, 0, 0, 0, 0],\n",
       " [0, 0, 0, 0, 0, 0, 0, 0, 0, 0, 0, 0, 0],\n",
       " [0, 0, 0, 0, 0, 0, 0, 0, 0, 0, 0, 0, 0],\n",
       " [0, 0, 0, 0, 0, 0, 0, 0, 0, 0, 0, 0, 0],\n",
       " [0, 0, 0, 0, 0, 0, 0, 0, 0, 0, 0, 0, 0],\n",
       " [0, 0, 0, 0, 0, 0, 0, 0, 0, 0, 0, 0, 0],\n",
       " [0, 0, 0, 0, 0, 0, 0, 0, 0, 0, 0, 0, 0],\n",
       " [0, 0, 0, 0, 0, 0, 0, 0, 0, 0, 0, 0, 0],\n",
       " [0, 0, 0, 0, 0, 0, 0, 0, 0, 0, 0, 0, 0],\n",
       " [0, 0, 0, 0, 0, 0, 0, 0, 0, 0, 0, 0, 0],\n",
       " [0, 0, 0, 0, 0, 0, 0, 0, 0, 0, 0, 0, 0],\n",
       " [0, 0, 0, 0, 0, 0, 0, 0, 0, 0, 0, 0, 0],\n",
       " [0, 0, 0, 0, 0, 0, 0, 0, 0, 0, 0, 0, 0],\n",
       " [0, 0, 0, 0, 0, 0, 0, 0, 0, 0, 0, 0, 0],\n",
       " [0, 0, 0, 0, 0, 0, 0, 0, 0, 0, 0, 0, 0],\n",
       " [0, 0, 0, 0, 0, 0, 0, 0, 0, 0, 0, 0, 0],\n",
       " [0, 0, 0, 0, 0, 0, 0, 0, 0, 0, 0, 0, 0],\n",
       " [0, 0, 0, 0, 0, 0, 0, 0, 0, 0, 0, 0, 0],\n",
       " [0, 0, 0, 0, 0, 0, 0, 0, 0, 0, 0, 0, 0],\n",
       " [0, 0, 0, 0, 0, 0, 0, 0, 0, 0, 0, 0, 0],\n",
       " [0, 0, 0, 0, 0, 0, 0, 0, 0, 0, 0, 0, 0],\n",
       " [0, 0, 0, 0, 0, 0, 0, 0, 0, 0, 0, 0, 0],\n",
       " [0, 0, 0, 0, 0, 0, 0, 0, 0, 0, 0, 0, 0],\n",
       " [0, 0, 0, 0, 0, 0, 0, 0, 0, 0, 0, 0, 0],\n",
       " [0, 0, 0, 0, 0, 0, 0, 0, 0, 0, 0, 0, 0],\n",
       " [0, 0, 0, 0, 0, 0, 0, 0, 0, 0, 0, 0, 0],\n",
       " [0, 0, 0, 0, 0, 0, 0, 0, 0, 0, 0, 0, 0],\n",
       " [0, 0, 0, 0, 0, 0, 0, 0, 0, 0, 0, 0, 0],\n",
       " [0, 0, 0, 0, 0, 0, 0, 0, 0, 0, 0, 0, 0],\n",
       " [0, 0, 0, 0, 0, 0, 0, 0, 0, 0, 0, 0, 0],\n",
       " [0, 0, 0, 0, 0, 0, 0, 0, 0, 0, 0, 0, 0],\n",
       " [0, 0, 0, 0, 0, 0, 0, 0, 0, 0, 0, 0, 0],\n",
       " [0, 0, 0, 0, 0, 0, 0, 0, 0, 0, 0, 0, 0],\n",
       " [0, 0, 0, 0, 0, 0, 0, 0, 0, 0, 0, 0, 0],\n",
       " [0, 0, 0, 0, 0, 0, 0, 0, 0, 0, 0, 0, 0],\n",
       " [0, 0, 0, 0, 0, 0, 0, 0, 0, 0, 0, 0, 0],\n",
       " [0, 0, 0, 0, 0, 0, 0, 0, 0, 0, 0, 0, 0],\n",
       " [0, 0, 0, 0, 0, 0, 0, 0, 0, 0, 0, 0, 0],\n",
       " [0, 0, 0, 0, 0, 0, 0, 0, 0, 0, 0, 0, 0],\n",
       " [0, 0, 0, 0, 0, 0, 0, 0, 0, 0, 0, 0, 0],\n",
       " [0, 0, 0, 0, 0, 0, 0, 0, 0, 0, 0, 0, 0],\n",
       " [0, 0, 0, 0, 0, 0, 0, 0, 0, 0, 0, 0, 0],\n",
       " [0, 0, 0, 0, 0, 0, 0, 0, 0, 0, 0, 0, 0],\n",
       " [0, 0, 0, 0, 0, 0, 0, 0, 0, 0, 0, 0, 0],\n",
       " [0, 0, 0, 0, 0, 0, 0, 0, 0, 0, 0, 0, 0],\n",
       " [0, 0, 0, 0, 0, 0, 0, 0, 0, 0, 0, 0, 0],\n",
       " [0, 0, 0, 0, 0, 0, 0, 0, 0, 0, 0, 0, 0],\n",
       " [0, 0, 0, 0, 0, 0, 0, 0, 0, 0, 0, 0, 0],\n",
       " [0, 0, 0, 0, 0, 0, 0, 0, 0, 0, 0, 0, 0],\n",
       " [0, 0, 0, 0, 0, 0, 0, 0, 0, 0, 0, 0, 0],\n",
       " [0, 0, 0, 0, 0, 0, 0, 0, 0, 0, 0, 0, 0],\n",
       " [0, 0, 0, 0, 0, 0, 0, 0, 0, 0, 0, 0, 0],\n",
       " [0, 0, 0, 0, 0, 0, 0, 0, 0, 0, 0, 0, 0],\n",
       " [0, 0, 0, 0, 0, 0, 0, 0, 0, 0, 0, 0, 0],\n",
       " [0, 0, 0, 0, 0, 0, 0, 0, 0, 0, 0, 0, 0],\n",
       " [0, 0, 0, 0, 0, 0, 0, 0, 0, 0, 0, 0, 0],\n",
       " [0, 0, 0, 0, 0, 0, 0, 0, 0, 0, 0, 0, 0],\n",
       " [0, 0, 0, 0, 0, 0, 0, 0, 0, 0, 0, 0, 0],\n",
       " [0, 0, 0, 0, 0, 0, 0, 0, 0, 0, 0, 0, 0],\n",
       " [0, 0, 0, 0, 0, 0, 0, 0, 0, 0, 0, 0, 0],\n",
       " [0, 0, 0, 0, 0, 0, 0, 0, 0, 0, 0, 0, 0],\n",
       " [0, 0, 0, 0, 0, 0, 0, 0, 0, 0, 0, 0, 0],\n",
       " [0, 0, 0, 0, 0, 0, 0, 0, 0, 0, 0, 0, 0],\n",
       " [0, 0, 0, 0, 0, 0, 0, 0, 0, 0, 0, 0, 0],\n",
       " [0, 0, 0, 0, 0, 0, 0, 0, 0, 0, 0, 0, 0],\n",
       " [0, 0, 0, 0, 0, 0, 0, 0, 0, 0, 0, 0, 0],\n",
       " [0, 0, 0, 0, 0, 0, 0, 0, 0, 0, 0, 0, 0],\n",
       " [0, 0, 0, 0, 0, 0, 0, 0, 0, 0, 0, 0, 0],\n",
       " [0, 0, 0, 0, 0, 0, 0, 0, 0, 0, 0, 0, 0],\n",
       " [0, 0, 0, 0, 0, 0, 0, 0, 0, 0, 0, 0, 0],\n",
       " [0, 0, 0, 0, 0, 0, 0, 0, 0, 0, 0, 0, 0],\n",
       " [0, 0, 0, 0, 0, 0, 0, 0, 0, 0, 0, 0, 0],\n",
       " [0, 0, 0, 0, 0, 0, 0, 0, 0, 0, 0, 0, 0],\n",
       " [0, 0, 0, 0, 0, 0, 0, 0, 0, 0, 0, 0, 0],\n",
       " [0, 0, 0, 0, 0, 0, 0, 0, 0, 0, 0, 0, 0],\n",
       " [0, 0, 0, 0, 0, 0, 0, 0, 0, 0, 0, 0, 0],\n",
       " [0, 0, 0, 0, 0, 0, 0, 0, 0, 0, 0, 0, 0],\n",
       " [0, 0, 0, 0, 0, 0, 0, 0, 0, 0, 0, 0, 0],\n",
       " [0, 0, 0, 0, 0, 0, 0, 0, 0, 0, 0, 0, 0],\n",
       " [0, 0, 0, 0, 0, 0, 0, 0, 0, 0, 0, 0, 0],\n",
       " [0, 0, 0, 0, 0, 0, 0, 0, 0, 0, 0, 0, 0],\n",
       " [0, 0, 0, 0, 0, 0, 0, 0, 0, 0, 0, 0, 0],\n",
       " [0, 0, 0, 0, 0, 0, 0, 0, 0, 0, 0, 0, 0],\n",
       " [0, 0, 0, 0, 0, 0, 0, 0, 0, 0, 0, 0, 0],\n",
       " [0, 0, 0, 0, 0, 0, 0, 0, 0, 0, 0, 0, 0],\n",
       " [0, 0, 0, 0, 0, 0, 0, 0, 0, 0, 0, 0, 0],\n",
       " [0, 0, 0, 0, 0, 0, 0, 0, 0, 0, 0, 0, 0],\n",
       " [0, 0, 0, 0, 0, 0, 0, 0, 0, 0, 0, 0, 0],\n",
       " [0, 0, 0, 0, 0, 0, 0, 0, 0, 0, 0, 0, 0],\n",
       " [0, 0, 0, 0, 0, 0, 0, 0, 0, 0, 0, 0, 0],\n",
       " [0, 0, 0, 0, 0, 0, 0, 0, 0, 0, 0, 0, 0],\n",
       " [0, 0, 0, 0, 0, 0, 0, 0, 0, 0, 0, 0, 0],\n",
       " [0, 0, 0, 0, 0, 0, 0, 0, 0, 0, 0, 0, 0],\n",
       " [0, 0, 0, 0, 0, 0, 0, 0, 0, 0, 0, 0, 0],\n",
       " [0, 0, 0, 0, 0, 0, 0, 0, 0, 0, 0, 0, 0],\n",
       " [0, 0, 0, 0, 0, 0, 0, 0, 0, 0, 0, 0, 0],\n",
       " [0, 0, 0, 0, 0, 0, 0, 0, 0, 0, 0, 0, 0],\n",
       " [0, 0, 0, 0, 0, 0, 0, 0, 0, 0, 0, 0, 0],\n",
       " [0, 0, 0, 0, 0, 0, 0, 0, 0, 0, 0, 0, 0],\n",
       " [0, 0, 0, 0, 0, 0, 0, 0, 0, 0, 0, 0, 0],\n",
       " [0, 0, 0, 0, 0, 0, 0, 0, 0, 0, 0, 0, 0],\n",
       " [0, 0, 0, 0, 0, 0, 0, 0, 0, 0, 0, 0, 0],\n",
       " [0, 0, 0, 0, 0, 0, 0, 0, 0, 0, 0, 0, 0],\n",
       " [0, 0, 0, 0, 0, 0, 0, 0, 0, 0, 0, 0, 0],\n",
       " [0, 0, 0, 0, 0, 0, 0, 0, 0, 0, 0, 0, 0],\n",
       " [0, 0, 0, 0, 0, 0, 0, 0, 0, 0, 0, 0, 0],\n",
       " [0, 0, 0, 0, 0, 0, 0, 0, 0, 0, 0, 0, 0],\n",
       " [0, 0, 0, 0, 0, 0, 0, 0, 0, 0, 0, 0, 0],\n",
       " [0, 0, 0, 0, 0, 0, 0, 0, 0, 0, 0, 0, 0],\n",
       " [0, 0, 0, 0, 0, 0, 0, 0, 0, 0, 0, 0, 0],\n",
       " [0, 0, 0, 0, 0, 0, 0, 0, 0, 0, 0, 0, 0],\n",
       " [0, 0, 0, 0, 0, 0, 0, 0, 0, 0, 0, 0, 0],\n",
       " [0, 0, 0, 0, 0, 0, 0, 0, 0, 0, 0, 0, 0],\n",
       " [0, 0, 0, 0, 0, 0, 0, 0, 0, 0, 0, 0, 0],\n",
       " [0, 0, 0, 0, 0, 0, 0, 0, 0, 0, 0, 0, 0],\n",
       " [0, 0, 0, 0, 0, 0, 0, 0, 0, 0, 0, 0, 0],\n",
       " [0, 0, 0, 0, 0, 0, 0, 0, 0, 0, 0, 0, 0],\n",
       " [0, 0, 0, 0, 0, 0, 0, 0, 0, 0, 0, 0, 0],\n",
       " [0, 0, 0, 0, 0, 0, 0, 0, 0, 0, 0, 0, 0],\n",
       " [0, 0, 0, 0, 0, 0, 0, 0, 0, 0, 0, 0, 0],\n",
       " [0, 0, 0, 0, 0, 0, 0, 0, 0, 0, 0, 0, 0],\n",
       " [0, 0, 0, 0, 0, 0, 0, 0, 0, 0, 0, 0, 0],\n",
       " [0, 0, 0, 0, 0, 0, 0, 0, 0, 0, 0, 0, 0],\n",
       " [0, 0, 0, 0, 0, 0, 0, 0, 0, 0, 0, 0, 0],\n",
       " [0, 0, 0, 0, 0, 0, 0, 0, 0, 0, 0, 0, 0],\n",
       " [0, 0, 0, 0, 0, 0, 0, 0, 0, 0, 0, 0, 0],\n",
       " [0, 0, 0, 0, 0, 0, 0, 0, 0, 0, 0, 0, 0],\n",
       " [0, 0, 0, 0, 0, 0, 0, 0, 0, 0, 0, 0, 0],\n",
       " [0, 0, 0, 0, 0, 0, 0, 0, 0, 0, 0, 0, 0],\n",
       " [0, 0, 0, 0, 0, 0, 0, 0, 0, 0, 0, 0, 0],\n",
       " [0, 0, 0, 0, 0, 0, 0, 0, 0, 0, 0, 0, 0],\n",
       " [0, 0, 0, 0, 0, 0, 0, 0, 0, 0, 0, 0, 0],\n",
       " [0, 0, 0, 0, 0, 0, 0, 0, 0, 0, 0, 0, 0],\n",
       " [0, 0, 0, 0, 0, 0, 0, 0, 0, 0, 0, 0, 0],\n",
       " [0, 0, 0, 0, 0, 0, 0, 0, 0, 0, 0, 0, 0],\n",
       " [0, 0, 0, 0, 0, 0, 0, 0, 0, 0, 0, 0, 0],\n",
       " [0, 0, 0, 0, 0, 0, 0, 0, 0, 0, 0, 0, 0],\n",
       " [0, 0, 0, 0, 0, 0, 0, 0, 0, 0, 0, 0, 0],\n",
       " [0, 0, 0, 0, 0, 0, 0, 0, 0, 0, 0, 0, 0],\n",
       " [0, 0, 0, 0, 0, 0, 0, 0, 0, 0, 0, 0, 0],\n",
       " [0, 0, 0, 0, 0, 0, 0, 0, 0, 0, 0, 0, 0],\n",
       " [0, 0, 0, 0, 0, 0, 0, 0, 0, 0, 0, 0, 0],\n",
       " [0, 0, 0, 0, 0, 0, 0, 0, 0, 0, 0, 0, 0],\n",
       " [0, 0, 0, 0, 0, 0, 0, 0, 0, 0, 0, 0, 0],\n",
       " [0, 0, 0, 0, 0, 0, 0, 0, 0, 0, 0, 0, 0],\n",
       " [0, 0, 0, 0, 0, 0, 0, 0, 0, 0, 0, 0, 0],\n",
       " [0, 0, 0, 0, 0, 0, 0, 0, 0, 0, 0, 0, 0],\n",
       " [0, 0, 0, 0, 0, 0, 0, 0, 0, 0, 0, 0, 0],\n",
       " [0, 0, 0, 0, 0, 0, 0, 0, 0, 0, 0, 0, 0],\n",
       " [0, 0, 0, 0, 0, 0, 0, 0, 0, 0, 0, 0, 0],\n",
       " [0, 0, 0, 0, 0, 0, 0, 0, 0, 0, 0, 0, 0],\n",
       " [0, 0, 0, 0, 0, 0, 0, 0, 0, 0, 0, 0, 0],\n",
       " [0, 0, 0, 0, 0, 0, 0, 0, 0, 0, 0, 0, 0],\n",
       " [0, 0, 0, 0, 0, 0, 0, 0, 0, 0, 0, 0, 0],\n",
       " [0, 0, 0, 0, 0, 0, 0, 0, 0, 0, 0, 0, 0],\n",
       " [0, 0, 0, 0, 0, 0, 0, 0, 0, 0, 0, 0, 0],\n",
       " [0, 0, 0, 0, 0, 0, 0, 0, 0, 0, 0, 0, 0],\n",
       " [0, 0, 0, 0, 0, 0, 0, 0, 0, 0, 0, 0, 0],\n",
       " [0, 0, 0, 0, 0, 0, 0, 0, 0, 0, 0, 0, 0],\n",
       " [0, 0, 0, 0, 0, 0, 0, 0, 0, 0, 0, 0, 0],\n",
       " [0, 0, 0, 0, 0, 0, 0, 0, 0, 0, 0, 0, 0],\n",
       " [0, 0, 0, 0, 0, 0, 0, 0, 0, 0, 0, 0, 0],\n",
       " [0, 0, 0, 0, 0, 0, 0, 0, 0, 0, 0, 0, 0],\n",
       " [0, 0, 0, 0, 0, 0, 0, 0, 0, 0, 0, 0, 0],\n",
       " [0, 0, 0, 0, 0, 0, 0, 0, 0, 0, 0, 0, 0],\n",
       " [0, 0, 0, 0, 0, 0, 0, 0, 0, 0, 0, 0, 0],\n",
       " [0, 0, 0, 0, 0, 0, 0, 0, 0, 0, 0, 0, 0],\n",
       " [0, 0, 0, 0, 0, 0, 0, 0, 0, 0, 0, 0, 0],\n",
       " [0, 0, 0, 0, 0, 0, 0, 0, 0, 0, 0, 0, 0],\n",
       " [0, 0, 0, 0, 0, 0, 0, 0, 0, 0, 0, 0, 0],\n",
       " [0, 0, 0, 0, 0, 0, 0, 0, 0, 0, 0, 0, 0],\n",
       " [0, 0, 0, 0, 0, 0, 0, 0, 0, 0, 0, 0, 0],\n",
       " [0, 0, 0, 0, 0, 0, 0, 0, 0, 0, 0, 0, 0],\n",
       " [0, 0, 0, 0, 0, 0, 0, 0, 0, 0, 0, 0, 0],\n",
       " [0, 0, 0, 0, 0, 0, 0, 0, 0, 0, 0, 0, 0],\n",
       " [0, 0, 0, 0, 0, 0, 0, 0, 0, 0, 0, 0, 0],\n",
       " [0, 0, 0, 0, 0, 0, 0, 0, 0, 0, 0, 0, 0],\n",
       " [0, 0, 0, 0, 0, 0, 0, 0, 0, 0, 0, 0, 0],\n",
       " [0, 0, 0, 0, 0, 0, 0, 0, 0, 0, 0, 0, 0],\n",
       " [0, 0, 0, 0, 0, 0, 0, 0, 0, 0, 0, 0, 0],\n",
       " [0, 0, 0, 0, 0, 0, 0, 0, 0, 0, 0, 0, 0],\n",
       " [0, 0, 0, 0, 0, 0, 0, 0, 0, 0, 0, 0, 0],\n",
       " [0, 0, 0, 0, 0, 0, 0, 0, 0, 0, 0, 0, 0],\n",
       " [0, 0, 0, 0, 0, 0, 0, 0, 0, 0, 0, 0, 0],\n",
       " [0, 0, 0, 0, 0, 0, 0, 0, 0, 0, 0, 0, 0],\n",
       " [0, 0, 0, 0, 0, 0, 0, 0, 0, 0, 0, 0, 0],\n",
       " [0, 0, 0, 0, 0, 0, 0, 0, 0, 0, 0, 0, 0],\n",
       " [0, 0, 0, 0, 0, 0, 0, 0, 0, 0, 0, 0, 0],\n",
       " [0, 0, 0, 0, 0, 0, 0, 0, 0, 0, 0, 0, 0],\n",
       " [0, 0, 0, 0, 0, 0, 0, 0, 0, 0, 0, 0, 0],\n",
       " [0, 0, 0, 0, 0, 0, 0, 0, 0, 0, 0, 0, 0],\n",
       " [0, 0, 0, 0, 0, 0, 0, 0, 0, 0, 0, 0, 0],\n",
       " [0, 0, 0, 0, 0, 0, 0, 0, 0, 0, 0, 0, 0],\n",
       " [0, 0, 0, 0, 0, 0, 0, 0, 0, 0, 0, 0, 0],\n",
       " [0, 0, 0, 0, 0, 0, 0, 0, 0, 0, 0, 0, 0],\n",
       " [0, 0, 0, 0, 0, 0, 0, 0, 0, 0, 0, 0, 0],\n",
       " [0, 0, 0, 0, 0, 0, 0, 0, 0, 0, 0, 0, 0],\n",
       " [0, 0, 0, 0, 0, 0, 0, 0, 0, 0, 0, 0, 0],\n",
       " [0, 0, 0, 0, 0, 0, 0, 0, 0, 0, 0, 0, 0],\n",
       " [0, 0, 0, 0, 0, 0, 0, 0, 0, 0, 0, 0, 0],\n",
       " [0, 0, 0, 0, 0, 0, 0, 0, 0, 0, 0, 0, 0],\n",
       " [0, 0, 0, 0, 0, 0, 0, 0, 0, 0, 0, 0, 0],\n",
       " [0, 0, 0, 0, 0, 0, 0, 0, 0, 0, 0, 0, 0],\n",
       " [0, 0, 0, 0, 0, 0, 0, 0, 0, 0, 0, 0, 0],\n",
       " [0, 0, 0, 0, 0, 0, 0, 0, 0, 0, 0, 0, 0],\n",
       " [0, 0, 0, 0, 0, 0, 0, 0, 0, 0, 0, 0, 0],\n",
       " [0, 0, 0, 0, 0, 0, 0, 0, 0, 0, 0, 0, 0],\n",
       " [0, 0, 0, 0, 0, 0, 0, 0, 0, 0, 0, 0, 0],\n",
       " [0, 0, 0, 0, 0, 0, 0, 0, 0, 0, 0, 0, 0],\n",
       " [0, 0, 0, 0, 0, 0, 0, 0, 0, 0, 0, 0, 0],\n",
       " [0, 0, 0, 0, 0, 0, 0, 0, 0, 0, 0, 0, 0],\n",
       " [0, 0, 0, 0, 0, 0, 0, 0, 0, 0, 0, 0, 0],\n",
       " [0, 0, 0, 0, 0, 0, 0, 0, 0, 0, 0, 0, 0],\n",
       " [0, 0, 0, 0, 0, 0, 0, 0, 0, 0, 0, 0, 0],\n",
       " [0, 0, 0, 0, 0, 0, 0, 0, 0, 0, 0, 0, 0],\n",
       " [0, 0, 0, 0, 0, 0, 0, 0, 0, 0, 0, 0, 0],\n",
       " [0, 0, 0, 0, 0, 0, 0, 0, 0, 0, 0, 0, 0],\n",
       " [0, 0, 0, 0, 0, 0, 0, 0, 0, 0, 0, 0, 0],\n",
       " [0, 0, 0, 0, 0, 0, 0, 0, 0, 0, 0, 0, 0],\n",
       " [0, 0, 0, 0, 0, 0, 0, 0, 0, 0, 0, 0, 0],\n",
       " [0, 0, 0, 0, 0, 0, 0, 0, 0, 0, 0, 0, 0],\n",
       " [0, 0, 0, 0, 0, 0, 0, 0, 0, 0, 0, 0, 0],\n",
       " [0, 0, 0, 0, 0, 0, 0, 0, 0, 0, 0, 0, 0],\n",
       " [0, 0, 0, 0, 0, 0, 0, 0, 0, 0, 0, 0, 0],\n",
       " [0, 0, 0, 0, 0, 0, 0, 0, 0, 0, 0, 0, 0],\n",
       " [0, 0, 0, 0, 0, 0, 0, 0, 0, 0, 0, 0, 0],\n",
       " [0, 0, 0, 0, 0, 0, 0, 0, 0, 0, 0, 0, 0],\n",
       " [0, 0, 0, 0, 0, 0, 0, 0, 0, 0, 0, 0, 0],\n",
       " [0, 0, 0, 0, 0, 0, 0, 0, 0, 0, 0, 0, 0],\n",
       " [0, 0, 0, 0, 0, 0, 0, 0, 0, 0, 0, 0, 0],\n",
       " [0, 0, 0, 0, 0, 0, 0, 0, 0, 0, 0, 0, 0],\n",
       " [0, 0, 0, 0, 0, 0, 0, 0, 0, 0, 0, 0, 0],\n",
       " [0, 0, 0, 0, 0, 0, 0, 0, 0, 0, 0, 0, 0],\n",
       " [0, 0, 0, 0, 0, 0, 0, 0, 0, 0, 0, 0, 0],\n",
       " [0, 0, 0, 0, 0, 0, 0, 0, 0, 0, 0, 0, 0],\n",
       " [0, 0, 0, 0, 0, 0, 0, 0, 0, 0, 0, 0, 0],\n",
       " [0, 0, 0, 0, 0, 0, 0, 0, 0, 0, 0, 0, 0],\n",
       " [0, 0, 0, 0, 0, 0, 0, 0, 0, 0, 0, 0, 0],\n",
       " [0, 0, 0, 0, 0, 0, 0, 0, 0, 0, 0, 0, 0],\n",
       " [0, 0, 0, 0, 0, 0, 0, 0, 0, 0, 0, 0, 0],\n",
       " [0, 0, 0, 0, 0, 0, 0, 0, 0, 0, 0, 0, 0],\n",
       " [0, 0, 0, 0, 0, 0, 0, 0, 0, 0, 0, 0, 0],\n",
       " [0, 0, 0, 0, 0, 0, 0, 0, 0, 0, 0, 0, 0],\n",
       " [0, 0, 0, 0, 0, 0, 0, 0, 0, 0, 0, 0, 0],\n",
       " [0, 0, 0, 0, 0, 0, 0, 0, 0, 0, 0, 0, 0],\n",
       " [0, 0, 0, 0, 0, 0, 0, 0, 0, 0, 0, 0, 0],\n",
       " [0, 0, 0, 0, 0, 0, 0, 0, 0, 0, 0, 0, 0],\n",
       " [0, 0, 0, 0, 0, 0, 0, 0, 0, 0, 0, 0, 0],\n",
       " [0, 0, 0, 0, 0, 0, 0, 0, 0, 0, 0, 0, 0],\n",
       " [0, 0, 0, 0, 0, 0, 0, 0, 0, 0, 0, 0, 0],\n",
       " [0, 0, 0, 0, 0, 0, 0, 0, 0, 0, 0, 0, 0],\n",
       " [0, 0, 0, 0, 0, 0, 0, 0, 0, 0, 0, 0, 0],\n",
       " [0, 0, 0, 0, 0, 0, 0, 0, 0, 0, 0, 0, 0],\n",
       " [0, 0, 0, 0, 0, 0, 0, 0, 0, 0, 0, 0, 0],\n",
       " [0, 0, 0, 0, 0, 0, 0, 0, 0, 0, 0, 0, 0],\n",
       " [0, 0, 0, 0, 0, 0, 0, 0, 0, 0, 0, 0, 0],\n",
       " [0, 0, 0, 0, 0, 0, 0, 0, 0, 0, 0, 0, 0],\n",
       " [0, 0, 0, 0, 0, 0, 0, 0, 0, 0, 0, 0, 0],\n",
       " [0, 0, 0, 0, 0, 0, 0, 0, 0, 0, 0, 0, 0],\n",
       " [0, 0, 0, 0, 0, 0, 0, 0, 0, 0, 0, 0, 0],\n",
       " [0, 0, 0, 0, 0, 0, 0, 0, 0, 0, 0, 0, 0],\n",
       " [0, 0, 0, 0, 0, 0, 0, 0, 0, 0, 0, 0, 0],\n",
       " [0, 0, 0, 0, 0, 0, 0, 0, 0, 0, 0, 0, 0],\n",
       " [0, 0, 0, 0, 0, 0, 0, 0, 0, 0, 0, 0, 0],\n",
       " [0, 0, 0, 0, 0, 0, 0, 0, 0, 0, 0, 0, 0],\n",
       " [0, 0, 0, 0, 0, 0, 0, 0, 0, 0, 0, 0, 0],\n",
       " [0, 0, 0, 0, 0, 0, 0, 0, 0, 0, 0, 0, 0],\n",
       " [0, 0, 0, 0, 0, 0, 0, 0, 0, 0, 0, 0, 0],\n",
       " [0, 0, 0, 0, 0, 0, 0, 0, 0, 0, 0, 0, 0],\n",
       " [0, 0, 0, 0, 0, 0, 0, 0, 0, 0, 0, 0, 0],\n",
       " [0, 0, 0, 0, 0, 0, 0, 0, 0, 0, 0, 0, 0],\n",
       " [0, 0, 0, 0, 0, 0, 0, 0, 0, 0, 0, 0, 0],\n",
       " [0, 0, 0, 0, 0, 0, 0, 0, 0, 0, 0, 0, 0],\n",
       " [0, 0, 0, 0, 0, 0, 0, 0, 0, 0, 0, 0, 0],\n",
       " [0, 0, 0, 0, 0, 0, 0, 0, 0, 0, 0, 0, 0],\n",
       " [0, 0, 0, 0, 0, 0, 0, 0, 0, 0, 0, 0, 0],\n",
       " [0, 0, 0, 0, 0, 0, 0, 0, 0, 0, 0, 0, 0],\n",
       " [0, 0, 0, 0, 0, 0, 0, 0, 0, 0, 0, 0, 0],\n",
       " [0, 0, 0, 0, 0, 0, 0, 0, 0, 0, 0, 0, 0],\n",
       " [0, 0, 0, 0, 0, 0, 0, 0, 0, 0, 0, 0, 0],\n",
       " [0, 0, 0, 0, 0, 0, 0, 0, 0, 0, 0, 0, 0],\n",
       " [0, 0, 0, 0, 0, 0, 0, 0, 0, 0, 0, 0, 0],\n",
       " [0, 0, 0, 0, 0, 0, 0, 0, 0, 0, 0, 0, 0],\n",
       " [0, 0, 0, 0, 0, 0, 0, 0, 0, 0, 0, 0, 0],\n",
       " [0, 0, 0, 0, 0, 0, 0, 0, 0, 0, 0, 0, 0],\n",
       " [0, 0, 0, 0, 0, 0, 0, 0, 0, 0, 0, 0, 0],\n",
       " [0, 0, 0, 0, 0, 0, 0, 0, 0, 0, 0, 0, 0],\n",
       " [0, 0, 0, 0, 0, 0, 0, 0, 0, 0, 0, 0, 0],\n",
       " [0, 0, 0, 0, 0, 0, 0, 0, 0, 0, 0, 0, 0],\n",
       " [0, 0, 0, 0, 0, 0, 0, 0, 0, 0, 0, 0, 0],\n",
       " [0, 0, 0, 0, 0, 0, 0, 0, 0, 0, 0, 0, 0],\n",
       " [0, 0, 0, 0, 0, 0, 0, 0, 0, 0, 0, 0, 0],\n",
       " [0, 0, 0, 0, 0, 0, 0, 0, 0, 0, 0, 0, 0],\n",
       " [0, 0, 0, 0, 0, 0, 0, 0, 0, 0, 0, 0, 0],\n",
       " [0, 0, 0, 0, 0, 0, 0, 0, 0, 0, 0, 0, 0],\n",
       " [0, 0, 0, 0, 0, 0, 0, 0, 0, 0, 0, 0, 0],\n",
       " [0, 0, 0, 0, 0, 0, 0, 0, 0, 0, 0, 0, 0],\n",
       " [0, 0, 0, 0, 0, 0, 0, 0, 0, 0, 0, 0, 0],\n",
       " [0, 0, 0, 0, 0, 0, 0, 0, 0, 0, 0, 0, 0],\n",
       " [0, 0, 0, 0, 0, 0, 0, 0, 0, 0, 0, 0, 0],\n",
       " [0, 0, 0, 0, 0, 0, 0, 0, 0, 0, 0, 0, 0],\n",
       " [0, 0, 0, 0, 0, 0, 0, 0, 0, 0, 0, 0, 0],\n",
       " [0, 0, 0, 0, 0, 0, 0, 0, 0, 0, 0, 0, 0],\n",
       " [0, 0, 0, 0, 0, 0, 0, 0, 0, 0, 0, 0, 0],\n",
       " [0, 0, 0, 0, 0, 0, 0, 0, 0, 0, 0, 0, 0],\n",
       " [0, 0, 0, 0, 0, 0, 0, 0, 0, 0, 0, 0, 0],\n",
       " [0, 0, 0, 0, 0, 0, 0, 0, 0, 0, 0, 0, 0],\n",
       " [0, 0, 0, 0, 0, 0, 0, 0, 0, 0, 0, 0, 0],\n",
       " [0, 0, 0, 0, 0, 0, 0, 0, 0, 0, 0, 0, 0],\n",
       " [0, 0, 0, 0, 0, 0, 0, 0, 0, 0, 0, 0, 0],\n",
       " [0, 0, 0, 0, 0, 0, 0, 0, 0, 0, 0, 0, 0],\n",
       " [0, 0, 0, 0, 0, 0, 0, 0, 0, 0, 0, 0, 0],\n",
       " [0, 0, 0, 0, 0, 0, 0, 0, 0, 0, 0, 0, 0],\n",
       " [0, 0, 0, 0, 0, 0, 0, 0, 0, 0, 0, 0, 0],\n",
       " [0, 0, 0, 0, 0, 0, 0, 0, 0, 0, 0, 0, 0],\n",
       " [0, 0, 0, 0, 0, 0, 0, 0, 0, 0, 0, 0, 0],\n",
       " [0, 0, 0, 0, 0, 0, 0, 0, 0, 0, 0, 0, 0],\n",
       " [0, 0, 0, 0, 0, 0, 0, 0, 0, 0, 0, 0, 0],\n",
       " [0, 0, 0, 0, 0, 0, 0, 0, 0, 0, 0, 0, 0],\n",
       " [0, 0, 0, 0, 0, 0, 0, 0, 0, 0, 0, 0, 0],\n",
       " [0, 0, 0, 0, 0, 0, 0, 0, 0, 0, 0, 0, 0],\n",
       " [0, 0, 0, 0, 0, 0, 0, 0, 0, 0, 0, 0, 0],\n",
       " [0, 0, 0, 0, 0, 0, 0, 0, 0, 0, 0, 0, 0],\n",
       " [0, 0, 0, 0, 0, 0, 0, 0, 0, 0, 0, 0, 0],\n",
       " [0, 0, 0, 0, 0, 0, 0, 0, 0, 0, 0, 0, 0],\n",
       " [0, 0, 0, 0, 0, 0, 0, 0, 0, 0, 0, 0, 0],\n",
       " [0, 0, 0, 0, 0, 0, 0, 0, 0, 0, 0, 0, 0],\n",
       " [0, 0, 0, 0, 0, 0, 0, 0, 0, 0, 0, 0, 0],\n",
       " [0, 0, 0, 0, 0, 0, 0, 0, 0, 0, 0, 0, 0],\n",
       " [0, 0, 0, 0, 0, 0, 0, 0, 0, 0, 0, 0, 0],\n",
       " [0, 0, 0, 0, 0, 0, 0, 0, 0, 0, 0, 0, 0],\n",
       " [0, 0, 0, 0, 0, 0, 0, 0, 0, 0, 0, 0, 0],\n",
       " [0, 0, 0, 0, 0, 0, 0, 0, 0, 0, 0, 0, 0],\n",
       " [0, 0, 0, 0, 0, 0, 0, 0, 0, 0, 0, 0, 0],\n",
       " [0, 0, 0, 0, 0, 0, 0, 0, 0, 0, 0, 0, 0],\n",
       " [0, 0, 0, 0, 0, 0, 0, 0, 0, 0, 0, 0, 0],\n",
       " [0, 0, 0, 0, 0, 0, 0, 0, 0, 0, 0, 0, 0],\n",
       " [0, 0, 0, 0, 0, 0, 0, 0, 0, 0, 0, 0, 0],\n",
       " [0, 0, 0, 0, 0, 0, 0, 0, 0, 0, 0, 0, 0],\n",
       " [0, 0, 0, 0, 0, 0, 0, 0, 0, 0, 0, 0, 0],\n",
       " [0, 0, 0, 0, 0, 0, 0, 0, 0, 0, 0, 0, 0],\n",
       " [0, 0, 0, 0, 0, 0, 0, 0, 0, 0, 0, 0, 0],\n",
       " [0, 0, 0, 0, 0, 0, 0, 0, 0, 0, 0, 0, 0],\n",
       " [0, 0, 0, 0, 0, 0, 0, 0, 0, 0, 0, 0, 0],\n",
       " [0, 0, 0, 0, 0, 0, 0, 0, 0, 0, 0, 0, 0],\n",
       " [0, 0, 0, 0, 0, 0, 0, 0, 0, 0, 0, 0, 0],\n",
       " [0, 0, 0, 0, 0, 0, 0, 0, 0, 0, 0, 0, 0],\n",
       " [0, 0, 0, 0, 0, 0, 0, 0, 0, 0, 0, 0, 0],\n",
       " [0, 0, 0, 0, 0, 0, 0, 0, 0, 0, 0, 0, 0],\n",
       " [0, 0, 0, 0, 0, 0, 0, 0, 0, 0, 0, 0, 0],\n",
       " [0, 0, 0, 0, 0, 0, 0, 0, 0, 0, 0, 0, 0],\n",
       " [0, 0, 0, 0, 0, 0, 0, 0, 0, 0, 0, 0, 0],\n",
       " [0, 0, 0, 0, 0, 0, 0, 0, 0, 0, 0, 0, 0],\n",
       " [0, 0, 0, 0, 0, 0, 0, 0, 0, 0, 0, 0, 0],\n",
       " [0, 0, 0, 0, 0, 0, 0, 0, 0, 0, 0, 0, 0],\n",
       " [0, 0, 0, 0, 0, 0, 0, 0, 0, 0, 0, 0, 0],\n",
       " [0, 0, 0, 0, 0, 0, 0, 0, 0, 0, 0, 0, 0],\n",
       " [0, 0, 0, 0, 0, 0, 0, 0, 0, 0, 0, 0, 0],\n",
       " [0, 0, 0, 0, 0, 0, 0, 0, 0, 0, 0, 0, 0],\n",
       " [0, 0, 0, 0, 0, 0, 0, 0, 0, 0, 0, 0, 0],\n",
       " [0, 0, 0, 0, 0, 0, 0, 0, 0, 0, 0, 0, 0],\n",
       " [0, 0, 0, 0, 0, 0, 0, 0, 0, 0, 0, 0, 0],\n",
       " [0, 0, 0, 0, 0, 0, 0, 0, 0, 0, 0, 0, 0],\n",
       " [0, 0, 0, 0, 0, 0, 0, 0, 0, 0, 0, 0, 0],\n",
       " [0, 0, 0, 0, 0, 0, 0, 0, 0, 0, 0, 0, 0],\n",
       " [0, 0, 0, 0, 0, 0, 0, 0, 0, 0, 0, 0, 0],\n",
       " [0, 0, 0, 0, 0, 0, 0, 0, 0, 0, 0, 0, 0],\n",
       " [0, 0, 0, 0, 0, 0, 0, 0, 0, 0, 0, 0, 0],\n",
       " [0, 0, 0, 0, 0, 0, 0, 0, 0, 0, 0, 0, 0],\n",
       " [0, 0, 0, 0, 0, 0, 0, 0, 0, 0, 0, 0, 0],\n",
       " [0, 0, 0, 0, 0, 0, 0, 0, 0, 0, 0, 0, 0],\n",
       " [0, 0, 0, 0, 0, 0, 0, 0, 0, 0, 0, 0, 0],\n",
       " [0, 0, 0, 0, 0, 0, 0, 0, 0, 0, 0, 0, 0],\n",
       " [0, 0, 0, 0, 0, 0, 0, 0, 0, 0, 0, 0, 0],\n",
       " [0, 0, 0, 0, 0, 0, 0, 0, 0, 0, 0, 0, 0],\n",
       " [0, 0, 0, 0, 0, 0, 0, 0, 0, 0, 0, 0, 0],\n",
       " [0, 0, 0, 0, 0, 0, 0, 0, 0, 0, 0, 0, 0],\n",
       " [0, 0, 0, 0, 0, 0, 0, 0, 0, 0, 0, 0, 0],\n",
       " [0, 0, 0, 0, 0, 0, 0, 0, 0, 0, 0, 0, 0],\n",
       " [0, 0, 0, 0, 0, 0, 0, 0, 0, 0, 0, 0, 0],\n",
       " [0, 0, 0, 0, 0, 0, 0, 0, 0, 0, 0, 0, 0],\n",
       " [0, 0, 0, 0, 0, 0, 0, 0, 0, 0, 0, 0, 0],\n",
       " [0, 0, 0, 0, 0, 0, 0, 0, 0, 0, 0, 0, 0],\n",
       " [0, 0, 0, 0, 0, 0, 0, 0, 0, 0, 0, 0, 0],\n",
       " [0, 0, 0, 0, 0, 0, 0, 0, 0, 0, 0, 0, 0],\n",
       " [0, 0, 0, 0, 0, 0, 0, 0, 0, 0, 0, 0, 0],\n",
       " [0, 0, 0, 0, 0, 0, 0, 0, 0, 0, 0, 0, 0],\n",
       " [0, 0, 0, 0, 0, 0, 0, 0, 0, 0, 0, 0, 0],\n",
       " [0, 0, 0, 0, 0, 0, 0, 0, 0, 0, 0, 0, 0],\n",
       " [0, 0, 0, 0, 0, 0, 0, 0, 0, 0, 0, 0, 0],\n",
       " [0, 0, 0, 0, 0, 0, 0, 0, 0, 0, 0, 0, 0],\n",
       " [0, 0, 0, 0, 0, 0, 0, 0, 0, 0, 0, 0, 0],\n",
       " [0, 0, 0, 0, 0, 0, 0, 0, 0, 0, 0, 0, 0],\n",
       " [0, 0, 0, 0, 0, 0, 0, 0, 0, 0, 0, 0, 0],\n",
       " [0, 0, 0, 0, 0, 0, 0, 0, 0, 0, 0, 0, 0],\n",
       " [0, 0, 0, 0, 0, 0, 0, 0, 0, 0, 0, 0, 0],\n",
       " [0, 0, 0, 0, 0, 0, 0, 0, 0, 0, 0, 0, 0],\n",
       " [0, 0, 0, 0, 0, 0, 0, 0, 0, 0, 0, 0, 0],\n",
       " [0, 0, 0, 0, 0, 0, 0, 0, 0, 0, 0, 0, 0],\n",
       " [0, 0, 0, 0, 0, 0, 0, 0, 0, 0, 0, 0, 0],\n",
       " [0, 0, 0, 0, 0, 0, 0, 0, 0, 0, 0, 0, 0],\n",
       " [0, 0, 0, 0, 0, 0, 0, 0, 0, 0, 0, 0, 0],\n",
       " [0, 0, 0, 0, 0, 0, 0, 0, 0, 0, 0, 0, 0],\n",
       " [0, 0, 0, 0, 0, 0, 0, 0, 0, 0, 0, 0, 0],\n",
       " [0, 0, 0, 0, 0, 0, 0, 0, 0, 0, 0, 0, 0],\n",
       " [0, 0, 0, 0, 0, 0, 0, 0, 0, 0, 0, 0, 0],\n",
       " [0, 0, 0, 0, 0, 0, 0, 0, 0, 0, 0, 0, 0],\n",
       " [0, 0, 0, 0, 0, 0, 0, 0, 0, 0, 0, 0, 0],\n",
       " [0, 0, 0, 0, 0, 0, 0, 0, 0, 0, 0, 0, 0],\n",
       " [0, 0, 0, 0, 0, 0, 0, 0, 0, 0, 0, 0, 0],\n",
       " [0, 0, 0, 0, 0, 0, 0, 0, 0, 0, 0, 0, 0],\n",
       " [0, 0, 0, 0, 0, 0, 0, 0, 0, 0, 0, 0, 0],\n",
       " [0, 0, 0, 0, 0, 0, 0, 0, 0, 0, 0, 0, 0],\n",
       " [0, 0, 0, 0, 0, 0, 0, 0, 0, 0, 0, 0, 0],\n",
       " [0, 0, 0, 0, 0, 0, 0, 0, 0, 0, 0, 0, 0],\n",
       " [0, 0, 0, 0, 0, 0, 0, 0, 0, 0, 0, 0, 0],\n",
       " [0, 0, 0, 0, 0, 0, 0, 0, 0, 0, 0, 0, 0],\n",
       " [0, 0, 0, 0, 0, 0, 0, 0, 0, 0, 0, 0, 0],\n",
       " [0, 0, 0, 0, 0, 0, 0, 0, 0, 0, 0, 0, 0],\n",
       " [0, 0, 0, 0, 0, 0, 0, 0, 0, 0, 0, 0, 0],\n",
       " [0, 0, 0, 0, 0, 0, 0, 0, 0, 0, 0, 0, 0],\n",
       " [0, 0, 0, 0, 0, 0, 0, 0, 0, 0, 0, 0, 0],\n",
       " [0, 0, 0, 0, 0, 0, 0, 0, 0, 0, 0, 0, 0],\n",
       " [0, 0, 0, 0, 0, 0, 0, 0, 0, 0, 0, 0, 0],\n",
       " [0, 0, 0, 0, 0, 0, 0, 0, 0, 0, 0, 0, 0],\n",
       " [0, 0, 0, 0, 0, 0, 0, 0, 0, 0, 0, 0, 0],\n",
       " [0, 0, 0, 0, 0, 0, 0, 0, 0, 0, 0, 0, 0],\n",
       " [0, 0, 0, 0, 0, 0, 0, 0, 0, 0, 0, 0, 0],\n",
       " [0, 0, 0, 0, 0, 0, 0, 0, 0, 0, 0, 0, 0],\n",
       " [0, 0, 0, 0, 0, 0, 0, 0, 0, 0, 0, 0, 0],\n",
       " [0, 0, 0, 0, 0, 0, 0, 0, 0, 0, 0, 0, 0],\n",
       " [0, 0, 0, 0, 0, 0, 0, 0, 0, 0, 0, 0, 0],\n",
       " [0, 0, 0, 0, 0, 0, 0, 0, 0, 0, 0, 0, 0],\n",
       " [0, 0, 0, 0, 0, 0, 0, 0, 0, 0, 0, 0, 0],\n",
       " [0, 0, 0, 0, 0, 0, 0, 0, 0, 0, 0, 0, 0],\n",
       " [0, 0, 0, 0, 0, 0, 0, 0, 0, 0, 0, 0, 0],\n",
       " [0, 0, 0, 0, 0, 0, 0, 0, 0, 0, 0, 0, 0],\n",
       " [0, 0, 0, 0, 0, 0, 0, 0, 0, 0, 0, 0, 0],\n",
       " [0, 0, 0, 0, 0, 0, 0, 0, 0, 0, 0, 0, 0],\n",
       " [0, 0, 0, 0, 0, 0, 0, 0, 0, 0, 0, 0, 0],\n",
       " [0, 0, 0, 0, 0, 0, 0, 0, 0, 0, 0, 0, 0],\n",
       " [0, 0, 0, 0, 0, 0, 0, 0, 0, 0, 0, 0, 0],\n",
       " [0, 0, 0, 0, 0, 0, 0, 0, 0, 0, 0, 0, 0],\n",
       " [0, 0, 0, 0, 0, 0, 0, 0, 0, 0, 0, 0, 0],\n",
       " [0, 0, 0, 0, 0, 0, 0, 0, 0, 0, 0, 0, 0],\n",
       " [0, 0, 0, 0, 0, 0, 0, 0, 0, 0, 0, 0, 0],\n",
       " [0, 0, 0, 0, 0, 0, 0, 0, 0, 0, 0, 0, 0],\n",
       " [0, 0, 0, 0, 0, 0, 0, 0, 0, 0, 0, 0, 0],\n",
       " [0, 0, 0, 0, 0, 0, 0, 0, 0, 0, 0, 0, 0],\n",
       " [0, 0, 0, 0, 0, 0, 0, 0, 0, 0, 0, 0, 0],\n",
       " [0, 0, 0, 0, 0, 0, 0, 0, 0, 0, 0, 0, 0],\n",
       " [0, 0, 0, 0, 0, 0, 0, 0, 0, 0, 0, 0, 0],\n",
       " [0, 0, 0, 0, 0, 0, 0, 0, 0, 0, 0, 0, 0],\n",
       " [0, 0, 0, 0, 0, 0, 0, 0, 0, 0, 0, 0, 0],\n",
       " [0, 0, 0, 0, 0, 0, 0, 0, 0, 0, 0, 0, 0],\n",
       " [0, 0, 0, 0, 0, 0, 0, 0, 0, 0, 0, 0, 0],\n",
       " [0, 0, 0, 0, 0, 0, 0, 0, 0, 0, 0, 0, 0],\n",
       " [0, 0, 0, 0, 0, 0, 0, 0, 0, 0, 0, 0, 0],\n",
       " [0, 0, 0, 0, 0, 0, 0, 0, 0, 0, 0, 0, 0],\n",
       " [0, 0, 0, 0, 0, 0, 0, 0, 0, 0, 0, 0, 0],\n",
       " [0, 0, 0, 0, 0, 0, 0, 0, 0, 0, 0, 0, 0],\n",
       " [0, 0, 0, 0, 0, 0, 0, 0, 0, 0, 0, 0, 0],\n",
       " [0, 0, 0, 0, 0, 0, 0, 0, 0, 0, 0, 0, 0],\n",
       " [0, 0, 0, 0, 0, 0, 0, 0, 0, 0, 0, 0, 0],\n",
       " [0, 0, 0, 0, 0, 0, 0, 0, 0, 0, 0, 0, 0],\n",
       " [0, 0, 0, 0, 0, 0, 0, 0, 0, 0, 0, 0, 0],\n",
       " [0, 0, 0, 0, 0, 0, 0, 0, 0, 0, 0, 0, 0],\n",
       " [0, 0, 0, 0, 0, 0, 0, 0, 0, 0, 0, 0, 0],\n",
       " [0, 0, 0, 0, 0, 0, 0, 0, 0, 0, 0, 0, 0],\n",
       " [0, 0, 0, 0, 0, 0, 0, 0, 0, 0, 0, 0, 0],\n",
       " [0, 0, 0, 0, 0, 0, 0, 0, 0, 0, 0, 0, 0],\n",
       " [0, 0, 0, 0, 0, 0, 0, 0, 0, 0, 0, 0, 0],\n",
       " [0, 0, 0, 0, 0, 0, 0, 0, 0, 0, 0, 0, 0],\n",
       " [0, 0, 0, 0, 0, 0, 0, 0, 0, 0, 0, 0, 0],\n",
       " [0, 0, 0, 0, 0, 0, 0, 0, 0, 0, 0, 0, 0],\n",
       " [0, 0, 0, 0, 0, 0, 0, 0, 0, 0, 0, 0, 0],\n",
       " [0, 0, 0, 0, 0, 0, 0, 0, 0, 0, 0, 0, 0],\n",
       " [0, 0, 0, 0, 0, 0, 0, 0, 0, 0, 0, 0, 0],\n",
       " [0, 0, 0, 0, 0, 0, 0, 0, 0, 0, 0, 0, 0],\n",
       " [0, 0, 0, 0, 0, 0, 0, 0, 0, 0, 0, 0, 0],\n",
       " [0, 0, 0, 0, 0, 0, 0, 0, 0, 0, 0, 0, 0],\n",
       " [0, 0, 0, 0, 0, 0, 0, 0, 0, 0, 0, 0, 0],\n",
       " [0, 0, 0, 0, 0, 0, 0, 0, 0, 0, 0, 0, 0],\n",
       " [0, 0, 0, 0, 0, 0, 0, 0, 0, 0, 0, 0, 0],\n",
       " [0, 0, 0, 0, 0, 0, 0, 0, 0, 0, 0, 0, 0],\n",
       " [0, 0, 0, 0, 0, 0, 0, 0, 0, 0, 0, 0, 0],\n",
       " [0, 0, 0, 0, 0, 0, 0, 0, 0, 0, 0, 0, 0],\n",
       " [0, 0, 0, 0, 0, 0, 0, 0, 0, 0, 0, 0, 0],\n",
       " [0, 0, 0, 0, 0, 0, 0, 0, 0, 0, 0, 0, 0],\n",
       " [0, 0, 0, 0, 0, 0, 0, 0, 0, 0, 0, 0, 0],\n",
       " [0, 0, 0, 0, 0, 0, 0, 0, 0, 0, 0, 0, 0],\n",
       " [0, 0, 0, 0, 0, 0, 0, 0, 0, 0, 0, 0, 0],\n",
       " [0, 0, 0, 0, 0, 0, 0, 0, 0, 0, 0, 0, 0],\n",
       " [0, 0, 0, 0, 0, 0, 0, 0, 0, 0, 0, 0, 0],\n",
       " [0, 0, 0, 0, 0, 0, 0, 0, 0, 0, 0, 0, 0],\n",
       " [0, 0, 0, 0, 0, 0, 0, 0, 0, 0, 0, 0, 0],\n",
       " [0, 0, 0, 0, 0, 0, 0, 0, 0, 0, 0, 0, 0],\n",
       " [0, 0, 0, 0, 0, 0, 0, 0, 0, 0, 0, 0, 0],\n",
       " [0, 0, 0, 0, 0, 0, 0, 0, 0, 0, 0, 0, 0],\n",
       " [0, 0, 0, 0, 0, 0, 0, 0, 0, 0, 0, 0, 0],\n",
       " [0, 0, 0, 0, 0, 0, 0, 0, 0, 0, 0, 0, 0],\n",
       " [0, 0, 0, 0, 0, 0, 0, 0, 0, 0, 0, 0, 0],\n",
       " [0, 0, 0, 0, 0, 0, 0, 0, 0, 0, 0, 0, 0],\n",
       " [0, 0, 0, 0, 0, 0, 0, 0, 0, 0, 0, 0, 0],\n",
       " [0, 0, 0, 0, 0, 0, 0, 0, 0, 0, 0, 0, 0],\n",
       " [0, 0, 0, 0, 0, 0, 0, 0, 0, 0, 0, 0, 0],\n",
       " [0, 0, 0, 0, 0, 0, 0, 0, 0, 0, 0, 0, 0],\n",
       " [0, 0, 0, 0, 0, 0, 0, 0, 0, 0, 0, 0, 0],\n",
       " [0, 0, 0, 0, 0, 0, 0, 0, 0, 0, 0, 0, 0],\n",
       " [0, 0, 0, 0, 0, 0, 0, 0, 0, 0, 0, 0, 0],\n",
       " [0, 0, 0, 0, 0, 0, 0, 0, 0, 0, 0, 0, 0],\n",
       " [0, 0, 0, 0, 0, 0, 0, 0, 0, 0, 0, 0, 0],\n",
       " [0, 0, 0, 0, 0, 0, 0, 0, 0, 0, 0, 0, 0],\n",
       " [0, 0, 0, 0, 0, 0, 0, 0, 0, 0, 0, 0, 0],\n",
       " [0, 0, 0, 0, 0, 0, 0, 0, 0, 0, 0, 0, 0],\n",
       " [0, 0, 0, 0, 0, 0, 0, 0, 0, 0, 0, 0, 0],\n",
       " [0, 0, 0, 0, 0, 0, 0, 0, 0, 0, 0, 0, 0],\n",
       " [0, 0, 0, 0, 0, 0, 0, 0, 0, 0, 0, 0, 0],\n",
       " [0, 0, 0, 0, 0, 0, 0, 0, 0, 0, 0, 0, 0],\n",
       " [0, 0, 0, 0, 0, 0, 0, 0, 0, 0, 0, 0, 0],\n",
       " [0, 0, 0, 0, 0, 0, 0, 0, 0, 0, 0, 0, 0],\n",
       " [0, 0, 0, 0, 0, 0, 0, 0, 0, 0, 0, 0, 0],\n",
       " [0, 0, 0, 0, 0, 0, 0, 0, 0, 0, 0, 0, 0],\n",
       " [0, 0, 0, 0, 0, 0, 0, 0, 0, 0, 0, 0, 0],\n",
       " [0, 0, 0, 0, 0, 0, 0, 0, 0, 0, 0, 0, 0],\n",
       " [0, 0, 0, 0, 0, 0, 0, 0, 0, 0, 0, 0, 0],\n",
       " [0, 0, 0, 0, 0, 0, 0, 0, 0, 0, 0, 0, 0],\n",
       " [0, 0, 0, 0, 0, 0, 0, 0, 0, 0, 0, 0, 0],\n",
       " [0, 0, 0, 0, 0, 0, 0, 0, 0, 0, 0, 0, 0],\n",
       " [0, 0, 0, 0, 0, 0, 0, 0, 0, 0, 0, 0, 0],\n",
       " [0, 0, 0, 0, 0, 0, 0, 0, 0, 0, 0, 0, 0],\n",
       " [0, 0, 0, 0, 0, 0, 0, 0, 0, 0, 0, 0, 0],\n",
       " [0, 0, 0, 0, 0, 0, 0, 0, 0, 0, 0, 0, 0],\n",
       " [0, 0, 0, 0, 0, 0, 0, 0, 0, 0, 0, 0, 0],\n",
       " [0, 0, 0, 0, 0, 0, 0, 0, 0, 0, 0, 0, 0],\n",
       " [0, 0, 0, 0, 0, 0, 0, 0, 0, 0, 0, 0, 0],\n",
       " [0, 0, 0, 0, 0, 0, 0, 0, 0, 0, 0, 0, 0],\n",
       " [0, 0, 0, 0, 0, 0, 0, 0, 0, 0, 0, 0, 0],\n",
       " [0, 0, 0, 0, 0, 0, 0, 0, 0, 0, 0, 0, 0],\n",
       " [0, 0, 0, 0, 0, 0, 0, 0, 0, 0, 0, 0, 0],\n",
       " [0, 0, 0, 0, 0, 0, 0, 0, 0, 0, 0, 0, 0],\n",
       " [0, 0, 0, 0, 0, 0, 0, 0, 0, 0, 0, 0, 0],\n",
       " [0, 0, 0, 0, 0, 0, 0, 0, 0, 0, 0, 0, 0],\n",
       " [0, 0, 0, 0, 0, 0, 0, 0, 0, 0, 0, 0, 0],\n",
       " [0, 0, 0, 0, 0, 0, 0, 0, 0, 0, 0, 0, 0],\n",
       " [0, 0, 0, 0, 0, 0, 0, 0, 0, 0, 0, 0, 0],\n",
       " [0, 0, 0, 0, 0, 0, 0, 0, 0, 0, 0, 0, 0],\n",
       " [0, 0, 0, 0, 0, 0, 0, 0, 0, 0, 0, 0, 0],\n",
       " [0, 0, 0, 0, 0, 0, 0, 0, 0, 0, 0, 0, 0],\n",
       " [0, 0, 0, 0, 0, 0, 0, 0, 0, 0, 0, 0, 0],\n",
       " [0, 0, 0, 0, 0, 0, 0, 0, 0, 0, 0, 0, 0],\n",
       " [0, 0, 0, 0, 0, 0, 0, 0, 0, 0, 0, 0, 0],\n",
       " [0, 0, 0, 0, 0, 0, 0, 0, 0, 0, 0, 0, 0],\n",
       " [0, 0, 0, 0, 0, 0, 0, 0, 0, 0, 0, 0, 0],\n",
       " [0, 0, 0, 0, 0, 0, 0, 0, 0, 0, 0, 0, 0],\n",
       " [0, 0, 0, 0, 0, 0, 0, 0, 0, 0, 0, 0, 0],\n",
       " [0, 0, 0, 0, 0, 0, 0, 0, 0, 0, 0, 0, 0],\n",
       " [0, 0, 0, 0, 0, 0, 0, 0, 0, 0, 0, 0, 0],\n",
       " [0, 0, 0, 0, 0, 0, 0, 0, 0, 0, 0, 0, 0],\n",
       " [0, 0, 0, 0, 0, 0, 0, 0, 0, 0, 0, 0, 0],\n",
       " [0, 0, 0, 0, 0, 0, 0, 0, 0, 0, 0, 0, 0],\n",
       " [0, 0, 0, 0, 0, 0, 0, 0, 0, 0, 0, 0, 0],\n",
       " [0, 0, 0, 0, 0, 0, 0, 0, 0, 0, 0, 0, 0],\n",
       " [0, 0, 0, 0, 0, 0, 0, 0, 0, 0, 0, 0, 0],\n",
       " [0, 0, 0, 0, 0, 0, 0, 0, 0, 0, 0, 0, 0],\n",
       " [0, 0, 0, 0, 0, 0, 0, 0, 0, 0, 0, 0, 0],\n",
       " [0, 0, 0, 0, 0, 0, 0, 0, 0, 0, 0, 0, 0],\n",
       " [0, 0, 0, 0, 0, 0, 0, 0, 0, 0, 0, 0, 0],\n",
       " [0, 0, 0, 0, 0, 0, 0, 0, 0, 0, 0, 0, 0],\n",
       " [0, 0, 0, 0, 0, 0, 0, 0, 0, 0, 0, 0, 0],\n",
       " [0, 0, 0, 0, 0, 0, 0, 0, 0, 0, 0, 0, 0],\n",
       " [0, 0, 0, 0, 0, 0, 0, 0, 0, 0, 0, 0, 0],\n",
       " [0, 0, 0, 0, 0, 0, 0, 0, 0, 0, 0, 0, 0],\n",
       " [0, 0, 0, 0, 0, 0, 0, 0, 0, 0, 0, 0, 0],\n",
       " [0, 0, 0, 0, 0, 0, 0, 0, 0, 0, 0, 0, 0],\n",
       " [0, 0, 0, 0, 0, 0, 0, 0, 0, 0, 0, 0, 0],\n",
       " [0, 0, 0, 0, 0, 0, 0, 0, 0, 0, 0, 0, 0],\n",
       " [0, 0, 0, 0, 0, 0, 0, 0, 0, 0, 0, 0, 0],\n",
       " [0, 0, 0, 0, 0, 0, 0, 0, 0, 0, 0, 0, 0],\n",
       " [0, 0, 0, 0, 0, 0, 0, 0, 0, 0, 0, 0, 0],\n",
       " [0, 0, 0, 0, 0, 0, 0, 0, 0, 0, 0, 0, 0],\n",
       " [0, 0, 0, 0, 0, 0, 0, 0, 0, 0, 0, 0, 0],\n",
       " [0, 0, 0, 0, 0, 0, 0, 0, 0, 0, 0, 0, 0],\n",
       " [0, 0, 0, 0, 0, 0, 0, 0, 0, 0, 0, 0, 0],\n",
       " [0, 0, 0, 0, 0, 0, 0, 0, 0, 0, 0, 0, 0],\n",
       " [0, 0, 0, 0, 0, 0, 0, 0, 0, 0, 0, 0, 0],\n",
       " [0, 0, 0, 0, 0, 0, 0, 0, 0, 0, 0, 0, 0],\n",
       " [0, 0, 0, 0, 0, 0, 0, 0, 0, 0, 0, 0, 0],\n",
       " [0, 0, 0, 0, 0, 0, 0, 0, 0, 0, 0, 0, 0],\n",
       " [0, 0, 0, 0, 0, 0, 0, 0, 0, 0, 0, 0, 0],\n",
       " [0, 0, 0, 0, 0, 0, 0, 0, 0, 0, 0, 0, 0],\n",
       " [0, 0, 0, 0, 0, 0, 0, 0, 0, 0, 0, 0, 0],\n",
       " [0, 0, 0, 0, 0, 0, 0, 0, 0, 0, 0, 0, 0],\n",
       " [0, 0, 0, 0, 0, 0, 0, 0, 0, 0, 0, 0, 0],\n",
       " [0, 0, 0, 0, 0, 0, 0, 0, 0, 0, 0, 0, 0],\n",
       " [0, 0, 0, 0, 0, 0, 0, 0, 0, 0, 0, 0, 0],\n",
       " [0, 0, 0, 0, 0, 0, 0, 0, 0, 0, 0, 0, 0],\n",
       " [0, 0, 0, 0, 0, 0, 0, 0, 0, 0, 0, 0, 0],\n",
       " [0, 0, 0, 0, 0, 0, 0, 0, 0, 0, 0, 0, 0],\n",
       " [0, 0, 0, 0, 0, 0, 0, 0, 0, 0, 0, 0, 0],\n",
       " [0, 0, 0, 0, 0, 0, 0, 0, 0, 0, 0, 0, 0],\n",
       " [0, 0, 0, 0, 0, 0, 0, 0, 0, 0, 0, 0, 0],\n",
       " [0, 0, 0, 0, 0, 0, 0, 0, 0, 0, 0, 0, 0],\n",
       " [0, 0, 0, 0, 0, 0, 0, 0, 0, 0, 0, 0, 0],\n",
       " [0, 0, 0, 0, 0, 0, 0, 0, 0, 0, 0, 0, 0],\n",
       " [0, 0, 0, 0, 0, 0, 0, 0, 0, 0, 0, 0, 0],\n",
       " [0, 0, 0, 0, 0, 0, 0, 0, 0, 0, 0, 0, 0],\n",
       " [0, 0, 0, 0, 0, 0, 0, 0, 0, 0, 0, 0, 0],\n",
       " [0, 0, 0, 0, 0, 0, 0, 0, 0, 0, 0, 0, 0],\n",
       " [0, 0, 0, 0, 0, 0, 0, 0, 0, 0, 0, 0, 0],\n",
       " [0, 0, 0, 0, 0, 0, 0, 0, 0, 0, 0, 0, 0],\n",
       " [0, 0, 0, 0, 0, 0, 0, 0, 0, 0, 0, 0, 0],\n",
       " [0, 0, 0, 0, 0, 0, 0, 0, 0, 0, 0, 0, 0],\n",
       " [0, 0, 0, 0, 0, 0, 0, 0, 0, 0, 0, 0, 0],\n",
       " [0, 0, 0, 0, 0, 0, 0, 0, 0, 0, 0, 0, 0],\n",
       " [0, 0, 0, 0, 0, 0, 0, 0, 0, 0, 0, 0, 0],\n",
       " [0, 0, 0, 0, 0, 0, 0, 0, 0, 0, 0, 0, 0],\n",
       " [0, 0, 0, 0, 0, 0, 0, 0, 0, 0, 0, 0, 0],\n",
       " [0, 0, 0, 0, 0, 0, 0, 0, 0, 0, 0, 0, 0],\n",
       " [0, 0, 0, 0, 0, 0, 0, 0, 0, 0, 0, 0, 0],\n",
       " [0, 0, 0, 0, 0, 0, 0, 0, 0, 0, 0, 0, 0],\n",
       " [0, 0, 0, 0, 0, 0, 0, 0, 0, 0, 0, 0, 0],\n",
       " [0, 0, 0, 0, 0, 0, 0, 0, 0, 0, 0, 0, 0],\n",
       " [0, 0, 0, 0, 0, 0, 0, 0, 0, 0, 0, 0, 0],\n",
       " [0, 0, 0, 0, 0, 0, 0, 0, 0, 0, 0, 0, 0],\n",
       " [0, 0, 0, 0, 0, 0, 0, 0, 0, 0, 0, 0, 0],\n",
       " [0, 0, 0, 0, 0, 0, 0, 0, 0, 0, 0, 0, 0],\n",
       " [0, 0, 0, 0, 0, 0, 0, 0, 0, 0, 0, 0, 0],\n",
       " [0, 0, 0, 0, 0, 0, 0, 0, 0, 0, 0, 0, 0],\n",
       " [0, 0, 0, 0, 0, 0, 0, 0, 0, 0, 0, 0, 0],\n",
       " [0, 0, 0, 0, 0, 0, 0, 0, 0, 0, 0, 0, 0],\n",
       " [0, 0, 0, 0, 0, 0, 0, 0, 0, 0, 0, 0, 0],\n",
       " [0, 0, 0, 0, 0, 0, 0, 0, 0, 0, 0, 0, 0],\n",
       " [0, 0, 0, 0, 0, 0, 0, 0, 0, 0, 0, 0, 0],\n",
       " [0, 0, 0, 0, 0, 0, 0, 0, 0, 0, 0, 0, 0],\n",
       " [0, 0, 0, 0, 0, 0, 0, 0, 0, 0, 0, 0, 0],\n",
       " [0, 0, 0, 0, 0, 0, 0, 0, 0, 0, 0, 0, 0],\n",
       " [0, 0, 0, 0, 0, 0, 0, 0, 0, 0, 0, 0, 0],\n",
       " [0, 0, 0, 0, 0, 0, 0, 0, 0, 0, 0, 0, 0],\n",
       " [0, 0, 0, 0, 0, 0, 0, 0, 0, 0, 0, 0, 0],\n",
       " [0, 0, 0, 0, 0, 0, 0, 0, 0, 0, 0, 0, 0],\n",
       " [0, 0, 0, 0, 0, 0, 0, 0, 0, 0, 0, 0, 0],\n",
       " [0, 0, 0, 0, 0, 0, 0, 0, 0, 0, 0, 0, 0],\n",
       " [0, 0, 0, 0, 0, 0, 0, 0, 0, 0, 0, 0, 0],\n",
       " [0, 0, 0, 0, 0, 0, 0, 0, 0, 0, 0, 0, 0],\n",
       " [0, 0, 0, 0, 0, 0, 0, 0, 0, 0, 0, 0, 0],\n",
       " [0, 0, 0, 0, 0, 0, 0, 0, 0, 0, 0, 0, 0],\n",
       " [0, 0, 0, 0, 0, 0, 0, 0, 0, 0, 0, 0, 0],\n",
       " [0, 0, 0, 0, 0, 0, 0, 0, 0, 0, 0, 0, 0],\n",
       " [0, 0, 0, 0, 0, 0, 0, 0, 0, 0, 0, 0, 0],\n",
       " [0, 0, 0, 0, 0, 0, 0, 0, 0, 0, 0, 0, 0],\n",
       " [0, 0, 0, 0, 0, 0, 0, 0, 0, 0, 0, 0, 0],\n",
       " [0, 0, 0, 0, 0, 0, 0, 0, 0, 0, 0, 0, 0],\n",
       " [0, 0, 0, 0, 0, 0, 0, 0, 0, 0, 0, 0, 0],\n",
       " [0, 0, 0, 0, 0, 0, 0, 0, 0, 0, 0, 0, 0],\n",
       " [0, 0, 0, 0, 0, 0, 0, 0, 0, 0, 0, 0, 0],\n",
       " [0, 0, 0, 0, 0, 0, 0, 0, 0, 0, 0, 0, 0],\n",
       " [0, 0, 0, 0, 0, 0, 0, 0, 0, 0, 0, 0, 0],\n",
       " [0, 0, 0, 0, 0, 0, 0, 0, 0, 0, 0, 0, 0],\n",
       " [0, 0, 0, 0, 0, 0, 0, 0, 0, 0, 0, 0, 0],\n",
       " [0, 0, 0, 0, 0, 0, 0, 0, 0, 0, 0, 0, 0],\n",
       " [0, 0, 0, 0, 0, 0, 0, 0, 0, 0, 0, 0, 0],\n",
       " [0, 0, 0, 0, 0, 0, 0, 0, 0, 0, 0, 0, 0],\n",
       " [0, 0, 0, 0, 0, 0, 0, 0, 0, 0, 0, 0, 0],\n",
       " [0, 0, 0, 0, 0, 0, 0, 0, 0, 0, 0, 0, 0],\n",
       " [0, 0, 0, 0, 0, 0, 0, 0, 0, 0, 0, 0, 0],\n",
       " [0, 0, 0, 0, 0, 0, 0, 0, 0, 0, 0, 0, 0],\n",
       " [0, 0, 0, 0, 0, 0, 0, 0, 0, 0, 0, 0, 0],\n",
       " [0, 0, 0, 0, 0, 0, 0, 0, 0, 0, 0, 0, 0],\n",
       " [0, 0, 0, 0, 0, 0, 0, 0, 0, 0, 0, 0, 0],\n",
       " [0, 0, 0, 0, 0, 0, 0, 0, 0, 0, 0, 0, 0],\n",
       " [0, 0, 0, 0, 0, 0, 0, 0, 0, 0, 0, 0, 0],\n",
       " [0, 0, 0, 0, 0, 0, 0, 0, 0, 0, 0, 0, 0],\n",
       " [0, 0, 0, 0, 0, 0, 0, 0, 0, 0, 0, 0, 0],\n",
       " [0, 0, 0, 0, 0, 0, 0, 0, 0, 0, 0, 0, 0],\n",
       " [0, 0, 0, 0, 0, 0, 0, 0, 0, 0, 0, 0, 0],\n",
       " [0, 0, 0, 0, 0, 0, 0, 0, 0, 0, 0, 0, 0],\n",
       " [0, 0, 0, 0, 0, 0, 0, 0, 0, 0, 0, 0, 0],\n",
       " [0, 0, 0, 0, 0, 0, 0, 0, 0, 0, 0, 0, 0],\n",
       " [0, 0, 0, 0, 0, 0, 0, 0, 0, 0, 0, 0, 0],\n",
       " [0, 0, 0, 0, 0, 0, 0, 0, 0, 0, 0, 0, 0],\n",
       " [0, 0, 0, 0, 0, 0, 0, 0, 0, 0, 0, 0, 0],\n",
       " [0, 0, 0, 0, 0, 0, 0, 0, 0, 0, 0, 0, 0],\n",
       " [0, 0, 0, 0, 0, 0, 0, 0, 0, 0, 0, 0, 0],\n",
       " [0, 0, 0, 0, 0, 0, 0, 0, 0, 0, 0, 0, 0],\n",
       " [0, 0, 0, 0, 0, 0, 0, 0, 0, 0, 0, 0, 0],\n",
       " [0, 0, 0, 0, 0, 0, 0, 0, 0, 0, 0, 0, 0],\n",
       " [0, 0, 0, 0, 0, 0, 0, 0, 0, 0, 0, 0, 0],\n",
       " [0, 0, 0, 0, 0, 0, 0, 0, 0, 0, 0, 0, 0],\n",
       " [0, 0, 0, 0, 0, 0, 0, 0, 0, 0, 0, 0, 0],\n",
       " [0, 0, 0, 0, 0, 0, 0, 0, 0, 0, 0, 0, 0],\n",
       " [0, 0, 0, 0, 0, 0, 0, 0, 0, 0, 0, 0, 0],\n",
       " [0, 0, 0, 0, 0, 0, 0, 0, 0, 0, 0, 0, 0],\n",
       " [0, 0, 0, 0, 0, 0, 0, 0, 0, 0, 0, 0, 0],\n",
       " [0, 0, 0, 0, 0, 0, 0, 0, 0, 0, 0, 0, 0],\n",
       " [0, 0, 0, 0, 0, 0, 0, 0, 0, 0, 0, 0, 0],\n",
       " [0, 0, 0, 0, 0, 0, 0, 0, 0, 0, 0, 0, 0],\n",
       " [0, 0, 0, 0, 0, 0, 0, 0, 0, 0, 0, 0, 0],\n",
       " [0, 0, 0, 0, 0, 0, 0, 0, 0, 0, 0, 0, 0],\n",
       " [0, 0, 0, 0, 0, 0, 0, 0, 0, 0, 0, 0, 0],\n",
       " [0, 0, 0, 0, 0, 0, 0, 0, 0, 0, 0, 0, 0],\n",
       " [0, 0, 0, 0, 0, 0, 0, 0, 0, 0, 0, 0, 0],\n",
       " [0, 0, 0, 0, 0, 0, 0, 0, 0, 0, 0, 0, 0],\n",
       " [0, 0, 0, 0, 0, 0, 0, 0, 0, 0, 0, 0, 0],\n",
       " [0, 0, 0, 0, 0, 0, 0, 0, 0, 0, 0, 0, 0],\n",
       " [0, 0, 0, 0, 0, 0, 0, 0, 0, 0, 0, 0, 0],\n",
       " [0, 0, 0, 0, 0, 0, 0, 0, 0, 0, 0, 0, 0],\n",
       " [0, 0, 0, 0, 0, 0, 0, 0, 0, 0, 0, 0, 0],\n",
       " [0, 0, 0, 0, 0, 0, 0, 0, 0, 0, 0, 0, 0],\n",
       " [0, 0, 0, 0, 0, 0, 0, 0, 0, 0, 0, 0, 0],\n",
       " [0, 0, 0, 0, 0, 0, 0, 0, 0, 0, 0, 0, 0],\n",
       " [0, 0, 0, 0, 0, 0, 0, 0, 0, 0, 0, 0, 0],\n",
       " [0, 0, 0, 0, 0, 0, 0, 0, 0, 0, 0, 0, 0],\n",
       " [0, 0, 0, 0, 0, 0, 0, 0, 0, 0, 0, 0, 0],\n",
       " [0, 0, 0, 0, 0, 0, 0, 0, 0, 0, 0, 0, 0],\n",
       " [0, 0, 0, 0, 0, 0, 0, 0, 0, 0, 0, 0, 0],\n",
       " [0, 0, 0, 0, 0, 0, 0, 0, 0, 0, 0, 0, 0],\n",
       " [0, 0, 0, 0, 0, 0, 0, 0, 0, 0, 0, 0, 0],\n",
       " [0, 0, 0, 0, 0, 0, 0, 0, 0, 0, 0, 0, 0],\n",
       " [0, 0, 0, 0, 0, 0, 0, 0, 0, 0, 0, 0, 0],\n",
       " [0, 0, 0, 0, 0, 0, 0, 0, 0, 0, 0, 0, 0],\n",
       " [0, 0, 0, 0, 0, 0, 0, 0, 0, 0, 0, 0, 0],\n",
       " [0, 0, 0, 0, 0, 0, 0, 0, 0, 0, 0, 0, 0],\n",
       " [0, 0, 0, 0, 0, 0, 0, 0, 0, 0, 0, 0, 0],\n",
       " [0, 0, 0, 0, 0, 0, 0, 0, 0, 0, 0, 0, 0],\n",
       " [0, 0, 0, 0, 0, 0, 0, 0, 0, 0, 0, 0, 0],\n",
       " [0, 0, 0, 0, 0, 0, 0, 0, 0, 0, 0, 0, 0],\n",
       " [0, 0, 0, 0, 0, 0, 0, 0, 0, 0, 0, 0, 0],\n",
       " [0, 0, 0, 0, 0, 0, 0, 0, 0, 0, 0, 0, 0],\n",
       " [0, 0, 0, 0, 0, 0, 0, 0, 0, 0, 0, 0, 0],\n",
       " [0, 0, 0, 0, 0, 0, 0, 0, 0, 0, 0, 0, 0],\n",
       " [0, 0, 0, 0, 0, 0, 0, 0, 0, 0, 0, 0, 0],\n",
       " [0, 0, 0, 0, 0, 0, 0, 0, 0, 0, 0, 0, 0],\n",
       " [0, 0, 0, 0, 0, 0, 0, 0, 0, 0, 0, 0, 0],\n",
       " [0, 0, 0, 0, 0, 0, 0, 0, 0, 0, 0, 0, 0],\n",
       " [0, 0, 0, 0, 0, 0, 0, 0, 0, 0, 0, 0, 0],\n",
       " [0, 0, 0, 0, 0, 0, 0, 0, 0, 0, 0, 0, 0],\n",
       " [0, 0, 0, 0, 0, 0, 0, 0, 0, 0, 0, 0, 0],\n",
       " [0, 0, 0, 0, 0, 0, 0, 0, 0, 0, 0, 0, 0],\n",
       " [0, 0, 0, 0, 0, 0, 0, 0, 0, 0, 0, 0, 0],\n",
       " [0, 0, 0, 0, 0, 0, 0, 0, 0, 0, 0, 0, 0],\n",
       " [0, 0, 0, 0, 0, 0, 0, 0, 0, 0, 0, 0, 0],\n",
       " [0, 0, 0, 0, 0, 0, 0, 0, 0, 0, 0, 0, 0],\n",
       " [0, 0, 0, 0, 0, 0, 0, 0, 0, 0, 0, 0, 0],\n",
       " [0, 0, 0, 0, 0, 0, 0, 0, 0, 0, 0, 0, 0],\n",
       " [0, 0, 0, 0, 0, 0, 0, 0, 0, 0, 0, 0, 0],\n",
       " [0, 0, 0, 0, 0, 0, 0, 0, 0, 0, 0, 0, 0],\n",
       " [0, 0, 0, 0, 0, 0, 0, 0, 0, 0, 0, 0, 0],\n",
       " [0, 0, 0, 0, 0, 0, 0, 0, 0, 0, 0, 0, 0],\n",
       " [0, 0, 0, 0, 0, 0, 0, 0, 0, 0, 0, 0, 0],\n",
       " [0, 0, 0, 0, 0, 0, 0, 0, 0, 0, 0, 0, 0],\n",
       " [0, 0, 0, 0, 0, 0, 0, 0, 0, 0, 0, 0, 0],\n",
       " [0, 0, 0, 0, 0, 0, 0, 0, 0, 0, 0, 0, 0],\n",
       " [0, 0, 0, 0, 0, 0, 0, 0, 0, 0, 0, 0, 0],\n",
       " [0, 0, 0, 0, 0, 0, 0, 0, 0, 0, 0, 0, 0],\n",
       " [0, 0, 0, 0, 0, 0, 0, 0, 0, 0, 0, 0, 0],\n",
       " [0, 0, 0, 0, 0, 0, 0, 0, 0, 0, 0, 0, 0],\n",
       " [0, 0, 0, 0, 0, 0, 0, 0, 0, 0, 0, 0, 0],\n",
       " [0, 0, 0, 0, 0, 0, 0, 0, 0, 0, 0, 0, 0],\n",
       " [0, 0, 0, 0, 0, 0, 0, 0, 0, 0, 0, 0, 0],\n",
       " [0, 0, 0, 0, 0, 0, 0, 0, 0, 0, 0, 0, 0],\n",
       " [0, 0, 0, 0, 0, 0, 0, 0, 0, 0, 0, 0, 0],\n",
       " [0, 0, 0, 0, 0, 0, 0, 0, 0, 0, 0, 0, 0],\n",
       " [0, 0, 0, 0, 0, 0, 0, 0, 0, 0, 0, 0, 0],\n",
       " [0, 0, 0, 0, 0, 0, 0, 0, 0, 0, 0, 0, 0],\n",
       " [0, 0, 0, 0, 0, 0, 0, 0, 0, 0, 0, 0, 0],\n",
       " [0, 0, 0, 0, 0, 0, 0, 0, 0, 0, 0, 0, 0],\n",
       " [0, 0, 0, 0, 0, 0, 0, 0, 0, 0, 0, 0, 0],\n",
       " [0, 0, 0, 0, 0, 0, 0, 0, 0, 0, 0, 0, 0],\n",
       " [0, 0, 0, 0, 0, 0, 0, 0, 0, 0, 0, 0, 0],\n",
       " [0, 0, 0, 0, 0, 0, 0, 0, 0, 0, 0, 0, 0],\n",
       " [0, 0, 0, 0, 0, 0, 0, 0, 0, 0, 0, 0, 0],\n",
       " [0, 0, 0, 0, 0, 0, 0, 0, 0, 0, 0, 0, 0],\n",
       " [0, 0, 0, 0, 0, 0, 0, 0, 0, 0, 0, 0, 0],\n",
       " [0, 0, 0, 0, 0, 0, 0, 0, 0, 0, 0, 0, 0],\n",
       " [0, 0, 0, 0, 0, 0, 0, 0, 0, 0, 0, 0, 0],\n",
       " [0, 0, 0, 0, 0, 0, 0, 0, 0, 0, 0, 0, 0],\n",
       " [0, 0, 0, 0, 0, 0, 0, 0, 0, 0, 0, 0, 0],\n",
       " [0, 0, 0, 0, 0, 0, 0, 0, 0, 0, 0, 0, 0],\n",
       " [0, 0, 0, 0, 0, 0, 0, 0, 0, 0, 0, 0, 0],\n",
       " [0, 0, 0, 0, 0, 0, 0, 0, 0, 0, 0, 0, 0],\n",
       " [0, 0, 0, 0, 0, 0, 0, 0, 0, 0, 0, 0, 0],\n",
       " ...]"
      ]
     },
     "execution_count": 22,
     "metadata": {},
     "output_type": "execute_result"
    }
   ],
   "source": [
    "length  = len(log)\n",
    "width = len(resources)\n",
    "length,width\n",
    "vectors  = [ [0] * width for _ in range(length)]\n",
    "type(vectors),len(vectors)\n",
    "vectors"
   ]
  },
  {
   "cell_type": "markdown",
   "metadata": {},
   "source": [
    "## Activities Profiling - Updating Vector with the count of occurence of Activities"
   ]
  },
  {
   "cell_type": "code",
   "execution_count": 23,
   "metadata": {},
   "outputs": [],
   "source": [
    "for i in range(len(events)):\n",
    "        for j in range(len(events[i])):\n",
    "                if events[i][j] == resources_array[0]:\n",
    "                    vectors[i][0] += 1\n",
    "                elif events[i][j] == resources_array[1]:\n",
    "                    vectors[i][1] += 1\n",
    "                elif events[i][j] == resources_array[2]:\n",
    "                    vectors[i][2] += 1\n",
    "                elif events[i][j] == resources_array[3]:\n",
    "                    vectors[i][3] += 1\n",
    "                elif events[i][j] == resources_array[4]:\n",
    "                    vectors[i][4] += 1\n",
    "                elif events[i][j] == resources_array[5]:\n",
    "                    vectors[i][5] += 1\n",
    "                elif events[i][j] == resources_array[6]:\n",
    "                    vectors[i][6] += 1\n",
    "                elif events[i][j] == resources_array[7]:\n",
    "                    vectors[i][7] += 1\n",
    "                elif events[i][j] == resources_array[8]:\n",
    "                    vectors[i][8] += 1\n",
    "                elif events[i][j] == resources_array[9]:\n",
    "                    vectors[i][9] += 1\n",
    "                elif events[i][j] == resources_array[10]:\n",
    "                    vectors[i][10] += 1\n",
    "                elif events[i][j] == resources_array[11]:\n",
    "                    vectors[i][11] += 1\n",
    "                elif events[i][j] == resources_array[12]:\n",
    "                    vectors[i][12] += 1"
   ]
  },
  {
   "cell_type": "markdown",
   "metadata": {},
   "source": [
    "### Making ND-Array of the Activity Vector"
   ]
  },
  {
   "cell_type": "code",
   "execution_count": 25,
   "metadata": {},
   "outputs": [
    {
     "data": {
      "text/plain": [
       "array([[3, 2, 1, ..., 0, 0, 0],\n",
       "       [3, 0, 0, ..., 1, 0, 0],\n",
       "       [3, 1, 0, ..., 0, 0, 0],\n",
       "       ...,\n",
       "       [3, 1, 1, ..., 1, 0, 0],\n",
       "       [3, 0, 0, ..., 0, 0, 0],\n",
       "       [4, 2, 0, ..., 0, 0, 0]])"
      ]
     },
     "execution_count": 25,
     "metadata": {},
     "output_type": "execute_result"
    }
   ],
   "source": [
    "np_vectors = np.array(vectors)\n",
    "np_vectors"
   ]
  },
  {
   "cell_type": "markdown",
   "metadata": {},
   "source": [
    "## Elbow Method to find optimal number of clusters"
   ]
  },
  {
   "cell_type": "code",
   "execution_count": 26,
   "metadata": {},
   "outputs": [
    {
     "data": {
      "image/png": "[encoded data removed]",
      "text/plain": [
       "<Figure size 432x288 with 1 Axes>"
      ]
     },
     "metadata": {
      "needs_background": "light"
     },
     "output_type": "display_data"
    }
   ],
   "source": [
    "#  Elbow Method \n",
    "from sklearn.cluster import KMeans\n",
    "within_cluster_sum_of_squares = []\n",
    "\n",
    "for i in range(1, 11):\n",
    "    kmeans = KMeans(n_clusters = i, init = 'k-means++', max_iter = 300, n_init = 10, random_state = 0)\n",
    "    kmeans.fit(np_vectors)\n",
    "    within_cluster_sum_of_squares.append(kmeans.inertia_)\n",
    "    \n",
    "#Plotting the results onto a line graph, allowing us to observe 'The elbow'\n",
    "plt.plot(range(1, 11), within_cluster_sum_of_squares)\n",
    "plt.title('The elbow method')\n",
    "plt.xlabel('Number of clusters')\n",
    "plt.ylabel('within_cluster_sum_of_squares') #within cluster sum of squares\n",
    "plt.show()"
   ]
  },
  {
   "cell_type": "markdown",
   "metadata": {},
   "source": [
    "# KMeans - Euclidean"
   ]
  },
  {
   "cell_type": "code",
   "execution_count": 43,
   "metadata": {},
   "outputs": [
    {
     "data": {
      "text/plain": [
       "array([1, 4, 1, ..., 2, 2, 3], dtype=int32)"
      ]
     },
     "execution_count": 43,
     "metadata": {},
     "output_type": "execute_result"
    }
   ],
   "source": [
    "from sklearn.cluster import KMeans\n",
    "import numpy as np\n",
    "\n",
    "kmeans = KMeans(n_clusters=5, random_state=0).fit(np_vectors)\n",
    "kmeans.labels_\n",
    "clustered  = kmeans.predict(np_vectors)\n",
    "clustered\n"
   ]
  },
  {
   "cell_type": "markdown",
   "metadata": {},
   "source": [
    "## Array of Sizes of clustered Data"
   ]
  },
  {
   "cell_type": "code",
   "execution_count": 44,
   "metadata": {},
   "outputs": [
    {
     "name": "stdout",
     "output_type": "stream",
     "text": [
      "[227 249 191 189 248]\n"
     ]
    }
   ],
   "source": [
    "count_arr = np.bincount(clustered)\n",
    "print(count_arr)\n"
   ]
  },
  {
   "cell_type": "markdown",
   "metadata": {},
   "source": [
    "## Creating Sub Event Logs based on Clustering Output"
   ]
  },
  {
   "cell_type": "code",
   "execution_count": 45,
   "metadata": {},
   "outputs": [],
   "source": [
    "length1  = count_arr[0]\n",
    "length2 = count_arr[1]\n",
    "length3 = count_arr[2]\n",
    "length4 = count_arr[3]\n",
    "length5 = count_arr[4]\n",
    "\n",
    "sub_log1 = EventLog()\n",
    "sub_log2 = EventLog()\n",
    "sub_log3 = EventLog()\n",
    "sub_log4 = EventLog()\n",
    "sub_log5 = EventLog()\n",
    "\n",
    "for i in range(len(clustered)):\n",
    "    if clustered[i] == 0:\n",
    "        sub_log1.append(log[i])\n",
    "    \n",
    "    elif clustered[i] == 1:\n",
    "        sub_log2.append(log[i])\n",
    "        \n",
    "    elif clustered[i] == 2: \n",
    "        sub_log3.append(log[i])\n",
    "\n",
    "    elif clustered[i] == 3:\n",
    "        sub_log4.append(log[i])\n",
    "        \n",
    "    elif clustered[i] == 4: \n",
    "        sub_log5.append(log[i])"
   ]
  },
  {
   "cell_type": "markdown",
   "metadata": {},
   "source": [
    "# Petrinets from Alpha miner on Sub Event Logs"
   ]
  },
  {
   "cell_type": "markdown",
   "metadata": {},
   "source": [
    "## Petrinets from Alpha miner on Sub Event Log1"
   ]
  },
  {
   "cell_type": "code",
   "execution_count": 46,
   "metadata": {},
   "outputs": [
    {
     "data": {
      "image/png": "[encoded data removed]",
      "text/plain": [
       "<IPython.core.display.Image object>"
      ]
     },
     "metadata": {},
     "output_type": "display_data"
    }
   ],
   "source": [
    "\n",
    "## Import the petrinet visualizer object\n",
    "from pm4py.algo.discovery.alpha import algorithm as alpha_miner\n",
    "net, initial_marking, final_marking = alpha_miner.apply(sub_log1)\n",
    "from pm4py.visualization.petrinet import visualizer as pn_visualizer\n",
    "# Visualise \n",
    "gviz = pn_visualizer.apply(net, initial_marking, final_marking) \n",
    "pn_visualizer.view(gviz)"
   ]
  },
  {
   "cell_type": "markdown",
   "metadata": {},
   "source": [
    "## Log Fitness and Precision of SubLog1"
   ]
  },
  {
   "cell_type": "code",
   "execution_count": 47,
   "metadata": {},
   "outputs": [
    {
     "name": "stderr",
     "output_type": "stream",
     "text": [
      "replaying log with TBR, completed variants :: 100%|██████████| 46/46 [00:00<00:00, 947.58it/s]\n",
      "replaying log with TBR, completed variants :: 100%|██████████| 182/182 [00:00<00:00, 1187.18it/s]"
     ]
    },
    {
     "name": "stdout",
     "output_type": "stream",
     "text": [
      "Fitness of Petrinet is:  67.04820519500255 %\n",
      "Precision of Petrinet is:  26.69306277324095 %\n",
      "Simplicity of Petrinet is:  100.0 %\n"
     ]
    },
    {
     "name": "stderr",
     "output_type": "stream",
     "text": [
      "\n"
     ]
    }
   ],
   "source": [
    "from pm4py.algo.discovery.alpha import algorithm as alpha_miner\n",
    "from pm4py.algo.evaluation.replay_fitness import algorithm as replay_fitness_evaluator\n",
    "from pm4py.algo.evaluation.precision import algorithm as precision_evaluator\n",
    "from pm4py.algo.evaluation.simplicity import algorithm as simplicity_evaluator\n",
    "net, im, fm = alpha_miner.apply(sub_log1)\n",
    "fitness = replay_fitness_evaluator.apply(sub_log1, net, im, fm, variant=replay_fitness_evaluator.Variants.TOKEN_BASED)\n",
    "simp = simplicity_evaluator.apply(net)\n",
    "prec = precision_evaluator.apply(sub_log1, net, im, fm, variant=precision_evaluator.Variants.ETCONFORMANCE_TOKEN)\n",
    "print('Fitness of Petrinet is: ', fitness['log_fitness']*100,'%')\n",
    "print('Precision of Petrinet is: ', prec*100,'%')\n",
    "print('Simplicity of Petrinet is: ', simp*100,'%')\n",
    "#prec"
   ]
  },
  {
   "cell_type": "markdown",
   "metadata": {},
   "source": [
    "## Petrinets from Alpha miner on Sub Event Log2"
   ]
  },
  {
   "cell_type": "code",
   "execution_count": 48,
   "metadata": {},
   "outputs": [
    {
     "data": {
      "image/png": "[encoded data removed]",
      "text/plain": [
       "<IPython.core.display.Image object>"
      ]
     },
     "metadata": {},
     "output_type": "display_data"
    }
   ],
   "source": [
    "\n",
    "## Import the petrinet visualizer object\n",
    "from pm4py.algo.discovery.alpha import algorithm as alpha_miner\n",
    "net, initial_marking, final_marking = alpha_miner.apply(sub_log2)\n",
    "from pm4py.visualization.petrinet import visualizer as pn_visualizer\n",
    "# Visualise \n",
    "gviz = pn_visualizer.apply(net, initial_marking, final_marking) \n",
    "pn_visualizer.view(gviz)"
   ]
  },
  {
   "cell_type": "markdown",
   "metadata": {},
   "source": [
    "## Log Fitness and Precision of SubLog2"
   ]
  },
  {
   "cell_type": "code",
   "execution_count": 49,
   "metadata": {},
   "outputs": [
    {
     "name": "stderr",
     "output_type": "stream",
     "text": [
      "replaying log with TBR, completed variants :: 100%|██████████| 45/45 [00:00<00:00, 1083.08it/s]\n",
      "replaying log with TBR, completed variants :: 100%|██████████| 156/156 [00:00<00:00, 842.59it/s]"
     ]
    },
    {
     "name": "stdout",
     "output_type": "stream",
     "text": [
      "Fitness of Petrinet is:  65.94718791019426 %\n",
      "Precision of Petrinet is:  25.060329067641685 %\n",
      "Simplicity of Petrinet is:  100.0 %\n"
     ]
    },
    {
     "name": "stderr",
     "output_type": "stream",
     "text": [
      "\n"
     ]
    }
   ],
   "source": [
    "\n",
    "net, im, fm = alpha_miner.apply(sub_log2)\n",
    "fitness = replay_fitness_evaluator.apply(sub_log2, net, im, fm, variant=replay_fitness_evaluator.Variants.TOKEN_BASED)\n",
    "simp = simplicity_evaluator.apply(net)\n",
    "prec = precision_evaluator.apply(sub_log2, net, im, fm, variant=precision_evaluator.Variants.ETCONFORMANCE_TOKEN)\n",
    "print('Fitness of Petrinet is: ', fitness['log_fitness']*100,'%')\n",
    "print('Precision of Petrinet is: ', prec*100,'%')\n",
    "print('Simplicity of Petrinet is: ', simp*100,'%')\n",
    "#prec"
   ]
  },
  {
   "cell_type": "markdown",
   "metadata": {},
   "source": [
    "## Petrinets from Alpha miner on Sub Event Log3"
   ]
  },
  {
   "cell_type": "code",
   "execution_count": 50,
   "metadata": {},
   "outputs": [
    {
     "data": {
      "image/png": "[encoded data removed]",
      "text/plain": [
       "<IPython.core.display.Image object>"
      ]
     },
     "metadata": {},
     "output_type": "display_data"
    }
   ],
   "source": [
    "\n",
    "## Import the petrinet visualizer object\n",
    "from pm4py.algo.discovery.alpha import algorithm as alpha_miner\n",
    "net, initial_marking, final_marking = alpha_miner.apply(sub_log3)\n",
    "from pm4py.visualization.petrinet import visualizer as pn_visualizer\n",
    "# Visualise \n",
    "gviz = pn_visualizer.apply(net, initial_marking, final_marking) \n",
    "pn_visualizer.view(gviz)"
   ]
  },
  {
   "cell_type": "markdown",
   "metadata": {},
   "source": [
    "## Log Fitness and Precision of Sub event log"
   ]
  },
  {
   "cell_type": "code",
   "execution_count": 51,
   "metadata": {},
   "outputs": [
    {
     "name": "stderr",
     "output_type": "stream",
     "text": [
      "replaying log with TBR, completed variants :: 100%|██████████| 38/38 [00:00<00:00, 904.13it/s]\n",
      "replaying log with TBR, completed variants :: 100%|██████████| 153/153 [00:00<00:00, 1017.99it/s]"
     ]
    },
    {
     "name": "stdout",
     "output_type": "stream",
     "text": [
      "Fitness of Petrinet is:  63.21028268961082 %\n",
      "Precision of Petrinet is:  25.357853825007115 %\n",
      "Simplicity of Petrinet is:  100.0 %\n"
     ]
    },
    {
     "name": "stderr",
     "output_type": "stream",
     "text": [
      "\n"
     ]
    }
   ],
   "source": [
    "net, im, fm = alpha_miner.apply(sub_log3)\n",
    "fitness = replay_fitness_evaluator.apply(sub_log3, net, im, fm, variant=replay_fitness_evaluator.Variants.TOKEN_BASED)\n",
    "simp = simplicity_evaluator.apply(net)\n",
    "prec = precision_evaluator.apply(sub_log3, net, im, fm, variant=precision_evaluator.Variants.ETCONFORMANCE_TOKEN)\n",
    "print('Fitness of Petrinet is: ', fitness['log_fitness']*100,'%')\n",
    "print('Precision of Petrinet is: ', prec*100,'%')\n",
    "print('Simplicity of Petrinet is: ', simp*100,'%')"
   ]
  },
  {
   "cell_type": "markdown",
   "metadata": {},
   "source": [
    "# DB SCAN"
   ]
  },
  {
   "cell_type": "markdown",
   "metadata": {},
   "source": [
    "## Hamming Distance"
   ]
  },
  {
   "cell_type": "code",
   "execution_count": 64,
   "metadata": {},
   "outputs": [
    {
     "data": {
      "text/plain": [
       "array([ 0,  0,  0, ...,  0,  0, -1])"
      ]
     },
     "execution_count": 64,
     "metadata": {},
     "output_type": "execute_result"
    }
   ],
   "source": [
    "from sklearn.cluster import DBSCAN\n",
    "clustering_DB_Hamm = DBSCAN(eps=0.16, min_samples=10, metric ='hamming').fit(np_vectors)\n",
    "\n",
    "\n",
    "clustering_DB_Hamm = clustering_DB_Hamm.fit_predict(np_vectors)\n",
    "clustering_DB_Hamm\n",
    "# clustered = clustering.labels_\n",
    "# clustered\n"
   ]
  },
  {
   "cell_type": "markdown",
   "metadata": {},
   "source": [
    "### Size of Clusters"
   ]
  },
  {
   "cell_type": "code",
   "execution_count": 66,
   "metadata": {},
   "outputs": [],
   "source": [
    "# Removing Negative values by scaling by 1\n",
    "for i in range(len(clustering_DB_Hamm)):\n",
    "    clustering_DB_Hamm[i]=clustering_DB_Hamm[i]+1"
   ]
  },
  {
   "cell_type": "code",
   "execution_count": 67,
   "metadata": {},
   "outputs": [
    {
     "name": "stdout",
     "output_type": "stream",
     "text": [
      "[130 960  14]\n"
     ]
    }
   ],
   "source": [
    "count_arr_DB1 = np.bincount(clustering_DB_Hamm)\n",
    "print(count_arr_DB1)\n"
   ]
  },
  {
   "cell_type": "markdown",
   "metadata": {},
   "source": [
    "## Creating Sub Event Logs based on Clustering Output"
   ]
  },
  {
   "cell_type": "code",
   "execution_count": 68,
   "metadata": {},
   "outputs": [],
   "source": [
    "length1  = count_arr_DB1[0]\n",
    "length2 = count_arr_DB1[1]\n",
    "length3 = count_arr_DB1[2]\n",
    "#length4 = count_arr_DB1[3]\n",
    "\n",
    "sub_log1_DB1 = EventLog()\n",
    "sub_log2_DB1 = EventLog()\n",
    "sub_log3_DB1 = EventLog()\n",
    "#sub_log4_DB1 = EventLog()\n",
    "\n",
    "for i in range(len(clustering_DB_Hamm)):\n",
    "    if clustering_DB_Hamm[i] == 0:\n",
    "        sub_log1_DB1.append(log[i])\n",
    "    \n",
    "    elif clustering_DB_Hamm[i] == 1:\n",
    "        sub_log2_DB1.append(log[i])\n",
    "        \n",
    "    elif clustering_DB_Hamm[i] == 2: \n",
    "        sub_log3_DB1.append(log[i])\n",
    "\n",
    "    # elif clustering_DB_Hamm[i] == 3: \n",
    "    #     sub_log4_DB1.append(log[i])\n",
    "\n",
    " "
   ]
  },
  {
   "cell_type": "markdown",
   "metadata": {},
   "source": [
    "## Petrinets from Alpha miner on Sub Event Logs generated from DB Scan Hamming Distance"
   ]
  },
  {
   "cell_type": "markdown",
   "metadata": {},
   "source": [
    "### Petrinets from Alpha miner on Sub Event Log1"
   ]
  },
  {
   "cell_type": "code",
   "execution_count": 69,
   "metadata": {},
   "outputs": [
    {
     "data": {
      "image/png": "[encoded data removed]",
      "text/plain": [
       "<IPython.core.display.Image object>"
      ]
     },
     "metadata": {},
     "output_type": "display_data"
    }
   ],
   "source": [
    "\n",
    "## Import the petrinet visualizer object\n",
    "from pm4py.algo.discovery.alpha import algorithm as alpha_miner\n",
    "net, initial_marking, final_marking = alpha_miner.apply(sub_log1_DB1)\n",
    "from pm4py.visualization.petrinet import visualizer as pn_visualizer\n",
    "# Visualise \n",
    "gviz = pn_visualizer.apply(net, initial_marking, final_marking) \n",
    "pn_visualizer.view(gviz)"
   ]
  },
  {
   "cell_type": "markdown",
   "metadata": {},
   "source": [
    "## Log Fitness and Precision of SubLog1"
   ]
  },
  {
   "cell_type": "code",
   "execution_count": 70,
   "metadata": {},
   "outputs": [
    {
     "name": "stderr",
     "output_type": "stream",
     "text": [
      "replaying log with TBR, completed variants :: 100%|██████████| 37/37 [00:00<00:00, 999.65it/s]\n",
      "replaying log with TBR, completed variants :: 100%|██████████| 178/178 [00:00<00:00, 873.02it/s]"
     ]
    },
    {
     "name": "stdout",
     "output_type": "stream",
     "text": [
      "Fitness of Petrinet is:  71.42857142857143 %\n",
      "Precision of Petrinet is:  22.941671930932827 %\n",
      "Simplicity of Petrinet is:  100.0 %\n"
     ]
    },
    {
     "name": "stderr",
     "output_type": "stream",
     "text": [
      "\n"
     ]
    }
   ],
   "source": [
    "net, im, fm = alpha_miner.apply(sub_log1_DB1)\n",
    "fitness = replay_fitness_evaluator.apply(sub_log1_DB1, net, im, fm, variant=replay_fitness_evaluator.Variants.TOKEN_BASED)\n",
    "simp = simplicity_evaluator.apply(net)\n",
    "prec = precision_evaluator.apply(sub_log1_DB1, net, im, fm, variant=precision_evaluator.Variants.ETCONFORMANCE_TOKEN)\n",
    "print('Fitness of Petrinet is: ', fitness['log_fitness']*100,'%')\n",
    "print('Precision of Petrinet is: ', prec*100,'%')\n",
    "print('Simplicity of Petrinet is: ', simp*100,'%')"
   ]
  },
  {
   "cell_type": "markdown",
   "metadata": {},
   "source": [
    "## Petrinets from Alpha miner on Sub Event Log2"
   ]
  },
  {
   "cell_type": "code",
   "execution_count": 71,
   "metadata": {},
   "outputs": [
    {
     "data": {
      "image/png": "[encoded data removed]",
      "text/plain": [
       "<IPython.core.display.Image object>"
      ]
     },
     "metadata": {},
     "output_type": "display_data"
    }
   ],
   "source": [
    "\n",
    "## Import the petrinet visualizer object\n",
    "from pm4py.algo.discovery.alpha import algorithm as alpha_miner\n",
    "net, initial_marking, final_marking = alpha_miner.apply(sub_log2_DB1)\n",
    "from pm4py.visualization.petrinet import visualizer as pn_visualizer\n",
    "# Visualise \n",
    "gviz = pn_visualizer.apply(net, initial_marking, final_marking) \n",
    "pn_visualizer.view(gviz)"
   ]
  },
  {
   "cell_type": "markdown",
   "metadata": {},
   "source": [
    "## Log Fitness and Precision of SubLog2"
   ]
  },
  {
   "cell_type": "code",
   "execution_count": 72,
   "metadata": {},
   "outputs": [
    {
     "name": "stderr",
     "output_type": "stream",
     "text": [
      "replaying log with TBR, completed variants :: 100%|██████████| 73/73 [00:00<00:00, 888.90it/s]\n",
      "replaying log with TBR, completed variants :: 100%|██████████| 219/219 [00:00<00:00, 1035.79it/s]"
     ]
    },
    {
     "name": "stdout",
     "output_type": "stream",
     "text": [
      "Fitness of Petrinet is:  63.28291550672325 %\n",
      "Precision of Petrinet is:  26.617499807440502 %\n",
      "Simplicity of Petrinet is:  100.0 %\n"
     ]
    },
    {
     "name": "stderr",
     "output_type": "stream",
     "text": [
      "\n"
     ]
    }
   ],
   "source": [
    "net, im, fm = alpha_miner.apply(sub_log2_DB1)\n",
    "fitness = replay_fitness_evaluator.apply(sub_log2_DB1, net, im, fm, variant=replay_fitness_evaluator.Variants.TOKEN_BASED)\n",
    "simp = simplicity_evaluator.apply(net)\n",
    "prec = precision_evaluator.apply(sub_log2_DB1, net, im, fm, variant=precision_evaluator.Variants.ETCONFORMANCE_TOKEN)\n",
    "print('Fitness of Petrinet is: ', fitness['log_fitness']*100,'%')\n",
    "print('Precision of Petrinet is: ', prec*100,'%')\n",
    "print('Simplicity of Petrinet is: ', simp*100,'%')"
   ]
  },
  {
   "cell_type": "markdown",
   "metadata": {},
   "source": [
    "## Petrinets from Alpha miner on Sub Event Log3"
   ]
  },
  {
   "cell_type": "code",
   "execution_count": 73,
   "metadata": {},
   "outputs": [
    {
     "data": {
      "image/png": "[encoded data removed]",
      "text/plain": [
       "<IPython.core.display.Image object>"
      ]
     },
     "metadata": {},
     "output_type": "display_data"
    }
   ],
   "source": [
    "\n",
    "## Import the petrinet visualizer object\n",
    "from pm4py.algo.discovery.alpha import algorithm as alpha_miner\n",
    "net, initial_marking, final_marking = alpha_miner.apply(sub_log3_DB1)\n",
    "from pm4py.visualization.petrinet import visualizer as pn_visualizer\n",
    "# Visualise \n",
    "gviz = pn_visualizer.apply(net, initial_marking, final_marking) \n",
    "pn_visualizer.view(gviz)"
   ]
  },
  {
   "cell_type": "markdown",
   "metadata": {},
   "source": [
    "## Log Fitness and Precision of Sub Event log 3"
   ]
  },
  {
   "cell_type": "code",
   "execution_count": 74,
   "metadata": {},
   "outputs": [
    {
     "name": "stderr",
     "output_type": "stream",
     "text": [
      "replaying log with TBR, completed variants :: 100%|██████████| 10/10 [00:00<00:00, 649.95it/s]\n",
      "replaying log with TBR, completed variants :: 100%|██████████| 62/62 [00:00<00:00, 1549.49it/s]"
     ]
    },
    {
     "name": "stdout",
     "output_type": "stream",
     "text": [
      "Fitness of Petrinet is:  67.5 %\n",
      "Precision of Petrinet is:  18.681318681318682 %\n",
      "Simplicity of Petrinet is:  100.0 %\n"
     ]
    },
    {
     "name": "stderr",
     "output_type": "stream",
     "text": [
      "\n"
     ]
    }
   ],
   "source": [
    "net, im, fm = alpha_miner.apply(sub_log3_DB1)\n",
    "fitness = replay_fitness_evaluator.apply(sub_log3_DB1, net, im, fm, variant=replay_fitness_evaluator.Variants.TOKEN_BASED)\n",
    "simp = simplicity_evaluator.apply(net)\n",
    "prec = precision_evaluator.apply(sub_log3_DB1, net, im, fm, variant=precision_evaluator.Variants.ETCONFORMANCE_TOKEN)\n",
    "print('Fitness of Petrinet is: ', fitness['log_fitness']*100,'%')\n",
    "print('Precision of Petrinet is: ', prec*100,'%')\n",
    "print('Simplicity of Petrinet is: ', simp*100,'%')"
   ]
  },
  {
   "cell_type": "markdown",
   "metadata": {},
   "source": [
    "# DB Scan \n",
    "## Euclidean Distance"
   ]
  },
  {
   "cell_type": "code",
   "execution_count": 81,
   "metadata": {},
   "outputs": [
    {
     "data": {
      "text/plain": [
       "array([ 0,  0,  0, ...,  0,  0, -1])"
      ]
     },
     "execution_count": 81,
     "metadata": {},
     "output_type": "execute_result"
    }
   ],
   "source": [
    "from sklearn.cluster import DBSCAN\n",
    "clustering_DB_Euclidean = DBSCAN(eps=1.6, min_samples=10, metric ='euclidean').fit(np_vectors)\n",
    "\n",
    "\n",
    "clustering_DB_Euclidean = clustering_DB_Euclidean.fit_predict(np_vectors)\n",
    "clustering_DB_Euclidean\n",
    "# clustered = clustering.labels_\n",
    "# clustered\n"
   ]
  },
  {
   "cell_type": "markdown",
   "metadata": {},
   "source": [
    "### Size of Clusters"
   ]
  },
  {
   "cell_type": "code",
   "execution_count": 83,
   "metadata": {},
   "outputs": [],
   "source": [
    "# Removing Negative values by scaling by 1\n",
    "for i in range(len(clustering_DB_Euclidean)):\n",
    "    clustering_DB_Euclidean[i]=clustering_DB_Euclidean[i]+1"
   ]
  },
  {
   "cell_type": "code",
   "execution_count": 84,
   "metadata": {},
   "outputs": [
    {
     "name": "stdout",
     "output_type": "stream",
     "text": [
      "[133 957  14]\n"
     ]
    }
   ],
   "source": [
    "count_arr_DB2 = np.bincount(clustering_DB_Euclidean)\n",
    "print(count_arr_DB2)\n"
   ]
  },
  {
   "cell_type": "markdown",
   "metadata": {},
   "source": [
    "## Creating Sub Event Logs based on Clustering Output"
   ]
  },
  {
   "cell_type": "code",
   "execution_count": 85,
   "metadata": {},
   "outputs": [],
   "source": [
    "length1  = count_arr_DB2[0]\n",
    "length2 = count_arr_DB2[1]\n",
    "length3 = count_arr_DB2[2]\n",
    "#length4 = count_arr_DB2[3]\n",
    "# length5 = count_arr_DB2[4]\n",
    "\n",
    "sub_log1_DB2 = EventLog()\n",
    "sub_log2_DB2 = EventLog()\n",
    "sub_log3_DB2 = EventLog()\n",
    "#sub_log4_DB2 = EventLog()\n",
    "# sub_log5_DB2 = EventLog()\n",
    "\n",
    "for i in range(len(clustering_DB_Euclidean)):\n",
    "    if clustering_DB_Euclidean[i] == 0:\n",
    "        sub_log1_DB2.append(log[i])\n",
    "    \n",
    "    elif clustering_DB_Euclidean[i] == 1:\n",
    "        sub_log2_DB2.append(log[i])\n",
    "        \n",
    "    elif clustering_DB_Euclidean[i] == 2: \n",
    "        sub_log3_DB2.append(log[i])\n",
    "        \n",
    "    # elif clustering_DB_Euclidean[i] == 3: \n",
    "    #     sub_log4_DB2.append(log[i])\n"
   ]
  },
  {
   "cell_type": "markdown",
   "metadata": {},
   "source": [
    "## Petrinets from Alpha miner on Sub Event Logs generated from DB Scan Euclidean Distance"
   ]
  },
  {
   "cell_type": "markdown",
   "metadata": {},
   "source": [
    "### Petrinets from Alpha miner on Sub Event Log1"
   ]
  },
  {
   "cell_type": "code",
   "execution_count": 86,
   "metadata": {},
   "outputs": [
    {
     "data": {
      "image/png": "[encoded data removed]",
      "text/plain": [
       "<IPython.core.display.Image object>"
      ]
     },
     "metadata": {},
     "output_type": "display_data"
    }
   ],
   "source": [
    "\n",
    "## Import the petrinet visualizer object\n",
    "from pm4py.algo.discovery.alpha import algorithm as alpha_miner\n",
    "net, initial_marking, final_marking = alpha_miner.apply(sub_log1_DB2)\n",
    "from pm4py.visualization.petrinet import visualizer as pn_visualizer\n",
    "# Visualise \n",
    "gviz = pn_visualizer.apply(net, initial_marking, final_marking) \n",
    "pn_visualizer.view(gviz)"
   ]
  },
  {
   "cell_type": "markdown",
   "metadata": {},
   "source": [
    "## Log Fitness and Precision of SubLog1"
   ]
  },
  {
   "cell_type": "code",
   "execution_count": 87,
   "metadata": {},
   "outputs": [
    {
     "name": "stderr",
     "output_type": "stream",
     "text": [
      "replaying log with TBR, completed variants :: 100%|██████████| 37/37 [00:00<00:00, 795.03it/s]\n",
      "replaying log with TBR, completed variants :: 100%|██████████| 178/178 [00:00<00:00, 958.18it/s] "
     ]
    },
    {
     "name": "stdout",
     "output_type": "stream",
     "text": [
      "Fitness of Petrinet is:  71.45214521452145 %\n",
      "Precision of Petrinet is:  22.954873274263342 %\n",
      "Simplicity of Petrinet is:  100.0 %\n"
     ]
    },
    {
     "name": "stderr",
     "output_type": "stream",
     "text": [
      "\n"
     ]
    }
   ],
   "source": [
    "net, im, fm = alpha_miner.apply(sub_log1_DB2)\n",
    "fitness = replay_fitness_evaluator.apply(sub_log1_DB2, net, im, fm, variant=replay_fitness_evaluator.Variants.TOKEN_BASED)\n",
    "simp = simplicity_evaluator.apply(net)\n",
    "prec = precision_evaluator.apply(sub_log1_DB2, net, im, fm, variant=precision_evaluator.Variants.ETCONFORMANCE_TOKEN)\n",
    "print('Fitness of Petrinet is: ', fitness['log_fitness']*100,'%')\n",
    "print('Precision of Petrinet is: ', prec*100,'%')\n",
    "print('Simplicity of Petrinet is: ', simp*100,'%')"
   ]
  },
  {
   "cell_type": "markdown",
   "metadata": {},
   "source": [
    "## Petrinets from Alpha miner on Sub Event Log2"
   ]
  },
  {
   "cell_type": "code",
   "execution_count": 88,
   "metadata": {},
   "outputs": [
    {
     "data": {
      "image/png": "[encoded data removed]",
      "text/plain": [
       "<IPython.core.display.Image object>"
      ]
     },
     "metadata": {},
     "output_type": "display_data"
    }
   ],
   "source": [
    "\n",
    "## Import the petrinet visualizer object\n",
    "from pm4py.algo.discovery.alpha import algorithm as alpha_miner\n",
    "net, initial_marking, final_marking = alpha_miner.apply(sub_log2_DB2)\n",
    "from pm4py.visualization.petrinet import visualizer as pn_visualizer\n",
    "# Visualise \n",
    "gviz = pn_visualizer.apply(net, initial_marking, final_marking) \n",
    "pn_visualizer.view(gviz)"
   ]
  },
  {
   "cell_type": "markdown",
   "metadata": {},
   "source": [
    "## Log Fitness and Precision of SubLog2"
   ]
  },
  {
   "cell_type": "code",
   "execution_count": 89,
   "metadata": {},
   "outputs": [
    {
     "name": "stderr",
     "output_type": "stream",
     "text": [
      "replaying log with TBR, completed variants :: 100%|██████████| 73/73 [00:00<00:00, 901.17it/s]\n",
      "replaying log with TBR, completed variants :: 100%|██████████| 219/219 [00:00<00:00, 1198.04it/s]"
     ]
    },
    {
     "name": "stdout",
     "output_type": "stream",
     "text": [
      "Fitness of Petrinet is:  63.2765519433367 %\n",
      "Precision of Petrinet is:  26.61681448418449 %\n",
      "Simplicity of Petrinet is:  100.0 %\n"
     ]
    },
    {
     "name": "stderr",
     "output_type": "stream",
     "text": [
      "\n"
     ]
    }
   ],
   "source": [
    "net, im, fm = alpha_miner.apply(sub_log2_DB2)\n",
    "fitness = replay_fitness_evaluator.apply(sub_log2_DB2, net, im, fm, variant=replay_fitness_evaluator.Variants.TOKEN_BASED)\n",
    "simp = simplicity_evaluator.apply(net)\n",
    "prec = precision_evaluator.apply(sub_log2_DB2, net, im, fm, variant=precision_evaluator.Variants.ETCONFORMANCE_TOKEN)\n",
    "print('Fitness of Petrinet is: ', fitness['log_fitness']*100,'%')\n",
    "print('Precision of Petrinet is: ', prec*100,'%')\n",
    "print('Simplicity of Petrinet is: ', simp*100,'%')"
   ]
  },
  {
   "cell_type": "markdown",
   "metadata": {},
   "source": [
    "## Petrinets from Alpha miner on Sub Event Log3"
   ]
  },
  {
   "cell_type": "code",
   "execution_count": 90,
   "metadata": {},
   "outputs": [
    {
     "data": {
      "image/png": "[encoded data removed]",
      "text/plain": [
       "<IPython.core.display.Image object>"
      ]
     },
     "metadata": {},
     "output_type": "display_data"
    }
   ],
   "source": [
    "\n",
    "## Import the petrinet visualizer object\n",
    "from pm4py.algo.discovery.alpha import algorithm as alpha_miner\n",
    "net, initial_marking, final_marking = alpha_miner.apply(sub_log3_DB2)\n",
    "from pm4py.visualization.petrinet import visualizer as pn_visualizer\n",
    "# Visualise \n",
    "gviz = pn_visualizer.apply(net, initial_marking, final_marking) \n",
    "pn_visualizer.view(gviz)"
   ]
  },
  {
   "cell_type": "markdown",
   "metadata": {},
   "source": [
    "## Log Fitness and Precision of Sub Event log 3"
   ]
  },
  {
   "cell_type": "code",
   "execution_count": 91,
   "metadata": {},
   "outputs": [
    {
     "name": "stderr",
     "output_type": "stream",
     "text": [
      "replaying log with TBR, completed variants :: 100%|██████████| 10/10 [00:00<00:00, 877.12it/s]\n",
      "replaying log with TBR, completed variants :: 100%|██████████| 62/62 [00:00<00:00, 1440.36it/s]"
     ]
    },
    {
     "name": "stdout",
     "output_type": "stream",
     "text": [
      "Fitness of Petrinet is:  67.5 %\n",
      "Precision of Petrinet is:  18.681318681318682 %\n",
      "Simplicity of Petrinet is:  100.0 %\n"
     ]
    },
    {
     "name": "stderr",
     "output_type": "stream",
     "text": [
      "\n"
     ]
    }
   ],
   "source": [
    "net, im, fm = alpha_miner.apply(sub_log3_DB2)\n",
    "fitness = replay_fitness_evaluator.apply(sub_log3_DB2, net, im, fm, variant=replay_fitness_evaluator.Variants.TOKEN_BASED)\n",
    "simp = simplicity_evaluator.apply(net)\n",
    "prec = precision_evaluator.apply(sub_log3_DB2, net, im, fm, variant=precision_evaluator.Variants.ETCONFORMANCE_TOKEN)\n",
    "print('Fitness of Petrinet is: ', fitness['log_fitness']*100,'%')\n",
    "print('Precision of Petrinet is: ', prec*100,'%')\n",
    "print('Simplicity of Petrinet is: ', simp*100,'%')"
   ]
  },
  {
   "cell_type": "markdown",
   "metadata": {},
   "source": [
    "# DB Scan\n",
    "## Jaccard  Distance"
   ]
  },
  {
   "cell_type": "code",
   "execution_count": 119,
   "metadata": {},
   "outputs": [
    {
     "data": {
      "text/plain": [
       "array([-1, -1, -1, ..., -1, -1, -1])"
      ]
     },
     "execution_count": 119,
     "metadata": {},
     "output_type": "execute_result"
    }
   ],
   "source": [
    "from sklearn.cluster import DBSCAN\n",
    "clustering_DB_Jaccard = DBSCAN(eps=0.1, min_samples=100, metric ='jaccard').fit(np_vectors)\n",
    "clustering_DB_Jaccard = clustering_DB_Jaccard.fit_predict(np_vectors)\n",
    "clustering_DB_Jaccard\n",
    "# clustered = clustering.labels_\n",
    "# clustered"
   ]
  },
  {
   "cell_type": "code",
   "execution_count": 120,
   "metadata": {},
   "outputs": [],
   "source": [
    "# Removing Negative values by scaling by 1\n",
    "for i in range(len(clustering_DB_Jaccard)):\n",
    "    clustering_DB_Jaccard[i]=clustering_DB_Jaccard[i]+1"
   ]
  },
  {
   "cell_type": "code",
   "execution_count": 121,
   "metadata": {},
   "outputs": [
    {
     "name": "stdout",
     "output_type": "stream",
     "text": [
      "[1104]\n"
     ]
    }
   ],
   "source": [
    "count_arr_DB3 = np.bincount(clustering_DB_Jaccard)\n",
    "print(count_arr_DB3)\n"
   ]
  },
  {
   "cell_type": "markdown",
   "metadata": {},
   "source": [
    "## Creating Sub Event Logs based on Clustering Output"
   ]
  },
  {
   "cell_type": "code",
   "execution_count": null,
   "metadata": {},
   "outputs": [],
   "source": [
    "length1  = count_arr_DB3[0]\n",
    "length2 = count_arr_DB3[1]\n",
    "length3 = count_arr_DB3[2]\n",
    "length4 = count_arr_DB2[3]\n",
    "# length5 = count_arr_DB2[4]\n",
    "\n",
    "sub_log1_DB3 = EventLog()\n",
    "sub_log2_DB3 = EventLog()\n",
    "sub_log3_DB3 = EventLog()\n",
    "sub_log4_DB3 = EventLog()\n",
    "# sub_log5_DB2 = EventLog()\n",
    "\n",
    "for i in range(len(clustering_DB_Jaccard)):\n",
    "    if clustering_DB_Jaccard[i] == 0:\n",
    "        sub_log1_DB3.append(log[i])\n",
    "    \n",
    "    elif clustering_DB_Jaccard[i] == 1:\n",
    "        sub_log2_DB3.append(log[i])\n",
    "        \n",
    "    elif clustering_DB_Jaccard[i] == 2: \n",
    "        sub_log3_DB3.append(log[i])\n",
    "    elif clustering_DB_Jaccard[i] == 3: \n",
    "        sub_log4_DB3.append(log[i])\n"
   ]
  },
  {
   "cell_type": "markdown",
   "metadata": {},
   "source": [
    "# Petrinets from Alpha miner on Sub Event Logs generated from DB Scan Euclidean Distance"
   ]
  },
  {
   "cell_type": "markdown",
   "metadata": {},
   "source": [
    "## Petrinets from Alpha miner on Sub Event Log1"
   ]
  },
  {
   "cell_type": "code",
   "execution_count": null,
   "metadata": {},
   "outputs": [
    {
     "data": {
      "image/png": "[encoded data removed]",
      "text/plain": [
       "<IPython.core.display.Image object>"
      ]
     },
     "metadata": {},
     "output_type": "display_data"
    }
   ],
   "source": [
    "\n",
    "## Import the petrinet visualizer object\n",
    "from pm4py.algo.discovery.alpha import algorithm as alpha_miner\n",
    "net, initial_marking, final_marking = alpha_miner.apply(sub_log1_DB3)\n",
    "from pm4py.visualization.petrinet import visualizer as pn_visualizer\n",
    "# Visualise \n",
    "gviz = pn_visualizer.apply(net, initial_marking, final_marking) \n",
    "pn_visualizer.view(gviz)"
   ]
  },
  {
   "cell_type": "markdown",
   "metadata": {},
   "source": [
    "## Log Fitness and Precision of SubLog1"
   ]
  },
  {
   "cell_type": "code",
   "execution_count": null,
   "metadata": {},
   "outputs": [
    {
     "name": "stderr",
     "output_type": "stream",
     "text": [
      "replaying log with TBR, completed variants :: 100%|██████████| 2/2 [00:00<00:00, 274.99it/s]\n",
      "replaying log with TBR, completed variants :: 100%|██████████| 4/4 [00:00<00:00, 2331.14it/s]"
     ]
    },
    {
     "name": "stdout",
     "output_type": "stream",
     "text": [
      "Fitness of Petrinet is:  90.0 %\n",
      "Precision of Petrinet is:  44.99999999999999 %\n",
      "Simplicity of Petrinet is:  100.0 %\n"
     ]
    },
    {
     "name": "stderr",
     "output_type": "stream",
     "text": [
      "\n"
     ]
    }
   ],
   "source": [
    "net, im, fm = alpha_miner.apply(sub_log1_DB3)\n",
    "fitness = replay_fitness_evaluator.apply(sub_log1_DB3, net, im, fm, variant=replay_fitness_evaluator.Variants.TOKEN_BASED)\n",
    "simp = simplicity_evaluator.apply(net)\n",
    "prec = precision_evaluator.apply(sub_log1_DB3, net, im, fm, variant=precision_evaluator.Variants.ETCONFORMANCE_TOKEN)\n",
    "print('Fitness of Petrinet is: ', fitness['log_fitness']*100,'%')\n",
    "print('Precision of Petrinet is: ', prec*100,'%')\n",
    "print('Simplicity of Petrinet is: ', simp*100,'%')"
   ]
  },
  {
   "cell_type": "markdown",
   "metadata": {},
   "source": [
    "## Petrinets from Alpha miner on Sub Event Log2"
   ]
  },
  {
   "cell_type": "code",
   "execution_count": null,
   "metadata": {},
   "outputs": [
    {
     "data": {
      "image/png": "[encoded data removed]",
      "text/plain": [
       "<IPython.core.display.Image object>"
      ]
     },
     "metadata": {},
     "output_type": "display_data"
    }
   ],
   "source": [
    "\n",
    "## Import the petrinet visualizer object\n",
    "from pm4py.algo.discovery.alpha import algorithm as alpha_miner\n",
    "net, initial_marking, final_marking = alpha_miner.apply(sub_log2_DB3)\n",
    "from pm4py.visualization.petrinet import visualizer as pn_visualizer\n",
    "# Visualise \n",
    "gviz = pn_visualizer.apply(net, initial_marking, final_marking) \n",
    "pn_visualizer.view(gviz)"
   ]
  },
  {
   "cell_type": "markdown",
   "metadata": {},
   "source": [
    "## Log Fitness and Precision of SubLog2"
   ]
  },
  {
   "cell_type": "code",
   "execution_count": null,
   "metadata": {},
   "outputs": [
    {
     "name": "stderr",
     "output_type": "stream",
     "text": [
      "replaying log with TBR, completed variants :: 100%|██████████| 67/67 [00:00<00:00, 864.92it/s]\n",
      "replaying log with TBR, completed variants :: 100%|██████████| 233/233 [00:00<00:00, 1123.12it/s]"
     ]
    },
    {
     "name": "stdout",
     "output_type": "stream",
     "text": [
      "Fitness of Petrinet is:  71.97928653624857 %\n",
      "Precision of Petrinet is:  23.936490555707636 %\n",
      "Simplicity of Petrinet is:  100.0 %\n"
     ]
    },
    {
     "name": "stderr",
     "output_type": "stream",
     "text": [
      "\n"
     ]
    }
   ],
   "source": [
    "net, im, fm = alpha_miner.apply(sub_log2_DB3)\n",
    "fitness = replay_fitness_evaluator.apply(sub_log2_DB3, net, im, fm, variant=replay_fitness_evaluator.Variants.TOKEN_BASED)\n",
    "simp = simplicity_evaluator.apply(net)\n",
    "prec = precision_evaluator.apply(sub_log2_DB3, net, im, fm, variant=precision_evaluator.Variants.ETCONFORMANCE_TOKEN)\n",
    "print('Fitness of Petrinet is: ', fitness['log_fitness']*100,'%')\n",
    "print('Precision of Petrinet is: ', prec*100,'%')\n",
    "print('Simplicity of Petrinet is: ', simp*100,'%')\n",
    "#prec"
   ]
  },
  {
   "cell_type": "markdown",
   "metadata": {},
   "source": [
    "## Petrinets from Alpha miner on Sub Event Log3"
   ]
  },
  {
   "cell_type": "code",
   "execution_count": null,
   "metadata": {},
   "outputs": [
    {
     "data": {
      "image/png": "[encoded data removed]",
      "text/plain": [
       "<IPython.core.display.Image object>"
      ]
     },
     "metadata": {},
     "output_type": "display_data"
    }
   ],
   "source": [
    "\n",
    "## Import the petrinet visualizer object\n",
    "from pm4py.algo.discovery.alpha import algorithm as alpha_miner\n",
    "net, initial_marking, final_marking = alpha_miner.apply(sub_log3_DB3)\n",
    "from pm4py.visualization.petrinet import visualizer as pn_visualizer\n",
    "# Visualise \n",
    "gviz = pn_visualizer.apply(net, initial_marking, final_marking) \n",
    "pn_visualizer.view(gviz)"
   ]
  },
  {
   "cell_type": "markdown",
   "metadata": {},
   "source": [
    "## Log Fitness and Precision of Sub Event log 3"
   ]
  },
  {
   "cell_type": "code",
   "execution_count": null,
   "metadata": {},
   "outputs": [
    {
     "name": "stderr",
     "output_type": "stream",
     "text": [
      "replaying log with TBR, completed variants :: 100%|██████████| 4/4 [00:00<00:00, 819.36it/s]\n",
      "replaying log with TBR, completed variants :: 100%|██████████| 15/15 [00:00<00:00, 2467.14it/s]"
     ]
    },
    {
     "name": "stdout",
     "output_type": "stream",
     "text": [
      "Fitness of Petrinet is:  75.0 %\n",
      "Precision of Petrinet is:  30.796335447498237 %\n",
      "Simplicity of Petrinet is:  100.0 %\n"
     ]
    },
    {
     "name": "stderr",
     "output_type": "stream",
     "text": [
      "\n"
     ]
    }
   ],
   "source": [
    "net, im, fm = alpha_miner.apply(sub_log3_DB3)\n",
    "fitness = replay_fitness_evaluator.apply(sub_log3_DB3, net, im, fm, variant=replay_fitness_evaluator.Variants.TOKEN_BASED)\n",
    "simp = simplicity_evaluator.apply(net)\n",
    "prec = precision_evaluator.apply(sub_log3_DB3, net, im, fm, variant=precision_evaluator.Variants.ETCONFORMANCE_TOKEN)\n",
    "print('Fitness of Petrinet is: ', fitness['log_fitness']*100,'%')\n",
    "print('Precision of Petrinet is: ', prec*100,'%')\n",
    "print('Simplicity of Petrinet is: ', simp*100,'%')"
   ]
  },
  {
   "cell_type": "markdown",
   "metadata": {},
   "source": [
    "## Petrinets from Alpha miner on Sub Event Log4"
   ]
  },
  {
   "cell_type": "code",
   "execution_count": null,
   "metadata": {},
   "outputs": [
    {
     "data": {
      "image/png": "[encoded data removed]",
      "text/plain": [
       "<IPython.core.display.Image object>"
      ]
     },
     "metadata": {},
     "output_type": "display_data"
    }
   ],
   "source": [
    "\n",
    "## Import the petrinet visualizer object\n",
    "from pm4py.algo.discovery.alpha import algorithm as alpha_miner\n",
    "net, initial_marking, final_marking = alpha_miner.apply(sub_log4_DB3)\n",
    "from pm4py.visualization.petrinet import visualizer as pn_visualizer\n",
    "# Visualise \n",
    "gviz = pn_visualizer.apply(net, initial_marking, final_marking) \n",
    "pn_visualizer.view(gviz)"
   ]
  },
  {
   "cell_type": "markdown",
   "metadata": {},
   "source": [
    "## Log Fitness and Precision of Sub Event log 3"
   ]
  },
  {
   "cell_type": "code",
   "execution_count": null,
   "metadata": {},
   "outputs": [
    {
     "name": "stderr",
     "output_type": "stream",
     "text": [
      "replaying log with TBR, completed variants :: 100%|██████████| 4/4 [00:00<00:00, 1107.11it/s]\n",
      "replaying log with TBR, completed variants :: 100%|██████████| 15/15 [00:00<00:00, 2124.34it/s]"
     ]
    },
    {
     "name": "stdout",
     "output_type": "stream",
     "text": [
      "Fitness of Petrinet is:  75.0 %\n",
      "Precision of Petrinet is:  31.671554252199417 %\n",
      "Simplicity of Petrinet is:  100.0 %\n"
     ]
    },
    {
     "name": "stderr",
     "output_type": "stream",
     "text": [
      "\n"
     ]
    }
   ],
   "source": [
    "net, im, fm = alpha_miner.apply(sub_log4_DB3)\n",
    "fitness = replay_fitness_evaluator.apply(sub_log4_DB3, net, im, fm, variant=replay_fitness_evaluator.Variants.TOKEN_BASED)\n",
    "simp = simplicity_evaluator.apply(net)\n",
    "prec = precision_evaluator.apply(sub_log4_DB3, net, im, fm, variant=precision_evaluator.Variants.ETCONFORMANCE_TOKEN)\n",
    "print('Fitness of Petrinet is: ', fitness['log_fitness']*100,'%')\n",
    "print('Precision of Petrinet is: ', prec*100,'%')\n",
    "print('Simplicity of Petrinet is: ', simp*100,'%')"
   ]
  },
  {
   "cell_type": "markdown",
   "metadata": {},
   "source": [
    "# Agglomerative Clustering\n",
    "## Euclidean"
   ]
  },
  {
   "cell_type": "code",
   "execution_count": null,
   "metadata": {},
   "outputs": [
    {
     "data": {
      "text/plain": [
       "array([0, 1, 0, ..., 0, 0, 1])"
      ]
     },
     "metadata": {},
     "output_type": "display_data"
    }
   ],
   "source": [
    "\n",
    "from sklearn.cluster import AgglomerativeClustering\n",
    "\n",
    "clustering_Agglomerative = AgglomerativeClustering(n_clusters=3,affinity='euclidean').fit(np_vectors)\n",
    "clustering_Agglomerative =clustering_Agglomerative.labels_\n",
    "clustering_Agglomerative"
   ]
  },
  {
   "cell_type": "code",
   "execution_count": null,
   "metadata": {},
   "outputs": [
    {
     "name": "stdout",
     "output_type": "stream",
     "text": [
      "[620 242 242]\n"
     ]
    }
   ],
   "source": [
    "count_arr_Aglomerative = np.bincount(clustering_Agglomerative)\n",
    "print(count_arr_Aglomerative)\n"
   ]
  },
  {
   "cell_type": "markdown",
   "metadata": {},
   "source": [
    "## Creating Sub Event Logs based on Clustering Output"
   ]
  },
  {
   "cell_type": "code",
   "execution_count": null,
   "metadata": {},
   "outputs": [],
   "source": [
    "length1  = count_arr_Aglomerative[0]\n",
    "length2 = count_arr_Aglomerative[1]\n",
    "length3 = count_arr_Aglomerative[2]\n",
    "# length4 = count_arr_DB2[3]\n",
    "# length5 = count_arr_DB2[4]\n",
    "\n",
    "sub_log1_AG = EventLog()\n",
    "sub_log2_AG = EventLog()\n",
    "sub_log3_AG = EventLog()\n",
    "# sub_log4_DB2 = EventLog()\n",
    "# sub_log5_DB2 = EventLog()\n",
    "\n",
    "for i in range(len(clustering_Agglomerative)):\n",
    "    if clustering_Agglomerative[i] == 0:\n",
    "        sub_log1_AG.append(log[i])\n",
    "    \n",
    "    elif clustering_Agglomerative[i] == 1:\n",
    "        sub_log2_AG.append(log[i])\n",
    "        \n",
    "    elif clustering_Agglomerative[i] == 2: \n",
    "        sub_log3_AG.append(log[i])\n"
   ]
  },
  {
   "cell_type": "markdown",
   "metadata": {},
   "source": [
    "# Petrinets from Alpha miner on Sub Event Logs generated from DB Scan Euclidean Distance"
   ]
  },
  {
   "cell_type": "markdown",
   "metadata": {},
   "source": [
    "## Petrinets from Alpha miner on Sub Event Log1"
   ]
  },
  {
   "cell_type": "code",
   "execution_count": null,
   "metadata": {},
   "outputs": [
    {
     "data": {
      "image/png": "[encoded data removed]",
      "text/plain": [
       "<IPython.core.display.Image object>"
      ]
     },
     "metadata": {},
     "output_type": "display_data"
    }
   ],
   "source": [
    "\n",
    "## Import the petrinet visualizer object\n",
    "from pm4py.algo.discovery.alpha import algorithm as alpha_miner\n",
    "net, initial_marking, final_marking = alpha_miner.apply(sub_log1_AG)\n",
    "from pm4py.visualization.petrinet import visualizer as pn_visualizer\n",
    "# Visualise \n",
    "gviz = pn_visualizer.apply(net, initial_marking, final_marking) \n",
    "pn_visualizer.view(gviz)"
   ]
  },
  {
   "cell_type": "markdown",
   "metadata": {},
   "source": [
    "## Log Fitness and Precision of SubLog1"
   ]
  },
  {
   "cell_type": "code",
   "execution_count": null,
   "metadata": {},
   "outputs": [
    {
     "name": "stderr",
     "output_type": "stream",
     "text": [
      "replaying log with TBR, completed variants :: 100%|██████████| 25/25 [00:00<00:00, 756.20it/s]\n",
      "replaying log with TBR, completed variants :: 100%|██████████| 82/82 [00:00<00:00, 1536.75it/s]"
     ]
    },
    {
     "name": "stdout",
     "output_type": "stream",
     "text": [
      "Fitness of Petrinet is:  65.82066617016824 %\n",
      "Precision of Petrinet is:  28.919577579203903 %\n",
      "Simplicity of Petrinet is:  100.0 %\n"
     ]
    },
    {
     "name": "stderr",
     "output_type": "stream",
     "text": [
      "\n"
     ]
    }
   ],
   "source": [
    "net, im, fm = alpha_miner.apply(sub_log1_AG)\n",
    "fitness = replay_fitness_evaluator.apply(sub_log1_AG, net, im, fm, variant=replay_fitness_evaluator.Variants.TOKEN_BASED)\n",
    "simp = simplicity_evaluator.apply(net)\n",
    "prec = precision_evaluator.apply(sub_log1_AG, net, im, fm, variant=precision_evaluator.Variants.ETCONFORMANCE_TOKEN)\n",
    "print('Fitness of Petrinet is: ', fitness['log_fitness']*100,'%')\n",
    "print('Precision of Petrinet is: ', prec*100,'%')\n",
    "print('Simplicity of Petrinet is: ', simp*100,'%')"
   ]
  },
  {
   "cell_type": "markdown",
   "metadata": {},
   "source": [
    "## Petrinets from Alpha miner on Sub Event Log2"
   ]
  },
  {
   "cell_type": "code",
   "execution_count": null,
   "metadata": {},
   "outputs": [
    {
     "data": {
      "image/png": "[encoded data removed]",
      "text/plain": [
       "<IPython.core.display.Image object>"
      ]
     },
     "metadata": {},
     "output_type": "display_data"
    }
   ],
   "source": [
    "\n",
    "## Import the petrinet visualizer object\n",
    "from pm4py.algo.discovery.alpha import algorithm as alpha_miner\n",
    "net, initial_marking, final_marking = alpha_miner.apply(sub_log2_AG)\n",
    "from pm4py.visualization.petrinet import visualizer as pn_visualizer\n",
    "# Visualise \n",
    "gviz = pn_visualizer.apply(net, initial_marking, final_marking) \n",
    "pn_visualizer.view(gviz)"
   ]
  },
  {
   "cell_type": "markdown",
   "metadata": {},
   "source": [
    "## Log Fitness and Precision of SubLog2"
   ]
  },
  {
   "cell_type": "code",
   "execution_count": null,
   "metadata": {},
   "outputs": [
    {
     "name": "stderr",
     "output_type": "stream",
     "text": [
      "replaying log with TBR, completed variants :: 100%|██████████| 44/44 [00:00<00:00, 605.72it/s]\n",
      "replaying log with TBR, completed variants :: 100%|██████████| 155/155 [00:00<00:00, 905.09it/s]"
     ]
    },
    {
     "name": "stdout",
     "output_type": "stream",
     "text": [
      "Fitness of Petrinet is:  66.61918328584994 %\n",
      "Precision of Petrinet is:  22.2085548765971 %\n",
      "Simplicity of Petrinet is:  100.0 %\n"
     ]
    },
    {
     "name": "stderr",
     "output_type": "stream",
     "text": [
      "\n"
     ]
    }
   ],
   "source": [
    "net, im, fm = alpha_miner.apply(sub_log2_AG)\n",
    "fitness = replay_fitness_evaluator.apply(sub_log2_AG, net, im, fm, variant=replay_fitness_evaluator.Variants.TOKEN_BASED)\n",
    "simp = simplicity_evaluator.apply(net)\n",
    "prec = precision_evaluator.apply(sub_log2_AG, net, im, fm, variant=precision_evaluator.Variants.ETCONFORMANCE_TOKEN)\n",
    "print('Fitness of Petrinet is: ', fitness['log_fitness']*100,'%')\n",
    "print('Precision of Petrinet is: ', prec*100,'%')\n",
    "print('Simplicity of Petrinet is: ', simp*100,'%')"
   ]
  },
  {
   "cell_type": "markdown",
   "metadata": {},
   "source": [
    "## Petrinets from Alpha miner on Sub Event Log3"
   ]
  },
  {
   "cell_type": "code",
   "execution_count": null,
   "metadata": {},
   "outputs": [
    {
     "data": {
      "image/png": "[encoded data removed]",
      "text/plain": [
       "<IPython.core.display.Image object>"
      ]
     },
     "metadata": {},
     "output_type": "display_data"
    }
   ],
   "source": [
    "\n",
    "## Import the petrinet visualizer object\n",
    "from pm4py.algo.discovery.alpha import algorithm as alpha_miner\n",
    "net, initial_marking, final_marking = alpha_miner.apply(sub_log3_AG)\n",
    "from pm4py.visualization.petrinet import visualizer as pn_visualizer\n",
    "# Visualise \n",
    "gviz = pn_visualizer.apply(net, initial_marking, final_marking) \n",
    "pn_visualizer.view(gviz)"
   ]
  },
  {
   "cell_type": "markdown",
   "metadata": {},
   "source": [
    "## Log Fitness and Precision of Sub Event log 3"
   ]
  },
  {
   "cell_type": "code",
   "execution_count": null,
   "metadata": {},
   "outputs": [
    {
     "name": "stderr",
     "output_type": "stream",
     "text": [
      "replaying log with TBR, completed variants :: 100%|██████████| 8/8 [00:00<00:00, 991.09it/s]\n",
      "replaying log with TBR, completed variants :: 100%|██████████| 19/19 [00:00<00:00, 1607.14it/s]"
     ]
    },
    {
     "name": "stdout",
     "output_type": "stream",
     "text": [
      "Fitness of Petrinet is:  74.45460942997889 %\n",
      "Precision of Petrinet is:  28.781157583438954 %\n",
      "Simplicity of Petrinet is:  100.0 %\n"
     ]
    },
    {
     "name": "stderr",
     "output_type": "stream",
     "text": [
      "\n"
     ]
    }
   ],
   "source": [
    "net, im, fm = alpha_miner.apply(sub_log3_AG)\n",
    "fitness = replay_fitness_evaluator.apply(sub_log3_AG, net, im, fm, variant=replay_fitness_evaluator.Variants.TOKEN_BASED)\n",
    "simp = simplicity_evaluator.apply(net)\n",
    "prec = precision_evaluator.apply(sub_log3_AG, net, im, fm, variant=precision_evaluator.Variants.ETCONFORMANCE_TOKEN)\n",
    "print('Fitness of Petrinet is: ', fitness['log_fitness']*100,'%')\n",
    "print('Precision of Petrinet is: ', prec*100,'%')\n",
    "print('Simplicity of Petrinet is: ', simp*100,'%')"
   ]
  },
  {
   "cell_type": "markdown",
   "metadata": {},
   "source": [
    "# Self Organizing Maps - SOM\n"
   ]
  },
  {
   "cell_type": "code",
   "execution_count": null,
   "metadata": {},
   "outputs": [
    {
     "name": "stdout",
     "output_type": "stream",
     "text": [
      "[array([6, 0]), array([4, 9]), array([6, 0]), array([9, 9]), array([9, 3]), array([8, 6]), array([4, 7]), array([8, 6]), array([8, 6]), array([9, 3]), array([8, 6]), array([0, 9]), array([9, 3]), array([6, 0]), array([4, 7]), array([9, 3]), array([9, 3]), array([9, 3]), array([8, 6]), array([9, 3]), array([0, 9]), array([8, 6]), array([9, 3]), array([9, 3]), array([6, 0]), array([9, 3]), array([9, 3]), array([8, 6]), array([9, 3]), array([0, 5]), array([8, 6]), array([9, 3]), array([8, 6]), array([9, 3]), array([8, 6]), array([6, 0]), array([8, 6]), array([9, 3]), array([8, 6]), array([4, 7]), array([4, 7]), array([9, 3]), array([9, 3]), array([8, 6]), array([9, 3]), array([9, 3]), array([6, 0]), array([8, 6]), array([0, 9]), array([8, 6]), array([8, 6]), array([9, 3]), array([8, 6]), array([9, 3]), array([4, 7]), array([9, 3]), array([9, 3]), array([6, 0]), array([8, 6]), array([4, 7]), array([9, 3]), array([8, 6]), array([8, 6]), array([8, 6]), array([4, 7]), array([9, 3]), array([2, 4]), array([9, 3]), array([9, 9]), array([9, 3]), array([4, 7]), array([8, 6]), array([8, 6]), array([9, 3]), array([9, 3]), array([8, 6]), array([2, 4]), array([8, 6]), array([9, 3]), array([9, 9]), array([0, 9]), array([8, 6]), array([0, 9]), array([9, 3]), array([9, 3]), array([9, 3]), array([9, 3]), array([4, 7]), array([9, 3]), array([6, 0]), array([9, 3]), array([9, 3]), array([2, 4]), array([9, 3]), array([9, 3]), array([0, 9]), array([9, 3]), array([0, 5]), array([8, 6]), array([4, 7]), array([4, 7]), array([9, 3]), array([8, 6]), array([0, 9]), array([8, 6]), array([1, 0]), array([6, 0]), array([6, 0]), array([9, 3]), array([9, 3]), array([8, 6]), array([9, 3]), array([6, 0]), array([4, 7]), array([4, 7]), array([6, 0]), array([8, 6]), array([9, 4]), array([1, 0]), array([2, 4]), array([4, 7]), array([9, 9]), array([0, 9]), array([9, 9]), array([9, 9]), array([6, 0]), array([4, 9]), array([6, 0]), array([4, 9]), array([6, 0]), array([6, 0]), array([0, 9]), array([6, 0]), array([9, 9]), array([1, 0]), array([0, 9]), array([9, 9]), array([9, 9]), array([6, 0]), array([6, 0]), array([4, 9]), array([6, 0]), array([6, 0]), array([4, 9]), array([4, 9]), array([9, 9]), array([2, 4]), array([0, 9]), array([6, 0]), array([0, 9]), array([1, 0]), array([6, 0]), array([6, 0]), array([6, 0]), array([1, 0]), array([6, 0]), array([6, 0]), array([9, 9]), array([6, 0]), array([2, 4]), array([4, 9]), array([6, 0]), array([6, 0]), array([4, 9]), array([1, 0]), array([4, 9]), array([2, 4]), array([6, 0]), array([6, 0]), array([6, 0]), array([0, 9]), array([6, 0]), array([6, 0]), array([6, 0]), array([6, 0]), array([6, 0]), array([0, 9]), array([6, 0]), array([0, 0]), array([6, 0]), array([4, 9]), array([9, 9]), array([9, 9]), array([0, 0]), array([6, 0]), array([0, 9]), array([2, 4]), array([6, 0]), array([4, 9]), array([4, 9]), array([2, 4]), array([6, 0]), array([0, 9]), array([6, 0]), array([2, 4]), array([6, 0]), array([6, 0]), array([6, 0]), array([6, 0]), array([6, 0]), array([1, 0]), array([0, 9]), array([6, 0]), array([6, 0]), array([6, 0]), array([6, 0]), array([6, 0]), array([9, 9]), array([6, 0]), array([9, 9]), array([4, 9]), array([4, 9]), array([6, 0]), array([6, 0]), array([4, 9]), array([9, 9]), array([6, 0]), array([6, 0]), array([9, 9]), array([9, 9]), array([6, 0]), array([6, 0]), array([6, 0]), array([0, 0]), array([0, 9]), array([6, 0]), array([6, 0]), array([6, 0]), array([4, 9]), array([9, 9]), array([6, 0]), array([6, 0]), array([4, 9]), array([9, 9]), array([9, 9]), array([9, 9]), array([0, 9]), array([6, 0]), array([6, 0]), array([6, 0]), array([2, 4]), array([6, 0]), array([6, 0]), array([2, 4]), array([4, 9]), array([1, 0]), array([9, 9]), array([6, 0]), array([6, 0]), array([6, 0]), array([6, 0]), array([6, 0]), array([6, 0]), array([6, 0]), array([6, 0]), array([6, 0]), array([6, 0]), array([6, 0]), array([6, 0]), array([4, 9]), array([4, 9]), array([6, 0]), array([2, 4]), array([0, 9]), array([6, 0]), array([9, 9]), array([1, 0]), array([6, 0]), array([0, 9]), array([6, 0]), array([9, 9]), array([6, 0]), array([6, 0]), array([6, 0]), array([4, 9]), array([6, 0]), array([4, 9]), array([2, 4]), array([6, 0]), array([9, 9]), array([1, 0]), array([6, 0]), array([9, 9]), array([6, 0]), array([6, 0]), array([9, 9]), array([6, 0]), array([0, 9]), array([6, 0]), array([0, 9]), array([9, 9]), array([6, 0]), array([6, 0]), array([6, 0]), array([9, 9]), array([4, 9]), array([4, 9]), array([1, 0]), array([6, 0]), array([9, 9]), array([6, 0]), array([6, 0]), array([6, 0]), array([9, 9]), array([9, 9]), array([6, 0]), array([4, 9]), array([2, 4]), array([6, 0]), array([1, 0]), array([6, 0]), array([6, 0]), array([6, 0]), array([6, 0]), array([9, 9]), array([0, 9]), array([6, 0]), array([4, 9]), array([6, 0]), array([6, 0]), array([6, 0]), array([6, 0]), array([4, 9]), array([6, 0]), array([6, 0]), array([6, 0]), array([9, 9]), array([9, 9]), array([6, 0]), array([6, 0]), array([0, 9]), array([1, 0]), array([6, 0]), array([9, 9]), array([6, 0]), array([9, 9]), array([6, 0]), array([9, 9]), array([6, 0]), array([9, 9]), array([9, 9]), array([6, 0]), array([6, 0]), array([6, 0]), array([6, 0]), array([6, 0]), array([6, 0]), array([6, 0]), array([6, 0]), array([0, 9]), array([6, 0]), array([2, 4]), array([6, 0]), array([6, 0]), array([6, 0]), array([6, 0]), array([9, 9]), array([6, 0]), array([6, 0]), array([6, 0]), array([6, 0]), array([6, 0]), array([1, 0]), array([6, 0]), array([0, 9]), array([4, 9]), array([6, 0]), array([6, 0]), array([6, 0]), array([6, 0]), array([9, 9]), array([0, 9]), array([4, 9]), array([6, 0]), array([6, 0]), array([9, 9]), array([6, 0]), array([4, 9]), array([1, 0]), array([6, 0]), array([4, 9]), array([6, 0]), array([6, 0]), array([6, 0]), array([6, 0]), array([9, 9]), array([6, 0]), array([6, 0]), array([0, 5]), array([0, 9]), array([0, 9]), array([0, 9]), array([9, 9]), array([9, 9]), array([6, 0]), array([6, 0]), array([6, 0]), array([6, 0]), array([4, 9]), array([9, 9]), array([6, 0]), array([6, 0]), array([9, 9]), array([6, 0]), array([6, 0]), array([9, 9]), array([9, 9]), array([6, 0]), array([0, 0]), array([0, 9]), array([9, 9]), array([6, 0]), array([9, 9]), array([6, 0]), array([9, 9]), array([6, 0]), array([1, 0]), array([9, 9]), array([6, 0]), array([6, 0]), array([6, 0]), array([6, 0]), array([6, 0]), array([9, 9]), array([6, 0]), array([0, 9]), array([6, 0]), array([9, 9]), array([0, 9]), array([1, 0]), array([6, 0]), array([6, 0]), array([6, 0]), array([6, 0]), array([6, 0]), array([6, 0]), array([6, 0]), array([9, 9]), array([9, 9]), array([9, 9]), array([0, 9]), array([6, 0]), array([6, 0]), array([6, 0]), array([6, 0]), array([6, 0]), array([6, 0]), array([0, 9]), array([1, 0]), array([6, 0]), array([9, 9]), array([6, 0]), array([0, 9]), array([6, 0]), array([0, 9]), array([0, 5]), array([6, 0]), array([6, 0]), array([9, 9]), array([6, 0]), array([4, 9]), array([0, 9]), array([4, 9]), array([9, 9]), array([9, 9]), array([4, 9]), array([6, 0]), array([6, 0]), array([0, 9]), array([9, 9]), array([6, 0]), array([9, 9]), array([0, 9]), array([6, 0]), array([6, 0]), array([6, 0]), array([9, 9]), array([2, 4]), array([6, 0]), array([9, 9]), array([6, 0]), array([9, 9]), array([9, 9]), array([6, 0]), array([6, 0]), array([9, 9]), array([6, 0]), array([2, 4]), array([6, 0]), array([6, 0]), array([0, 0]), array([6, 0]), array([9, 9]), array([6, 0]), array([1, 0]), array([6, 0]), array([6, 0]), array([9, 9]), array([9, 9]), array([6, 0]), array([0, 9]), array([6, 0]), array([6, 0]), array([6, 0]), array([4, 9]), array([6, 0]), array([6, 0]), array([4, 9]), array([0, 9]), array([6, 0]), array([6, 0]), array([2, 4]), array([6, 0]), array([6, 0]), array([9, 9]), array([9, 9]), array([9, 9]), array([0, 9]), array([9, 9]), array([6, 0]), array([9, 9]), array([6, 0]), array([9, 9]), array([0, 9]), array([6, 0]), array([4, 9]), array([0, 9]), array([0, 9]), array([6, 0]), array([9, 9]), array([6, 0]), array([6, 0]), array([6, 0]), array([6, 0]), array([6, 0]), array([6, 0]), array([9, 9]), array([6, 0]), array([0, 9]), array([4, 9]), array([1, 0]), array([0, 9]), array([0, 5]), array([6, 0]), array([9, 9]), array([4, 9]), array([6, 0]), array([6, 0]), array([6, 0]), array([6, 0]), array([6, 0]), array([0, 0]), array([0, 0]), array([6, 0]), array([9, 9]), array([9, 9]), array([6, 0]), array([1, 0]), array([0, 9]), array([9, 9]), array([6, 0]), array([9, 9]), array([6, 0]), array([6, 0]), array([6, 0]), array([9, 9]), array([9, 9]), array([9, 9]), array([6, 0]), array([4, 9]), array([9, 9]), array([6, 0]), array([9, 9]), array([9, 9]), array([9, 9]), array([9, 9]), array([6, 0]), array([4, 9]), array([0, 9]), array([6, 0]), array([6, 0]), array([6, 0]), array([6, 0]), array([6, 0]), array([9, 9]), array([4, 9]), array([9, 9]), array([6, 0]), array([4, 9]), array([6, 0]), array([6, 0]), array([6, 0]), array([6, 0]), array([1, 0]), array([6, 0]), array([6, 0]), array([4, 9]), array([6, 0]), array([4, 9]), array([0, 9]), array([9, 9]), array([6, 0]), array([6, 0]), array([6, 0]), array([4, 9]), array([4, 9]), array([9, 9]), array([0, 0]), array([6, 0]), array([6, 0]), array([6, 0]), array([6, 0]), array([6, 0]), array([4, 9]), array([9, 9]), array([6, 0]), array([9, 9]), array([6, 0]), array([6, 0]), array([6, 0]), array([6, 0]), array([6, 0]), array([1, 0]), array([6, 0]), array([6, 0]), array([6, 0]), array([6, 0]), array([6, 0]), array([6, 0]), array([9, 9]), array([6, 0]), array([4, 9]), array([6, 0]), array([1, 0]), array([1, 0]), array([6, 0]), array([6, 0]), array([9, 9]), array([6, 0]), array([6, 0]), array([6, 0]), array([6, 0]), array([6, 0]), array([9, 9]), array([9, 9]), array([6, 0]), array([0, 9]), array([6, 0]), array([6, 0]), array([6, 0]), array([4, 9]), array([9, 9]), array([9, 9]), array([6, 0]), array([6, 0]), array([6, 0]), array([6, 0]), array([9, 9]), array([9, 9]), array([9, 9]), array([6, 0]), array([6, 0]), array([6, 0]), array([0, 9]), array([4, 9]), array([0, 9]), array([6, 0]), array([4, 9]), array([6, 0]), array([6, 0]), array([0, 9]), array([4, 9]), array([0, 9]), array([6, 0]), array([6, 0]), array([6, 0]), array([6, 0]), array([4, 9]), array([0, 9]), array([6, 0]), array([9, 9]), array([9, 9]), array([6, 0]), array([4, 9]), array([4, 9]), array([4, 9]), array([9, 9]), array([9, 9]), array([9, 9]), array([9, 9]), array([9, 9]), array([0, 9]), array([0, 9]), array([9, 9]), array([6, 0]), array([4, 9]), array([4, 9]), array([6, 0]), array([9, 9]), array([6, 0]), array([6, 0]), array([6, 0]), array([9, 9]), array([6, 0]), array([6, 0]), array([6, 0]), array([6, 0]), array([4, 9]), array([9, 9]), array([6, 0]), array([9, 9]), array([9, 9]), array([6, 0]), array([1, 0]), array([6, 0]), array([9, 9]), array([6, 0]), array([6, 0]), array([6, 0]), array([6, 0]), array([9, 9]), array([6, 0]), array([6, 0]), array([6, 0]), array([6, 0]), array([4, 9]), array([6, 0]), array([6, 0]), array([9, 9]), array([9, 9]), array([6, 0]), array([6, 0]), array([6, 0]), array([6, 0]), array([6, 0]), array([9, 9]), array([9, 9]), array([0, 9]), array([9, 9]), array([0, 0]), array([9, 9]), array([6, 0]), array([6, 0]), array([6, 0]), array([6, 0]), array([1, 0]), array([6, 0]), array([0, 9]), array([6, 0]), array([6, 0]), array([9, 9]), array([6, 0]), array([0, 0]), array([0, 9]), array([0, 5]), array([6, 0]), array([6, 0]), array([9, 9]), array([9, 9]), array([6, 0]), array([6, 0]), array([6, 0]), array([6, 0]), array([6, 0]), array([6, 0]), array([9, 9]), array([6, 0]), array([0, 9]), array([6, 0]), array([6, 0]), array([6, 0]), array([0, 0]), array([9, 9]), array([6, 0]), array([6, 0]), array([6, 0]), array([6, 0]), array([4, 9]), array([0, 5]), array([9, 9]), array([9, 9]), array([9, 9]), array([6, 0]), array([6, 0]), array([6, 0]), array([0, 9]), array([1, 0]), array([6, 0]), array([6, 0]), array([9, 9]), array([6, 0]), array([9, 9]), array([6, 0]), array([6, 0]), array([6, 0]), array([6, 0]), array([6, 0]), array([6, 0]), array([6, 0]), array([9, 9]), array([9, 9]), array([6, 0]), array([6, 0]), array([9, 9]), array([6, 0]), array([6, 0]), array([6, 0]), array([6, 0]), array([6, 0]), array([6, 0]), array([9, 9]), array([9, 9]), array([6, 0]), array([4, 9]), array([1, 0]), array([4, 9]), array([6, 0]), array([4, 9]), array([6, 0]), array([4, 9]), array([6, 0]), array([4, 9]), array([6, 0]), array([9, 9]), array([6, 0]), array([6, 0]), array([9, 9]), array([0, 9]), array([6, 0]), array([6, 0]), array([6, 0]), array([6, 0]), array([1, 0]), array([2, 4]), array([6, 0]), array([6, 0]), array([4, 9]), array([6, 0]), array([6, 0]), array([6, 0]), array([9, 9]), array([9, 9]), array([0, 5]), array([0, 9]), array([9, 9]), array([9, 9]), array([4, 9]), array([9, 9]), array([6, 0]), array([2, 4]), array([9, 9]), array([1, 0]), array([0, 9]), array([0, 9]), array([0, 9]), array([0, 0]), array([6, 0]), array([1, 0]), array([9, 9]), array([6, 0]), array([6, 0]), array([4, 9]), array([6, 0]), array([4, 9]), array([9, 9]), array([6, 0]), array([9, 9]), array([9, 9]), array([6, 0]), array([9, 9]), array([9, 9]), array([9, 9]), array([6, 0]), array([9, 9]), array([1, 0]), array([6, 0]), array([6, 0]), array([0, 9]), array([6, 0]), array([6, 0]), array([9, 9]), array([0, 9]), array([4, 9]), array([0, 9]), array([6, 0]), array([6, 0]), array([6, 0]), array([6, 0]), array([2, 4]), array([6, 0]), array([9, 9]), array([0, 9]), array([4, 9]), array([4, 9]), array([6, 0]), array([6, 0]), array([6, 0]), array([6, 0]), array([4, 9]), array([6, 0]), array([6, 0]), array([4, 9]), array([6, 0]), array([0, 5]), array([6, 0]), array([6, 0]), array([6, 0]), array([9, 9]), array([6, 0]), array([6, 0]), array([6, 0]), array([0, 9]), array([6, 0]), array([0, 9]), array([6, 0]), array([6, 0]), array([6, 0]), array([6, 0]), array([6, 0]), array([6, 0]), array([4, 9]), array([6, 0]), array([9, 9]), array([4, 9]), array([6, 0]), array([6, 0]), array([9, 9]), array([4, 9]), array([6, 0]), array([6, 0]), array([6, 0]), array([0, 9]), array([6, 0]), array([9, 9]), array([6, 0]), array([6, 0]), array([6, 0]), array([6, 0]), array([6, 0]), array([6, 0]), array([6, 0]), array([2, 4]), array([6, 0]), array([6, 0]), array([6, 0]), array([4, 9]), array([6, 0]), array([6, 0]), array([9, 9]), array([4, 9]), array([6, 0]), array([9, 9]), array([0, 9]), array([0, 9]), array([2, 4]), array([9, 9]), array([9, 9]), array([6, 0]), array([9, 9]), array([6, 0]), array([4, 9]), array([6, 0]), array([6, 0]), array([6, 0]), array([6, 0]), array([6, 0]), array([9, 9]), array([6, 0]), array([6, 0]), array([9, 9]), array([6, 0]), array([9, 9]), array([6, 0]), array([4, 9]), array([6, 0]), array([9, 9]), array([6, 0]), array([4, 9]), array([9, 9]), array([6, 0]), array([4, 9]), array([0, 9]), array([9, 9]), array([6, 0]), array([6, 0]), array([6, 0]), array([0, 9]), array([9, 9]), array([4, 9]), array([6, 0]), array([6, 0]), array([4, 9]), array([0, 0]), array([9, 9]), array([9, 9]), array([6, 0]), array([9, 9]), array([4, 9]), array([9, 9]), array([6, 0]), array([0, 9]), array([9, 9]), array([6, 0]), array([6, 0]), array([2, 4]), array([1, 0]), array([9, 9]), array([4, 9]), array([1, 0]), array([6, 0]), array([4, 9]), array([0, 9]), array([6, 0]), array([4, 9]), array([1, 0]), array([6, 0]), array([6, 0]), array([6, 0]), array([0, 9]), array([6, 0]), array([9, 9]), array([9, 9]), array([4, 9]), array([9, 9]), array([9, 9]), array([6, 0]), array([6, 0]), array([9, 9]), array([6, 0]), array([9, 9]), array([9, 9]), array([6, 0]), array([6, 0]), array([6, 0]), array([9, 9]), array([9, 9]), array([6, 0]), array([9, 9]), array([9, 9]), array([6, 0]), array([9, 9]), array([0, 9]), array([6, 0]), array([6, 0]), array([6, 0]), array([4, 9]), array([6, 0]), array([4, 9]), array([6, 0]), array([9, 9]), array([6, 0]), array([6, 0]), array([4, 9]), array([6, 0]), array([6, 0]), array([2, 4]), array([6, 0]), array([6, 0]), array([4, 9]), array([6, 0]), array([6, 0]), array([9, 9]), array([9, 9]), array([9, 9]), array([6, 0]), array([6, 0]), array([6, 0]), array([9, 9]), array([2, 4]), array([6, 0]), array([4, 9]), array([9, 9]), array([9, 9]), array([0, 9]), array([0, 5]), array([1, 0]), array([4, 9]), array([6, 0]), array([6, 0]), array([9, 9]), array([9, 9]), array([6, 0]), array([9, 9]), array([9, 9]), array([6, 0]), array([0, 9]), array([6, 0]), array([2, 4]), array([6, 0]), array([6, 0]), array([9, 9]), array([6, 0]), array([9, 9]), array([6, 0]), array([2, 4]), array([0, 9]), array([6, 0]), array([1, 0]), array([4, 9]), array([6, 0]), array([6, 0]), array([6, 0]), array([6, 0]), array([4, 9])]\n"
     ]
    },
    {
     "data": {
      "text/plain": [
       "<matplotlib.image.AxesImage at 0x7f7febb84d50>"
      ]
     },
     "metadata": {},
     "output_type": "display_data"
    },
    {
     "data": {
      "image/png": "[encoded data removed]",
      "text/plain": [
       "<Figure size 432x288 with 1 Axes>"
      ]
     },
     "metadata": {},
     "output_type": "display_data"
    }
   ],
   "source": [
    "import susi\n",
    "import numpy as np\n",
    "import matplotlib.pyplot as plt\n",
    "som = susi.SOMClustering()\n",
    "som.fit(np_vectors)\n",
    "umat = som.get_u_matrix()\n",
    "clusters = som.get_bmus(np_vectors)\n",
    "print(clusters)\n",
    "plt.imshow(np.squeeze(umat))"
   ]
  },
  {
   "cell_type": "markdown",
   "metadata": {},
   "source": [
    "### Unique Clusters"
   ]
  },
  {
   "cell_type": "code",
   "execution_count": null,
   "metadata": {},
   "outputs": [
    {
     "data": {
      "text/plain": [
       "array([[0, 0],\n",
       "       [0, 5],\n",
       "       [0, 9],\n",
       "       [1, 0],\n",
       "       [2, 4],\n",
       "       [4, 7],\n",
       "       [4, 9],\n",
       "       [6, 0],\n",
       "       [8, 6],\n",
       "       [9, 3],\n",
       "       [9, 4],\n",
       "       [9, 9]])"
      ]
     },
     "metadata": {},
     "output_type": "display_data"
    }
   ],
   "source": [
    "unique_clusters = np.unique(clusters, axis=0)\n",
    "unique_clusters"
   ]
  },
  {
   "cell_type": "markdown",
   "metadata": {},
   "source": [
    "## Making Sub Event Logs on the basis of SOM Clusters"
   ]
  },
  {
   "cell_type": "code",
   "execution_count": null,
   "metadata": {},
   "outputs": [],
   "source": [
    "\n",
    "som_sub_log1 = EventLog()\n",
    "som_sub_log2 = EventLog()\n",
    "som_sub_log3 = EventLog()\n",
    "som_sub_log4 = EventLog()\n",
    "som_sub_log5 = EventLog()\n",
    "som_sub_log6 = EventLog()\n",
    "som_sub_log7 = EventLog()\n",
    "som_sub_log8 = EventLog()\n",
    "som_sub_log9 = EventLog()\n",
    "som_sub_log10 = EventLog()\n",
    "som_sub_log11 = EventLog()\n",
    "som_sub_log12 = EventLog()\n",
    "\n",
    "\n",
    "\n",
    "for i in range(len(clusters)):\n",
    "    if clusters[i][0] == unique_clusters[0][0] and clusters[i][1] ==unique_clusters[0][1]:\n",
    "        som_sub_log1.append(log[i])\n",
    "    \n",
    "    elif clusters[i][0] == unique_clusters[1][0] and clusters[i][1] ==unique_clusters[1][1]:\n",
    "        som_sub_log2.append(log[i])\n",
    "\n",
    "    elif clusters[i][0] == unique_clusters[2][0] and clusters[i][1] ==unique_clusters[2][1]:\n",
    "        som_sub_log3.append(log[i])\n",
    "        \n",
    "    elif clusters[i][0] == unique_clusters[3][0] and clusters[i][1] ==unique_clusters[3][1]:\n",
    "        som_sub_log4.append(log[i])\n",
    "\n",
    "    elif clusters[i][0] == unique_clusters[4][0] and clusters[i][1] ==unique_clusters[4][1]:\n",
    "        som_sub_log5.append(log[i])\n",
    "\n",
    "    elif clusters[i][0] == unique_clusters[5][0] and clusters[i][1] ==unique_clusters[5][1]:\n",
    "        som_sub_log6.append(log[i])\n",
    "\n",
    "    elif clusters[i][0] == unique_clusters[6][0] and clusters[i][1] ==unique_clusters[6][1]:\n",
    "        som_sub_log7.append(log[i])\n",
    "\n",
    "    elif clusters[i][0] == unique_clusters[7][0] and clusters[i][1] ==unique_clusters[7][1]:\n",
    "        som_sub_log8.append(log[i])\n",
    "\n",
    "    elif clusters[i][0] == unique_clusters[8][0] and clusters[i][1] ==unique_clusters[8][1]:\n",
    "        som_sub_log9.append(log[i])\n",
    "        \n",
    "    elif clusters[i][0] == unique_clusters[9][0] and clusters[i][1] ==unique_clusters[9][1]:\n",
    "        som_sub_log10.append(log[i])\n",
    "\n",
    "    elif clusters[i][0] == unique_clusters[10][0] and clusters[i][1] ==unique_clusters[10][1]:\n",
    "        som_sub_log11.append(log[i])\n",
    "\n",
    "\n",
    "    elif clusters[i][0] == unique_clusters[11][0] and clusters[i][1] ==unique_clusters[11][1]:\n",
    "        som_sub_log12.append(log[i])\n"
   ]
  },
  {
   "cell_type": "markdown",
   "metadata": {},
   "source": [
    "### Checking sizes of clusters"
   ]
  },
  {
   "cell_type": "code",
   "execution_count": null,
   "metadata": {},
   "outputs": [
    {
     "data": {
      "text/plain": [
       "(13, 10, 88, 38, 29, 14)"
      ]
     },
     "metadata": {},
     "output_type": "display_data"
    }
   ],
   "source": [
    "len(som_sub_log1),len(som_sub_log2),len(som_sub_log3),len(som_sub_log4),len(som_sub_log5),len(som_sub_log6)"
   ]
  },
  {
   "cell_type": "code",
   "execution_count": null,
   "metadata": {},
   "outputs": [
    {
     "data": {
      "text/plain": [
       "(101, 524, 31, 44, 1, 211)"
      ]
     },
     "metadata": {},
     "output_type": "display_data"
    }
   ],
   "source": [
    "len(som_sub_log7),len(som_sub_log8),len(som_sub_log9),len(som_sub_log10),len(som_sub_log11),len(som_sub_log12)"
   ]
  },
  {
   "cell_type": "markdown",
   "metadata": {},
   "source": [
    "# Petrinets from Alpha miner on Sub Event Logs generated from SOM"
   ]
  },
  {
   "cell_type": "markdown",
   "metadata": {},
   "source": [
    "## Petrinets from Alpha miner on Sub Event Log1"
   ]
  },
  {
   "cell_type": "code",
   "execution_count": null,
   "metadata": {},
   "outputs": [
    {
     "data": {
      "image/png": "[encoded data removed]",
      "text/plain": [
       "<IPython.core.display.Image object>"
      ]
     },
     "metadata": {},
     "output_type": "display_data"
    }
   ],
   "source": [
    "\n",
    "## Import the petrinet visualizer object\n",
    "from pm4py.algo.discovery.alpha import algorithm as alpha_miner\n",
    "net, initial_marking, final_marking = alpha_miner.apply(som_sub_log1)\n",
    "from pm4py.visualization.petrinet import visualizer as pn_visualizer\n",
    "# Visualise \n",
    "gviz = pn_visualizer.apply(net, initial_marking, final_marking) \n",
    "pn_visualizer.view(gviz)"
   ]
  },
  {
   "cell_type": "markdown",
   "metadata": {},
   "source": [
    "## Log Fitness and Precision of SubLog1"
   ]
  },
  {
   "cell_type": "code",
   "execution_count": null,
   "metadata": {},
   "outputs": [
    {
     "name": "stderr",
     "output_type": "stream",
     "text": [
      "replaying log with TBR, completed variants :: 100%|██████████| 6/6 [00:00<00:00, 298.85it/s]\n",
      "replaying log with TBR, completed variants :: 100%|██████████| 75/75 [00:00<00:00, 1325.79it/s]"
     ]
    },
    {
     "name": "stdout",
     "output_type": "stream",
     "text": [
      "Fitness of Petrinet is:  86.11111111111111 %\n",
      "Precision of Petrinet is:  20.91212458286985 %\n",
      "Simplicity of Petrinet is:  100.0 %\n"
     ]
    },
    {
     "name": "stderr",
     "output_type": "stream",
     "text": [
      "\n"
     ]
    }
   ],
   "source": [
    "net, im, fm = alpha_miner.apply(som_sub_log1)\n",
    "fitness = replay_fitness_evaluator.apply(som_sub_log1, net, im, fm, variant=replay_fitness_evaluator.Variants.TOKEN_BASED)\n",
    "simp = simplicity_evaluator.apply(net)\n",
    "prec = precision_evaluator.apply(som_sub_log1, net, im, fm, variant=precision_evaluator.Variants.ETCONFORMANCE_TOKEN)\n",
    "print('Fitness of Petrinet is: ', fitness['log_fitness']*100,'%')\n",
    "print('Precision of Petrinet is: ', prec*100,'%')\n",
    "print('Simplicity of Petrinet is: ', simp*100,'%')"
   ]
  },
  {
   "cell_type": "markdown",
   "metadata": {},
   "source": [
    "## Petrinets from Alpha miner on Sub Event Log2"
   ]
  },
  {
   "cell_type": "code",
   "execution_count": null,
   "metadata": {},
   "outputs": [
    {
     "data": {
      "image/png": "[encoded data removed]",
      "text/plain": [
       "<IPython.core.display.Image object>"
      ]
     },
     "metadata": {},
     "output_type": "display_data"
    }
   ],
   "source": [
    "\n",
    "## Import the petrinet visualizer object\n",
    "from pm4py.algo.discovery.alpha import algorithm as alpha_miner\n",
    "net, initial_marking, final_marking = alpha_miner.apply(som_sub_log2)\n",
    "from pm4py.visualization.petrinet import visualizer as pn_visualizer\n",
    "# Visualise \n",
    "gviz = pn_visualizer.apply(net, initial_marking, final_marking) \n",
    "pn_visualizer.view(gviz)"
   ]
  },
  {
   "cell_type": "markdown",
   "metadata": {},
   "source": [
    "## Log Fitness and Precision of SubLog2"
   ]
  },
  {
   "cell_type": "code",
   "execution_count": null,
   "metadata": {},
   "outputs": [
    {
     "name": "stderr",
     "output_type": "stream",
     "text": [
      "replaying log with TBR, completed variants :: 100%|██████████| 6/6 [00:00<00:00, 869.92it/s]\n",
      "replaying log with TBR, completed variants :: 100%|██████████| 64/64 [00:00<00:00, 1151.87it/s]"
     ]
    },
    {
     "name": "stdout",
     "output_type": "stream",
     "text": [
      "Fitness of Petrinet is:  54.35393258426966 %\n",
      "Precision of Petrinet is:  17.966573816155986 %\n",
      "Simplicity of Petrinet is:  100.0 %\n"
     ]
    },
    {
     "name": "stderr",
     "output_type": "stream",
     "text": [
      "\n"
     ]
    }
   ],
   "source": [
    "net, im, fm = alpha_miner.apply(som_sub_log2)\n",
    "fitness = replay_fitness_evaluator.apply(som_sub_log2, net, im, fm, variant=replay_fitness_evaluator.Variants.TOKEN_BASED)\n",
    "simp = simplicity_evaluator.apply(net)\n",
    "prec = precision_evaluator.apply(som_sub_log2, net, im, fm, variant=precision_evaluator.Variants.ETCONFORMANCE_TOKEN)\n",
    "print('Fitness of Petrinet is: ', fitness['log_fitness']*100,'%')\n",
    "print('Precision of Petrinet is: ', prec*100,'%')\n",
    "print('Simplicity of Petrinet is: ', simp*100,'%')"
   ]
  },
  {
   "cell_type": "markdown",
   "metadata": {},
   "source": [
    "## Petrinets from Alpha miner on Sub Event Log3"
   ]
  },
  {
   "cell_type": "code",
   "execution_count": null,
   "metadata": {},
   "outputs": [
    {
     "data": {
      "image/png": "[encoded data removed]",
      "text/plain": [
       "<IPython.core.display.Image object>"
      ]
     },
     "metadata": {},
     "output_type": "display_data"
    }
   ],
   "source": [
    "\n",
    "## Import the petrinet visualizer object\n",
    "from pm4py.algo.discovery.alpha import algorithm as alpha_miner\n",
    "net, initial_marking, final_marking = alpha_miner.apply(som_sub_log3)\n",
    "from pm4py.visualization.petrinet import visualizer as pn_visualizer\n",
    "# Visualise \n",
    "gviz = pn_visualizer.apply(net, initial_marking, final_marking) \n",
    "pn_visualizer.view(gviz)"
   ]
  },
  {
   "cell_type": "markdown",
   "metadata": {},
   "source": [
    "## Log Fitness and Precision of Sub Event log 3"
   ]
  },
  {
   "cell_type": "code",
   "execution_count": null,
   "metadata": {},
   "outputs": [
    {
     "name": "stderr",
     "output_type": "stream",
     "text": [
      "replaying log with TBR, completed variants :: 100%|██████████| 15/15 [00:00<00:00, 550.53it/s]\n",
      "replaying log with TBR, completed variants :: 100%|██████████| 105/105 [00:00<00:00, 1386.07it/s]"
     ]
    },
    {
     "name": "stdout",
     "output_type": "stream",
     "text": [
      "Fitness of Petrinet is:  53.925092764378476 %\n",
      "Precision of Petrinet is:  23.427844420210832 %\n",
      "Simplicity of Petrinet is:  100.0 %\n"
     ]
    },
    {
     "name": "stderr",
     "output_type": "stream",
     "text": [
      "\n"
     ]
    }
   ],
   "source": [
    "net, im, fm = alpha_miner.apply(som_sub_log3)\n",
    "fitness = replay_fitness_evaluator.apply(som_sub_log3, net, im, fm, variant=replay_fitness_evaluator.Variants.TOKEN_BASED)\n",
    "simp = simplicity_evaluator.apply(net)\n",
    "prec = precision_evaluator.apply(som_sub_log3, net, im, fm, variant=precision_evaluator.Variants.ETCONFORMANCE_TOKEN)\n",
    "print('Fitness of Petrinet is: ', fitness['log_fitness']*100,'%')\n",
    "print('Precision of Petrinet is: ', prec*100,'%')\n",
    "print('Simplicity of Petrinet is: ', simp*100,'%')"
   ]
  },
  {
   "cell_type": "markdown",
   "metadata": {},
   "source": [
    "## Petrinets from Alpha miner on Sub Event Log 4"
   ]
  },
  {
   "cell_type": "code",
   "execution_count": null,
   "metadata": {},
   "outputs": [
    {
     "data": {
      "image/png": "[encoded data removed]",
      "text/plain": [
       "<IPython.core.display.Image object>"
      ]
     },
     "metadata": {},
     "output_type": "display_data"
    }
   ],
   "source": [
    "\n",
    "## Import the petrinet visualizer object\n",
    "from pm4py.algo.discovery.alpha import algorithm as alpha_miner\n",
    "net, initial_marking, final_marking = alpha_miner.apply(som_sub_log4)\n",
    "from pm4py.visualization.petrinet import visualizer as pn_visualizer\n",
    "# Visualise \n",
    "gviz = pn_visualizer.apply(net, initial_marking, final_marking) \n",
    "pn_visualizer.view(gviz)"
   ]
  },
  {
   "cell_type": "markdown",
   "metadata": {},
   "source": [
    "## Log Fitness and Precision of SubLog 4"
   ]
  },
  {
   "cell_type": "code",
   "execution_count": null,
   "metadata": {},
   "outputs": [
    {
     "name": "stderr",
     "output_type": "stream",
     "text": [
      "replaying log with TBR, completed variants :: 100%|██████████| 8/8 [00:00<00:00, 790.69it/s]\n",
      "replaying log with TBR, completed variants :: 100%|██████████| 49/49 [00:00<00:00, 1442.28it/s]"
     ]
    },
    {
     "name": "stdout",
     "output_type": "stream",
     "text": [
      "Fitness of Petrinet is:  62.799043062200965 %\n",
      "Precision of Petrinet is:  23.1457800511509 %\n",
      "Simplicity of Petrinet is:  100.0 %\n"
     ]
    },
    {
     "name": "stderr",
     "output_type": "stream",
     "text": [
      "\n"
     ]
    }
   ],
   "source": [
    "net, im, fm = alpha_miner.apply(som_sub_log4)\n",
    "fitness = replay_fitness_evaluator.apply(som_sub_log4, net, im, fm, variant=replay_fitness_evaluator.Variants.TOKEN_BASED)\n",
    "simp = simplicity_evaluator.apply(net)\n",
    "prec = precision_evaluator.apply(som_sub_log4, net, im, fm, variant=precision_evaluator.Variants.ETCONFORMANCE_TOKEN)\n",
    "print('Fitness of Petrinet is: ', fitness['log_fitness']*100,'%')\n",
    "print('Precision of Petrinet is: ', prec*100,'%')\n",
    "print('Simplicity of Petrinet is: ', simp*100,'%')"
   ]
  },
  {
   "cell_type": "markdown",
   "metadata": {},
   "source": [
    "## Petrinets from Alpha miner on Sub Event Log 5"
   ]
  },
  {
   "cell_type": "code",
   "execution_count": null,
   "metadata": {},
   "outputs": [
    {
     "data": {
      "image/png": "[encoded data removed]",
      "text/plain": [
       "<IPython.core.display.Image object>"
      ]
     },
     "metadata": {},
     "output_type": "display_data"
    }
   ],
   "source": [
    "\n",
    "## Import the petrinet visualizer object\n",
    "from pm4py.algo.discovery.alpha import algorithm as alpha_miner\n",
    "net, initial_marking, final_marking = alpha_miner.apply(som_sub_log5)\n",
    "from pm4py.visualization.petrinet import visualizer as pn_visualizer\n",
    "# Visualise \n",
    "gviz = pn_visualizer.apply(net, initial_marking, final_marking) \n",
    "pn_visualizer.view(gviz)"
   ]
  },
  {
   "cell_type": "markdown",
   "metadata": {},
   "source": [
    "## Log Fitness and Precision of SubLog 5"
   ]
  },
  {
   "cell_type": "code",
   "execution_count": null,
   "metadata": {},
   "outputs": [
    {
     "name": "stderr",
     "output_type": "stream",
     "text": [
      "replaying log with TBR, completed variants :: 100%|██████████| 8/8 [00:00<00:00, 576.99it/s]\n",
      "replaying log with TBR, completed variants :: 100%|██████████| 49/49 [00:00<00:00, 1425.04it/s]"
     ]
    },
    {
     "name": "stdout",
     "output_type": "stream",
     "text": [
      "Fitness of Petrinet is:  60.20402298850575 %\n",
      "Precision of Petrinet is:  19.819819819819816 %\n",
      "Simplicity of Petrinet is:  100.0 %\n"
     ]
    },
    {
     "name": "stderr",
     "output_type": "stream",
     "text": [
      "\n"
     ]
    }
   ],
   "source": [
    "net, im, fm = alpha_miner.apply(som_sub_log5)\n",
    "fitness = replay_fitness_evaluator.apply(som_sub_log5, net, im, fm, variant=replay_fitness_evaluator.Variants.TOKEN_BASED)\n",
    "simp = simplicity_evaluator.apply(net)\n",
    "prec = precision_evaluator.apply(som_sub_log5, net, im, fm, variant=precision_evaluator.Variants.ETCONFORMANCE_TOKEN)\n",
    "print('Fitness of Petrinet is: ', fitness['log_fitness']*100,'%')\n",
    "print('Precision of Petrinet is: ', prec*100,'%')\n",
    "print('Simplicity of Petrinet is: ', simp*100,'%')"
   ]
  },
  {
   "cell_type": "markdown",
   "metadata": {},
   "source": [
    "## Petrinets from Alpha miner on Sub Event Log 6"
   ]
  },
  {
   "cell_type": "code",
   "execution_count": null,
   "metadata": {},
   "outputs": [
    {
     "data": {
      "image/png": "[encoded data removed]",
      "text/plain": [
       "<IPython.core.display.Image object>"
      ]
     },
     "metadata": {},
     "output_type": "display_data"
    }
   ],
   "source": [
    "\n",
    "## Import the petrinet visualizer object\n",
    "from pm4py.algo.discovery.alpha import algorithm as alpha_miner\n",
    "net, initial_marking, final_marking = alpha_miner.apply(som_sub_log6)\n",
    "from pm4py.visualization.petrinet import visualizer as pn_visualizer\n",
    "# Visualise \n",
    "gviz = pn_visualizer.apply(net, initial_marking, final_marking) \n",
    "pn_visualizer.view(gviz)"
   ]
  },
  {
   "cell_type": "markdown",
   "metadata": {},
   "source": [
    "## Log Fitness and Precision of SubLog 6"
   ]
  },
  {
   "cell_type": "code",
   "execution_count": null,
   "metadata": {},
   "outputs": [
    {
     "name": "stderr",
     "output_type": "stream",
     "text": [
      "replaying log with TBR, completed variants :: 100%|██████████| 6/6 [00:00<00:00, 1382.89it/s]\n",
      "replaying log with TBR, completed variants :: 100%|██████████| 43/43 [00:00<00:00, 1179.79it/s]"
     ]
    },
    {
     "name": "stdout",
     "output_type": "stream",
     "text": [
      "Fitness of Petrinet is:  62.9251700680272 %\n",
      "Precision of Petrinet is:  28.000000000000004 %\n",
      "Simplicity of Petrinet is:  100.0 %\n"
     ]
    },
    {
     "name": "stderr",
     "output_type": "stream",
     "text": [
      "\n"
     ]
    }
   ],
   "source": [
    "net, im, fm = alpha_miner.apply(som_sub_log6)\n",
    "fitness = replay_fitness_evaluator.apply(som_sub_log6, net, im, fm, variant=replay_fitness_evaluator.Variants.TOKEN_BASED)\n",
    "simp = simplicity_evaluator.apply(net)\n",
    "prec = precision_evaluator.apply(som_sub_log6, net, im, fm, variant=precision_evaluator.Variants.ETCONFORMANCE_TOKEN)\n",
    "print('Fitness of Petrinet is: ', fitness['log_fitness']*100,'%')\n",
    "print('Precision of Petrinet is: ', prec*100,'%')\n",
    "print('Simplicity of Petrinet is: ', simp*100,'%')"
   ]
  },
  {
   "cell_type": "markdown",
   "metadata": {},
   "source": [
    "## Petrinets from Alpha miner on Sub Event Log7"
   ]
  },
  {
   "cell_type": "code",
   "execution_count": null,
   "metadata": {},
   "outputs": [
    {
     "data": {
      "image/png": "[encoded data removed]",
      "text/plain": [
       "<IPython.core.display.Image object>"
      ]
     },
     "metadata": {},
     "output_type": "display_data"
    }
   ],
   "source": [
    "\n",
    "## Import the petrinet visualizer object\n",
    "from pm4py.algo.discovery.alpha import algorithm as alpha_miner\n",
    "net, initial_marking, final_marking = alpha_miner.apply(som_sub_log7)\n",
    "from pm4py.visualization.petrinet import visualizer as pn_visualizer\n",
    "# Visualise \n",
    "gviz = pn_visualizer.apply(net, initial_marking, final_marking) \n",
    "pn_visualizer.view(gviz)"
   ]
  },
  {
   "cell_type": "markdown",
   "metadata": {},
   "source": [
    "## Log Fitness and Precision of som_sub_log7"
   ]
  },
  {
   "cell_type": "code",
   "execution_count": null,
   "metadata": {},
   "outputs": [
    {
     "name": "stderr",
     "output_type": "stream",
     "text": [
      "replaying log with TBR, completed variants :: 100%|██████████| 9/9 [00:00<00:00, 640.93it/s]\n",
      "replaying log with TBR, completed variants :: 100%|██████████| 64/64 [00:00<00:00, 1808.38it/s]"
     ]
    },
    {
     "name": "stdout",
     "output_type": "stream",
     "text": [
      "Fitness of Petrinet is:  100.0 %\n",
      "Precision of Petrinet is:  25.213675213675213 %\n",
      "Simplicity of Petrinet is:  100.0 %\n"
     ]
    },
    {
     "name": "stderr",
     "output_type": "stream",
     "text": [
      "\n"
     ]
    }
   ],
   "source": [
    "net, im, fm = alpha_miner.apply(som_sub_log7)\n",
    "fitness = replay_fitness_evaluator.apply(som_sub_log7, net, im, fm, variant=replay_fitness_evaluator.Variants.TOKEN_BASED)\n",
    "simp = simplicity_evaluator.apply(net)\n",
    "prec = precision_evaluator.apply(som_sub_log7, net, im, fm, variant=precision_evaluator.Variants.ETCONFORMANCE_TOKEN)\n",
    "print('Fitness of Petrinet is: ', fitness['log_fitness']*100,'%')\n",
    "print('Precision of Petrinet is: ', prec*100,'%')\n",
    "print('Simplicity of Petrinet is: ', simp*100,'%')"
   ]
  },
  {
   "cell_type": "markdown",
   "metadata": {},
   "source": [
    "## Petrinets from Alpha miner on Sub Event Log 8"
   ]
  },
  {
   "cell_type": "code",
   "execution_count": null,
   "metadata": {},
   "outputs": [
    {
     "data": {
      "image/png": "[encoded data removed]",
      "text/plain": [
       "<IPython.core.display.Image object>"
      ]
     },
     "metadata": {},
     "output_type": "display_data"
    }
   ],
   "source": [
    "\n",
    "## Import the petrinet visualizer object\n",
    "from pm4py.algo.discovery.alpha import algorithm as alpha_miner\n",
    "net, initial_marking, final_marking = alpha_miner.apply(som_sub_log8)\n",
    "from pm4py.visualization.petrinet import visualizer as pn_visualizer\n",
    "# Visualise \n",
    "gviz = pn_visualizer.apply(net, initial_marking, final_marking) \n",
    "pn_visualizer.view(gviz)"
   ]
  },
  {
   "cell_type": "markdown",
   "metadata": {},
   "source": [
    "## Log Fitness and Precision of Sub Event log 3"
   ]
  },
  {
   "cell_type": "code",
   "execution_count": null,
   "metadata": {},
   "outputs": [
    {
     "name": "stderr",
     "output_type": "stream",
     "text": [
      "replaying log with TBR, completed variants :: 100%|██████████| 5/5 [00:00<00:00, 488.47it/s]\n",
      "replaying log with TBR, completed variants :: 100%|██████████| 22/22 [00:00<00:00, 2815.83it/s]"
     ]
    },
    {
     "name": "stdout",
     "output_type": "stream",
     "text": [
      "Fitness of Petrinet is:  100.0 %\n",
      "Precision of Petrinet is:  28.86808591522524 %\n",
      "Simplicity of Petrinet is:  100.0 %\n"
     ]
    },
    {
     "name": "stderr",
     "output_type": "stream",
     "text": [
      "\n"
     ]
    }
   ],
   "source": [
    "net, im, fm = alpha_miner.apply(som_sub_log8)\n",
    "fitness = replay_fitness_evaluator.apply(som_sub_log8, net, im, fm, variant=replay_fitness_evaluator.Variants.TOKEN_BASED)\n",
    "simp = simplicity_evaluator.apply(net)\n",
    "prec = precision_evaluator.apply(som_sub_log8, net, im, fm, variant=precision_evaluator.Variants.ETCONFORMANCE_TOKEN)\n",
    "print('Fitness of Petrinet is: ', fitness['log_fitness']*100,'%')\n",
    "print('Precision of Petrinet is: ', prec*100,'%')\n",
    "print('Simplicity of Petrinet is: ', simp*100,'%')"
   ]
  },
  {
   "cell_type": "markdown",
   "metadata": {},
   "source": [
    "## Petrinets from Alpha miner on Sub Event Log 9"
   ]
  },
  {
   "cell_type": "code",
   "execution_count": null,
   "metadata": {},
   "outputs": [
    {
     "data": {
      "image/png": "[encoded data removed]",
      "text/plain": [
       "<IPython.core.display.Image object>"
      ]
     },
     "metadata": {},
     "output_type": "display_data"
    }
   ],
   "source": [
    "\n",
    "## Import the petrinet visualizer object\n",
    "from pm4py.algo.discovery.alpha import algorithm as alpha_miner\n",
    "net, initial_marking, final_marking = alpha_miner.apply(som_sub_log9)\n",
    "from pm4py.visualization.petrinet import visualizer as pn_visualizer\n",
    "# Visualise \n",
    "gviz = pn_visualizer.apply(net, initial_marking, final_marking) \n",
    "pn_visualizer.view(gviz)"
   ]
  },
  {
   "cell_type": "markdown",
   "metadata": {},
   "source": [
    "## Log Fitness and Precision of SubLog 9"
   ]
  },
  {
   "cell_type": "code",
   "execution_count": null,
   "metadata": {},
   "outputs": [
    {
     "name": "stderr",
     "output_type": "stream",
     "text": [
      "replaying log with TBR, completed variants :: 100%|██████████| 4/4 [00:00<00:00, 1253.25it/s]\n",
      "replaying log with TBR, completed variants :: 100%|██████████| 15/15 [00:00<00:00, 1788.06it/s]"
     ]
    },
    {
     "name": "stdout",
     "output_type": "stream",
     "text": [
      "Fitness of Petrinet is:  75.0 %\n",
      "Precision of Petrinet is:  31.671554252199417 %\n",
      "Simplicity of Petrinet is:  100.0 %\n"
     ]
    },
    {
     "name": "stderr",
     "output_type": "stream",
     "text": [
      "\n"
     ]
    }
   ],
   "source": [
    "net, im, fm = alpha_miner.apply(som_sub_log9)\n",
    "fitness = replay_fitness_evaluator.apply(som_sub_log9, net, im, fm, variant=replay_fitness_evaluator.Variants.TOKEN_BASED)\n",
    "simp = simplicity_evaluator.apply(net)\n",
    "prec = precision_evaluator.apply(som_sub_log9, net, im, fm, variant=precision_evaluator.Variants.ETCONFORMANCE_TOKEN)\n",
    "print('Fitness of Petrinet is: ', fitness['log_fitness']*100,'%')\n",
    "print('Precision of Petrinet is: ', prec*100,'%')\n",
    "print('Simplicity of Petrinet is: ', simp*100,'%')"
   ]
  },
  {
   "cell_type": "markdown",
   "metadata": {},
   "source": [
    "## Petrinets from Alpha miner on Sub Event Log 10"
   ]
  },
  {
   "cell_type": "code",
   "execution_count": null,
   "metadata": {},
   "outputs": [
    {
     "data": {
      "image/png": "[encoded data removed]",
      "text/plain": [
       "<IPython.core.display.Image object>"
      ]
     },
     "metadata": {},
     "output_type": "display_data"
    }
   ],
   "source": [
    "\n",
    "## Import the petrinet visualizer object\n",
    "from pm4py.algo.discovery.alpha import algorithm as alpha_miner\n",
    "net, initial_marking, final_marking = alpha_miner.apply(som_sub_log10)\n",
    "from pm4py.visualization.petrinet import visualizer as pn_visualizer\n",
    "# Visualise \n",
    "gviz = pn_visualizer.apply(net, initial_marking, final_marking) \n",
    "pn_visualizer.view(gviz)"
   ]
  },
  {
   "cell_type": "markdown",
   "metadata": {},
   "source": [
    "## Log Fitness and Precision of SubLog 10"
   ]
  },
  {
   "cell_type": "code",
   "execution_count": null,
   "metadata": {},
   "outputs": [
    {
     "name": "stderr",
     "output_type": "stream",
     "text": [
      "replaying log with TBR, completed variants :: 100%|██████████| 5/5 [00:00<00:00, 536.55it/s]\n",
      "replaying log with TBR, completed variants :: 100%|██████████| 15/15 [00:00<00:00, 1757.88it/s]"
     ]
    },
    {
     "name": "stdout",
     "output_type": "stream",
     "text": [
      "Fitness of Petrinet is:  66.85823754789271 %\n",
      "Precision of Petrinet is:  30.833333333333336 %\n",
      "Simplicity of Petrinet is:  100.0 %\n"
     ]
    },
    {
     "name": "stderr",
     "output_type": "stream",
     "text": [
      "\n"
     ]
    }
   ],
   "source": [
    "net, im, fm = alpha_miner.apply(som_sub_log10)\n",
    "fitness = replay_fitness_evaluator.apply(som_sub_log10, net, im, fm, variant=replay_fitness_evaluator.Variants.TOKEN_BASED)\n",
    "simp = simplicity_evaluator.apply(net)\n",
    "prec = precision_evaluator.apply(som_sub_log10, net, im, fm, variant=precision_evaluator.Variants.ETCONFORMANCE_TOKEN)\n",
    "print('Fitness of Petrinet is: ', fitness['log_fitness']*100,'%')\n",
    "print('Precision of Petrinet is: ', prec*100,'%')\n",
    "print('Simplicity of Petrinet is: ', simp*100,'%')"
   ]
  },
  {
   "cell_type": "markdown",
   "metadata": {},
   "source": [
    "## Petrinets from Alpha miner on Sub Event Log 11"
   ]
  },
  {
   "cell_type": "code",
   "execution_count": null,
   "metadata": {},
   "outputs": [
    {
     "data": {
      "image/png": "[encoded data removed]",
      "text/plain": [
       "<IPython.core.display.Image object>"
      ]
     },
     "metadata": {},
     "output_type": "display_data"
    }
   ],
   "source": [
    "\n",
    "## Import the petrinet visualizer object\n",
    "from pm4py.algo.discovery.alpha import algorithm as alpha_miner\n",
    "net, initial_marking, final_marking = alpha_miner.apply(som_sub_log11)\n",
    "from pm4py.visualization.petrinet import visualizer as pn_visualizer\n",
    "# Visualise \n",
    "gviz = pn_visualizer.apply(net, initial_marking, final_marking) \n",
    "pn_visualizer.view(gviz)"
   ]
  },
  {
   "cell_type": "markdown",
   "metadata": {},
   "source": [
    "## Log Fitness and Precision of SubLog 12"
   ]
  },
  {
   "cell_type": "code",
   "execution_count": null,
   "metadata": {},
   "outputs": [
    {
     "name": "stderr",
     "output_type": "stream",
     "text": [
      "replaying log with TBR, completed variants :: 100%|██████████| 3/3 [00:00<00:00, 2750.36it/s]"
     ]
    },
    {
     "name": "stdout",
     "output_type": "stream",
     "text": [
      "Fitness of Petrinet is:  100.0 %\n",
      "Precision of Petrinet is:  44.44444444444444 %\n",
      "Simplicity of Petrinet is:  100.0 %\n"
     ]
    },
    {
     "name": "stderr",
     "output_type": "stream",
     "text": [
      "\n"
     ]
    }
   ],
   "source": [
    "net, im, fm = alpha_miner.apply(som_sub_log11)\n",
    "fitness = replay_fitness_evaluator.apply(som_sub_log11, net, im, fm, variant=replay_fitness_evaluator.Variants.TOKEN_BASED)\n",
    "simp = simplicity_evaluator.apply(net)\n",
    "prec = precision_evaluator.apply(som_sub_log11, net, im, fm, variant=precision_evaluator.Variants.ETCONFORMANCE_TOKEN)\n",
    "print('Fitness of Petrinet is: ', fitness['log_fitness']*100,'%')\n",
    "print('Precision of Petrinet is: ', prec*100,'%')\n",
    "print('Simplicity of Petrinet is: ', simp*100,'%')"
   ]
  },
  {
   "cell_type": "markdown",
   "metadata": {},
   "source": [
    "## Petrinets from Alpha miner on Sub Event Log 12"
   ]
  },
  {
   "cell_type": "code",
   "execution_count": null,
   "metadata": {},
   "outputs": [
    {
     "data": {
      "image/png": "[encoded data removed]",
      "text/plain": [
       "<IPython.core.display.Image object>"
      ]
     },
     "metadata": {},
     "output_type": "display_data"
    }
   ],
   "source": [
    "\n",
    "## Import the petrinet visualizer object\n",
    "from pm4py.algo.discovery.alpha import algorithm as alpha_miner\n",
    "net, initial_marking, final_marking = alpha_miner.apply(som_sub_log12)\n",
    "from pm4py.visualization.petrinet import visualizer as pn_visualizer\n",
    "# Visualise \n",
    "gviz = pn_visualizer.apply(net, initial_marking, final_marking) \n",
    "pn_visualizer.view(gviz)"
   ]
  },
  {
   "cell_type": "markdown",
   "metadata": {},
   "source": [
    "## Log Fitness and Precision of SubLog 12"
   ]
  },
  {
   "cell_type": "code",
   "execution_count": null,
   "metadata": {},
   "outputs": [
    {
     "name": "stderr",
     "output_type": "stream",
     "text": [
      "replaying log with TBR, completed variants :: 100%|██████████| 4/4 [00:00<00:00, 571.51it/s]\n",
      "replaying log with TBR, completed variants :: 100%|██████████| 19/19 [00:00<00:00, 2970.58it/s]"
     ]
    },
    {
     "name": "stdout",
     "output_type": "stream",
     "text": [
      "Fitness of Petrinet is:  100.0 %\n",
      "Precision of Petrinet is:  28.596950929013822 %\n",
      "Simplicity of Petrinet is:  100.0 %\n"
     ]
    },
    {
     "name": "stderr",
     "output_type": "stream",
     "text": [
      "\n"
     ]
    }
   ],
   "source": [
    "net, im, fm = alpha_miner.apply(som_sub_log12)\n",
    "fitness = replay_fitness_evaluator.apply(som_sub_log12, net, im, fm, variant=replay_fitness_evaluator.Variants.TOKEN_BASED)\n",
    "simp = simplicity_evaluator.apply(net)\n",
    "prec = precision_evaluator.apply(som_sub_log12, net, im, fm, variant=precision_evaluator.Variants.ETCONFORMANCE_TOKEN)\n",
    "print('Fitness of Petrinet is: ', fitness['log_fitness']*100,'%')\n",
    "print('Precision of Petrinet is: ', prec*100,'%')\n",
    "print('Simplicity of Petrinet is: ', simp*100,'%')"
   ]
  }
 ],
 "metadata": {
  "interpreter": {
   "hash": "f293f16398db128e85df277de8eb5f9ab0a1b28857fa0f1c8543245825f1b931"
  },
  "kernelspec": {
   "display_name": "Python 3.7.7 ('pythonProject')",
   "language": "python",
   "name": "python3"
  },
  "language_info": {
   "codemirror_mode": {
    "name": "ipython",
    "version": 3
   },
   "file_extension": ".py",
   "mimetype": "text/x-python",
   "name": "python",
   "nbconvert_exporter": "python",
   "pygments_lexer": "ipython3",
   "version": "3.7.7"
  },
  "orig_nbformat": 4
 },
 "nbformat": 4,
 "nbformat_minor": 2
}
