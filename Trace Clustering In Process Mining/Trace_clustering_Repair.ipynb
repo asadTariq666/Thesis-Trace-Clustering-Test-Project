{
 "cells": [
  {
   "cell_type": "markdown",
   "metadata": {},
   "source": [
    "# Trace Clustering in Process Mining"
   ]
  },
  {
   "cell_type": "markdown",
   "metadata": {},
   "source": [
    "## Importing librarires"
   ]
  },
  {
   "cell_type": "code",
   "execution_count": 1,
   "metadata": {},
   "outputs": [],
   "source": [
    "import pm4py\n",
    "import numpy as np\n",
    "import pandas as pd\n",
    "import matplotlib.pyplot as plt\n",
    "import warnings\n",
    "warnings.simplefilter(\"ignore\")"
   ]
  },
  {
   "cell_type": "code",
   "execution_count": 2,
   "metadata": {},
   "outputs": [],
   "source": [
    "from pm4py.objects.log.log import EventLog"
   ]
  },
  {
   "cell_type": "markdown",
   "metadata": {},
   "source": [
    "\n",
    "## Importing log\n",
    "Importing event log of RoadTraffic. It is in XES format with 51 traces."
   ]
  },
  {
   "cell_type": "code",
   "execution_count": 4,
   "metadata": {},
   "outputs": [
    {
     "name": "stderr",
     "output_type": "stream",
     "text": [
      "parsing log, completed traces :: 100%|██████████| 1104/1104 [00:02<00:00, 483.50it/s]\n"
     ]
    }
   ],
   "source": [
    "# Importing a XES event log\n",
    "from pm4py.objects.log.importer.xes import importer as xes_importer\n",
    "log = xes_importer.apply('DataSets/Repair.xes')\n",
    "#log[1],type(log)"
   ]
  },
  {
   "cell_type": "markdown",
   "metadata": {},
   "source": [
    "## Petrinet from Alpha miner on complete log"
   ]
  },
  {
   "cell_type": "code",
   "execution_count": 5,
   "metadata": {},
   "outputs": [
    {
     "data": {
      "image/png": "[encoded data removed]",
      "text/plain": [
       "<IPython.core.display.Image object>"
      ]
     },
     "metadata": {},
     "output_type": "display_data"
    }
   ],
   "source": [
    "## Import the petrinet visualizer object\n",
    "from pm4py.algo.discovery.alpha import algorithm as alpha_miner\n",
    "net, initial_marking, final_marking = alpha_miner.apply(log)\n",
    "from pm4py.visualization.petrinet import visualizer as pn_visualizer\n",
    "# Visualise \n",
    "gviz = pn_visualizer.apply(net, initial_marking, final_marking) \n",
    "pn_visualizer.view(gviz)"
   ]
  },
  {
   "cell_type": "markdown",
   "metadata": {},
   "source": [
    "## Log Fitness"
   ]
  },
  {
   "cell_type": "code",
   "execution_count": 6,
   "metadata": {},
   "outputs": [
    {
     "name": "stderr",
     "output_type": "stream",
     "text": [
      "replaying log with TBR, completed variants :: 100%|██████████| 77/77 [00:00<00:00, 328.05it/s]\n",
      "replaying log with TBR, completed variants :: 100%|██████████| 233/233 [00:00<00:00, 382.18it/s]"
     ]
    },
    {
     "name": "stdout",
     "output_type": "stream",
     "text": [
      "Fitness of log is:  68.28336942892967 %\n",
      "Precision of log is:  23.940950770631463 %\n"
     ]
    },
    {
     "name": "stderr",
     "output_type": "stream",
     "text": [
      "\n"
     ]
    }
   ],
   "source": [
    "from pm4py.algo.discovery.alpha import algorithm as alpha_miner\n",
    "net, im, fm = alpha_miner.apply(log)\n",
    "from pm4py.algo.evaluation.replay_fitness import algorithm as replay_fitness_evaluator\n",
    "fitness = replay_fitness_evaluator.apply(log, net, im, fm, variant=replay_fitness_evaluator.Variants.TOKEN_BASED)\n",
    "from pm4py.algo.evaluation.precision import algorithm as precision_evaluator\n",
    "prec = precision_evaluator.apply(log, net, im, fm, variant=precision_evaluator.Variants.ETCONFORMANCE_TOKEN)\n",
    "#prec\n",
    "#fitness, type(fitness)\n",
    "print('Fitness of log is: ', fitness['log_fitness']*100,'%')\n",
    "print('Precision of log is: ', prec*100,'%')"
   ]
  },
  {
   "cell_type": "markdown",
   "metadata": {},
   "source": [
    "### Extracting total Activities"
   ]
  },
  {
   "cell_type": "code",
   "execution_count": 8,
   "metadata": {},
   "outputs": [
    {
     "data": {
      "text/plain": [
       "({'Register': 1104,\n",
       "  'Analyze Defect': 2208,\n",
       "  'Repair (Complex)': 1449,\n",
       "  'Test Repair': 3016,\n",
       "  'Inform User': 1102,\n",
       "  'Archive Repair': 1000,\n",
       "  'Repair (Simple)': 1570,\n",
       "  'Restart Repair': 406},\n",
       " {'System': 3612,\n",
       "  'Tester3': 910,\n",
       "  'SolverC1': 534,\n",
       "  'Tester2': 904,\n",
       "  'SolverS1': 592,\n",
       "  'Tester6': 876,\n",
       "  'SolverS2': 498,\n",
       "  'Tester4': 788,\n",
       "  'Tester1': 902,\n",
       "  'SolverS3': 480,\n",
       "  'SolverC3': 401,\n",
       "  'Tester5': 844,\n",
       "  'SolverC2': 514})"
      ]
     },
     "execution_count": 8,
     "metadata": {},
     "output_type": "execute_result"
    }
   ],
   "source": [
    "from pm4py.algo.filtering.log.attributes import attributes_filter\n",
    "activities = attributes_filter.get_attribute_values(log, \"concept:name\")\n",
    "resources = attributes_filter.get_attribute_values(log, \"org:resource\")\n",
    "activities,resources"
   ]
  },
  {
   "cell_type": "markdown",
   "metadata": {},
   "source": [
    "### Converting activity keys in to a list"
   ]
  },
  {
   "cell_type": "code",
   "execution_count": 9,
   "metadata": {},
   "outputs": [
    {
     "data": {
      "text/plain": [
       "['Register',\n",
       " 'Analyze Defect',\n",
       " 'Repair (Complex)',\n",
       " 'Test Repair',\n",
       " 'Inform User',\n",
       " 'Archive Repair',\n",
       " 'Repair (Simple)',\n",
       " 'Restart Repair']"
      ]
     },
     "execution_count": 9,
     "metadata": {},
     "output_type": "execute_result"
    }
   ],
   "source": [
    "activities_array = activities.keys()\n",
    "activities_array = list(activities_array)\n",
    "activities_array\n"
   ]
  },
  {
   "cell_type": "markdown",
   "metadata": {},
   "source": [
    "### Getting activities of each Trace in a Dataframe"
   ]
  },
  {
   "cell_type": "code",
   "execution_count": 10,
   "metadata": {},
   "outputs": [
    {
     "data": {
      "text/html": [
       "<div>\n",
       "<style scoped>\n",
       "    .dataframe tbody tr th:only-of-type {\n",
       "        vertical-align: middle;\n",
       "    }\n",
       "\n",
       "    .dataframe tbody tr th {\n",
       "        vertical-align: top;\n",
       "    }\n",
       "\n",
       "    .dataframe thead th {\n",
       "        text-align: right;\n",
       "    }\n",
       "</style>\n",
       "<table border=\"1\" class=\"dataframe\">\n",
       "  <thead>\n",
       "    <tr style=\"text-align: right;\">\n",
       "      <th></th>\n",
       "      <th>case:concept:name</th>\n",
       "      <th>concept:name</th>\n",
       "    </tr>\n",
       "  </thead>\n",
       "  <tbody>\n",
       "    <tr>\n",
       "      <th>0</th>\n",
       "      <td>1</td>\n",
       "      <td>Register</td>\n",
       "    </tr>\n",
       "    <tr>\n",
       "      <th>1</th>\n",
       "      <td>1</td>\n",
       "      <td>Analyze Defect</td>\n",
       "    </tr>\n",
       "    <tr>\n",
       "      <th>2</th>\n",
       "      <td>1</td>\n",
       "      <td>Analyze Defect</td>\n",
       "    </tr>\n",
       "    <tr>\n",
       "      <th>3</th>\n",
       "      <td>1</td>\n",
       "      <td>Repair (Complex)</td>\n",
       "    </tr>\n",
       "    <tr>\n",
       "      <th>4</th>\n",
       "      <td>1</td>\n",
       "      <td>Repair (Complex)</td>\n",
       "    </tr>\n",
       "    <tr>\n",
       "      <th>...</th>\n",
       "      <td>...</td>\n",
       "      <td>...</td>\n",
       "    </tr>\n",
       "    <tr>\n",
       "      <th>11850</th>\n",
       "      <td>999</td>\n",
       "      <td>Repair (Simple)</td>\n",
       "    </tr>\n",
       "    <tr>\n",
       "      <th>11851</th>\n",
       "      <td>999</td>\n",
       "      <td>Test Repair</td>\n",
       "    </tr>\n",
       "    <tr>\n",
       "      <th>11852</th>\n",
       "      <td>999</td>\n",
       "      <td>Test Repair</td>\n",
       "    </tr>\n",
       "    <tr>\n",
       "      <th>11853</th>\n",
       "      <td>999</td>\n",
       "      <td>Inform User</td>\n",
       "    </tr>\n",
       "    <tr>\n",
       "      <th>11854</th>\n",
       "      <td>999</td>\n",
       "      <td>Archive Repair</td>\n",
       "    </tr>\n",
       "  </tbody>\n",
       "</table>\n",
       "<p>11855 rows × 2 columns</p>\n",
       "</div>"
      ],
      "text/plain": [
       "      case:concept:name      concept:name\n",
       "0                     1          Register\n",
       "1                     1    Analyze Defect\n",
       "2                     1    Analyze Defect\n",
       "3                     1  Repair (Complex)\n",
       "4                     1  Repair (Complex)\n",
       "...                 ...               ...\n",
       "11850               999   Repair (Simple)\n",
       "11851               999       Test Repair\n",
       "11852               999       Test Repair\n",
       "11853               999       Inform User\n",
       "11854               999    Archive Repair\n",
       "\n",
       "[11855 rows x 2 columns]"
      ]
     },
     "execution_count": 10,
     "metadata": {},
     "output_type": "execute_result"
    }
   ],
   "source": [
    "## Converting log in to a pandas dataframe\n",
    "from pm4py.objects.conversion.log import converter as log_converter\n",
    "dataframe = log_converter.apply(log, variant=log_converter.Variants.TO_DATA_FRAME)\n",
    "#dataframe.to_csv('log.csv')\n",
    "#dataframe\n",
    "## Trace profiling on Activities\n",
    "dataframe =dataframe[['case:concept:name','concept:name']]\n",
    "dataframe"
   ]
  },
  {
   "cell_type": "markdown",
   "metadata": {},
   "source": [
    "### Making np_array from Dataframe and grouping them on the basis of case identifier"
   ]
  },
  {
   "cell_type": "code",
   "execution_count": 11,
   "metadata": {},
   "outputs": [
    {
     "data": {
      "text/plain": [
       "array([array(['Register', 'Analyze Defect', 'Analyze Defect', 'Repair (Complex)',\n",
       "              'Repair (Complex)', 'Test Repair', 'Test Repair', 'Inform User',\n",
       "              'Archive Repair'], dtype=object)                                   ,\n",
       "       array(['Register', 'Analyze Defect', 'Analyze Defect', 'Repair (Simple)',\n",
       "              'Repair (Simple)', 'Test Repair', 'Test Repair', 'Restart Repair',\n",
       "              'Repair (Simple)', 'Inform User', 'Repair (Simple)', 'Test Repair',\n",
       "              'Test Repair', 'Archive Repair'], dtype=object)                    ,\n",
       "       array(['Register', 'Analyze Defect', 'Analyze Defect', 'Repair (Complex)',\n",
       "              'Repair (Complex)', 'Test Repair', 'Test Repair', 'Inform User',\n",
       "              'Archive Repair'], dtype=object)                                   ,\n",
       "       ...,\n",
       "       array(['Register', 'Analyze Defect', 'Analyze Defect', 'Repair (Complex)',\n",
       "              'Repair (Complex)', 'Test Repair', 'Test Repair', 'Inform User',\n",
       "              'Archive Repair'], dtype=object)                                   ,\n",
       "       array(['Register', 'Analyze Defect', 'Analyze Defect', 'Repair (Complex)',\n",
       "              'Inform User', 'Repair (Complex)', 'Test Repair', 'Test Repair',\n",
       "              'Archive Repair'], dtype=object)                                   ,\n",
       "       array(['Register', 'Analyze Defect', 'Analyze Defect', 'Repair (Simple)',\n",
       "              'Repair (Simple)', 'Test Repair', 'Test Repair', 'Restart Repair',\n",
       "              'Repair (Simple)', 'Repair (Simple)', 'Test Repair', 'Test Repair',\n",
       "              'Inform User', 'Archive Repair'], dtype=object)                    ],\n",
       "      dtype=object)"
      ]
     },
     "execution_count": 11,
     "metadata": {},
     "output_type": "execute_result"
    }
   ],
   "source": [
    "np_arr = np.array(dataframe)\n",
    "#np_arr\n",
    "n = np.unique(np_arr[:,0])\n",
    "events = np.array( [(np_arr[np_arr[:,0]==i,1]) for i in n] )\n",
    "events"
   ]
  },
  {
   "cell_type": "markdown",
   "metadata": {},
   "source": [
    "## 2d Vector of Number of CASES X Number of Activities"
   ]
  },
  {
   "cell_type": "code",
   "execution_count": 12,
   "metadata": {},
   "outputs": [
    {
     "data": {
      "text/plain": [
       "[[0, 0, 0, 0, 0, 0, 0, 0],\n",
       " [0, 0, 0, 0, 0, 0, 0, 0],\n",
       " [0, 0, 0, 0, 0, 0, 0, 0],\n",
       " [0, 0, 0, 0, 0, 0, 0, 0],\n",
       " [0, 0, 0, 0, 0, 0, 0, 0],\n",
       " [0, 0, 0, 0, 0, 0, 0, 0],\n",
       " [0, 0, 0, 0, 0, 0, 0, 0],\n",
       " [0, 0, 0, 0, 0, 0, 0, 0],\n",
       " [0, 0, 0, 0, 0, 0, 0, 0],\n",
       " [0, 0, 0, 0, 0, 0, 0, 0],\n",
       " [0, 0, 0, 0, 0, 0, 0, 0],\n",
       " [0, 0, 0, 0, 0, 0, 0, 0],\n",
       " [0, 0, 0, 0, 0, 0, 0, 0],\n",
       " [0, 0, 0, 0, 0, 0, 0, 0],\n",
       " [0, 0, 0, 0, 0, 0, 0, 0],\n",
       " [0, 0, 0, 0, 0, 0, 0, 0],\n",
       " [0, 0, 0, 0, 0, 0, 0, 0],\n",
       " [0, 0, 0, 0, 0, 0, 0, 0],\n",
       " [0, 0, 0, 0, 0, 0, 0, 0],\n",
       " [0, 0, 0, 0, 0, 0, 0, 0],\n",
       " [0, 0, 0, 0, 0, 0, 0, 0],\n",
       " [0, 0, 0, 0, 0, 0, 0, 0],\n",
       " [0, 0, 0, 0, 0, 0, 0, 0],\n",
       " [0, 0, 0, 0, 0, 0, 0, 0],\n",
       " [0, 0, 0, 0, 0, 0, 0, 0],\n",
       " [0, 0, 0, 0, 0, 0, 0, 0],\n",
       " [0, 0, 0, 0, 0, 0, 0, 0],\n",
       " [0, 0, 0, 0, 0, 0, 0, 0],\n",
       " [0, 0, 0, 0, 0, 0, 0, 0],\n",
       " [0, 0, 0, 0, 0, 0, 0, 0],\n",
       " [0, 0, 0, 0, 0, 0, 0, 0],\n",
       " [0, 0, 0, 0, 0, 0, 0, 0],\n",
       " [0, 0, 0, 0, 0, 0, 0, 0],\n",
       " [0, 0, 0, 0, 0, 0, 0, 0],\n",
       " [0, 0, 0, 0, 0, 0, 0, 0],\n",
       " [0, 0, 0, 0, 0, 0, 0, 0],\n",
       " [0, 0, 0, 0, 0, 0, 0, 0],\n",
       " [0, 0, 0, 0, 0, 0, 0, 0],\n",
       " [0, 0, 0, 0, 0, 0, 0, 0],\n",
       " [0, 0, 0, 0, 0, 0, 0, 0],\n",
       " [0, 0, 0, 0, 0, 0, 0, 0],\n",
       " [0, 0, 0, 0, 0, 0, 0, 0],\n",
       " [0, 0, 0, 0, 0, 0, 0, 0],\n",
       " [0, 0, 0, 0, 0, 0, 0, 0],\n",
       " [0, 0, 0, 0, 0, 0, 0, 0],\n",
       " [0, 0, 0, 0, 0, 0, 0, 0],\n",
       " [0, 0, 0, 0, 0, 0, 0, 0],\n",
       " [0, 0, 0, 0, 0, 0, 0, 0],\n",
       " [0, 0, 0, 0, 0, 0, 0, 0],\n",
       " [0, 0, 0, 0, 0, 0, 0, 0],\n",
       " [0, 0, 0, 0, 0, 0, 0, 0],\n",
       " [0, 0, 0, 0, 0, 0, 0, 0],\n",
       " [0, 0, 0, 0, 0, 0, 0, 0],\n",
       " [0, 0, 0, 0, 0, 0, 0, 0],\n",
       " [0, 0, 0, 0, 0, 0, 0, 0],\n",
       " [0, 0, 0, 0, 0, 0, 0, 0],\n",
       " [0, 0, 0, 0, 0, 0, 0, 0],\n",
       " [0, 0, 0, 0, 0, 0, 0, 0],\n",
       " [0, 0, 0, 0, 0, 0, 0, 0],\n",
       " [0, 0, 0, 0, 0, 0, 0, 0],\n",
       " [0, 0, 0, 0, 0, 0, 0, 0],\n",
       " [0, 0, 0, 0, 0, 0, 0, 0],\n",
       " [0, 0, 0, 0, 0, 0, 0, 0],\n",
       " [0, 0, 0, 0, 0, 0, 0, 0],\n",
       " [0, 0, 0, 0, 0, 0, 0, 0],\n",
       " [0, 0, 0, 0, 0, 0, 0, 0],\n",
       " [0, 0, 0, 0, 0, 0, 0, 0],\n",
       " [0, 0, 0, 0, 0, 0, 0, 0],\n",
       " [0, 0, 0, 0, 0, 0, 0, 0],\n",
       " [0, 0, 0, 0, 0, 0, 0, 0],\n",
       " [0, 0, 0, 0, 0, 0, 0, 0],\n",
       " [0, 0, 0, 0, 0, 0, 0, 0],\n",
       " [0, 0, 0, 0, 0, 0, 0, 0],\n",
       " [0, 0, 0, 0, 0, 0, 0, 0],\n",
       " [0, 0, 0, 0, 0, 0, 0, 0],\n",
       " [0, 0, 0, 0, 0, 0, 0, 0],\n",
       " [0, 0, 0, 0, 0, 0, 0, 0],\n",
       " [0, 0, 0, 0, 0, 0, 0, 0],\n",
       " [0, 0, 0, 0, 0, 0, 0, 0],\n",
       " [0, 0, 0, 0, 0, 0, 0, 0],\n",
       " [0, 0, 0, 0, 0, 0, 0, 0],\n",
       " [0, 0, 0, 0, 0, 0, 0, 0],\n",
       " [0, 0, 0, 0, 0, 0, 0, 0],\n",
       " [0, 0, 0, 0, 0, 0, 0, 0],\n",
       " [0, 0, 0, 0, 0, 0, 0, 0],\n",
       " [0, 0, 0, 0, 0, 0, 0, 0],\n",
       " [0, 0, 0, 0, 0, 0, 0, 0],\n",
       " [0, 0, 0, 0, 0, 0, 0, 0],\n",
       " [0, 0, 0, 0, 0, 0, 0, 0],\n",
       " [0, 0, 0, 0, 0, 0, 0, 0],\n",
       " [0, 0, 0, 0, 0, 0, 0, 0],\n",
       " [0, 0, 0, 0, 0, 0, 0, 0],\n",
       " [0, 0, 0, 0, 0, 0, 0, 0],\n",
       " [0, 0, 0, 0, 0, 0, 0, 0],\n",
       " [0, 0, 0, 0, 0, 0, 0, 0],\n",
       " [0, 0, 0, 0, 0, 0, 0, 0],\n",
       " [0, 0, 0, 0, 0, 0, 0, 0],\n",
       " [0, 0, 0, 0, 0, 0, 0, 0],\n",
       " [0, 0, 0, 0, 0, 0, 0, 0],\n",
       " [0, 0, 0, 0, 0, 0, 0, 0],\n",
       " [0, 0, 0, 0, 0, 0, 0, 0],\n",
       " [0, 0, 0, 0, 0, 0, 0, 0],\n",
       " [0, 0, 0, 0, 0, 0, 0, 0],\n",
       " [0, 0, 0, 0, 0, 0, 0, 0],\n",
       " [0, 0, 0, 0, 0, 0, 0, 0],\n",
       " [0, 0, 0, 0, 0, 0, 0, 0],\n",
       " [0, 0, 0, 0, 0, 0, 0, 0],\n",
       " [0, 0, 0, 0, 0, 0, 0, 0],\n",
       " [0, 0, 0, 0, 0, 0, 0, 0],\n",
       " [0, 0, 0, 0, 0, 0, 0, 0],\n",
       " [0, 0, 0, 0, 0, 0, 0, 0],\n",
       " [0, 0, 0, 0, 0, 0, 0, 0],\n",
       " [0, 0, 0, 0, 0, 0, 0, 0],\n",
       " [0, 0, 0, 0, 0, 0, 0, 0],\n",
       " [0, 0, 0, 0, 0, 0, 0, 0],\n",
       " [0, 0, 0, 0, 0, 0, 0, 0],\n",
       " [0, 0, 0, 0, 0, 0, 0, 0],\n",
       " [0, 0, 0, 0, 0, 0, 0, 0],\n",
       " [0, 0, 0, 0, 0, 0, 0, 0],\n",
       " [0, 0, 0, 0, 0, 0, 0, 0],\n",
       " [0, 0, 0, 0, 0, 0, 0, 0],\n",
       " [0, 0, 0, 0, 0, 0, 0, 0],\n",
       " [0, 0, 0, 0, 0, 0, 0, 0],\n",
       " [0, 0, 0, 0, 0, 0, 0, 0],\n",
       " [0, 0, 0, 0, 0, 0, 0, 0],\n",
       " [0, 0, 0, 0, 0, 0, 0, 0],\n",
       " [0, 0, 0, 0, 0, 0, 0, 0],\n",
       " [0, 0, 0, 0, 0, 0, 0, 0],\n",
       " [0, 0, 0, 0, 0, 0, 0, 0],\n",
       " [0, 0, 0, 0, 0, 0, 0, 0],\n",
       " [0, 0, 0, 0, 0, 0, 0, 0],\n",
       " [0, 0, 0, 0, 0, 0, 0, 0],\n",
       " [0, 0, 0, 0, 0, 0, 0, 0],\n",
       " [0, 0, 0, 0, 0, 0, 0, 0],\n",
       " [0, 0, 0, 0, 0, 0, 0, 0],\n",
       " [0, 0, 0, 0, 0, 0, 0, 0],\n",
       " [0, 0, 0, 0, 0, 0, 0, 0],\n",
       " [0, 0, 0, 0, 0, 0, 0, 0],\n",
       " [0, 0, 0, 0, 0, 0, 0, 0],\n",
       " [0, 0, 0, 0, 0, 0, 0, 0],\n",
       " [0, 0, 0, 0, 0, 0, 0, 0],\n",
       " [0, 0, 0, 0, 0, 0, 0, 0],\n",
       " [0, 0, 0, 0, 0, 0, 0, 0],\n",
       " [0, 0, 0, 0, 0, 0, 0, 0],\n",
       " [0, 0, 0, 0, 0, 0, 0, 0],\n",
       " [0, 0, 0, 0, 0, 0, 0, 0],\n",
       " [0, 0, 0, 0, 0, 0, 0, 0],\n",
       " [0, 0, 0, 0, 0, 0, 0, 0],\n",
       " [0, 0, 0, 0, 0, 0, 0, 0],\n",
       " [0, 0, 0, 0, 0, 0, 0, 0],\n",
       " [0, 0, 0, 0, 0, 0, 0, 0],\n",
       " [0, 0, 0, 0, 0, 0, 0, 0],\n",
       " [0, 0, 0, 0, 0, 0, 0, 0],\n",
       " [0, 0, 0, 0, 0, 0, 0, 0],\n",
       " [0, 0, 0, 0, 0, 0, 0, 0],\n",
       " [0, 0, 0, 0, 0, 0, 0, 0],\n",
       " [0, 0, 0, 0, 0, 0, 0, 0],\n",
       " [0, 0, 0, 0, 0, 0, 0, 0],\n",
       " [0, 0, 0, 0, 0, 0, 0, 0],\n",
       " [0, 0, 0, 0, 0, 0, 0, 0],\n",
       " [0, 0, 0, 0, 0, 0, 0, 0],\n",
       " [0, 0, 0, 0, 0, 0, 0, 0],\n",
       " [0, 0, 0, 0, 0, 0, 0, 0],\n",
       " [0, 0, 0, 0, 0, 0, 0, 0],\n",
       " [0, 0, 0, 0, 0, 0, 0, 0],\n",
       " [0, 0, 0, 0, 0, 0, 0, 0],\n",
       " [0, 0, 0, 0, 0, 0, 0, 0],\n",
       " [0, 0, 0, 0, 0, 0, 0, 0],\n",
       " [0, 0, 0, 0, 0, 0, 0, 0],\n",
       " [0, 0, 0, 0, 0, 0, 0, 0],\n",
       " [0, 0, 0, 0, 0, 0, 0, 0],\n",
       " [0, 0, 0, 0, 0, 0, 0, 0],\n",
       " [0, 0, 0, 0, 0, 0, 0, 0],\n",
       " [0, 0, 0, 0, 0, 0, 0, 0],\n",
       " [0, 0, 0, 0, 0, 0, 0, 0],\n",
       " [0, 0, 0, 0, 0, 0, 0, 0],\n",
       " [0, 0, 0, 0, 0, 0, 0, 0],\n",
       " [0, 0, 0, 0, 0, 0, 0, 0],\n",
       " [0, 0, 0, 0, 0, 0, 0, 0],\n",
       " [0, 0, 0, 0, 0, 0, 0, 0],\n",
       " [0, 0, 0, 0, 0, 0, 0, 0],\n",
       " [0, 0, 0, 0, 0, 0, 0, 0],\n",
       " [0, 0, 0, 0, 0, 0, 0, 0],\n",
       " [0, 0, 0, 0, 0, 0, 0, 0],\n",
       " [0, 0, 0, 0, 0, 0, 0, 0],\n",
       " [0, 0, 0, 0, 0, 0, 0, 0],\n",
       " [0, 0, 0, 0, 0, 0, 0, 0],\n",
       " [0, 0, 0, 0, 0, 0, 0, 0],\n",
       " [0, 0, 0, 0, 0, 0, 0, 0],\n",
       " [0, 0, 0, 0, 0, 0, 0, 0],\n",
       " [0, 0, 0, 0, 0, 0, 0, 0],\n",
       " [0, 0, 0, 0, 0, 0, 0, 0],\n",
       " [0, 0, 0, 0, 0, 0, 0, 0],\n",
       " [0, 0, 0, 0, 0, 0, 0, 0],\n",
       " [0, 0, 0, 0, 0, 0, 0, 0],\n",
       " [0, 0, 0, 0, 0, 0, 0, 0],\n",
       " [0, 0, 0, 0, 0, 0, 0, 0],\n",
       " [0, 0, 0, 0, 0, 0, 0, 0],\n",
       " [0, 0, 0, 0, 0, 0, 0, 0],\n",
       " [0, 0, 0, 0, 0, 0, 0, 0],\n",
       " [0, 0, 0, 0, 0, 0, 0, 0],\n",
       " [0, 0, 0, 0, 0, 0, 0, 0],\n",
       " [0, 0, 0, 0, 0, 0, 0, 0],\n",
       " [0, 0, 0, 0, 0, 0, 0, 0],\n",
       " [0, 0, 0, 0, 0, 0, 0, 0],\n",
       " [0, 0, 0, 0, 0, 0, 0, 0],\n",
       " [0, 0, 0, 0, 0, 0, 0, 0],\n",
       " [0, 0, 0, 0, 0, 0, 0, 0],\n",
       " [0, 0, 0, 0, 0, 0, 0, 0],\n",
       " [0, 0, 0, 0, 0, 0, 0, 0],\n",
       " [0, 0, 0, 0, 0, 0, 0, 0],\n",
       " [0, 0, 0, 0, 0, 0, 0, 0],\n",
       " [0, 0, 0, 0, 0, 0, 0, 0],\n",
       " [0, 0, 0, 0, 0, 0, 0, 0],\n",
       " [0, 0, 0, 0, 0, 0, 0, 0],\n",
       " [0, 0, 0, 0, 0, 0, 0, 0],\n",
       " [0, 0, 0, 0, 0, 0, 0, 0],\n",
       " [0, 0, 0, 0, 0, 0, 0, 0],\n",
       " [0, 0, 0, 0, 0, 0, 0, 0],\n",
       " [0, 0, 0, 0, 0, 0, 0, 0],\n",
       " [0, 0, 0, 0, 0, 0, 0, 0],\n",
       " [0, 0, 0, 0, 0, 0, 0, 0],\n",
       " [0, 0, 0, 0, 0, 0, 0, 0],\n",
       " [0, 0, 0, 0, 0, 0, 0, 0],\n",
       " [0, 0, 0, 0, 0, 0, 0, 0],\n",
       " [0, 0, 0, 0, 0, 0, 0, 0],\n",
       " [0, 0, 0, 0, 0, 0, 0, 0],\n",
       " [0, 0, 0, 0, 0, 0, 0, 0],\n",
       " [0, 0, 0, 0, 0, 0, 0, 0],\n",
       " [0, 0, 0, 0, 0, 0, 0, 0],\n",
       " [0, 0, 0, 0, 0, 0, 0, 0],\n",
       " [0, 0, 0, 0, 0, 0, 0, 0],\n",
       " [0, 0, 0, 0, 0, 0, 0, 0],\n",
       " [0, 0, 0, 0, 0, 0, 0, 0],\n",
       " [0, 0, 0, 0, 0, 0, 0, 0],\n",
       " [0, 0, 0, 0, 0, 0, 0, 0],\n",
       " [0, 0, 0, 0, 0, 0, 0, 0],\n",
       " [0, 0, 0, 0, 0, 0, 0, 0],\n",
       " [0, 0, 0, 0, 0, 0, 0, 0],\n",
       " [0, 0, 0, 0, 0, 0, 0, 0],\n",
       " [0, 0, 0, 0, 0, 0, 0, 0],\n",
       " [0, 0, 0, 0, 0, 0, 0, 0],\n",
       " [0, 0, 0, 0, 0, 0, 0, 0],\n",
       " [0, 0, 0, 0, 0, 0, 0, 0],\n",
       " [0, 0, 0, 0, 0, 0, 0, 0],\n",
       " [0, 0, 0, 0, 0, 0, 0, 0],\n",
       " [0, 0, 0, 0, 0, 0, 0, 0],\n",
       " [0, 0, 0, 0, 0, 0, 0, 0],\n",
       " [0, 0, 0, 0, 0, 0, 0, 0],\n",
       " [0, 0, 0, 0, 0, 0, 0, 0],\n",
       " [0, 0, 0, 0, 0, 0, 0, 0],\n",
       " [0, 0, 0, 0, 0, 0, 0, 0],\n",
       " [0, 0, 0, 0, 0, 0, 0, 0],\n",
       " [0, 0, 0, 0, 0, 0, 0, 0],\n",
       " [0, 0, 0, 0, 0, 0, 0, 0],\n",
       " [0, 0, 0, 0, 0, 0, 0, 0],\n",
       " [0, 0, 0, 0, 0, 0, 0, 0],\n",
       " [0, 0, 0, 0, 0, 0, 0, 0],\n",
       " [0, 0, 0, 0, 0, 0, 0, 0],\n",
       " [0, 0, 0, 0, 0, 0, 0, 0],\n",
       " [0, 0, 0, 0, 0, 0, 0, 0],\n",
       " [0, 0, 0, 0, 0, 0, 0, 0],\n",
       " [0, 0, 0, 0, 0, 0, 0, 0],\n",
       " [0, 0, 0, 0, 0, 0, 0, 0],\n",
       " [0, 0, 0, 0, 0, 0, 0, 0],\n",
       " [0, 0, 0, 0, 0, 0, 0, 0],\n",
       " [0, 0, 0, 0, 0, 0, 0, 0],\n",
       " [0, 0, 0, 0, 0, 0, 0, 0],\n",
       " [0, 0, 0, 0, 0, 0, 0, 0],\n",
       " [0, 0, 0, 0, 0, 0, 0, 0],\n",
       " [0, 0, 0, 0, 0, 0, 0, 0],\n",
       " [0, 0, 0, 0, 0, 0, 0, 0],\n",
       " [0, 0, 0, 0, 0, 0, 0, 0],\n",
       " [0, 0, 0, 0, 0, 0, 0, 0],\n",
       " [0, 0, 0, 0, 0, 0, 0, 0],\n",
       " [0, 0, 0, 0, 0, 0, 0, 0],\n",
       " [0, 0, 0, 0, 0, 0, 0, 0],\n",
       " [0, 0, 0, 0, 0, 0, 0, 0],\n",
       " [0, 0, 0, 0, 0, 0, 0, 0],\n",
       " [0, 0, 0, 0, 0, 0, 0, 0],\n",
       " [0, 0, 0, 0, 0, 0, 0, 0],\n",
       " [0, 0, 0, 0, 0, 0, 0, 0],\n",
       " [0, 0, 0, 0, 0, 0, 0, 0],\n",
       " [0, 0, 0, 0, 0, 0, 0, 0],\n",
       " [0, 0, 0, 0, 0, 0, 0, 0],\n",
       " [0, 0, 0, 0, 0, 0, 0, 0],\n",
       " [0, 0, 0, 0, 0, 0, 0, 0],\n",
       " [0, 0, 0, 0, 0, 0, 0, 0],\n",
       " [0, 0, 0, 0, 0, 0, 0, 0],\n",
       " [0, 0, 0, 0, 0, 0, 0, 0],\n",
       " [0, 0, 0, 0, 0, 0, 0, 0],\n",
       " [0, 0, 0, 0, 0, 0, 0, 0],\n",
       " [0, 0, 0, 0, 0, 0, 0, 0],\n",
       " [0, 0, 0, 0, 0, 0, 0, 0],\n",
       " [0, 0, 0, 0, 0, 0, 0, 0],\n",
       " [0, 0, 0, 0, 0, 0, 0, 0],\n",
       " [0, 0, 0, 0, 0, 0, 0, 0],\n",
       " [0, 0, 0, 0, 0, 0, 0, 0],\n",
       " [0, 0, 0, 0, 0, 0, 0, 0],\n",
       " [0, 0, 0, 0, 0, 0, 0, 0],\n",
       " [0, 0, 0, 0, 0, 0, 0, 0],\n",
       " [0, 0, 0, 0, 0, 0, 0, 0],\n",
       " [0, 0, 0, 0, 0, 0, 0, 0],\n",
       " [0, 0, 0, 0, 0, 0, 0, 0],\n",
       " [0, 0, 0, 0, 0, 0, 0, 0],\n",
       " [0, 0, 0, 0, 0, 0, 0, 0],\n",
       " [0, 0, 0, 0, 0, 0, 0, 0],\n",
       " [0, 0, 0, 0, 0, 0, 0, 0],\n",
       " [0, 0, 0, 0, 0, 0, 0, 0],\n",
       " [0, 0, 0, 0, 0, 0, 0, 0],\n",
       " [0, 0, 0, 0, 0, 0, 0, 0],\n",
       " [0, 0, 0, 0, 0, 0, 0, 0],\n",
       " [0, 0, 0, 0, 0, 0, 0, 0],\n",
       " [0, 0, 0, 0, 0, 0, 0, 0],\n",
       " [0, 0, 0, 0, 0, 0, 0, 0],\n",
       " [0, 0, 0, 0, 0, 0, 0, 0],\n",
       " [0, 0, 0, 0, 0, 0, 0, 0],\n",
       " [0, 0, 0, 0, 0, 0, 0, 0],\n",
       " [0, 0, 0, 0, 0, 0, 0, 0],\n",
       " [0, 0, 0, 0, 0, 0, 0, 0],\n",
       " [0, 0, 0, 0, 0, 0, 0, 0],\n",
       " [0, 0, 0, 0, 0, 0, 0, 0],\n",
       " [0, 0, 0, 0, 0, 0, 0, 0],\n",
       " [0, 0, 0, 0, 0, 0, 0, 0],\n",
       " [0, 0, 0, 0, 0, 0, 0, 0],\n",
       " [0, 0, 0, 0, 0, 0, 0, 0],\n",
       " [0, 0, 0, 0, 0, 0, 0, 0],\n",
       " [0, 0, 0, 0, 0, 0, 0, 0],\n",
       " [0, 0, 0, 0, 0, 0, 0, 0],\n",
       " [0, 0, 0, 0, 0, 0, 0, 0],\n",
       " [0, 0, 0, 0, 0, 0, 0, 0],\n",
       " [0, 0, 0, 0, 0, 0, 0, 0],\n",
       " [0, 0, 0, 0, 0, 0, 0, 0],\n",
       " [0, 0, 0, 0, 0, 0, 0, 0],\n",
       " [0, 0, 0, 0, 0, 0, 0, 0],\n",
       " [0, 0, 0, 0, 0, 0, 0, 0],\n",
       " [0, 0, 0, 0, 0, 0, 0, 0],\n",
       " [0, 0, 0, 0, 0, 0, 0, 0],\n",
       " [0, 0, 0, 0, 0, 0, 0, 0],\n",
       " [0, 0, 0, 0, 0, 0, 0, 0],\n",
       " [0, 0, 0, 0, 0, 0, 0, 0],\n",
       " [0, 0, 0, 0, 0, 0, 0, 0],\n",
       " [0, 0, 0, 0, 0, 0, 0, 0],\n",
       " [0, 0, 0, 0, 0, 0, 0, 0],\n",
       " [0, 0, 0, 0, 0, 0, 0, 0],\n",
       " [0, 0, 0, 0, 0, 0, 0, 0],\n",
       " [0, 0, 0, 0, 0, 0, 0, 0],\n",
       " [0, 0, 0, 0, 0, 0, 0, 0],\n",
       " [0, 0, 0, 0, 0, 0, 0, 0],\n",
       " [0, 0, 0, 0, 0, 0, 0, 0],\n",
       " [0, 0, 0, 0, 0, 0, 0, 0],\n",
       " [0, 0, 0, 0, 0, 0, 0, 0],\n",
       " [0, 0, 0, 0, 0, 0, 0, 0],\n",
       " [0, 0, 0, 0, 0, 0, 0, 0],\n",
       " [0, 0, 0, 0, 0, 0, 0, 0],\n",
       " [0, 0, 0, 0, 0, 0, 0, 0],\n",
       " [0, 0, 0, 0, 0, 0, 0, 0],\n",
       " [0, 0, 0, 0, 0, 0, 0, 0],\n",
       " [0, 0, 0, 0, 0, 0, 0, 0],\n",
       " [0, 0, 0, 0, 0, 0, 0, 0],\n",
       " [0, 0, 0, 0, 0, 0, 0, 0],\n",
       " [0, 0, 0, 0, 0, 0, 0, 0],\n",
       " [0, 0, 0, 0, 0, 0, 0, 0],\n",
       " [0, 0, 0, 0, 0, 0, 0, 0],\n",
       " [0, 0, 0, 0, 0, 0, 0, 0],\n",
       " [0, 0, 0, 0, 0, 0, 0, 0],\n",
       " [0, 0, 0, 0, 0, 0, 0, 0],\n",
       " [0, 0, 0, 0, 0, 0, 0, 0],\n",
       " [0, 0, 0, 0, 0, 0, 0, 0],\n",
       " [0, 0, 0, 0, 0, 0, 0, 0],\n",
       " [0, 0, 0, 0, 0, 0, 0, 0],\n",
       " [0, 0, 0, 0, 0, 0, 0, 0],\n",
       " [0, 0, 0, 0, 0, 0, 0, 0],\n",
       " [0, 0, 0, 0, 0, 0, 0, 0],\n",
       " [0, 0, 0, 0, 0, 0, 0, 0],\n",
       " [0, 0, 0, 0, 0, 0, 0, 0],\n",
       " [0, 0, 0, 0, 0, 0, 0, 0],\n",
       " [0, 0, 0, 0, 0, 0, 0, 0],\n",
       " [0, 0, 0, 0, 0, 0, 0, 0],\n",
       " [0, 0, 0, 0, 0, 0, 0, 0],\n",
       " [0, 0, 0, 0, 0, 0, 0, 0],\n",
       " [0, 0, 0, 0, 0, 0, 0, 0],\n",
       " [0, 0, 0, 0, 0, 0, 0, 0],\n",
       " [0, 0, 0, 0, 0, 0, 0, 0],\n",
       " [0, 0, 0, 0, 0, 0, 0, 0],\n",
       " [0, 0, 0, 0, 0, 0, 0, 0],\n",
       " [0, 0, 0, 0, 0, 0, 0, 0],\n",
       " [0, 0, 0, 0, 0, 0, 0, 0],\n",
       " [0, 0, 0, 0, 0, 0, 0, 0],\n",
       " [0, 0, 0, 0, 0, 0, 0, 0],\n",
       " [0, 0, 0, 0, 0, 0, 0, 0],\n",
       " [0, 0, 0, 0, 0, 0, 0, 0],\n",
       " [0, 0, 0, 0, 0, 0, 0, 0],\n",
       " [0, 0, 0, 0, 0, 0, 0, 0],\n",
       " [0, 0, 0, 0, 0, 0, 0, 0],\n",
       " [0, 0, 0, 0, 0, 0, 0, 0],\n",
       " [0, 0, 0, 0, 0, 0, 0, 0],\n",
       " [0, 0, 0, 0, 0, 0, 0, 0],\n",
       " [0, 0, 0, 0, 0, 0, 0, 0],\n",
       " [0, 0, 0, 0, 0, 0, 0, 0],\n",
       " [0, 0, 0, 0, 0, 0, 0, 0],\n",
       " [0, 0, 0, 0, 0, 0, 0, 0],\n",
       " [0, 0, 0, 0, 0, 0, 0, 0],\n",
       " [0, 0, 0, 0, 0, 0, 0, 0],\n",
       " [0, 0, 0, 0, 0, 0, 0, 0],\n",
       " [0, 0, 0, 0, 0, 0, 0, 0],\n",
       " [0, 0, 0, 0, 0, 0, 0, 0],\n",
       " [0, 0, 0, 0, 0, 0, 0, 0],\n",
       " [0, 0, 0, 0, 0, 0, 0, 0],\n",
       " [0, 0, 0, 0, 0, 0, 0, 0],\n",
       " [0, 0, 0, 0, 0, 0, 0, 0],\n",
       " [0, 0, 0, 0, 0, 0, 0, 0],\n",
       " [0, 0, 0, 0, 0, 0, 0, 0],\n",
       " [0, 0, 0, 0, 0, 0, 0, 0],\n",
       " [0, 0, 0, 0, 0, 0, 0, 0],\n",
       " [0, 0, 0, 0, 0, 0, 0, 0],\n",
       " [0, 0, 0, 0, 0, 0, 0, 0],\n",
       " [0, 0, 0, 0, 0, 0, 0, 0],\n",
       " [0, 0, 0, 0, 0, 0, 0, 0],\n",
       " [0, 0, 0, 0, 0, 0, 0, 0],\n",
       " [0, 0, 0, 0, 0, 0, 0, 0],\n",
       " [0, 0, 0, 0, 0, 0, 0, 0],\n",
       " [0, 0, 0, 0, 0, 0, 0, 0],\n",
       " [0, 0, 0, 0, 0, 0, 0, 0],\n",
       " [0, 0, 0, 0, 0, 0, 0, 0],\n",
       " [0, 0, 0, 0, 0, 0, 0, 0],\n",
       " [0, 0, 0, 0, 0, 0, 0, 0],\n",
       " [0, 0, 0, 0, 0, 0, 0, 0],\n",
       " [0, 0, 0, 0, 0, 0, 0, 0],\n",
       " [0, 0, 0, 0, 0, 0, 0, 0],\n",
       " [0, 0, 0, 0, 0, 0, 0, 0],\n",
       " [0, 0, 0, 0, 0, 0, 0, 0],\n",
       " [0, 0, 0, 0, 0, 0, 0, 0],\n",
       " [0, 0, 0, 0, 0, 0, 0, 0],\n",
       " [0, 0, 0, 0, 0, 0, 0, 0],\n",
       " [0, 0, 0, 0, 0, 0, 0, 0],\n",
       " [0, 0, 0, 0, 0, 0, 0, 0],\n",
       " [0, 0, 0, 0, 0, 0, 0, 0],\n",
       " [0, 0, 0, 0, 0, 0, 0, 0],\n",
       " [0, 0, 0, 0, 0, 0, 0, 0],\n",
       " [0, 0, 0, 0, 0, 0, 0, 0],\n",
       " [0, 0, 0, 0, 0, 0, 0, 0],\n",
       " [0, 0, 0, 0, 0, 0, 0, 0],\n",
       " [0, 0, 0, 0, 0, 0, 0, 0],\n",
       " [0, 0, 0, 0, 0, 0, 0, 0],\n",
       " [0, 0, 0, 0, 0, 0, 0, 0],\n",
       " [0, 0, 0, 0, 0, 0, 0, 0],\n",
       " [0, 0, 0, 0, 0, 0, 0, 0],\n",
       " [0, 0, 0, 0, 0, 0, 0, 0],\n",
       " [0, 0, 0, 0, 0, 0, 0, 0],\n",
       " [0, 0, 0, 0, 0, 0, 0, 0],\n",
       " [0, 0, 0, 0, 0, 0, 0, 0],\n",
       " [0, 0, 0, 0, 0, 0, 0, 0],\n",
       " [0, 0, 0, 0, 0, 0, 0, 0],\n",
       " [0, 0, 0, 0, 0, 0, 0, 0],\n",
       " [0, 0, 0, 0, 0, 0, 0, 0],\n",
       " [0, 0, 0, 0, 0, 0, 0, 0],\n",
       " [0, 0, 0, 0, 0, 0, 0, 0],\n",
       " [0, 0, 0, 0, 0, 0, 0, 0],\n",
       " [0, 0, 0, 0, 0, 0, 0, 0],\n",
       " [0, 0, 0, 0, 0, 0, 0, 0],\n",
       " [0, 0, 0, 0, 0, 0, 0, 0],\n",
       " [0, 0, 0, 0, 0, 0, 0, 0],\n",
       " [0, 0, 0, 0, 0, 0, 0, 0],\n",
       " [0, 0, 0, 0, 0, 0, 0, 0],\n",
       " [0, 0, 0, 0, 0, 0, 0, 0],\n",
       " [0, 0, 0, 0, 0, 0, 0, 0],\n",
       " [0, 0, 0, 0, 0, 0, 0, 0],\n",
       " [0, 0, 0, 0, 0, 0, 0, 0],\n",
       " [0, 0, 0, 0, 0, 0, 0, 0],\n",
       " [0, 0, 0, 0, 0, 0, 0, 0],\n",
       " [0, 0, 0, 0, 0, 0, 0, 0],\n",
       " [0, 0, 0, 0, 0, 0, 0, 0],\n",
       " [0, 0, 0, 0, 0, 0, 0, 0],\n",
       " [0, 0, 0, 0, 0, 0, 0, 0],\n",
       " [0, 0, 0, 0, 0, 0, 0, 0],\n",
       " [0, 0, 0, 0, 0, 0, 0, 0],\n",
       " [0, 0, 0, 0, 0, 0, 0, 0],\n",
       " [0, 0, 0, 0, 0, 0, 0, 0],\n",
       " [0, 0, 0, 0, 0, 0, 0, 0],\n",
       " [0, 0, 0, 0, 0, 0, 0, 0],\n",
       " [0, 0, 0, 0, 0, 0, 0, 0],\n",
       " [0, 0, 0, 0, 0, 0, 0, 0],\n",
       " [0, 0, 0, 0, 0, 0, 0, 0],\n",
       " [0, 0, 0, 0, 0, 0, 0, 0],\n",
       " [0, 0, 0, 0, 0, 0, 0, 0],\n",
       " [0, 0, 0, 0, 0, 0, 0, 0],\n",
       " [0, 0, 0, 0, 0, 0, 0, 0],\n",
       " [0, 0, 0, 0, 0, 0, 0, 0],\n",
       " [0, 0, 0, 0, 0, 0, 0, 0],\n",
       " [0, 0, 0, 0, 0, 0, 0, 0],\n",
       " [0, 0, 0, 0, 0, 0, 0, 0],\n",
       " [0, 0, 0, 0, 0, 0, 0, 0],\n",
       " [0, 0, 0, 0, 0, 0, 0, 0],\n",
       " [0, 0, 0, 0, 0, 0, 0, 0],\n",
       " [0, 0, 0, 0, 0, 0, 0, 0],\n",
       " [0, 0, 0, 0, 0, 0, 0, 0],\n",
       " [0, 0, 0, 0, 0, 0, 0, 0],\n",
       " [0, 0, 0, 0, 0, 0, 0, 0],\n",
       " [0, 0, 0, 0, 0, 0, 0, 0],\n",
       " [0, 0, 0, 0, 0, 0, 0, 0],\n",
       " [0, 0, 0, 0, 0, 0, 0, 0],\n",
       " [0, 0, 0, 0, 0, 0, 0, 0],\n",
       " [0, 0, 0, 0, 0, 0, 0, 0],\n",
       " [0, 0, 0, 0, 0, 0, 0, 0],\n",
       " [0, 0, 0, 0, 0, 0, 0, 0],\n",
       " [0, 0, 0, 0, 0, 0, 0, 0],\n",
       " [0, 0, 0, 0, 0, 0, 0, 0],\n",
       " [0, 0, 0, 0, 0, 0, 0, 0],\n",
       " [0, 0, 0, 0, 0, 0, 0, 0],\n",
       " [0, 0, 0, 0, 0, 0, 0, 0],\n",
       " [0, 0, 0, 0, 0, 0, 0, 0],\n",
       " [0, 0, 0, 0, 0, 0, 0, 0],\n",
       " [0, 0, 0, 0, 0, 0, 0, 0],\n",
       " [0, 0, 0, 0, 0, 0, 0, 0],\n",
       " [0, 0, 0, 0, 0, 0, 0, 0],\n",
       " [0, 0, 0, 0, 0, 0, 0, 0],\n",
       " [0, 0, 0, 0, 0, 0, 0, 0],\n",
       " [0, 0, 0, 0, 0, 0, 0, 0],\n",
       " [0, 0, 0, 0, 0, 0, 0, 0],\n",
       " [0, 0, 0, 0, 0, 0, 0, 0],\n",
       " [0, 0, 0, 0, 0, 0, 0, 0],\n",
       " [0, 0, 0, 0, 0, 0, 0, 0],\n",
       " [0, 0, 0, 0, 0, 0, 0, 0],\n",
       " [0, 0, 0, 0, 0, 0, 0, 0],\n",
       " [0, 0, 0, 0, 0, 0, 0, 0],\n",
       " [0, 0, 0, 0, 0, 0, 0, 0],\n",
       " [0, 0, 0, 0, 0, 0, 0, 0],\n",
       " [0, 0, 0, 0, 0, 0, 0, 0],\n",
       " [0, 0, 0, 0, 0, 0, 0, 0],\n",
       " [0, 0, 0, 0, 0, 0, 0, 0],\n",
       " [0, 0, 0, 0, 0, 0, 0, 0],\n",
       " [0, 0, 0, 0, 0, 0, 0, 0],\n",
       " [0, 0, 0, 0, 0, 0, 0, 0],\n",
       " [0, 0, 0, 0, 0, 0, 0, 0],\n",
       " [0, 0, 0, 0, 0, 0, 0, 0],\n",
       " [0, 0, 0, 0, 0, 0, 0, 0],\n",
       " [0, 0, 0, 0, 0, 0, 0, 0],\n",
       " [0, 0, 0, 0, 0, 0, 0, 0],\n",
       " [0, 0, 0, 0, 0, 0, 0, 0],\n",
       " [0, 0, 0, 0, 0, 0, 0, 0],\n",
       " [0, 0, 0, 0, 0, 0, 0, 0],\n",
       " [0, 0, 0, 0, 0, 0, 0, 0],\n",
       " [0, 0, 0, 0, 0, 0, 0, 0],\n",
       " [0, 0, 0, 0, 0, 0, 0, 0],\n",
       " [0, 0, 0, 0, 0, 0, 0, 0],\n",
       " [0, 0, 0, 0, 0, 0, 0, 0],\n",
       " [0, 0, 0, 0, 0, 0, 0, 0],\n",
       " [0, 0, 0, 0, 0, 0, 0, 0],\n",
       " [0, 0, 0, 0, 0, 0, 0, 0],\n",
       " [0, 0, 0, 0, 0, 0, 0, 0],\n",
       " [0, 0, 0, 0, 0, 0, 0, 0],\n",
       " [0, 0, 0, 0, 0, 0, 0, 0],\n",
       " [0, 0, 0, 0, 0, 0, 0, 0],\n",
       " [0, 0, 0, 0, 0, 0, 0, 0],\n",
       " [0, 0, 0, 0, 0, 0, 0, 0],\n",
       " [0, 0, 0, 0, 0, 0, 0, 0],\n",
       " [0, 0, 0, 0, 0, 0, 0, 0],\n",
       " [0, 0, 0, 0, 0, 0, 0, 0],\n",
       " [0, 0, 0, 0, 0, 0, 0, 0],\n",
       " [0, 0, 0, 0, 0, 0, 0, 0],\n",
       " [0, 0, 0, 0, 0, 0, 0, 0],\n",
       " [0, 0, 0, 0, 0, 0, 0, 0],\n",
       " [0, 0, 0, 0, 0, 0, 0, 0],\n",
       " [0, 0, 0, 0, 0, 0, 0, 0],\n",
       " [0, 0, 0, 0, 0, 0, 0, 0],\n",
       " [0, 0, 0, 0, 0, 0, 0, 0],\n",
       " [0, 0, 0, 0, 0, 0, 0, 0],\n",
       " [0, 0, 0, 0, 0, 0, 0, 0],\n",
       " [0, 0, 0, 0, 0, 0, 0, 0],\n",
       " [0, 0, 0, 0, 0, 0, 0, 0],\n",
       " [0, 0, 0, 0, 0, 0, 0, 0],\n",
       " [0, 0, 0, 0, 0, 0, 0, 0],\n",
       " [0, 0, 0, 0, 0, 0, 0, 0],\n",
       " [0, 0, 0, 0, 0, 0, 0, 0],\n",
       " [0, 0, 0, 0, 0, 0, 0, 0],\n",
       " [0, 0, 0, 0, 0, 0, 0, 0],\n",
       " [0, 0, 0, 0, 0, 0, 0, 0],\n",
       " [0, 0, 0, 0, 0, 0, 0, 0],\n",
       " [0, 0, 0, 0, 0, 0, 0, 0],\n",
       " [0, 0, 0, 0, 0, 0, 0, 0],\n",
       " [0, 0, 0, 0, 0, 0, 0, 0],\n",
       " [0, 0, 0, 0, 0, 0, 0, 0],\n",
       " [0, 0, 0, 0, 0, 0, 0, 0],\n",
       " [0, 0, 0, 0, 0, 0, 0, 0],\n",
       " [0, 0, 0, 0, 0, 0, 0, 0],\n",
       " [0, 0, 0, 0, 0, 0, 0, 0],\n",
       " [0, 0, 0, 0, 0, 0, 0, 0],\n",
       " [0, 0, 0, 0, 0, 0, 0, 0],\n",
       " [0, 0, 0, 0, 0, 0, 0, 0],\n",
       " [0, 0, 0, 0, 0, 0, 0, 0],\n",
       " [0, 0, 0, 0, 0, 0, 0, 0],\n",
       " [0, 0, 0, 0, 0, 0, 0, 0],\n",
       " [0, 0, 0, 0, 0, 0, 0, 0],\n",
       " [0, 0, 0, 0, 0, 0, 0, 0],\n",
       " [0, 0, 0, 0, 0, 0, 0, 0],\n",
       " [0, 0, 0, 0, 0, 0, 0, 0],\n",
       " [0, 0, 0, 0, 0, 0, 0, 0],\n",
       " [0, 0, 0, 0, 0, 0, 0, 0],\n",
       " [0, 0, 0, 0, 0, 0, 0, 0],\n",
       " [0, 0, 0, 0, 0, 0, 0, 0],\n",
       " [0, 0, 0, 0, 0, 0, 0, 0],\n",
       " [0, 0, 0, 0, 0, 0, 0, 0],\n",
       " [0, 0, 0, 0, 0, 0, 0, 0],\n",
       " [0, 0, 0, 0, 0, 0, 0, 0],\n",
       " [0, 0, 0, 0, 0, 0, 0, 0],\n",
       " [0, 0, 0, 0, 0, 0, 0, 0],\n",
       " [0, 0, 0, 0, 0, 0, 0, 0],\n",
       " [0, 0, 0, 0, 0, 0, 0, 0],\n",
       " [0, 0, 0, 0, 0, 0, 0, 0],\n",
       " [0, 0, 0, 0, 0, 0, 0, 0],\n",
       " [0, 0, 0, 0, 0, 0, 0, 0],\n",
       " [0, 0, 0, 0, 0, 0, 0, 0],\n",
       " [0, 0, 0, 0, 0, 0, 0, 0],\n",
       " [0, 0, 0, 0, 0, 0, 0, 0],\n",
       " [0, 0, 0, 0, 0, 0, 0, 0],\n",
       " [0, 0, 0, 0, 0, 0, 0, 0],\n",
       " [0, 0, 0, 0, 0, 0, 0, 0],\n",
       " [0, 0, 0, 0, 0, 0, 0, 0],\n",
       " [0, 0, 0, 0, 0, 0, 0, 0],\n",
       " [0, 0, 0, 0, 0, 0, 0, 0],\n",
       " [0, 0, 0, 0, 0, 0, 0, 0],\n",
       " [0, 0, 0, 0, 0, 0, 0, 0],\n",
       " [0, 0, 0, 0, 0, 0, 0, 0],\n",
       " [0, 0, 0, 0, 0, 0, 0, 0],\n",
       " [0, 0, 0, 0, 0, 0, 0, 0],\n",
       " [0, 0, 0, 0, 0, 0, 0, 0],\n",
       " [0, 0, 0, 0, 0, 0, 0, 0],\n",
       " [0, 0, 0, 0, 0, 0, 0, 0],\n",
       " [0, 0, 0, 0, 0, 0, 0, 0],\n",
       " [0, 0, 0, 0, 0, 0, 0, 0],\n",
       " [0, 0, 0, 0, 0, 0, 0, 0],\n",
       " [0, 0, 0, 0, 0, 0, 0, 0],\n",
       " [0, 0, 0, 0, 0, 0, 0, 0],\n",
       " [0, 0, 0, 0, 0, 0, 0, 0],\n",
       " [0, 0, 0, 0, 0, 0, 0, 0],\n",
       " [0, 0, 0, 0, 0, 0, 0, 0],\n",
       " [0, 0, 0, 0, 0, 0, 0, 0],\n",
       " [0, 0, 0, 0, 0, 0, 0, 0],\n",
       " [0, 0, 0, 0, 0, 0, 0, 0],\n",
       " [0, 0, 0, 0, 0, 0, 0, 0],\n",
       " [0, 0, 0, 0, 0, 0, 0, 0],\n",
       " [0, 0, 0, 0, 0, 0, 0, 0],\n",
       " [0, 0, 0, 0, 0, 0, 0, 0],\n",
       " [0, 0, 0, 0, 0, 0, 0, 0],\n",
       " [0, 0, 0, 0, 0, 0, 0, 0],\n",
       " [0, 0, 0, 0, 0, 0, 0, 0],\n",
       " [0, 0, 0, 0, 0, 0, 0, 0],\n",
       " [0, 0, 0, 0, 0, 0, 0, 0],\n",
       " [0, 0, 0, 0, 0, 0, 0, 0],\n",
       " [0, 0, 0, 0, 0, 0, 0, 0],\n",
       " [0, 0, 0, 0, 0, 0, 0, 0],\n",
       " [0, 0, 0, 0, 0, 0, 0, 0],\n",
       " [0, 0, 0, 0, 0, 0, 0, 0],\n",
       " [0, 0, 0, 0, 0, 0, 0, 0],\n",
       " [0, 0, 0, 0, 0, 0, 0, 0],\n",
       " [0, 0, 0, 0, 0, 0, 0, 0],\n",
       " [0, 0, 0, 0, 0, 0, 0, 0],\n",
       " [0, 0, 0, 0, 0, 0, 0, 0],\n",
       " [0, 0, 0, 0, 0, 0, 0, 0],\n",
       " [0, 0, 0, 0, 0, 0, 0, 0],\n",
       " [0, 0, 0, 0, 0, 0, 0, 0],\n",
       " [0, 0, 0, 0, 0, 0, 0, 0],\n",
       " [0, 0, 0, 0, 0, 0, 0, 0],\n",
       " [0, 0, 0, 0, 0, 0, 0, 0],\n",
       " [0, 0, 0, 0, 0, 0, 0, 0],\n",
       " [0, 0, 0, 0, 0, 0, 0, 0],\n",
       " [0, 0, 0, 0, 0, 0, 0, 0],\n",
       " [0, 0, 0, 0, 0, 0, 0, 0],\n",
       " [0, 0, 0, 0, 0, 0, 0, 0],\n",
       " [0, 0, 0, 0, 0, 0, 0, 0],\n",
       " [0, 0, 0, 0, 0, 0, 0, 0],\n",
       " [0, 0, 0, 0, 0, 0, 0, 0],\n",
       " [0, 0, 0, 0, 0, 0, 0, 0],\n",
       " [0, 0, 0, 0, 0, 0, 0, 0],\n",
       " [0, 0, 0, 0, 0, 0, 0, 0],\n",
       " [0, 0, 0, 0, 0, 0, 0, 0],\n",
       " [0, 0, 0, 0, 0, 0, 0, 0],\n",
       " [0, 0, 0, 0, 0, 0, 0, 0],\n",
       " [0, 0, 0, 0, 0, 0, 0, 0],\n",
       " [0, 0, 0, 0, 0, 0, 0, 0],\n",
       " [0, 0, 0, 0, 0, 0, 0, 0],\n",
       " [0, 0, 0, 0, 0, 0, 0, 0],\n",
       " [0, 0, 0, 0, 0, 0, 0, 0],\n",
       " [0, 0, 0, 0, 0, 0, 0, 0],\n",
       " [0, 0, 0, 0, 0, 0, 0, 0],\n",
       " [0, 0, 0, 0, 0, 0, 0, 0],\n",
       " [0, 0, 0, 0, 0, 0, 0, 0],\n",
       " [0, 0, 0, 0, 0, 0, 0, 0],\n",
       " [0, 0, 0, 0, 0, 0, 0, 0],\n",
       " [0, 0, 0, 0, 0, 0, 0, 0],\n",
       " [0, 0, 0, 0, 0, 0, 0, 0],\n",
       " [0, 0, 0, 0, 0, 0, 0, 0],\n",
       " [0, 0, 0, 0, 0, 0, 0, 0],\n",
       " [0, 0, 0, 0, 0, 0, 0, 0],\n",
       " [0, 0, 0, 0, 0, 0, 0, 0],\n",
       " [0, 0, 0, 0, 0, 0, 0, 0],\n",
       " [0, 0, 0, 0, 0, 0, 0, 0],\n",
       " [0, 0, 0, 0, 0, 0, 0, 0],\n",
       " [0, 0, 0, 0, 0, 0, 0, 0],\n",
       " [0, 0, 0, 0, 0, 0, 0, 0],\n",
       " [0, 0, 0, 0, 0, 0, 0, 0],\n",
       " [0, 0, 0, 0, 0, 0, 0, 0],\n",
       " [0, 0, 0, 0, 0, 0, 0, 0],\n",
       " [0, 0, 0, 0, 0, 0, 0, 0],\n",
       " [0, 0, 0, 0, 0, 0, 0, 0],\n",
       " [0, 0, 0, 0, 0, 0, 0, 0],\n",
       " [0, 0, 0, 0, 0, 0, 0, 0],\n",
       " [0, 0, 0, 0, 0, 0, 0, 0],\n",
       " [0, 0, 0, 0, 0, 0, 0, 0],\n",
       " [0, 0, 0, 0, 0, 0, 0, 0],\n",
       " [0, 0, 0, 0, 0, 0, 0, 0],\n",
       " [0, 0, 0, 0, 0, 0, 0, 0],\n",
       " [0, 0, 0, 0, 0, 0, 0, 0],\n",
       " [0, 0, 0, 0, 0, 0, 0, 0],\n",
       " [0, 0, 0, 0, 0, 0, 0, 0],\n",
       " [0, 0, 0, 0, 0, 0, 0, 0],\n",
       " [0, 0, 0, 0, 0, 0, 0, 0],\n",
       " [0, 0, 0, 0, 0, 0, 0, 0],\n",
       " [0, 0, 0, 0, 0, 0, 0, 0],\n",
       " [0, 0, 0, 0, 0, 0, 0, 0],\n",
       " [0, 0, 0, 0, 0, 0, 0, 0],\n",
       " [0, 0, 0, 0, 0, 0, 0, 0],\n",
       " [0, 0, 0, 0, 0, 0, 0, 0],\n",
       " [0, 0, 0, 0, 0, 0, 0, 0],\n",
       " [0, 0, 0, 0, 0, 0, 0, 0],\n",
       " [0, 0, 0, 0, 0, 0, 0, 0],\n",
       " [0, 0, 0, 0, 0, 0, 0, 0],\n",
       " [0, 0, 0, 0, 0, 0, 0, 0],\n",
       " [0, 0, 0, 0, 0, 0, 0, 0],\n",
       " [0, 0, 0, 0, 0, 0, 0, 0],\n",
       " [0, 0, 0, 0, 0, 0, 0, 0],\n",
       " [0, 0, 0, 0, 0, 0, 0, 0],\n",
       " [0, 0, 0, 0, 0, 0, 0, 0],\n",
       " [0, 0, 0, 0, 0, 0, 0, 0],\n",
       " [0, 0, 0, 0, 0, 0, 0, 0],\n",
       " [0, 0, 0, 0, 0, 0, 0, 0],\n",
       " [0, 0, 0, 0, 0, 0, 0, 0],\n",
       " [0, 0, 0, 0, 0, 0, 0, 0],\n",
       " [0, 0, 0, 0, 0, 0, 0, 0],\n",
       " [0, 0, 0, 0, 0, 0, 0, 0],\n",
       " [0, 0, 0, 0, 0, 0, 0, 0],\n",
       " [0, 0, 0, 0, 0, 0, 0, 0],\n",
       " [0, 0, 0, 0, 0, 0, 0, 0],\n",
       " [0, 0, 0, 0, 0, 0, 0, 0],\n",
       " [0, 0, 0, 0, 0, 0, 0, 0],\n",
       " [0, 0, 0, 0, 0, 0, 0, 0],\n",
       " [0, 0, 0, 0, 0, 0, 0, 0],\n",
       " [0, 0, 0, 0, 0, 0, 0, 0],\n",
       " [0, 0, 0, 0, 0, 0, 0, 0],\n",
       " [0, 0, 0, 0, 0, 0, 0, 0],\n",
       " [0, 0, 0, 0, 0, 0, 0, 0],\n",
       " [0, 0, 0, 0, 0, 0, 0, 0],\n",
       " [0, 0, 0, 0, 0, 0, 0, 0],\n",
       " [0, 0, 0, 0, 0, 0, 0, 0],\n",
       " [0, 0, 0, 0, 0, 0, 0, 0],\n",
       " [0, 0, 0, 0, 0, 0, 0, 0],\n",
       " [0, 0, 0, 0, 0, 0, 0, 0],\n",
       " [0, 0, 0, 0, 0, 0, 0, 0],\n",
       " [0, 0, 0, 0, 0, 0, 0, 0],\n",
       " [0, 0, 0, 0, 0, 0, 0, 0],\n",
       " [0, 0, 0, 0, 0, 0, 0, 0],\n",
       " [0, 0, 0, 0, 0, 0, 0, 0],\n",
       " [0, 0, 0, 0, 0, 0, 0, 0],\n",
       " [0, 0, 0, 0, 0, 0, 0, 0],\n",
       " [0, 0, 0, 0, 0, 0, 0, 0],\n",
       " [0, 0, 0, 0, 0, 0, 0, 0],\n",
       " [0, 0, 0, 0, 0, 0, 0, 0],\n",
       " [0, 0, 0, 0, 0, 0, 0, 0],\n",
       " [0, 0, 0, 0, 0, 0, 0, 0],\n",
       " [0, 0, 0, 0, 0, 0, 0, 0],\n",
       " [0, 0, 0, 0, 0, 0, 0, 0],\n",
       " [0, 0, 0, 0, 0, 0, 0, 0],\n",
       " [0, 0, 0, 0, 0, 0, 0, 0],\n",
       " [0, 0, 0, 0, 0, 0, 0, 0],\n",
       " [0, 0, 0, 0, 0, 0, 0, 0],\n",
       " [0, 0, 0, 0, 0, 0, 0, 0],\n",
       " [0, 0, 0, 0, 0, 0, 0, 0],\n",
       " [0, 0, 0, 0, 0, 0, 0, 0],\n",
       " [0, 0, 0, 0, 0, 0, 0, 0],\n",
       " [0, 0, 0, 0, 0, 0, 0, 0],\n",
       " [0, 0, 0, 0, 0, 0, 0, 0],\n",
       " [0, 0, 0, 0, 0, 0, 0, 0],\n",
       " [0, 0, 0, 0, 0, 0, 0, 0],\n",
       " [0, 0, 0, 0, 0, 0, 0, 0],\n",
       " [0, 0, 0, 0, 0, 0, 0, 0],\n",
       " [0, 0, 0, 0, 0, 0, 0, 0],\n",
       " [0, 0, 0, 0, 0, 0, 0, 0],\n",
       " [0, 0, 0, 0, 0, 0, 0, 0],\n",
       " [0, 0, 0, 0, 0, 0, 0, 0],\n",
       " [0, 0, 0, 0, 0, 0, 0, 0],\n",
       " [0, 0, 0, 0, 0, 0, 0, 0],\n",
       " [0, 0, 0, 0, 0, 0, 0, 0],\n",
       " [0, 0, 0, 0, 0, 0, 0, 0],\n",
       " [0, 0, 0, 0, 0, 0, 0, 0],\n",
       " [0, 0, 0, 0, 0, 0, 0, 0],\n",
       " [0, 0, 0, 0, 0, 0, 0, 0],\n",
       " [0, 0, 0, 0, 0, 0, 0, 0],\n",
       " [0, 0, 0, 0, 0, 0, 0, 0],\n",
       " [0, 0, 0, 0, 0, 0, 0, 0],\n",
       " [0, 0, 0, 0, 0, 0, 0, 0],\n",
       " [0, 0, 0, 0, 0, 0, 0, 0],\n",
       " [0, 0, 0, 0, 0, 0, 0, 0],\n",
       " [0, 0, 0, 0, 0, 0, 0, 0],\n",
       " [0, 0, 0, 0, 0, 0, 0, 0],\n",
       " [0, 0, 0, 0, 0, 0, 0, 0],\n",
       " [0, 0, 0, 0, 0, 0, 0, 0],\n",
       " [0, 0, 0, 0, 0, 0, 0, 0],\n",
       " [0, 0, 0, 0, 0, 0, 0, 0],\n",
       " [0, 0, 0, 0, 0, 0, 0, 0],\n",
       " [0, 0, 0, 0, 0, 0, 0, 0],\n",
       " [0, 0, 0, 0, 0, 0, 0, 0],\n",
       " [0, 0, 0, 0, 0, 0, 0, 0],\n",
       " [0, 0, 0, 0, 0, 0, 0, 0],\n",
       " [0, 0, 0, 0, 0, 0, 0, 0],\n",
       " [0, 0, 0, 0, 0, 0, 0, 0],\n",
       " [0, 0, 0, 0, 0, 0, 0, 0],\n",
       " [0, 0, 0, 0, 0, 0, 0, 0],\n",
       " [0, 0, 0, 0, 0, 0, 0, 0],\n",
       " [0, 0, 0, 0, 0, 0, 0, 0],\n",
       " [0, 0, 0, 0, 0, 0, 0, 0],\n",
       " [0, 0, 0, 0, 0, 0, 0, 0],\n",
       " [0, 0, 0, 0, 0, 0, 0, 0],\n",
       " [0, 0, 0, 0, 0, 0, 0, 0],\n",
       " [0, 0, 0, 0, 0, 0, 0, 0],\n",
       " [0, 0, 0, 0, 0, 0, 0, 0],\n",
       " [0, 0, 0, 0, 0, 0, 0, 0],\n",
       " [0, 0, 0, 0, 0, 0, 0, 0],\n",
       " [0, 0, 0, 0, 0, 0, 0, 0],\n",
       " [0, 0, 0, 0, 0, 0, 0, 0],\n",
       " [0, 0, 0, 0, 0, 0, 0, 0],\n",
       " [0, 0, 0, 0, 0, 0, 0, 0],\n",
       " [0, 0, 0, 0, 0, 0, 0, 0],\n",
       " [0, 0, 0, 0, 0, 0, 0, 0],\n",
       " [0, 0, 0, 0, 0, 0, 0, 0],\n",
       " [0, 0, 0, 0, 0, 0, 0, 0],\n",
       " [0, 0, 0, 0, 0, 0, 0, 0],\n",
       " [0, 0, 0, 0, 0, 0, 0, 0],\n",
       " [0, 0, 0, 0, 0, 0, 0, 0],\n",
       " [0, 0, 0, 0, 0, 0, 0, 0],\n",
       " [0, 0, 0, 0, 0, 0, 0, 0],\n",
       " [0, 0, 0, 0, 0, 0, 0, 0],\n",
       " [0, 0, 0, 0, 0, 0, 0, 0],\n",
       " [0, 0, 0, 0, 0, 0, 0, 0],\n",
       " [0, 0, 0, 0, 0, 0, 0, 0],\n",
       " [0, 0, 0, 0, 0, 0, 0, 0],\n",
       " [0, 0, 0, 0, 0, 0, 0, 0],\n",
       " [0, 0, 0, 0, 0, 0, 0, 0],\n",
       " [0, 0, 0, 0, 0, 0, 0, 0],\n",
       " [0, 0, 0, 0, 0, 0, 0, 0],\n",
       " [0, 0, 0, 0, 0, 0, 0, 0],\n",
       " [0, 0, 0, 0, 0, 0, 0, 0],\n",
       " [0, 0, 0, 0, 0, 0, 0, 0],\n",
       " [0, 0, 0, 0, 0, 0, 0, 0],\n",
       " [0, 0, 0, 0, 0, 0, 0, 0],\n",
       " [0, 0, 0, 0, 0, 0, 0, 0],\n",
       " [0, 0, 0, 0, 0, 0, 0, 0],\n",
       " [0, 0, 0, 0, 0, 0, 0, 0],\n",
       " [0, 0, 0, 0, 0, 0, 0, 0],\n",
       " [0, 0, 0, 0, 0, 0, 0, 0],\n",
       " [0, 0, 0, 0, 0, 0, 0, 0],\n",
       " [0, 0, 0, 0, 0, 0, 0, 0],\n",
       " [0, 0, 0, 0, 0, 0, 0, 0],\n",
       " [0, 0, 0, 0, 0, 0, 0, 0],\n",
       " [0, 0, 0, 0, 0, 0, 0, 0],\n",
       " [0, 0, 0, 0, 0, 0, 0, 0],\n",
       " [0, 0, 0, 0, 0, 0, 0, 0],\n",
       " [0, 0, 0, 0, 0, 0, 0, 0],\n",
       " [0, 0, 0, 0, 0, 0, 0, 0],\n",
       " [0, 0, 0, 0, 0, 0, 0, 0],\n",
       " [0, 0, 0, 0, 0, 0, 0, 0],\n",
       " [0, 0, 0, 0, 0, 0, 0, 0],\n",
       " [0, 0, 0, 0, 0, 0, 0, 0],\n",
       " [0, 0, 0, 0, 0, 0, 0, 0],\n",
       " [0, 0, 0, 0, 0, 0, 0, 0],\n",
       " [0, 0, 0, 0, 0, 0, 0, 0],\n",
       " [0, 0, 0, 0, 0, 0, 0, 0],\n",
       " [0, 0, 0, 0, 0, 0, 0, 0],\n",
       " [0, 0, 0, 0, 0, 0, 0, 0],\n",
       " [0, 0, 0, 0, 0, 0, 0, 0],\n",
       " [0, 0, 0, 0, 0, 0, 0, 0],\n",
       " [0, 0, 0, 0, 0, 0, 0, 0],\n",
       " [0, 0, 0, 0, 0, 0, 0, 0],\n",
       " [0, 0, 0, 0, 0, 0, 0, 0],\n",
       " [0, 0, 0, 0, 0, 0, 0, 0],\n",
       " [0, 0, 0, 0, 0, 0, 0, 0],\n",
       " [0, 0, 0, 0, 0, 0, 0, 0],\n",
       " [0, 0, 0, 0, 0, 0, 0, 0],\n",
       " [0, 0, 0, 0, 0, 0, 0, 0],\n",
       " [0, 0, 0, 0, 0, 0, 0, 0],\n",
       " [0, 0, 0, 0, 0, 0, 0, 0],\n",
       " [0, 0, 0, 0, 0, 0, 0, 0],\n",
       " [0, 0, 0, 0, 0, 0, 0, 0],\n",
       " [0, 0, 0, 0, 0, 0, 0, 0],\n",
       " [0, 0, 0, 0, 0, 0, 0, 0],\n",
       " [0, 0, 0, 0, 0, 0, 0, 0],\n",
       " [0, 0, 0, 0, 0, 0, 0, 0],\n",
       " [0, 0, 0, 0, 0, 0, 0, 0],\n",
       " [0, 0, 0, 0, 0, 0, 0, 0],\n",
       " [0, 0, 0, 0, 0, 0, 0, 0],\n",
       " [0, 0, 0, 0, 0, 0, 0, 0],\n",
       " [0, 0, 0, 0, 0, 0, 0, 0],\n",
       " [0, 0, 0, 0, 0, 0, 0, 0],\n",
       " [0, 0, 0, 0, 0, 0, 0, 0],\n",
       " [0, 0, 0, 0, 0, 0, 0, 0],\n",
       " [0, 0, 0, 0, 0, 0, 0, 0],\n",
       " [0, 0, 0, 0, 0, 0, 0, 0],\n",
       " [0, 0, 0, 0, 0, 0, 0, 0],\n",
       " [0, 0, 0, 0, 0, 0, 0, 0],\n",
       " [0, 0, 0, 0, 0, 0, 0, 0],\n",
       " [0, 0, 0, 0, 0, 0, 0, 0],\n",
       " [0, 0, 0, 0, 0, 0, 0, 0],\n",
       " [0, 0, 0, 0, 0, 0, 0, 0],\n",
       " [0, 0, 0, 0, 0, 0, 0, 0],\n",
       " [0, 0, 0, 0, 0, 0, 0, 0],\n",
       " [0, 0, 0, 0, 0, 0, 0, 0],\n",
       " [0, 0, 0, 0, 0, 0, 0, 0],\n",
       " [0, 0, 0, 0, 0, 0, 0, 0],\n",
       " [0, 0, 0, 0, 0, 0, 0, 0],\n",
       " [0, 0, 0, 0, 0, 0, 0, 0],\n",
       " [0, 0, 0, 0, 0, 0, 0, 0],\n",
       " [0, 0, 0, 0, 0, 0, 0, 0],\n",
       " [0, 0, 0, 0, 0, 0, 0, 0],\n",
       " [0, 0, 0, 0, 0, 0, 0, 0],\n",
       " [0, 0, 0, 0, 0, 0, 0, 0],\n",
       " [0, 0, 0, 0, 0, 0, 0, 0],\n",
       " [0, 0, 0, 0, 0, 0, 0, 0],\n",
       " [0, 0, 0, 0, 0, 0, 0, 0],\n",
       " [0, 0, 0, 0, 0, 0, 0, 0],\n",
       " [0, 0, 0, 0, 0, 0, 0, 0],\n",
       " [0, 0, 0, 0, 0, 0, 0, 0],\n",
       " [0, 0, 0, 0, 0, 0, 0, 0],\n",
       " [0, 0, 0, 0, 0, 0, 0, 0],\n",
       " [0, 0, 0, 0, 0, 0, 0, 0],\n",
       " [0, 0, 0, 0, 0, 0, 0, 0],\n",
       " [0, 0, 0, 0, 0, 0, 0, 0],\n",
       " [0, 0, 0, 0, 0, 0, 0, 0],\n",
       " [0, 0, 0, 0, 0, 0, 0, 0],\n",
       " [0, 0, 0, 0, 0, 0, 0, 0],\n",
       " [0, 0, 0, 0, 0, 0, 0, 0],\n",
       " [0, 0, 0, 0, 0, 0, 0, 0],\n",
       " [0, 0, 0, 0, 0, 0, 0, 0],\n",
       " [0, 0, 0, 0, 0, 0, 0, 0],\n",
       " [0, 0, 0, 0, 0, 0, 0, 0],\n",
       " [0, 0, 0, 0, 0, 0, 0, 0],\n",
       " [0, 0, 0, 0, 0, 0, 0, 0],\n",
       " [0, 0, 0, 0, 0, 0, 0, 0],\n",
       " [0, 0, 0, 0, 0, 0, 0, 0],\n",
       " [0, 0, 0, 0, 0, 0, 0, 0],\n",
       " [0, 0, 0, 0, 0, 0, 0, 0],\n",
       " [0, 0, 0, 0, 0, 0, 0, 0],\n",
       " [0, 0, 0, 0, 0, 0, 0, 0],\n",
       " [0, 0, 0, 0, 0, 0, 0, 0],\n",
       " [0, 0, 0, 0, 0, 0, 0, 0],\n",
       " [0, 0, 0, 0, 0, 0, 0, 0],\n",
       " [0, 0, 0, 0, 0, 0, 0, 0],\n",
       " [0, 0, 0, 0, 0, 0, 0, 0],\n",
       " [0, 0, 0, 0, 0, 0, 0, 0],\n",
       " [0, 0, 0, 0, 0, 0, 0, 0],\n",
       " [0, 0, 0, 0, 0, 0, 0, 0],\n",
       " [0, 0, 0, 0, 0, 0, 0, 0],\n",
       " [0, 0, 0, 0, 0, 0, 0, 0],\n",
       " [0, 0, 0, 0, 0, 0, 0, 0],\n",
       " [0, 0, 0, 0, 0, 0, 0, 0],\n",
       " [0, 0, 0, 0, 0, 0, 0, 0],\n",
       " [0, 0, 0, 0, 0, 0, 0, 0],\n",
       " [0, 0, 0, 0, 0, 0, 0, 0],\n",
       " [0, 0, 0, 0, 0, 0, 0, 0],\n",
       " [0, 0, 0, 0, 0, 0, 0, 0],\n",
       " [0, 0, 0, 0, 0, 0, 0, 0],\n",
       " [0, 0, 0, 0, 0, 0, 0, 0],\n",
       " [0, 0, 0, 0, 0, 0, 0, 0],\n",
       " [0, 0, 0, 0, 0, 0, 0, 0],\n",
       " [0, 0, 0, 0, 0, 0, 0, 0],\n",
       " [0, 0, 0, 0, 0, 0, 0, 0],\n",
       " [0, 0, 0, 0, 0, 0, 0, 0],\n",
       " [0, 0, 0, 0, 0, 0, 0, 0],\n",
       " [0, 0, 0, 0, 0, 0, 0, 0],\n",
       " [0, 0, 0, 0, 0, 0, 0, 0],\n",
       " [0, 0, 0, 0, 0, 0, 0, 0],\n",
       " [0, 0, 0, 0, 0, 0, 0, 0],\n",
       " [0, 0, 0, 0, 0, 0, 0, 0],\n",
       " [0, 0, 0, 0, 0, 0, 0, 0],\n",
       " [0, 0, 0, 0, 0, 0, 0, 0],\n",
       " [0, 0, 0, 0, 0, 0, 0, 0],\n",
       " [0, 0, 0, 0, 0, 0, 0, 0],\n",
       " [0, 0, 0, 0, 0, 0, 0, 0],\n",
       " [0, 0, 0, 0, 0, 0, 0, 0],\n",
       " [0, 0, 0, 0, 0, 0, 0, 0],\n",
       " [0, 0, 0, 0, 0, 0, 0, 0],\n",
       " [0, 0, 0, 0, 0, 0, 0, 0],\n",
       " [0, 0, 0, 0, 0, 0, 0, 0],\n",
       " [0, 0, 0, 0, 0, 0, 0, 0],\n",
       " [0, 0, 0, 0, 0, 0, 0, 0],\n",
       " [0, 0, 0, 0, 0, 0, 0, 0],\n",
       " [0, 0, 0, 0, 0, 0, 0, 0],\n",
       " [0, 0, 0, 0, 0, 0, 0, 0],\n",
       " [0, 0, 0, 0, 0, 0, 0, 0],\n",
       " [0, 0, 0, 0, 0, 0, 0, 0],\n",
       " [0, 0, 0, 0, 0, 0, 0, 0],\n",
       " ...]"
      ]
     },
     "execution_count": 12,
     "metadata": {},
     "output_type": "execute_result"
    }
   ],
   "source": [
    "length  = len(log)\n",
    "width = len(activities)\n",
    "length,width\n",
    "vectors  = [ [0] * width for _ in range(length)]\n",
    "type(vectors),len(vectors)\n",
    "vectors"
   ]
  },
  {
   "cell_type": "markdown",
   "metadata": {},
   "source": [
    "## Activities Profiling - Updating Vector with the count of occurence of Activities"
   ]
  },
  {
   "cell_type": "code",
   "execution_count": 13,
   "metadata": {},
   "outputs": [],
   "source": [
    "for i in range(len(events)):\n",
    "        for j in range(len(events[i])):\n",
    "                if events[i][j] == activities_array[0]:\n",
    "                    vectors[i][0] += 1\n",
    "                elif events[i][j] == activities_array[1]:\n",
    "                    vectors[i][1] += 1\n",
    "                elif events[i][j] == activities_array[2]:\n",
    "                    vectors[i][2] += 1\n",
    "                elif events[i][j] == activities_array[3]:\n",
    "                    vectors[i][3] += 1\n",
    "                elif events[i][j] == activities_array[4]:\n",
    "                    vectors[i][4] += 1\n",
    "                elif events[i][j] == activities_array[5]:\n",
    "                    vectors[i][5] += 1\n",
    "                elif events[i][j] == activities_array[6]:\n",
    "                    vectors[i][6] += 1\n",
    "                elif events[i][j] == activities_array[7]:\n",
    "                    vectors[i][7] += 1\n",
    "                "
   ]
  },
  {
   "cell_type": "markdown",
   "metadata": {},
   "source": [
    "### Making ND-Array of the Activity Vector"
   ]
  },
  {
   "cell_type": "code",
   "execution_count": 14,
   "metadata": {},
   "outputs": [
    {
     "data": {
      "text/plain": [
       "array([[1, 2, 2, ..., 1, 0, 0],\n",
       "       [1, 2, 0, ..., 1, 4, 1],\n",
       "       [1, 2, 2, ..., 1, 0, 0],\n",
       "       ...,\n",
       "       [1, 2, 2, ..., 1, 0, 0],\n",
       "       [1, 2, 2, ..., 1, 0, 0],\n",
       "       [1, 2, 0, ..., 1, 4, 1]])"
      ]
     },
     "execution_count": 14,
     "metadata": {},
     "output_type": "execute_result"
    }
   ],
   "source": [
    "np_vectors = np.array(vectors)\n",
    "np_vectors"
   ]
  },
  {
   "cell_type": "markdown",
   "metadata": {},
   "source": [
    "## Elbow Method to find optimal number of clusters"
   ]
  },
  {
   "cell_type": "code",
   "execution_count": 15,
   "metadata": {},
   "outputs": [
    {
     "data": {
      "image/png": "[encoded data removed]",
      "text/plain": [
       "<Figure size 432x288 with 1 Axes>"
      ]
     },
     "metadata": {
      "needs_background": "light"
     },
     "output_type": "display_data"
    }
   ],
   "source": [
    "#  Elbow Method \n",
    "from sklearn.cluster import KMeans\n",
    "within_cluster_sum_of_squares = []\n",
    "\n",
    "for i in range(1, 11):\n",
    "    kmeans = KMeans(n_clusters = i, init = 'k-means++', max_iter = 300, n_init = 10, random_state = 0)\n",
    "    kmeans.fit(np_vectors)\n",
    "    within_cluster_sum_of_squares.append(kmeans.inertia_)\n",
    "    \n",
    "#Plotting the results onto a line graph, allowing us to observe 'The elbow'\n",
    "plt.plot(range(1, 11), within_cluster_sum_of_squares)\n",
    "plt.title('The elbow method')\n",
    "plt.xlabel('Number of clusters')\n",
    "plt.ylabel('within_cluster_sum_of_squares') #within cluster sum of squares\n",
    "plt.show()"
   ]
  },
  {
   "cell_type": "markdown",
   "metadata": {},
   "source": [
    "# KMeans - Euclidean"
   ]
  },
  {
   "cell_type": "code",
   "execution_count": 16,
   "metadata": {},
   "outputs": [
    {
     "data": {
      "text/plain": [
       "array([1, 0, 1, ..., 1, 1, 0], dtype=int32)"
      ]
     },
     "execution_count": 16,
     "metadata": {},
     "output_type": "execute_result"
    }
   ],
   "source": [
    "from sklearn.cluster import KMeans\n",
    "import numpy as np\n",
    "\n",
    "kmeans = KMeans(n_clusters=3, random_state=0).fit(np_vectors)\n",
    "kmeans.labels_\n",
    "clustered  = kmeans.predict(np_vectors)\n",
    "clustered\n"
   ]
  },
  {
   "cell_type": "markdown",
   "metadata": {},
   "source": [
    "## Array of Sizes of clustered Data"
   ]
  },
  {
   "cell_type": "code",
   "execution_count": 17,
   "metadata": {},
   "outputs": [
    {
     "name": "stdout",
     "output_type": "stream",
     "text": [
      "[213 649 242]\n"
     ]
    }
   ],
   "source": [
    "count_arr = np.bincount(clustered)\n",
    "print(count_arr)\n"
   ]
  },
  {
   "cell_type": "markdown",
   "metadata": {},
   "source": [
    "## Creating Sub Event Logs based on Clustering Output"
   ]
  },
  {
   "cell_type": "code",
   "execution_count": 18,
   "metadata": {},
   "outputs": [],
   "source": [
    "length1  = count_arr[0]\n",
    "length2 = count_arr[1]\n",
    "length3 = count_arr[2]\n",
    "\n",
    "sub_log1 = EventLog()\n",
    "sub_log2 = EventLog()\n",
    "sub_log3 = EventLog()\n",
    "\n",
    "for i in range(len(clustered)):\n",
    "    if clustered[i] == 0:\n",
    "        sub_log1.append(log[i])\n",
    "    \n",
    "    elif clustered[i] == 1:\n",
    "        sub_log2.append(log[i])\n",
    "        \n",
    "    elif clustered[i] == 2: \n",
    "        sub_log3.append(log[i])"
   ]
  },
  {
   "cell_type": "markdown",
   "metadata": {},
   "source": [
    "# Petrinets from Alpha miner on Sub Event Logs"
   ]
  },
  {
   "cell_type": "markdown",
   "metadata": {},
   "source": [
    "## Petrinets from Alpha miner on Sub Event Log1"
   ]
  },
  {
   "cell_type": "code",
   "execution_count": 19,
   "metadata": {},
   "outputs": [
    {
     "data": {
      "image/png": "[encoded data removed]",
      "text/plain": [
       "<IPython.core.display.Image object>"
      ]
     },
     "metadata": {},
     "output_type": "display_data"
    }
   ],
   "source": [
    "\n",
    "## Import the petrinet visualizer object\n",
    "from pm4py.algo.discovery.alpha import algorithm as alpha_miner\n",
    "net, initial_marking, final_marking = alpha_miner.apply(sub_log1)\n",
    "from pm4py.visualization.petrinet import visualizer as pn_visualizer\n",
    "# Visualise \n",
    "gviz = pn_visualizer.apply(net, initial_marking, final_marking) \n",
    "pn_visualizer.view(gviz)"
   ]
  },
  {
   "cell_type": "markdown",
   "metadata": {},
   "source": [
    "## Log Fitness and Precision of SubLog1"
   ]
  },
  {
   "cell_type": "code",
   "execution_count": 20,
   "metadata": {},
   "outputs": [
    {
     "name": "stderr",
     "output_type": "stream",
     "text": [
      "replaying log with TBR, completed variants :: 100%|██████████| 36/36 [00:00<00:00, 544.67it/s]\n",
      "replaying log with TBR, completed variants :: 100%|██████████| 130/130 [00:00<00:00, 657.05it/s]\n"
     ]
    },
    {
     "name": "stdout",
     "output_type": "stream",
     "text": [
      "Fitness of Petrinet is:  66.40916355887055 %\n",
      "Precision of Petrinet is:  21.288180610889775 %\n",
      "Simplicity of Petrinet is:  100.0 %\n"
     ]
    }
   ],
   "source": [
    "from pm4py.algo.discovery.alpha import algorithm as alpha_miner\n",
    "from pm4py.algo.evaluation.replay_fitness import algorithm as replay_fitness_evaluator\n",
    "from pm4py.algo.evaluation.precision import algorithm as precision_evaluator\n",
    "from pm4py.algo.evaluation.simplicity import algorithm as simplicity_evaluator\n",
    "net, im, fm = alpha_miner.apply(sub_log1)\n",
    "fitness = replay_fitness_evaluator.apply(sub_log1, net, im, fm, variant=replay_fitness_evaluator.Variants.TOKEN_BASED)\n",
    "simp = simplicity_evaluator.apply(net)\n",
    "prec = precision_evaluator.apply(sub_log1, net, im, fm, variant=precision_evaluator.Variants.ETCONFORMANCE_TOKEN)\n",
    "print('Fitness of Petrinet is: ', fitness['log_fitness']*100,'%')\n",
    "print('Precision of Petrinet is: ', prec*100,'%')\n",
    "print('Simplicity of Petrinet is: ', simp*100,'%')\n",
    "#prec"
   ]
  },
  {
   "cell_type": "markdown",
   "metadata": {},
   "source": [
    "## Petrinets from Alpha miner on Sub Event Log2"
   ]
  },
  {
   "cell_type": "code",
   "execution_count": 21,
   "metadata": {},
   "outputs": [
    {
     "data": {
      "image/png": "[encoded data removed]",
      "text/plain": [
       "<IPython.core.display.Image object>"
      ]
     },
     "metadata": {},
     "output_type": "display_data"
    }
   ],
   "source": [
    "\n",
    "## Import the petrinet visualizer object\n",
    "from pm4py.algo.discovery.alpha import algorithm as alpha_miner\n",
    "net, initial_marking, final_marking = alpha_miner.apply(sub_log2)\n",
    "from pm4py.visualization.petrinet import visualizer as pn_visualizer\n",
    "# Visualise \n",
    "gviz = pn_visualizer.apply(net, initial_marking, final_marking) \n",
    "pn_visualizer.view(gviz)"
   ]
  },
  {
   "cell_type": "markdown",
   "metadata": {},
   "source": [
    "## Log Fitness and Precision of SubLog2"
   ]
  },
  {
   "cell_type": "code",
   "execution_count": 22,
   "metadata": {},
   "outputs": [
    {
     "name": "stderr",
     "output_type": "stream",
     "text": [
      "replaying log with TBR, completed variants :: 100%|██████████| 33/33 [00:00<00:00, 293.76it/s]\n",
      "replaying log with TBR, completed variants :: 100%|██████████| 127/127 [00:00<00:00, 798.59it/s]"
     ]
    },
    {
     "name": "stdout",
     "output_type": "stream",
     "text": [
      "Fitness of Petrinet is:  65.07171214647775 %\n",
      "Precision of Petrinet is:  25.9800510322431 %\n",
      "Simplicity of Petrinet is:  100.0 %\n"
     ]
    },
    {
     "name": "stderr",
     "output_type": "stream",
     "text": [
      "\n"
     ]
    }
   ],
   "source": [
    "\n",
    "net, im, fm = alpha_miner.apply(sub_log2)\n",
    "fitness = replay_fitness_evaluator.apply(sub_log2, net, im, fm, variant=replay_fitness_evaluator.Variants.TOKEN_BASED)\n",
    "simp = simplicity_evaluator.apply(net)\n",
    "prec = precision_evaluator.apply(sub_log2, net, im, fm, variant=precision_evaluator.Variants.ETCONFORMANCE_TOKEN)\n",
    "print('Fitness of Petrinet is: ', fitness['log_fitness']*100,'%')\n",
    "print('Precision of Petrinet is: ', prec*100,'%')\n",
    "print('Simplicity of Petrinet is: ', simp*100,'%')\n",
    "#prec"
   ]
  },
  {
   "cell_type": "markdown",
   "metadata": {},
   "source": [
    "## Petrinets from Alpha miner on Sub Event Log3"
   ]
  },
  {
   "cell_type": "code",
   "execution_count": 23,
   "metadata": {},
   "outputs": [
    {
     "data": {
      "image/png": "[encoded data removed]",
      "text/plain": [
       "<IPython.core.display.Image object>"
      ]
     },
     "metadata": {},
     "output_type": "display_data"
    }
   ],
   "source": [
    "\n",
    "## Import the petrinet visualizer object\n",
    "from pm4py.algo.discovery.alpha import algorithm as alpha_miner\n",
    "net, initial_marking, final_marking = alpha_miner.apply(sub_log3)\n",
    "from pm4py.visualization.petrinet import visualizer as pn_visualizer\n",
    "# Visualise \n",
    "gviz = pn_visualizer.apply(net, initial_marking, final_marking) \n",
    "pn_visualizer.view(gviz)"
   ]
  },
  {
   "cell_type": "markdown",
   "metadata": {},
   "source": [
    "## Log Fitness and Precision of Sub event log"
   ]
  },
  {
   "cell_type": "code",
   "execution_count": 24,
   "metadata": {},
   "outputs": [
    {
     "name": "stderr",
     "output_type": "stream",
     "text": [
      "replaying log with TBR, completed variants :: 100%|██████████| 8/8 [00:00<00:00, 823.06it/s]\n",
      "replaying log with TBR, completed variants :: 100%|██████████| 19/19 [00:00<00:00, 1846.98it/s]"
     ]
    },
    {
     "name": "stdout",
     "output_type": "stream",
     "text": [
      "Fitness of Petrinet is:  74.45460942997889 %\n",
      "Precision of Petrinet is:  28.781157583438954 %\n",
      "Simplicity of Petrinet is:  100.0 %\n"
     ]
    },
    {
     "name": "stderr",
     "output_type": "stream",
     "text": [
      "\n"
     ]
    }
   ],
   "source": [
    "net, im, fm = alpha_miner.apply(sub_log3)\n",
    "fitness = replay_fitness_evaluator.apply(sub_log3, net, im, fm, variant=replay_fitness_evaluator.Variants.TOKEN_BASED)\n",
    "simp = simplicity_evaluator.apply(net)\n",
    "prec = precision_evaluator.apply(sub_log3, net, im, fm, variant=precision_evaluator.Variants.ETCONFORMANCE_TOKEN)\n",
    "print('Fitness of Petrinet is: ', fitness['log_fitness']*100,'%')\n",
    "print('Precision of Petrinet is: ', prec*100,'%')\n",
    "print('Simplicity of Petrinet is: ', simp*100,'%')"
   ]
  },
  {
   "cell_type": "markdown",
   "metadata": {},
   "source": [
    "# DB SCAN"
   ]
  },
  {
   "cell_type": "markdown",
   "metadata": {},
   "source": [
    "## Hamming Distance"
   ]
  },
  {
   "cell_type": "code",
   "execution_count": 27,
   "metadata": {},
   "outputs": [
    {
     "data": {
      "text/plain": [
       "array([0, 1, 0, ..., 0, 0, 1])"
      ]
     },
     "execution_count": 27,
     "metadata": {},
     "output_type": "execute_result"
    }
   ],
   "source": [
    "from sklearn.cluster import DBSCAN\n",
    "clustering_DB_Hamm = DBSCAN(eps=0.3, min_samples=1, metric ='hamming').fit(np_vectors)\n",
    "\n",
    "\n",
    "clustering_DB_Hamm = clustering_DB_Hamm.fit_predict(np_vectors)\n",
    "clustering_DB_Hamm\n",
    "# clustered = clustering.labels_\n",
    "# clustered\n"
   ]
  },
  {
   "cell_type": "markdown",
   "metadata": {},
   "source": [
    "### Size of Clusters"
   ]
  },
  {
   "cell_type": "code",
   "execution_count": 28,
   "metadata": {},
   "outputs": [
    {
     "name": "stdout",
     "output_type": "stream",
     "text": [
      "[811 182 109   2]\n"
     ]
    }
   ],
   "source": [
    "count_arr_DB1 = np.bincount(clustering_DB_Hamm)\n",
    "print(count_arr_DB1)\n"
   ]
  },
  {
   "cell_type": "markdown",
   "metadata": {},
   "source": [
    "## Creating Sub Event Logs based on Clustering Output"
   ]
  },
  {
   "cell_type": "code",
   "execution_count": 30,
   "metadata": {},
   "outputs": [],
   "source": [
    "length1  = count_arr_DB1[0]\n",
    "length2 = count_arr_DB1[1]\n",
    "length3 = count_arr_DB1[2]\n",
    "length4 = count_arr_DB1[3]\n",
    "\n",
    "sub_log1_DB1 = EventLog()\n",
    "sub_log2_DB1 = EventLog()\n",
    "sub_log3_DB1 = EventLog()\n",
    "sub_log4_DB1 = EventLog()\n",
    "\n",
    "for i in range(len(clustering_DB_Hamm)):\n",
    "    if clustering_DB_Hamm[i] == 0:\n",
    "        sub_log1_DB1.append(log[i])\n",
    "    \n",
    "    elif clustering_DB_Hamm[i] == 1:\n",
    "        sub_log2_DB1.append(log[i])\n",
    "        \n",
    "    elif clustering_DB_Hamm[i] == 2: \n",
    "        sub_log3_DB1.append(log[i])\n",
    "\n",
    "    elif clustering_DB_Hamm[i] == 3: \n",
    "        sub_log4_DB1.append(log[i])\n",
    "\n",
    " "
   ]
  },
  {
   "cell_type": "markdown",
   "metadata": {},
   "source": [
    "## Petrinets from Alpha miner on Sub Event Logs generated from DB Scan Hamming Distance"
   ]
  },
  {
   "cell_type": "markdown",
   "metadata": {},
   "source": [
    "### Petrinets from Alpha miner on Sub Event Log1"
   ]
  },
  {
   "cell_type": "code",
   "execution_count": 31,
   "metadata": {},
   "outputs": [
    {
     "data": {
      "image/png": "[encoded data removed]",
      "text/plain": [
       "<IPython.core.display.Image object>"
      ]
     },
     "metadata": {},
     "output_type": "display_data"
    }
   ],
   "source": [
    "\n",
    "## Import the petrinet visualizer object\n",
    "from pm4py.algo.discovery.alpha import algorithm as alpha_miner\n",
    "net, initial_marking, final_marking = alpha_miner.apply(sub_log1_DB1)\n",
    "from pm4py.visualization.petrinet import visualizer as pn_visualizer\n",
    "# Visualise \n",
    "gviz = pn_visualizer.apply(net, initial_marking, final_marking) \n",
    "pn_visualizer.view(gviz)"
   ]
  },
  {
   "cell_type": "markdown",
   "metadata": {},
   "source": [
    "## Log Fitness and Precision of SubLog1"
   ]
  },
  {
   "cell_type": "code",
   "execution_count": 32,
   "metadata": {},
   "outputs": [
    {
     "name": "stderr",
     "output_type": "stream",
     "text": [
      "replaying log with TBR, completed variants :: 100%|██████████| 19/19 [00:00<00:00, 800.47it/s]\n",
      "replaying log with TBR, completed variants :: 100%|██████████| 37/37 [00:00<00:00, 1184.80it/s]"
     ]
    },
    {
     "name": "stdout",
     "output_type": "stream",
     "text": [
      "Fitness of Petrinet is:  69.9104578476094 %\n",
      "Precision of Petrinet is:  25.95025331602129 %\n",
      "Simplicity of Petrinet is:  100.0 %\n"
     ]
    },
    {
     "name": "stderr",
     "output_type": "stream",
     "text": [
      "\n"
     ]
    }
   ],
   "source": [
    "net, im, fm = alpha_miner.apply(sub_log1_DB1)\n",
    "fitness = replay_fitness_evaluator.apply(sub_log1_DB1, net, im, fm, variant=replay_fitness_evaluator.Variants.TOKEN_BASED)\n",
    "simp = simplicity_evaluator.apply(net)\n",
    "prec = precision_evaluator.apply(sub_log1_DB1, net, im, fm, variant=precision_evaluator.Variants.ETCONFORMANCE_TOKEN)\n",
    "print('Fitness of Petrinet is: ', fitness['log_fitness']*100,'%')\n",
    "print('Precision of Petrinet is: ', prec*100,'%')\n",
    "print('Simplicity of Petrinet is: ', simp*100,'%')"
   ]
  },
  {
   "cell_type": "markdown",
   "metadata": {},
   "source": [
    "## Petrinets from Alpha miner on Sub Event Log2"
   ]
  },
  {
   "cell_type": "code",
   "execution_count": 33,
   "metadata": {},
   "outputs": [
    {
     "data": {
      "image/png": "[encoded data removed]",
      "text/plain": [
       "<IPython.core.display.Image object>"
      ]
     },
     "metadata": {},
     "output_type": "display_data"
    }
   ],
   "source": [
    "\n",
    "## Import the petrinet visualizer object\n",
    "from pm4py.algo.discovery.alpha import algorithm as alpha_miner\n",
    "net, initial_marking, final_marking = alpha_miner.apply(sub_log2_DB1)\n",
    "from pm4py.visualization.petrinet import visualizer as pn_visualizer\n",
    "# Visualise \n",
    "gviz = pn_visualizer.apply(net, initial_marking, final_marking) \n",
    "pn_visualizer.view(gviz)"
   ]
  },
  {
   "cell_type": "markdown",
   "metadata": {},
   "source": [
    "## Log Fitness and Precision of SubLog2"
   ]
  },
  {
   "cell_type": "code",
   "execution_count": 34,
   "metadata": {},
   "outputs": [
    {
     "name": "stderr",
     "output_type": "stream",
     "text": [
      "replaying log with TBR, completed variants :: 100%|██████████| 31/31 [00:00<00:00, 472.99it/s]\n",
      "replaying log with TBR, completed variants :: 100%|██████████| 134/134 [00:00<00:00, 756.27it/s]"
     ]
    },
    {
     "name": "stdout",
     "output_type": "stream",
     "text": [
      "Fitness of Petrinet is:  68.33681280445371 %\n",
      "Precision of Petrinet is:  22.85400524678177 %\n",
      "Simplicity of Petrinet is:  100.0 %\n"
     ]
    },
    {
     "name": "stderr",
     "output_type": "stream",
     "text": [
      "\n"
     ]
    }
   ],
   "source": [
    "net, im, fm = alpha_miner.apply(sub_log2_DB1)\n",
    "fitness = replay_fitness_evaluator.apply(sub_log2_DB1, net, im, fm, variant=replay_fitness_evaluator.Variants.TOKEN_BASED)\n",
    "simp = simplicity_evaluator.apply(net)\n",
    "prec = precision_evaluator.apply(sub_log2_DB1, net, im, fm, variant=precision_evaluator.Variants.ETCONFORMANCE_TOKEN)\n",
    "print('Fitness of Petrinet is: ', fitness['log_fitness']*100,'%')\n",
    "print('Precision of Petrinet is: ', prec*100,'%')\n",
    "print('Simplicity of Petrinet is: ', simp*100,'%')"
   ]
  },
  {
   "cell_type": "markdown",
   "metadata": {},
   "source": [
    "## Petrinets from Alpha miner on Sub Event Log3"
   ]
  },
  {
   "cell_type": "code",
   "execution_count": 35,
   "metadata": {},
   "outputs": [
    {
     "data": {
      "image/png": "[encoded data removed]",
      "text/plain": [
       "<IPython.core.display.Image object>"
      ]
     },
     "metadata": {},
     "output_type": "display_data"
    }
   ],
   "source": [
    "\n",
    "## Import the petrinet visualizer object\n",
    "from pm4py.algo.discovery.alpha import algorithm as alpha_miner\n",
    "net, initial_marking, final_marking = alpha_miner.apply(sub_log3_DB1)\n",
    "from pm4py.visualization.petrinet import visualizer as pn_visualizer\n",
    "# Visualise \n",
    "gviz = pn_visualizer.apply(net, initial_marking, final_marking) \n",
    "pn_visualizer.view(gviz)"
   ]
  },
  {
   "cell_type": "markdown",
   "metadata": {},
   "source": [
    "## Log Fitness and Precision of Sub Event log 3"
   ]
  },
  {
   "cell_type": "code",
   "execution_count": 36,
   "metadata": {},
   "outputs": [
    {
     "name": "stderr",
     "output_type": "stream",
     "text": [
      "replaying log with TBR, completed variants :: 100%|██████████| 26/26 [00:00<00:00, 525.25it/s]\n",
      "replaying log with TBR, completed variants :: 100%|██████████| 191/191 [00:00<00:00, 748.83it/s]"
     ]
    },
    {
     "name": "stdout",
     "output_type": "stream",
     "text": [
      "Fitness of Petrinet is:  53.988749197719635 %\n",
      "Precision of Petrinet is:  21.03393360284209 %\n",
      "Simplicity of Petrinet is:  100.0 %\n"
     ]
    },
    {
     "name": "stderr",
     "output_type": "stream",
     "text": [
      "\n"
     ]
    }
   ],
   "source": [
    "net, im, fm = alpha_miner.apply(sub_log3_DB1)\n",
    "fitness = replay_fitness_evaluator.apply(sub_log3_DB1, net, im, fm, variant=replay_fitness_evaluator.Variants.TOKEN_BASED)\n",
    "simp = simplicity_evaluator.apply(net)\n",
    "prec = precision_evaluator.apply(sub_log3_DB1, net, im, fm, variant=precision_evaluator.Variants.ETCONFORMANCE_TOKEN)\n",
    "print('Fitness of Petrinet is: ', fitness['log_fitness']*100,'%')\n",
    "print('Precision of Petrinet is: ', prec*100,'%')\n",
    "print('Simplicity of Petrinet is: ', simp*100,'%')"
   ]
  },
  {
   "cell_type": "markdown",
   "metadata": {},
   "source": [
    "## Petrinets from Alpha miner on Sub Event Log 4"
   ]
  },
  {
   "cell_type": "code",
   "execution_count": 37,
   "metadata": {},
   "outputs": [
    {
     "data": {
      "image/png": "[encoded data removed]",
      "text/plain": [
       "<IPython.core.display.Image object>"
      ]
     },
     "metadata": {},
     "output_type": "display_data"
    }
   ],
   "source": [
    "\n",
    "## Import the petrinet visualizer object\n",
    "from pm4py.algo.discovery.alpha import algorithm as alpha_miner\n",
    "net, initial_marking, final_marking = alpha_miner.apply(sub_log4_DB1)\n",
    "from pm4py.visualization.petrinet import visualizer as pn_visualizer\n",
    "# Visualise \n",
    "gviz = pn_visualizer.apply(net, initial_marking, final_marking) \n",
    "pn_visualizer.view(gviz)"
   ]
  },
  {
   "cell_type": "markdown",
   "metadata": {},
   "source": [
    "## Log Fitness and Precision of SubLog 4"
   ]
  },
  {
   "cell_type": "code",
   "execution_count": 38,
   "metadata": {},
   "outputs": [
    {
     "name": "stderr",
     "output_type": "stream",
     "text": [
      "replaying log with TBR, completed variants :: 100%|██████████| 23/23 [00:00<00:00, 1186.55it/s]"
     ]
    },
    {
     "name": "stdout",
     "output_type": "stream",
     "text": [
      "Fitness of Petrinet is:  100.0 %\n",
      "Precision of Petrinet is:  16.551724137931036 %\n",
      "Simplicity of Petrinet is:  100.0 %\n"
     ]
    },
    {
     "name": "stderr",
     "output_type": "stream",
     "text": [
      "\n"
     ]
    }
   ],
   "source": [
    "net, im, fm = alpha_miner.apply(sub_log4_DB1)\n",
    "fitness = replay_fitness_evaluator.apply(sub_log4_DB1, net, im, fm, variant=replay_fitness_evaluator.Variants.TOKEN_BASED)\n",
    "simp = simplicity_evaluator.apply(net)\n",
    "prec = precision_evaluator.apply(sub_log4_DB1, net, im, fm, variant=precision_evaluator.Variants.ETCONFORMANCE_TOKEN)\n",
    "print('Fitness of Petrinet is: ', fitness['log_fitness']*100,'%')\n",
    "print('Precision of Petrinet is: ', prec*100,'%')\n",
    "print('Simplicity of Petrinet is: ', simp*100,'%')"
   ]
  },
  {
   "cell_type": "markdown",
   "metadata": {},
   "source": [
    "# DB Scan \n",
    "## Euclidean Distance"
   ]
  },
  {
   "cell_type": "code",
   "execution_count": 47,
   "metadata": {},
   "outputs": [
    {
     "data": {
      "text/plain": [
       "array([0, 1, 0, ..., 0, 0, 1])"
      ]
     },
     "execution_count": 47,
     "metadata": {},
     "output_type": "execute_result"
    }
   ],
   "source": [
    "from sklearn.cluster import DBSCAN\n",
    "clustering_DB_Euclidean = DBSCAN(eps=2.2, min_samples=1, metric ='euclidean').fit(np_vectors)\n",
    "\n",
    "\n",
    "clustering_DB_Euclidean = clustering_DB_Euclidean.fit_predict(np_vectors)\n",
    "clustering_DB_Euclidean\n",
    "# clustered = clustering.labels_\n",
    "# clustered\n"
   ]
  },
  {
   "cell_type": "markdown",
   "metadata": {},
   "source": [
    "### Size of Clusters"
   ]
  },
  {
   "cell_type": "code",
   "execution_count": 46,
   "metadata": {},
   "outputs": [
    {
     "name": "stdout",
     "output_type": "stream",
     "text": [
      "[567 115 242  88  10  29   2  38  11   2]\n"
     ]
    }
   ],
   "source": [
    "count_arr_DB2 = np.bincount(clustering_DB_Euclidean)\n",
    "print(count_arr_DB2)\n"
   ]
  },
  {
   "cell_type": "markdown",
   "metadata": {},
   "source": [
    "## Creating Sub Event Logs based on Clustering Output"
   ]
  },
  {
   "cell_type": "code",
   "execution_count": 58,
   "metadata": {},
   "outputs": [],
   "source": [
    "length1  = count_arr_DB2[0]\n",
    "length2 = count_arr_DB2[1]\n",
    "length3 = count_arr_DB2[2]\n",
    "length4 = count_arr_DB2[3]\n",
    "# length5 = count_arr_DB2[4]\n",
    "\n",
    "sub_log1_DB2 = EventLog()\n",
    "sub_log2_DB2 = EventLog()\n",
    "sub_log3_DB2 = EventLog()\n",
    "sub_log4_DB2 = EventLog()\n",
    "# sub_log5_DB2 = EventLog()\n",
    "\n",
    "for i in range(len(clustering_DB_Euclidean)):\n",
    "    if clustering_DB_Euclidean[i] == 0:\n",
    "        sub_log1_DB2.append(log[i])\n",
    "    \n",
    "    elif clustering_DB_Euclidean[i] == 1:\n",
    "        sub_log2_DB2.append(log[i])\n",
    "        \n",
    "    elif clustering_DB_Euclidean[i] == 2: \n",
    "        sub_log3_DB2.append(log[i])\n",
    "        \n",
    "    elif clustering_DB_Euclidean[i] == 3: \n",
    "        sub_log4_DB2.append(log[i])\n"
   ]
  },
  {
   "cell_type": "markdown",
   "metadata": {},
   "source": [
    "## Petrinets from Alpha miner on Sub Event Logs generated from DB Scan Euclidean Distance"
   ]
  },
  {
   "cell_type": "markdown",
   "metadata": {},
   "source": [
    "### Petrinets from Alpha miner on Sub Event Log1"
   ]
  },
  {
   "cell_type": "code",
   "execution_count": 49,
   "metadata": {},
   "outputs": [
    {
     "data": {
      "image/png": "[encoded data removed]",
      "text/plain": [
       "<IPython.core.display.Image object>"
      ]
     },
     "metadata": {},
     "output_type": "display_data"
    }
   ],
   "source": [
    "\n",
    "## Import the petrinet visualizer object\n",
    "from pm4py.algo.discovery.alpha import algorithm as alpha_miner\n",
    "net, initial_marking, final_marking = alpha_miner.apply(sub_log1_DB2)\n",
    "from pm4py.visualization.petrinet import visualizer as pn_visualizer\n",
    "# Visualise \n",
    "gviz = pn_visualizer.apply(net, initial_marking, final_marking) \n",
    "pn_visualizer.view(gviz)"
   ]
  },
  {
   "cell_type": "markdown",
   "metadata": {},
   "source": [
    "## Log Fitness and Precision of SubLog1"
   ]
  },
  {
   "cell_type": "code",
   "execution_count": 50,
   "metadata": {},
   "outputs": [
    {
     "name": "stderr",
     "output_type": "stream",
     "text": [
      "replaying log with TBR, completed variants :: 100%|██████████| 9/9 [00:00<00:00, 771.80it/s]\n",
      "replaying log with TBR, completed variants :: 100%|██████████| 22/22 [00:00<00:00, 1544.50it/s]"
     ]
    },
    {
     "name": "stdout",
     "output_type": "stream",
     "text": [
      "Fitness of Petrinet is:  74.67996427508187 %\n",
      "Precision of Petrinet is:  28.93558540586071 %\n",
      "Simplicity of Petrinet is:  100.0 %\n"
     ]
    },
    {
     "name": "stderr",
     "output_type": "stream",
     "text": [
      "\n"
     ]
    }
   ],
   "source": [
    "net, im, fm = alpha_miner.apply(sub_log1_DB2)\n",
    "fitness = replay_fitness_evaluator.apply(sub_log1_DB2, net, im, fm, variant=replay_fitness_evaluator.Variants.TOKEN_BASED)\n",
    "simp = simplicity_evaluator.apply(net)\n",
    "prec = precision_evaluator.apply(sub_log1_DB2, net, im, fm, variant=precision_evaluator.Variants.ETCONFORMANCE_TOKEN)\n",
    "print('Fitness of Petrinet is: ', fitness['log_fitness']*100,'%')\n",
    "print('Precision of Petrinet is: ', prec*100,'%')\n",
    "print('Simplicity of Petrinet is: ', simp*100,'%')"
   ]
  },
  {
   "cell_type": "markdown",
   "metadata": {},
   "source": [
    "## Petrinets from Alpha miner on Sub Event Log2"
   ]
  },
  {
   "cell_type": "code",
   "execution_count": 51,
   "metadata": {},
   "outputs": [
    {
     "data": {
      "image/png": "[encoded data removed]",
      "text/plain": [
       "<IPython.core.display.Image object>"
      ]
     },
     "metadata": {},
     "output_type": "display_data"
    }
   ],
   "source": [
    "\n",
    "## Import the petrinet visualizer object\n",
    "from pm4py.algo.discovery.alpha import algorithm as alpha_miner\n",
    "net, initial_marking, final_marking = alpha_miner.apply(sub_log2_DB2)\n",
    "from pm4py.visualization.petrinet import visualizer as pn_visualizer\n",
    "# Visualise \n",
    "gviz = pn_visualizer.apply(net, initial_marking, final_marking) \n",
    "pn_visualizer.view(gviz)"
   ]
  },
  {
   "cell_type": "markdown",
   "metadata": {},
   "source": [
    "## Log Fitness and Precision of SubLog2"
   ]
  },
  {
   "cell_type": "code",
   "execution_count": 52,
   "metadata": {},
   "outputs": [
    {
     "name": "stderr",
     "output_type": "stream",
     "text": [
      "replaying log with TBR, completed variants :: 100%|██████████| 15/15 [00:00<00:00, 475.51it/s]\n",
      "replaying log with TBR, completed variants :: 100%|██████████| 64/64 [00:00<00:00, 1525.37it/s]"
     ]
    },
    {
     "name": "stdout",
     "output_type": "stream",
     "text": [
      "Fitness of Petrinet is:  68.26710816777042 %\n",
      "Precision of Petrinet is:  25.068775790921592 %\n",
      "Simplicity of Petrinet is:  100.0 %\n"
     ]
    },
    {
     "name": "stderr",
     "output_type": "stream",
     "text": [
      "\n"
     ]
    }
   ],
   "source": [
    "net, im, fm = alpha_miner.apply(sub_log2_DB2)\n",
    "fitness = replay_fitness_evaluator.apply(sub_log2_DB2, net, im, fm, variant=replay_fitness_evaluator.Variants.TOKEN_BASED)\n",
    "simp = simplicity_evaluator.apply(net)\n",
    "prec = precision_evaluator.apply(sub_log2_DB2, net, im, fm, variant=precision_evaluator.Variants.ETCONFORMANCE_TOKEN)\n",
    "print('Fitness of Petrinet is: ', fitness['log_fitness']*100,'%')\n",
    "print('Precision of Petrinet is: ', prec*100,'%')\n",
    "print('Simplicity of Petrinet is: ', simp*100,'%')"
   ]
  },
  {
   "cell_type": "markdown",
   "metadata": {},
   "source": [
    "## Petrinets from Alpha miner on Sub Event Log3"
   ]
  },
  {
   "cell_type": "code",
   "execution_count": 53,
   "metadata": {},
   "outputs": [
    {
     "data": {
      "image/png": "[encoded data removed]",
      "text/plain": [
       "<IPython.core.display.Image object>"
      ]
     },
     "metadata": {},
     "output_type": "display_data"
    }
   ],
   "source": [
    "\n",
    "## Import the petrinet visualizer object\n",
    "from pm4py.algo.discovery.alpha import algorithm as alpha_miner\n",
    "net, initial_marking, final_marking = alpha_miner.apply(sub_log3_DB2)\n",
    "from pm4py.visualization.petrinet import visualizer as pn_visualizer\n",
    "# Visualise \n",
    "gviz = pn_visualizer.apply(net, initial_marking, final_marking) \n",
    "pn_visualizer.view(gviz)"
   ]
  },
  {
   "cell_type": "markdown",
   "metadata": {},
   "source": [
    "## Log Fitness and Precision of Sub Event log 3"
   ]
  },
  {
   "cell_type": "code",
   "execution_count": 54,
   "metadata": {},
   "outputs": [
    {
     "name": "stderr",
     "output_type": "stream",
     "text": [
      "replaying log with TBR, completed variants :: 100%|██████████| 8/8 [00:00<00:00, 1050.97it/s]\n",
      "replaying log with TBR, completed variants :: 100%|██████████| 19/19 [00:00<00:00, 2239.48it/s]"
     ]
    },
    {
     "name": "stdout",
     "output_type": "stream",
     "text": [
      "Fitness of Petrinet is:  74.45460942997889 %\n",
      "Precision of Petrinet is:  28.781157583438954 %\n",
      "Simplicity of Petrinet is:  100.0 %\n"
     ]
    },
    {
     "name": "stderr",
     "output_type": "stream",
     "text": [
      "\n"
     ]
    }
   ],
   "source": [
    "net, im, fm = alpha_miner.apply(sub_log3_DB2)\n",
    "fitness = replay_fitness_evaluator.apply(sub_log3_DB2, net, im, fm, variant=replay_fitness_evaluator.Variants.TOKEN_BASED)\n",
    "simp = simplicity_evaluator.apply(net)\n",
    "prec = precision_evaluator.apply(sub_log3_DB2, net, im, fm, variant=precision_evaluator.Variants.ETCONFORMANCE_TOKEN)\n",
    "print('Fitness of Petrinet is: ', fitness['log_fitness']*100,'%')\n",
    "print('Precision of Petrinet is: ', prec*100,'%')\n",
    "print('Simplicity of Petrinet is: ', simp*100,'%')"
   ]
  },
  {
   "cell_type": "markdown",
   "metadata": {},
   "source": [
    "## Petrinets from Alpha miner on Sub Event Log4"
   ]
  },
  {
   "cell_type": "code",
   "execution_count": 59,
   "metadata": {},
   "outputs": [
    {
     "data": {
      "image/png": "[encoded data removed]",
      "text/plain": [
       "<IPython.core.display.Image object>"
      ]
     },
     "metadata": {},
     "output_type": "display_data"
    }
   ],
   "source": [
    "\n",
    "## Import the petrinet visualizer object\n",
    "from pm4py.algo.discovery.alpha import algorithm as alpha_miner\n",
    "net, initial_marking, final_marking = alpha_miner.apply(sub_log4_DB2)\n",
    "from pm4py.visualization.petrinet import visualizer as pn_visualizer\n",
    "# Visualise \n",
    "gviz = pn_visualizer.apply(net, initial_marking, final_marking) \n",
    "pn_visualizer.view(gviz)"
   ]
  },
  {
   "cell_type": "markdown",
   "metadata": {},
   "source": [
    "## Log Fitness and Precision of Sub Event log 3"
   ]
  },
  {
   "cell_type": "code",
   "execution_count": 60,
   "metadata": {},
   "outputs": [
    {
     "name": "stderr",
     "output_type": "stream",
     "text": [
      "replaying log with TBR, completed variants :: 100%|██████████| 15/15 [00:00<00:00, 561.17it/s]\n",
      "replaying log with TBR, completed variants :: 100%|██████████| 105/105 [00:00<00:00, 430.41it/s]"
     ]
    },
    {
     "name": "stdout",
     "output_type": "stream",
     "text": [
      "Fitness of Petrinet is:  53.925092764378476 %\n",
      "Precision of Petrinet is:  23.427844420210832 %\n",
      "Simplicity of Petrinet is:  100.0 %\n"
     ]
    },
    {
     "name": "stderr",
     "output_type": "stream",
     "text": [
      "\n"
     ]
    }
   ],
   "source": [
    "net, im, fm = alpha_miner.apply(sub_log4_DB2)\n",
    "fitness = replay_fitness_evaluator.apply(sub_log4_DB2, net, im, fm, variant=replay_fitness_evaluator.Variants.TOKEN_BASED)\n",
    "simp = simplicity_evaluator.apply(net)\n",
    "prec = precision_evaluator.apply(sub_log4_DB2, net, im, fm, variant=precision_evaluator.Variants.ETCONFORMANCE_TOKEN)\n",
    "print('Fitness of Petrinet is: ', fitness['log_fitness']*100,'%')\n",
    "print('Precision of Petrinet is: ', prec*100,'%')\n",
    "print('Simplicity of Petrinet is: ', simp*100,'%')"
   ]
  },
  {
   "cell_type": "markdown",
   "metadata": {},
   "source": [
    "# DB Scan\n",
    "## Jaccard  Distance"
   ]
  },
  {
   "cell_type": "code",
   "execution_count": 73,
   "metadata": {},
   "outputs": [
    {
     "data": {
      "text/plain": [
       "array([0, 0, 0, ..., 0, 0, 0])"
      ]
     },
     "execution_count": 73,
     "metadata": {},
     "output_type": "execute_result"
    }
   ],
   "source": [
    "from sklearn.cluster import DBSCAN\n",
    "clustering_DB_Jaccard = DBSCAN(eps=0.15, min_samples=10, metric ='jaccard').fit(np_vectors)\n",
    "clustering_DB_Jaccard = clustering_DB_Jaccard.fit_predict(np_vectors)\n",
    "clustering_DB_Jaccard\n",
    "# clustered = clustering.labels_\n",
    "# clustered"
   ]
  },
  {
   "cell_type": "code",
   "execution_count": 74,
   "metadata": {},
   "outputs": [],
   "source": [
    "# Removing Negative values by scaling by 1\n",
    "for i in range(len(clustering_DB_Jaccard)):\n",
    "    clustering_DB_Jaccard[i]=clustering_DB_Jaccard[i]+1"
   ]
  },
  {
   "cell_type": "code",
   "execution_count": 75,
   "metadata": {},
   "outputs": [
    {
     "name": "stdout",
     "output_type": "stream",
     "text": [
      "[   2 1028   43   31]\n"
     ]
    }
   ],
   "source": [
    "count_arr_DB3 = np.bincount(clustering_DB_Jaccard)\n",
    "print(count_arr_DB3)\n"
   ]
  },
  {
   "cell_type": "markdown",
   "metadata": {},
   "source": [
    "## Creating Sub Event Logs based on Clustering Output"
   ]
  },
  {
   "cell_type": "code",
   "execution_count": 78,
   "metadata": {},
   "outputs": [],
   "source": [
    "length1  = count_arr_DB3[0]\n",
    "length2 = count_arr_DB3[1]\n",
    "length3 = count_arr_DB3[2]\n",
    "length4 = count_arr_DB2[3]\n",
    "# length5 = count_arr_DB2[4]\n",
    "\n",
    "sub_log1_DB3 = EventLog()\n",
    "sub_log2_DB3 = EventLog()\n",
    "sub_log3_DB3 = EventLog()\n",
    "sub_log4_DB3 = EventLog()\n",
    "# sub_log5_DB2 = EventLog()\n",
    "\n",
    "for i in range(len(clustering_DB_Jaccard)):\n",
    "    if clustering_DB_Jaccard[i] == 0:\n",
    "        sub_log1_DB3.append(log[i])\n",
    "    \n",
    "    elif clustering_DB_Jaccard[i] == 1:\n",
    "        sub_log2_DB3.append(log[i])\n",
    "        \n",
    "    elif clustering_DB_Jaccard[i] == 2: \n",
    "        sub_log3_DB3.append(log[i])\n",
    "    elif clustering_DB_Jaccard[i] == 3: \n",
    "        sub_log4_DB3.append(log[i])\n"
   ]
  },
  {
   "cell_type": "markdown",
   "metadata": {},
   "source": [
    "# Petrinets from Alpha miner on Sub Event Logs generated from DB Scan Euclidean Distance"
   ]
  },
  {
   "cell_type": "markdown",
   "metadata": {},
   "source": [
    "## Petrinets from Alpha miner on Sub Event Log1"
   ]
  },
  {
   "cell_type": "code",
   "execution_count": 79,
   "metadata": {},
   "outputs": [
    {
     "data": {
      "image/png": "[encoded data removed]",
      "text/plain": [
       "<IPython.core.display.Image object>"
      ]
     },
     "metadata": {},
     "output_type": "display_data"
    }
   ],
   "source": [
    "\n",
    "## Import the petrinet visualizer object\n",
    "from pm4py.algo.discovery.alpha import algorithm as alpha_miner\n",
    "net, initial_marking, final_marking = alpha_miner.apply(sub_log1_DB3)\n",
    "from pm4py.visualization.petrinet import visualizer as pn_visualizer\n",
    "# Visualise \n",
    "gviz = pn_visualizer.apply(net, initial_marking, final_marking) \n",
    "pn_visualizer.view(gviz)"
   ]
  },
  {
   "cell_type": "markdown",
   "metadata": {},
   "source": [
    "## Log Fitness and Precision of SubLog1"
   ]
  },
  {
   "cell_type": "code",
   "execution_count": 80,
   "metadata": {},
   "outputs": [
    {
     "name": "stderr",
     "output_type": "stream",
     "text": [
      "replaying log with TBR, completed variants :: 100%|██████████| 2/2 [00:00<00:00, 274.99it/s]\n",
      "replaying log with TBR, completed variants :: 100%|██████████| 4/4 [00:00<00:00, 2331.14it/s]"
     ]
    },
    {
     "name": "stdout",
     "output_type": "stream",
     "text": [
      "Fitness of Petrinet is:  90.0 %\n",
      "Precision of Petrinet is:  44.99999999999999 %\n",
      "Simplicity of Petrinet is:  100.0 %\n"
     ]
    },
    {
     "name": "stderr",
     "output_type": "stream",
     "text": [
      "\n"
     ]
    }
   ],
   "source": [
    "net, im, fm = alpha_miner.apply(sub_log1_DB3)\n",
    "fitness = replay_fitness_evaluator.apply(sub_log1_DB3, net, im, fm, variant=replay_fitness_evaluator.Variants.TOKEN_BASED)\n",
    "simp = simplicity_evaluator.apply(net)\n",
    "prec = precision_evaluator.apply(sub_log1_DB3, net, im, fm, variant=precision_evaluator.Variants.ETCONFORMANCE_TOKEN)\n",
    "print('Fitness of Petrinet is: ', fitness['log_fitness']*100,'%')\n",
    "print('Precision of Petrinet is: ', prec*100,'%')\n",
    "print('Simplicity of Petrinet is: ', simp*100,'%')"
   ]
  },
  {
   "cell_type": "markdown",
   "metadata": {},
   "source": [
    "## Petrinets from Alpha miner on Sub Event Log2"
   ]
  },
  {
   "cell_type": "code",
   "execution_count": 81,
   "metadata": {},
   "outputs": [
    {
     "data": {
      "image/png": "[encoded data removed]",
      "text/plain": [
       "<IPython.core.display.Image object>"
      ]
     },
     "metadata": {},
     "output_type": "display_data"
    }
   ],
   "source": [
    "\n",
    "## Import the petrinet visualizer object\n",
    "from pm4py.algo.discovery.alpha import algorithm as alpha_miner\n",
    "net, initial_marking, final_marking = alpha_miner.apply(sub_log2_DB3)\n",
    "from pm4py.visualization.petrinet import visualizer as pn_visualizer\n",
    "# Visualise \n",
    "gviz = pn_visualizer.apply(net, initial_marking, final_marking) \n",
    "pn_visualizer.view(gviz)"
   ]
  },
  {
   "cell_type": "markdown",
   "metadata": {},
   "source": [
    "## Log Fitness and Precision of SubLog2"
   ]
  },
  {
   "cell_type": "code",
   "execution_count": 82,
   "metadata": {},
   "outputs": [
    {
     "name": "stderr",
     "output_type": "stream",
     "text": [
      "replaying log with TBR, completed variants :: 100%|██████████| 67/67 [00:00<00:00, 864.92it/s]\n",
      "replaying log with TBR, completed variants :: 100%|██████████| 233/233 [00:00<00:00, 1123.12it/s]"
     ]
    },
    {
     "name": "stdout",
     "output_type": "stream",
     "text": [
      "Fitness of Petrinet is:  71.97928653624857 %\n",
      "Precision of Petrinet is:  23.936490555707636 %\n",
      "Simplicity of Petrinet is:  100.0 %\n"
     ]
    },
    {
     "name": "stderr",
     "output_type": "stream",
     "text": [
      "\n"
     ]
    }
   ],
   "source": [
    "net, im, fm = alpha_miner.apply(sub_log2_DB3)\n",
    "fitness = replay_fitness_evaluator.apply(sub_log2_DB3, net, im, fm, variant=replay_fitness_evaluator.Variants.TOKEN_BASED)\n",
    "simp = simplicity_evaluator.apply(net)\n",
    "prec = precision_evaluator.apply(sub_log2_DB3, net, im, fm, variant=precision_evaluator.Variants.ETCONFORMANCE_TOKEN)\n",
    "print('Fitness of Petrinet is: ', fitness['log_fitness']*100,'%')\n",
    "print('Precision of Petrinet is: ', prec*100,'%')\n",
    "print('Simplicity of Petrinet is: ', simp*100,'%')\n",
    "#prec"
   ]
  },
  {
   "cell_type": "markdown",
   "metadata": {},
   "source": [
    "## Petrinets from Alpha miner on Sub Event Log3"
   ]
  },
  {
   "cell_type": "code",
   "execution_count": 83,
   "metadata": {},
   "outputs": [
    {
     "data": {
      "image/png": "[encoded data removed]",
      "text/plain": [
       "<IPython.core.display.Image object>"
      ]
     },
     "metadata": {},
     "output_type": "display_data"
    }
   ],
   "source": [
    "\n",
    "## Import the petrinet visualizer object\n",
    "from pm4py.algo.discovery.alpha import algorithm as alpha_miner\n",
    "net, initial_marking, final_marking = alpha_miner.apply(sub_log3_DB3)\n",
    "from pm4py.visualization.petrinet import visualizer as pn_visualizer\n",
    "# Visualise \n",
    "gviz = pn_visualizer.apply(net, initial_marking, final_marking) \n",
    "pn_visualizer.view(gviz)"
   ]
  },
  {
   "cell_type": "markdown",
   "metadata": {},
   "source": [
    "## Log Fitness and Precision of Sub Event log 3"
   ]
  },
  {
   "cell_type": "code",
   "execution_count": 84,
   "metadata": {},
   "outputs": [
    {
     "name": "stderr",
     "output_type": "stream",
     "text": [
      "replaying log with TBR, completed variants :: 100%|██████████| 4/4 [00:00<00:00, 819.36it/s]\n",
      "replaying log with TBR, completed variants :: 100%|██████████| 15/15 [00:00<00:00, 2467.14it/s]"
     ]
    },
    {
     "name": "stdout",
     "output_type": "stream",
     "text": [
      "Fitness of Petrinet is:  75.0 %\n",
      "Precision of Petrinet is:  30.796335447498237 %\n",
      "Simplicity of Petrinet is:  100.0 %\n"
     ]
    },
    {
     "name": "stderr",
     "output_type": "stream",
     "text": [
      "\n"
     ]
    }
   ],
   "source": [
    "net, im, fm = alpha_miner.apply(sub_log3_DB3)\n",
    "fitness = replay_fitness_evaluator.apply(sub_log3_DB3, net, im, fm, variant=replay_fitness_evaluator.Variants.TOKEN_BASED)\n",
    "simp = simplicity_evaluator.apply(net)\n",
    "prec = precision_evaluator.apply(sub_log3_DB3, net, im, fm, variant=precision_evaluator.Variants.ETCONFORMANCE_TOKEN)\n",
    "print('Fitness of Petrinet is: ', fitness['log_fitness']*100,'%')\n",
    "print('Precision of Petrinet is: ', prec*100,'%')\n",
    "print('Simplicity of Petrinet is: ', simp*100,'%')"
   ]
  },
  {
   "cell_type": "markdown",
   "metadata": {},
   "source": [
    "## Petrinets from Alpha miner on Sub Event Log4"
   ]
  },
  {
   "cell_type": "code",
   "execution_count": 85,
   "metadata": {},
   "outputs": [
    {
     "data": {
      "image/png": "[encoded data removed]",
      "text/plain": [
       "<IPython.core.display.Image object>"
      ]
     },
     "metadata": {},
     "output_type": "display_data"
    }
   ],
   "source": [
    "\n",
    "## Import the petrinet visualizer object\n",
    "from pm4py.algo.discovery.alpha import algorithm as alpha_miner\n",
    "net, initial_marking, final_marking = alpha_miner.apply(sub_log4_DB3)\n",
    "from pm4py.visualization.petrinet import visualizer as pn_visualizer\n",
    "# Visualise \n",
    "gviz = pn_visualizer.apply(net, initial_marking, final_marking) \n",
    "pn_visualizer.view(gviz)"
   ]
  },
  {
   "cell_type": "markdown",
   "metadata": {},
   "source": [
    "## Log Fitness and Precision of Sub Event log 3"
   ]
  },
  {
   "cell_type": "code",
   "execution_count": 86,
   "metadata": {},
   "outputs": [
    {
     "name": "stderr",
     "output_type": "stream",
     "text": [
      "replaying log with TBR, completed variants :: 100%|██████████| 4/4 [00:00<00:00, 1107.11it/s]\n",
      "replaying log with TBR, completed variants :: 100%|██████████| 15/15 [00:00<00:00, 2124.34it/s]"
     ]
    },
    {
     "name": "stdout",
     "output_type": "stream",
     "text": [
      "Fitness of Petrinet is:  75.0 %\n",
      "Precision of Petrinet is:  31.671554252199417 %\n",
      "Simplicity of Petrinet is:  100.0 %\n"
     ]
    },
    {
     "name": "stderr",
     "output_type": "stream",
     "text": [
      "\n"
     ]
    }
   ],
   "source": [
    "net, im, fm = alpha_miner.apply(sub_log4_DB3)\n",
    "fitness = replay_fitness_evaluator.apply(sub_log4_DB3, net, im, fm, variant=replay_fitness_evaluator.Variants.TOKEN_BASED)\n",
    "simp = simplicity_evaluator.apply(net)\n",
    "prec = precision_evaluator.apply(sub_log4_DB3, net, im, fm, variant=precision_evaluator.Variants.ETCONFORMANCE_TOKEN)\n",
    "print('Fitness of Petrinet is: ', fitness['log_fitness']*100,'%')\n",
    "print('Precision of Petrinet is: ', prec*100,'%')\n",
    "print('Simplicity of Petrinet is: ', simp*100,'%')"
   ]
  },
  {
   "cell_type": "markdown",
   "metadata": {},
   "source": [
    "# Agglomerative Clustering\n",
    "## Euclidean"
   ]
  },
  {
   "cell_type": "code",
   "execution_count": 87,
   "metadata": {},
   "outputs": [
    {
     "data": {
      "text/plain": [
       "array([0, 1, 0, ..., 0, 0, 1])"
      ]
     },
     "execution_count": 87,
     "metadata": {},
     "output_type": "execute_result"
    }
   ],
   "source": [
    "\n",
    "from sklearn.cluster import AgglomerativeClustering\n",
    "\n",
    "clustering_Agglomerative = AgglomerativeClustering(n_clusters=3,affinity='euclidean').fit(np_vectors)\n",
    "clustering_Agglomerative =clustering_Agglomerative.labels_\n",
    "clustering_Agglomerative"
   ]
  },
  {
   "cell_type": "code",
   "execution_count": 88,
   "metadata": {},
   "outputs": [
    {
     "name": "stdout",
     "output_type": "stream",
     "text": [
      "[620 242 242]\n"
     ]
    }
   ],
   "source": [
    "count_arr_Aglomerative = np.bincount(clustering_Agglomerative)\n",
    "print(count_arr_Aglomerative)\n"
   ]
  },
  {
   "cell_type": "markdown",
   "metadata": {},
   "source": [
    "## Creating Sub Event Logs based on Clustering Output"
   ]
  },
  {
   "cell_type": "code",
   "execution_count": 89,
   "metadata": {},
   "outputs": [],
   "source": [
    "length1  = count_arr_Aglomerative[0]\n",
    "length2 = count_arr_Aglomerative[1]\n",
    "length3 = count_arr_Aglomerative[2]\n",
    "# length4 = count_arr_DB2[3]\n",
    "# length5 = count_arr_DB2[4]\n",
    "\n",
    "sub_log1_AG = EventLog()\n",
    "sub_log2_AG = EventLog()\n",
    "sub_log3_AG = EventLog()\n",
    "# sub_log4_DB2 = EventLog()\n",
    "# sub_log5_DB2 = EventLog()\n",
    "\n",
    "for i in range(len(clustering_Agglomerative)):\n",
    "    if clustering_Agglomerative[i] == 0:\n",
    "        sub_log1_AG.append(log[i])\n",
    "    \n",
    "    elif clustering_Agglomerative[i] == 1:\n",
    "        sub_log2_AG.append(log[i])\n",
    "        \n",
    "    elif clustering_Agglomerative[i] == 2: \n",
    "        sub_log3_AG.append(log[i])\n"
   ]
  },
  {
   "cell_type": "markdown",
   "metadata": {},
   "source": [
    "# Petrinets from Alpha miner on Sub Event Logs generated from DB Scan Euclidean Distance"
   ]
  },
  {
   "cell_type": "markdown",
   "metadata": {},
   "source": [
    "## Petrinets from Alpha miner on Sub Event Log1"
   ]
  },
  {
   "cell_type": "code",
   "execution_count": 90,
   "metadata": {},
   "outputs": [
    {
     "data": {
      "image/png": "[encoded data removed]",
      "text/plain": [
       "<IPython.core.display.Image object>"
      ]
     },
     "metadata": {},
     "output_type": "display_data"
    }
   ],
   "source": [
    "\n",
    "## Import the petrinet visualizer object\n",
    "from pm4py.algo.discovery.alpha import algorithm as alpha_miner\n",
    "net, initial_marking, final_marking = alpha_miner.apply(sub_log1_AG)\n",
    "from pm4py.visualization.petrinet import visualizer as pn_visualizer\n",
    "# Visualise \n",
    "gviz = pn_visualizer.apply(net, initial_marking, final_marking) \n",
    "pn_visualizer.view(gviz)"
   ]
  },
  {
   "cell_type": "markdown",
   "metadata": {},
   "source": [
    "## Log Fitness and Precision of SubLog1"
   ]
  },
  {
   "cell_type": "code",
   "execution_count": 91,
   "metadata": {},
   "outputs": [
    {
     "name": "stderr",
     "output_type": "stream",
     "text": [
      "replaying log with TBR, completed variants :: 100%|██████████| 25/25 [00:00<00:00, 756.20it/s]\n",
      "replaying log with TBR, completed variants :: 100%|██████████| 82/82 [00:00<00:00, 1536.75it/s]"
     ]
    },
    {
     "name": "stdout",
     "output_type": "stream",
     "text": [
      "Fitness of Petrinet is:  65.82066617016824 %\n",
      "Precision of Petrinet is:  28.919577579203903 %\n",
      "Simplicity of Petrinet is:  100.0 %\n"
     ]
    },
    {
     "name": "stderr",
     "output_type": "stream",
     "text": [
      "\n"
     ]
    }
   ],
   "source": [
    "net, im, fm = alpha_miner.apply(sub_log1_AG)\n",
    "fitness = replay_fitness_evaluator.apply(sub_log1_AG, net, im, fm, variant=replay_fitness_evaluator.Variants.TOKEN_BASED)\n",
    "simp = simplicity_evaluator.apply(net)\n",
    "prec = precision_evaluator.apply(sub_log1_AG, net, im, fm, variant=precision_evaluator.Variants.ETCONFORMANCE_TOKEN)\n",
    "print('Fitness of Petrinet is: ', fitness['log_fitness']*100,'%')\n",
    "print('Precision of Petrinet is: ', prec*100,'%')\n",
    "print('Simplicity of Petrinet is: ', simp*100,'%')"
   ]
  },
  {
   "cell_type": "markdown",
   "metadata": {},
   "source": [
    "## Petrinets from Alpha miner on Sub Event Log2"
   ]
  },
  {
   "cell_type": "code",
   "execution_count": 92,
   "metadata": {},
   "outputs": [
    {
     "data": {
      "image/png": "[encoded data removed]",
      "text/plain": [
       "<IPython.core.display.Image object>"
      ]
     },
     "metadata": {},
     "output_type": "display_data"
    }
   ],
   "source": [
    "\n",
    "## Import the petrinet visualizer object\n",
    "from pm4py.algo.discovery.alpha import algorithm as alpha_miner\n",
    "net, initial_marking, final_marking = alpha_miner.apply(sub_log2_AG)\n",
    "from pm4py.visualization.petrinet import visualizer as pn_visualizer\n",
    "# Visualise \n",
    "gviz = pn_visualizer.apply(net, initial_marking, final_marking) \n",
    "pn_visualizer.view(gviz)"
   ]
  },
  {
   "cell_type": "markdown",
   "metadata": {},
   "source": [
    "## Log Fitness and Precision of SubLog2"
   ]
  },
  {
   "cell_type": "code",
   "execution_count": 93,
   "metadata": {},
   "outputs": [
    {
     "name": "stderr",
     "output_type": "stream",
     "text": [
      "replaying log with TBR, completed variants :: 100%|██████████| 44/44 [00:00<00:00, 605.72it/s]\n",
      "replaying log with TBR, completed variants :: 100%|██████████| 155/155 [00:00<00:00, 905.09it/s]"
     ]
    },
    {
     "name": "stdout",
     "output_type": "stream",
     "text": [
      "Fitness of Petrinet is:  66.61918328584994 %\n",
      "Precision of Petrinet is:  22.2085548765971 %\n",
      "Simplicity of Petrinet is:  100.0 %\n"
     ]
    },
    {
     "name": "stderr",
     "output_type": "stream",
     "text": [
      "\n"
     ]
    }
   ],
   "source": [
    "net, im, fm = alpha_miner.apply(sub_log2_AG)\n",
    "fitness = replay_fitness_evaluator.apply(sub_log2_AG, net, im, fm, variant=replay_fitness_evaluator.Variants.TOKEN_BASED)\n",
    "simp = simplicity_evaluator.apply(net)\n",
    "prec = precision_evaluator.apply(sub_log2_AG, net, im, fm, variant=precision_evaluator.Variants.ETCONFORMANCE_TOKEN)\n",
    "print('Fitness of Petrinet is: ', fitness['log_fitness']*100,'%')\n",
    "print('Precision of Petrinet is: ', prec*100,'%')\n",
    "print('Simplicity of Petrinet is: ', simp*100,'%')"
   ]
  },
  {
   "cell_type": "markdown",
   "metadata": {},
   "source": [
    "## Petrinets from Alpha miner on Sub Event Log3"
   ]
  },
  {
   "cell_type": "code",
   "execution_count": 94,
   "metadata": {},
   "outputs": [
    {
     "data": {
      "image/png": "[encoded data removed]",
      "text/plain": [
       "<IPython.core.display.Image object>"
      ]
     },
     "metadata": {},
     "output_type": "display_data"
    }
   ],
   "source": [
    "\n",
    "## Import the petrinet visualizer object\n",
    "from pm4py.algo.discovery.alpha import algorithm as alpha_miner\n",
    "net, initial_marking, final_marking = alpha_miner.apply(sub_log3_AG)\n",
    "from pm4py.visualization.petrinet import visualizer as pn_visualizer\n",
    "# Visualise \n",
    "gviz = pn_visualizer.apply(net, initial_marking, final_marking) \n",
    "pn_visualizer.view(gviz)"
   ]
  },
  {
   "cell_type": "markdown",
   "metadata": {},
   "source": [
    "## Log Fitness and Precision of Sub Event log 3"
   ]
  },
  {
   "cell_type": "code",
   "execution_count": 95,
   "metadata": {},
   "outputs": [
    {
     "name": "stderr",
     "output_type": "stream",
     "text": [
      "replaying log with TBR, completed variants :: 100%|██████████| 8/8 [00:00<00:00, 991.09it/s]\n",
      "replaying log with TBR, completed variants :: 100%|██████████| 19/19 [00:00<00:00, 1607.14it/s]"
     ]
    },
    {
     "name": "stdout",
     "output_type": "stream",
     "text": [
      "Fitness of Petrinet is:  74.45460942997889 %\n",
      "Precision of Petrinet is:  28.781157583438954 %\n",
      "Simplicity of Petrinet is:  100.0 %\n"
     ]
    },
    {
     "name": "stderr",
     "output_type": "stream",
     "text": [
      "\n"
     ]
    }
   ],
   "source": [
    "net, im, fm = alpha_miner.apply(sub_log3_AG)\n",
    "fitness = replay_fitness_evaluator.apply(sub_log3_AG, net, im, fm, variant=replay_fitness_evaluator.Variants.TOKEN_BASED)\n",
    "simp = simplicity_evaluator.apply(net)\n",
    "prec = precision_evaluator.apply(sub_log3_AG, net, im, fm, variant=precision_evaluator.Variants.ETCONFORMANCE_TOKEN)\n",
    "print('Fitness of Petrinet is: ', fitness['log_fitness']*100,'%')\n",
    "print('Precision of Petrinet is: ', prec*100,'%')\n",
    "print('Simplicity of Petrinet is: ', simp*100,'%')"
   ]
  },
  {
   "cell_type": "markdown",
   "metadata": {},
   "source": [
    "# Self Organizing Maps - SOM\n"
   ]
  },
  {
   "cell_type": "code",
   "execution_count": 96,
   "metadata": {},
   "outputs": [
    {
     "name": "stdout",
     "output_type": "stream",
     "text": [
      "[array([6, 0]), array([4, 9]), array([6, 0]), array([9, 9]), array([9, 3]), array([8, 6]), array([4, 7]), array([8, 6]), array([8, 6]), array([9, 3]), array([8, 6]), array([0, 9]), array([9, 3]), array([6, 0]), array([4, 7]), array([9, 3]), array([9, 3]), array([9, 3]), array([8, 6]), array([9, 3]), array([0, 9]), array([8, 6]), array([9, 3]), array([9, 3]), array([6, 0]), array([9, 3]), array([9, 3]), array([8, 6]), array([9, 3]), array([0, 5]), array([8, 6]), array([9, 3]), array([8, 6]), array([9, 3]), array([8, 6]), array([6, 0]), array([8, 6]), array([9, 3]), array([8, 6]), array([4, 7]), array([4, 7]), array([9, 3]), array([9, 3]), array([8, 6]), array([9, 3]), array([9, 3]), array([6, 0]), array([8, 6]), array([0, 9]), array([8, 6]), array([8, 6]), array([9, 3]), array([8, 6]), array([9, 3]), array([4, 7]), array([9, 3]), array([9, 3]), array([6, 0]), array([8, 6]), array([4, 7]), array([9, 3]), array([8, 6]), array([8, 6]), array([8, 6]), array([4, 7]), array([9, 3]), array([2, 4]), array([9, 3]), array([9, 9]), array([9, 3]), array([4, 7]), array([8, 6]), array([8, 6]), array([9, 3]), array([9, 3]), array([8, 6]), array([2, 4]), array([8, 6]), array([9, 3]), array([9, 9]), array([0, 9]), array([8, 6]), array([0, 9]), array([9, 3]), array([9, 3]), array([9, 3]), array([9, 3]), array([4, 7]), array([9, 3]), array([6, 0]), array([9, 3]), array([9, 3]), array([2, 4]), array([9, 3]), array([9, 3]), array([0, 9]), array([9, 3]), array([0, 5]), array([8, 6]), array([4, 7]), array([4, 7]), array([9, 3]), array([8, 6]), array([0, 9]), array([8, 6]), array([1, 0]), array([6, 0]), array([6, 0]), array([9, 3]), array([9, 3]), array([8, 6]), array([9, 3]), array([6, 0]), array([4, 7]), array([4, 7]), array([6, 0]), array([8, 6]), array([9, 4]), array([1, 0]), array([2, 4]), array([4, 7]), array([9, 9]), array([0, 9]), array([9, 9]), array([9, 9]), array([6, 0]), array([4, 9]), array([6, 0]), array([4, 9]), array([6, 0]), array([6, 0]), array([0, 9]), array([6, 0]), array([9, 9]), array([1, 0]), array([0, 9]), array([9, 9]), array([9, 9]), array([6, 0]), array([6, 0]), array([4, 9]), array([6, 0]), array([6, 0]), array([4, 9]), array([4, 9]), array([9, 9]), array([2, 4]), array([0, 9]), array([6, 0]), array([0, 9]), array([1, 0]), array([6, 0]), array([6, 0]), array([6, 0]), array([1, 0]), array([6, 0]), array([6, 0]), array([9, 9]), array([6, 0]), array([2, 4]), array([4, 9]), array([6, 0]), array([6, 0]), array([4, 9]), array([1, 0]), array([4, 9]), array([2, 4]), array([6, 0]), array([6, 0]), array([6, 0]), array([0, 9]), array([6, 0]), array([6, 0]), array([6, 0]), array([6, 0]), array([6, 0]), array([0, 9]), array([6, 0]), array([0, 0]), array([6, 0]), array([4, 9]), array([9, 9]), array([9, 9]), array([0, 0]), array([6, 0]), array([0, 9]), array([2, 4]), array([6, 0]), array([4, 9]), array([4, 9]), array([2, 4]), array([6, 0]), array([0, 9]), array([6, 0]), array([2, 4]), array([6, 0]), array([6, 0]), array([6, 0]), array([6, 0]), array([6, 0]), array([1, 0]), array([0, 9]), array([6, 0]), array([6, 0]), array([6, 0]), array([6, 0]), array([6, 0]), array([9, 9]), array([6, 0]), array([9, 9]), array([4, 9]), array([4, 9]), array([6, 0]), array([6, 0]), array([4, 9]), array([9, 9]), array([6, 0]), array([6, 0]), array([9, 9]), array([9, 9]), array([6, 0]), array([6, 0]), array([6, 0]), array([0, 0]), array([0, 9]), array([6, 0]), array([6, 0]), array([6, 0]), array([4, 9]), array([9, 9]), array([6, 0]), array([6, 0]), array([4, 9]), array([9, 9]), array([9, 9]), array([9, 9]), array([0, 9]), array([6, 0]), array([6, 0]), array([6, 0]), array([2, 4]), array([6, 0]), array([6, 0]), array([2, 4]), array([4, 9]), array([1, 0]), array([9, 9]), array([6, 0]), array([6, 0]), array([6, 0]), array([6, 0]), array([6, 0]), array([6, 0]), array([6, 0]), array([6, 0]), array([6, 0]), array([6, 0]), array([6, 0]), array([6, 0]), array([4, 9]), array([4, 9]), array([6, 0]), array([2, 4]), array([0, 9]), array([6, 0]), array([9, 9]), array([1, 0]), array([6, 0]), array([0, 9]), array([6, 0]), array([9, 9]), array([6, 0]), array([6, 0]), array([6, 0]), array([4, 9]), array([6, 0]), array([4, 9]), array([2, 4]), array([6, 0]), array([9, 9]), array([1, 0]), array([6, 0]), array([9, 9]), array([6, 0]), array([6, 0]), array([9, 9]), array([6, 0]), array([0, 9]), array([6, 0]), array([0, 9]), array([9, 9]), array([6, 0]), array([6, 0]), array([6, 0]), array([9, 9]), array([4, 9]), array([4, 9]), array([1, 0]), array([6, 0]), array([9, 9]), array([6, 0]), array([6, 0]), array([6, 0]), array([9, 9]), array([9, 9]), array([6, 0]), array([4, 9]), array([2, 4]), array([6, 0]), array([1, 0]), array([6, 0]), array([6, 0]), array([6, 0]), array([6, 0]), array([9, 9]), array([0, 9]), array([6, 0]), array([4, 9]), array([6, 0]), array([6, 0]), array([6, 0]), array([6, 0]), array([4, 9]), array([6, 0]), array([6, 0]), array([6, 0]), array([9, 9]), array([9, 9]), array([6, 0]), array([6, 0]), array([0, 9]), array([1, 0]), array([6, 0]), array([9, 9]), array([6, 0]), array([9, 9]), array([6, 0]), array([9, 9]), array([6, 0]), array([9, 9]), array([9, 9]), array([6, 0]), array([6, 0]), array([6, 0]), array([6, 0]), array([6, 0]), array([6, 0]), array([6, 0]), array([6, 0]), array([0, 9]), array([6, 0]), array([2, 4]), array([6, 0]), array([6, 0]), array([6, 0]), array([6, 0]), array([9, 9]), array([6, 0]), array([6, 0]), array([6, 0]), array([6, 0]), array([6, 0]), array([1, 0]), array([6, 0]), array([0, 9]), array([4, 9]), array([6, 0]), array([6, 0]), array([6, 0]), array([6, 0]), array([9, 9]), array([0, 9]), array([4, 9]), array([6, 0]), array([6, 0]), array([9, 9]), array([6, 0]), array([4, 9]), array([1, 0]), array([6, 0]), array([4, 9]), array([6, 0]), array([6, 0]), array([6, 0]), array([6, 0]), array([9, 9]), array([6, 0]), array([6, 0]), array([0, 5]), array([0, 9]), array([0, 9]), array([0, 9]), array([9, 9]), array([9, 9]), array([6, 0]), array([6, 0]), array([6, 0]), array([6, 0]), array([4, 9]), array([9, 9]), array([6, 0]), array([6, 0]), array([9, 9]), array([6, 0]), array([6, 0]), array([9, 9]), array([9, 9]), array([6, 0]), array([0, 0]), array([0, 9]), array([9, 9]), array([6, 0]), array([9, 9]), array([6, 0]), array([9, 9]), array([6, 0]), array([1, 0]), array([9, 9]), array([6, 0]), array([6, 0]), array([6, 0]), array([6, 0]), array([6, 0]), array([9, 9]), array([6, 0]), array([0, 9]), array([6, 0]), array([9, 9]), array([0, 9]), array([1, 0]), array([6, 0]), array([6, 0]), array([6, 0]), array([6, 0]), array([6, 0]), array([6, 0]), array([6, 0]), array([9, 9]), array([9, 9]), array([9, 9]), array([0, 9]), array([6, 0]), array([6, 0]), array([6, 0]), array([6, 0]), array([6, 0]), array([6, 0]), array([0, 9]), array([1, 0]), array([6, 0]), array([9, 9]), array([6, 0]), array([0, 9]), array([6, 0]), array([0, 9]), array([0, 5]), array([6, 0]), array([6, 0]), array([9, 9]), array([6, 0]), array([4, 9]), array([0, 9]), array([4, 9]), array([9, 9]), array([9, 9]), array([4, 9]), array([6, 0]), array([6, 0]), array([0, 9]), array([9, 9]), array([6, 0]), array([9, 9]), array([0, 9]), array([6, 0]), array([6, 0]), array([6, 0]), array([9, 9]), array([2, 4]), array([6, 0]), array([9, 9]), array([6, 0]), array([9, 9]), array([9, 9]), array([6, 0]), array([6, 0]), array([9, 9]), array([6, 0]), array([2, 4]), array([6, 0]), array([6, 0]), array([0, 0]), array([6, 0]), array([9, 9]), array([6, 0]), array([1, 0]), array([6, 0]), array([6, 0]), array([9, 9]), array([9, 9]), array([6, 0]), array([0, 9]), array([6, 0]), array([6, 0]), array([6, 0]), array([4, 9]), array([6, 0]), array([6, 0]), array([4, 9]), array([0, 9]), array([6, 0]), array([6, 0]), array([2, 4]), array([6, 0]), array([6, 0]), array([9, 9]), array([9, 9]), array([9, 9]), array([0, 9]), array([9, 9]), array([6, 0]), array([9, 9]), array([6, 0]), array([9, 9]), array([0, 9]), array([6, 0]), array([4, 9]), array([0, 9]), array([0, 9]), array([6, 0]), array([9, 9]), array([6, 0]), array([6, 0]), array([6, 0]), array([6, 0]), array([6, 0]), array([6, 0]), array([9, 9]), array([6, 0]), array([0, 9]), array([4, 9]), array([1, 0]), array([0, 9]), array([0, 5]), array([6, 0]), array([9, 9]), array([4, 9]), array([6, 0]), array([6, 0]), array([6, 0]), array([6, 0]), array([6, 0]), array([0, 0]), array([0, 0]), array([6, 0]), array([9, 9]), array([9, 9]), array([6, 0]), array([1, 0]), array([0, 9]), array([9, 9]), array([6, 0]), array([9, 9]), array([6, 0]), array([6, 0]), array([6, 0]), array([9, 9]), array([9, 9]), array([9, 9]), array([6, 0]), array([4, 9]), array([9, 9]), array([6, 0]), array([9, 9]), array([9, 9]), array([9, 9]), array([9, 9]), array([6, 0]), array([4, 9]), array([0, 9]), array([6, 0]), array([6, 0]), array([6, 0]), array([6, 0]), array([6, 0]), array([9, 9]), array([4, 9]), array([9, 9]), array([6, 0]), array([4, 9]), array([6, 0]), array([6, 0]), array([6, 0]), array([6, 0]), array([1, 0]), array([6, 0]), array([6, 0]), array([4, 9]), array([6, 0]), array([4, 9]), array([0, 9]), array([9, 9]), array([6, 0]), array([6, 0]), array([6, 0]), array([4, 9]), array([4, 9]), array([9, 9]), array([0, 0]), array([6, 0]), array([6, 0]), array([6, 0]), array([6, 0]), array([6, 0]), array([4, 9]), array([9, 9]), array([6, 0]), array([9, 9]), array([6, 0]), array([6, 0]), array([6, 0]), array([6, 0]), array([6, 0]), array([1, 0]), array([6, 0]), array([6, 0]), array([6, 0]), array([6, 0]), array([6, 0]), array([6, 0]), array([9, 9]), array([6, 0]), array([4, 9]), array([6, 0]), array([1, 0]), array([1, 0]), array([6, 0]), array([6, 0]), array([9, 9]), array([6, 0]), array([6, 0]), array([6, 0]), array([6, 0]), array([6, 0]), array([9, 9]), array([9, 9]), array([6, 0]), array([0, 9]), array([6, 0]), array([6, 0]), array([6, 0]), array([4, 9]), array([9, 9]), array([9, 9]), array([6, 0]), array([6, 0]), array([6, 0]), array([6, 0]), array([9, 9]), array([9, 9]), array([9, 9]), array([6, 0]), array([6, 0]), array([6, 0]), array([0, 9]), array([4, 9]), array([0, 9]), array([6, 0]), array([4, 9]), array([6, 0]), array([6, 0]), array([0, 9]), array([4, 9]), array([0, 9]), array([6, 0]), array([6, 0]), array([6, 0]), array([6, 0]), array([4, 9]), array([0, 9]), array([6, 0]), array([9, 9]), array([9, 9]), array([6, 0]), array([4, 9]), array([4, 9]), array([4, 9]), array([9, 9]), array([9, 9]), array([9, 9]), array([9, 9]), array([9, 9]), array([0, 9]), array([0, 9]), array([9, 9]), array([6, 0]), array([4, 9]), array([4, 9]), array([6, 0]), array([9, 9]), array([6, 0]), array([6, 0]), array([6, 0]), array([9, 9]), array([6, 0]), array([6, 0]), array([6, 0]), array([6, 0]), array([4, 9]), array([9, 9]), array([6, 0]), array([9, 9]), array([9, 9]), array([6, 0]), array([1, 0]), array([6, 0]), array([9, 9]), array([6, 0]), array([6, 0]), array([6, 0]), array([6, 0]), array([9, 9]), array([6, 0]), array([6, 0]), array([6, 0]), array([6, 0]), array([4, 9]), array([6, 0]), array([6, 0]), array([9, 9]), array([9, 9]), array([6, 0]), array([6, 0]), array([6, 0]), array([6, 0]), array([6, 0]), array([9, 9]), array([9, 9]), array([0, 9]), array([9, 9]), array([0, 0]), array([9, 9]), array([6, 0]), array([6, 0]), array([6, 0]), array([6, 0]), array([1, 0]), array([6, 0]), array([0, 9]), array([6, 0]), array([6, 0]), array([9, 9]), array([6, 0]), array([0, 0]), array([0, 9]), array([0, 5]), array([6, 0]), array([6, 0]), array([9, 9]), array([9, 9]), array([6, 0]), array([6, 0]), array([6, 0]), array([6, 0]), array([6, 0]), array([6, 0]), array([9, 9]), array([6, 0]), array([0, 9]), array([6, 0]), array([6, 0]), array([6, 0]), array([0, 0]), array([9, 9]), array([6, 0]), array([6, 0]), array([6, 0]), array([6, 0]), array([4, 9]), array([0, 5]), array([9, 9]), array([9, 9]), array([9, 9]), array([6, 0]), array([6, 0]), array([6, 0]), array([0, 9]), array([1, 0]), array([6, 0]), array([6, 0]), array([9, 9]), array([6, 0]), array([9, 9]), array([6, 0]), array([6, 0]), array([6, 0]), array([6, 0]), array([6, 0]), array([6, 0]), array([6, 0]), array([9, 9]), array([9, 9]), array([6, 0]), array([6, 0]), array([9, 9]), array([6, 0]), array([6, 0]), array([6, 0]), array([6, 0]), array([6, 0]), array([6, 0]), array([9, 9]), array([9, 9]), array([6, 0]), array([4, 9]), array([1, 0]), array([4, 9]), array([6, 0]), array([4, 9]), array([6, 0]), array([4, 9]), array([6, 0]), array([4, 9]), array([6, 0]), array([9, 9]), array([6, 0]), array([6, 0]), array([9, 9]), array([0, 9]), array([6, 0]), array([6, 0]), array([6, 0]), array([6, 0]), array([1, 0]), array([2, 4]), array([6, 0]), array([6, 0]), array([4, 9]), array([6, 0]), array([6, 0]), array([6, 0]), array([9, 9]), array([9, 9]), array([0, 5]), array([0, 9]), array([9, 9]), array([9, 9]), array([4, 9]), array([9, 9]), array([6, 0]), array([2, 4]), array([9, 9]), array([1, 0]), array([0, 9]), array([0, 9]), array([0, 9]), array([0, 0]), array([6, 0]), array([1, 0]), array([9, 9]), array([6, 0]), array([6, 0]), array([4, 9]), array([6, 0]), array([4, 9]), array([9, 9]), array([6, 0]), array([9, 9]), array([9, 9]), array([6, 0]), array([9, 9]), array([9, 9]), array([9, 9]), array([6, 0]), array([9, 9]), array([1, 0]), array([6, 0]), array([6, 0]), array([0, 9]), array([6, 0]), array([6, 0]), array([9, 9]), array([0, 9]), array([4, 9]), array([0, 9]), array([6, 0]), array([6, 0]), array([6, 0]), array([6, 0]), array([2, 4]), array([6, 0]), array([9, 9]), array([0, 9]), array([4, 9]), array([4, 9]), array([6, 0]), array([6, 0]), array([6, 0]), array([6, 0]), array([4, 9]), array([6, 0]), array([6, 0]), array([4, 9]), array([6, 0]), array([0, 5]), array([6, 0]), array([6, 0]), array([6, 0]), array([9, 9]), array([6, 0]), array([6, 0]), array([6, 0]), array([0, 9]), array([6, 0]), array([0, 9]), array([6, 0]), array([6, 0]), array([6, 0]), array([6, 0]), array([6, 0]), array([6, 0]), array([4, 9]), array([6, 0]), array([9, 9]), array([4, 9]), array([6, 0]), array([6, 0]), array([9, 9]), array([4, 9]), array([6, 0]), array([6, 0]), array([6, 0]), array([0, 9]), array([6, 0]), array([9, 9]), array([6, 0]), array([6, 0]), array([6, 0]), array([6, 0]), array([6, 0]), array([6, 0]), array([6, 0]), array([2, 4]), array([6, 0]), array([6, 0]), array([6, 0]), array([4, 9]), array([6, 0]), array([6, 0]), array([9, 9]), array([4, 9]), array([6, 0]), array([9, 9]), array([0, 9]), array([0, 9]), array([2, 4]), array([9, 9]), array([9, 9]), array([6, 0]), array([9, 9]), array([6, 0]), array([4, 9]), array([6, 0]), array([6, 0]), array([6, 0]), array([6, 0]), array([6, 0]), array([9, 9]), array([6, 0]), array([6, 0]), array([9, 9]), array([6, 0]), array([9, 9]), array([6, 0]), array([4, 9]), array([6, 0]), array([9, 9]), array([6, 0]), array([4, 9]), array([9, 9]), array([6, 0]), array([4, 9]), array([0, 9]), array([9, 9]), array([6, 0]), array([6, 0]), array([6, 0]), array([0, 9]), array([9, 9]), array([4, 9]), array([6, 0]), array([6, 0]), array([4, 9]), array([0, 0]), array([9, 9]), array([9, 9]), array([6, 0]), array([9, 9]), array([4, 9]), array([9, 9]), array([6, 0]), array([0, 9]), array([9, 9]), array([6, 0]), array([6, 0]), array([2, 4]), array([1, 0]), array([9, 9]), array([4, 9]), array([1, 0]), array([6, 0]), array([4, 9]), array([0, 9]), array([6, 0]), array([4, 9]), array([1, 0]), array([6, 0]), array([6, 0]), array([6, 0]), array([0, 9]), array([6, 0]), array([9, 9]), array([9, 9]), array([4, 9]), array([9, 9]), array([9, 9]), array([6, 0]), array([6, 0]), array([9, 9]), array([6, 0]), array([9, 9]), array([9, 9]), array([6, 0]), array([6, 0]), array([6, 0]), array([9, 9]), array([9, 9]), array([6, 0]), array([9, 9]), array([9, 9]), array([6, 0]), array([9, 9]), array([0, 9]), array([6, 0]), array([6, 0]), array([6, 0]), array([4, 9]), array([6, 0]), array([4, 9]), array([6, 0]), array([9, 9]), array([6, 0]), array([6, 0]), array([4, 9]), array([6, 0]), array([6, 0]), array([2, 4]), array([6, 0]), array([6, 0]), array([4, 9]), array([6, 0]), array([6, 0]), array([9, 9]), array([9, 9]), array([9, 9]), array([6, 0]), array([6, 0]), array([6, 0]), array([9, 9]), array([2, 4]), array([6, 0]), array([4, 9]), array([9, 9]), array([9, 9]), array([0, 9]), array([0, 5]), array([1, 0]), array([4, 9]), array([6, 0]), array([6, 0]), array([9, 9]), array([9, 9]), array([6, 0]), array([9, 9]), array([9, 9]), array([6, 0]), array([0, 9]), array([6, 0]), array([2, 4]), array([6, 0]), array([6, 0]), array([9, 9]), array([6, 0]), array([9, 9]), array([6, 0]), array([2, 4]), array([0, 9]), array([6, 0]), array([1, 0]), array([4, 9]), array([6, 0]), array([6, 0]), array([6, 0]), array([6, 0]), array([4, 9])]\n"
     ]
    },
    {
     "data": {
      "text/plain": [
       "<matplotlib.image.AxesImage at 0x7f7febb84d50>"
      ]
     },
     "execution_count": 96,
     "metadata": {},
     "output_type": "execute_result"
    },
    {
     "data": {
      "image/png": "[encoded data removed]",
      "text/plain": [
       "<Figure size 432x288 with 1 Axes>"
      ]
     },
     "metadata": {
      "needs_background": "light"
     },
     "output_type": "display_data"
    }
   ],
   "source": [
    "import susi\n",
    "import numpy as np\n",
    "import matplotlib.pyplot as plt\n",
    "som = susi.SOMClustering()\n",
    "som.fit(np_vectors)\n",
    "umat = som.get_u_matrix()\n",
    "clusters = som.get_bmus(np_vectors)\n",
    "print(clusters)\n",
    "plt.imshow(np.squeeze(umat))"
   ]
  },
  {
   "cell_type": "markdown",
   "metadata": {},
   "source": [
    "### Unique Clusters"
   ]
  },
  {
   "cell_type": "code",
   "execution_count": 97,
   "metadata": {},
   "outputs": [
    {
     "data": {
      "text/plain": [
       "array([[0, 0],\n",
       "       [0, 5],\n",
       "       [0, 9],\n",
       "       [1, 0],\n",
       "       [2, 4],\n",
       "       [4, 7],\n",
       "       [4, 9],\n",
       "       [6, 0],\n",
       "       [8, 6],\n",
       "       [9, 3],\n",
       "       [9, 4],\n",
       "       [9, 9]])"
      ]
     },
     "execution_count": 97,
     "metadata": {},
     "output_type": "execute_result"
    }
   ],
   "source": [
    "unique_clusters = np.unique(clusters, axis=0)\n",
    "unique_clusters"
   ]
  },
  {
   "cell_type": "markdown",
   "metadata": {},
   "source": [
    "## Making Sub Event Logs on the basis of SOM Clusters"
   ]
  },
  {
   "cell_type": "code",
   "execution_count": 98,
   "metadata": {},
   "outputs": [],
   "source": [
    "\n",
    "som_sub_log1 = EventLog()\n",
    "som_sub_log2 = EventLog()\n",
    "som_sub_log3 = EventLog()\n",
    "som_sub_log4 = EventLog()\n",
    "som_sub_log5 = EventLog()\n",
    "som_sub_log6 = EventLog()\n",
    "som_sub_log7 = EventLog()\n",
    "som_sub_log8 = EventLog()\n",
    "som_sub_log9 = EventLog()\n",
    "som_sub_log10 = EventLog()\n",
    "som_sub_log11 = EventLog()\n",
    "som_sub_log12 = EventLog()\n",
    "\n",
    "\n",
    "for i in range(len(clusters)):\n",
    "    if clusters[i][0] == 0 and clusters[i][1] ==0:\n",
    "        som_sub_log1.append(log[i])\n",
    "    \n",
    "    elif clusters[i][0] == 0 and clusters[i][1] ==5:\n",
    "        som_sub_log2.append(log[i])\n",
    "\n",
    "    elif clusters[i][0] == 0 and clusters[i][1] ==9:\n",
    "        som_sub_log3.append(log[i])\n",
    "        \n",
    "    elif clusters[i][0] == 1 and clusters[i][1] ==0:\n",
    "        som_sub_log4.append(log[i])\n",
    "\n",
    "    elif clusters[i][0] == 2 and clusters[i][1] ==4:\n",
    "        som_sub_log5.append(log[i])\n",
    "\n",
    "    elif clusters[i][0] == 4 and clusters[i][1] ==7:\n",
    "        som_sub_log6.append(log[i])\n",
    "\n",
    "    elif clusters[i][0] == 4 and clusters[i][1] ==9:\n",
    "        som_sub_log7.append(log[i])\n",
    "\n",
    "    elif clusters[i][0] == 6 and clusters[i][1] ==0:\n",
    "        som_sub_log8.append(log[i])\n",
    "\n",
    "    elif clusters[i][0] == 8 and clusters[i][1] ==6:\n",
    "        som_sub_log9.append(log[i])\n",
    "        \n",
    "    elif clusters[i][0] == 9 and clusters[i][1] ==3:\n",
    "        som_sub_log10.append(log[i])\n",
    "\n",
    "    elif clusters[i][0] == 9 and clusters[i][1] ==4:\n",
    "        som_sub_log11.append(log[i])\n",
    "\n",
    "    elif clusters[i][0] == 9 and clusters[i][1] ==9:\n",
    "        som_sub_log12.append(log[i])\n"
   ]
  },
  {
   "cell_type": "markdown",
   "metadata": {},
   "source": [
    "### Checking sizes of clusters"
   ]
  },
  {
   "cell_type": "code",
   "execution_count": 99,
   "metadata": {},
   "outputs": [
    {
     "data": {
      "text/plain": [
       "(13, 10, 88, 38, 29, 14)"
      ]
     },
     "execution_count": 99,
     "metadata": {},
     "output_type": "execute_result"
    }
   ],
   "source": [
    "len(som_sub_log1),len(som_sub_log2),len(som_sub_log3),len(som_sub_log4),len(som_sub_log5),len(som_sub_log6)"
   ]
  },
  {
   "cell_type": "code",
   "execution_count": 100,
   "metadata": {},
   "outputs": [
    {
     "data": {
      "text/plain": [
       "(101, 524, 31, 44, 1, 211)"
      ]
     },
     "execution_count": 100,
     "metadata": {},
     "output_type": "execute_result"
    }
   ],
   "source": [
    "len(som_sub_log7),len(som_sub_log8),len(som_sub_log9),len(som_sub_log10),len(som_sub_log11),len(som_sub_log12)"
   ]
  },
  {
   "cell_type": "markdown",
   "metadata": {},
   "source": [
    "# Petrinets from Alpha miner on Sub Event Logs generated from SOM"
   ]
  },
  {
   "cell_type": "markdown",
   "metadata": {},
   "source": [
    "## Petrinets from Alpha miner on Sub Event Log1"
   ]
  },
  {
   "cell_type": "code",
   "execution_count": 101,
   "metadata": {},
   "outputs": [
    {
     "data": {
      "image/png": "[encoded data removed]",
      "text/plain": [
       "<IPython.core.display.Image object>"
      ]
     },
     "metadata": {},
     "output_type": "display_data"
    }
   ],
   "source": [
    "\n",
    "## Import the petrinet visualizer object\n",
    "from pm4py.algo.discovery.alpha import algorithm as alpha_miner\n",
    "net, initial_marking, final_marking = alpha_miner.apply(som_sub_log1)\n",
    "from pm4py.visualization.petrinet import visualizer as pn_visualizer\n",
    "# Visualise \n",
    "gviz = pn_visualizer.apply(net, initial_marking, final_marking) \n",
    "pn_visualizer.view(gviz)"
   ]
  },
  {
   "cell_type": "markdown",
   "metadata": {},
   "source": [
    "## Log Fitness and Precision of SubLog1"
   ]
  },
  {
   "cell_type": "code",
   "execution_count": 102,
   "metadata": {},
   "outputs": [
    {
     "name": "stderr",
     "output_type": "stream",
     "text": [
      "replaying log with TBR, completed variants :: 100%|██████████| 6/6 [00:00<00:00, 298.85it/s]\n",
      "replaying log with TBR, completed variants :: 100%|██████████| 75/75 [00:00<00:00, 1325.79it/s]"
     ]
    },
    {
     "name": "stdout",
     "output_type": "stream",
     "text": [
      "Fitness of Petrinet is:  86.11111111111111 %\n",
      "Precision of Petrinet is:  20.91212458286985 %\n",
      "Simplicity of Petrinet is:  100.0 %\n"
     ]
    },
    {
     "name": "stderr",
     "output_type": "stream",
     "text": [
      "\n"
     ]
    }
   ],
   "source": [
    "net, im, fm = alpha_miner.apply(som_sub_log1)\n",
    "fitness = replay_fitness_evaluator.apply(som_sub_log1, net, im, fm, variant=replay_fitness_evaluator.Variants.TOKEN_BASED)\n",
    "simp = simplicity_evaluator.apply(net)\n",
    "prec = precision_evaluator.apply(som_sub_log1, net, im, fm, variant=precision_evaluator.Variants.ETCONFORMANCE_TOKEN)\n",
    "print('Fitness of Petrinet is: ', fitness['log_fitness']*100,'%')\n",
    "print('Precision of Petrinet is: ', prec*100,'%')\n",
    "print('Simplicity of Petrinet is: ', simp*100,'%')"
   ]
  },
  {
   "cell_type": "markdown",
   "metadata": {},
   "source": [
    "## Petrinets from Alpha miner on Sub Event Log2"
   ]
  },
  {
   "cell_type": "code",
   "execution_count": 103,
   "metadata": {},
   "outputs": [
    {
     "data": {
      "image/png": "[encoded data removed]",
      "text/plain": [
       "<IPython.core.display.Image object>"
      ]
     },
     "metadata": {},
     "output_type": "display_data"
    }
   ],
   "source": [
    "\n",
    "## Import the petrinet visualizer object\n",
    "from pm4py.algo.discovery.alpha import algorithm as alpha_miner\n",
    "net, initial_marking, final_marking = alpha_miner.apply(som_sub_log2)\n",
    "from pm4py.visualization.petrinet import visualizer as pn_visualizer\n",
    "# Visualise \n",
    "gviz = pn_visualizer.apply(net, initial_marking, final_marking) \n",
    "pn_visualizer.view(gviz)"
   ]
  },
  {
   "cell_type": "markdown",
   "metadata": {},
   "source": [
    "## Log Fitness and Precision of SubLog2"
   ]
  },
  {
   "cell_type": "code",
   "execution_count": 104,
   "metadata": {},
   "outputs": [
    {
     "name": "stderr",
     "output_type": "stream",
     "text": [
      "replaying log with TBR, completed variants :: 100%|██████████| 6/6 [00:00<00:00, 869.92it/s]\n",
      "replaying log with TBR, completed variants :: 100%|██████████| 64/64 [00:00<00:00, 1151.87it/s]"
     ]
    },
    {
     "name": "stdout",
     "output_type": "stream",
     "text": [
      "Fitness of Petrinet is:  54.35393258426966 %\n",
      "Precision of Petrinet is:  17.966573816155986 %\n",
      "Simplicity of Petrinet is:  100.0 %\n"
     ]
    },
    {
     "name": "stderr",
     "output_type": "stream",
     "text": [
      "\n"
     ]
    }
   ],
   "source": [
    "net, im, fm = alpha_miner.apply(som_sub_log2)\n",
    "fitness = replay_fitness_evaluator.apply(som_sub_log2, net, im, fm, variant=replay_fitness_evaluator.Variants.TOKEN_BASED)\n",
    "simp = simplicity_evaluator.apply(net)\n",
    "prec = precision_evaluator.apply(som_sub_log2, net, im, fm, variant=precision_evaluator.Variants.ETCONFORMANCE_TOKEN)\n",
    "print('Fitness of Petrinet is: ', fitness['log_fitness']*100,'%')\n",
    "print('Precision of Petrinet is: ', prec*100,'%')\n",
    "print('Simplicity of Petrinet is: ', simp*100,'%')"
   ]
  },
  {
   "cell_type": "markdown",
   "metadata": {},
   "source": [
    "## Petrinets from Alpha miner on Sub Event Log3"
   ]
  },
  {
   "cell_type": "code",
   "execution_count": 105,
   "metadata": {},
   "outputs": [
    {
     "data": {
      "image/png": "[encoded data removed]",
      "text/plain": [
       "<IPython.core.display.Image object>"
      ]
     },
     "metadata": {},
     "output_type": "display_data"
    }
   ],
   "source": [
    "\n",
    "## Import the petrinet visualizer object\n",
    "from pm4py.algo.discovery.alpha import algorithm as alpha_miner\n",
    "net, initial_marking, final_marking = alpha_miner.apply(som_sub_log3)\n",
    "from pm4py.visualization.petrinet import visualizer as pn_visualizer\n",
    "# Visualise \n",
    "gviz = pn_visualizer.apply(net, initial_marking, final_marking) \n",
    "pn_visualizer.view(gviz)"
   ]
  },
  {
   "cell_type": "markdown",
   "metadata": {},
   "source": [
    "## Log Fitness and Precision of Sub Event log 3"
   ]
  },
  {
   "cell_type": "code",
   "execution_count": 106,
   "metadata": {},
   "outputs": [
    {
     "name": "stderr",
     "output_type": "stream",
     "text": [
      "replaying log with TBR, completed variants :: 100%|██████████| 15/15 [00:00<00:00, 550.53it/s]\n",
      "replaying log with TBR, completed variants :: 100%|██████████| 105/105 [00:00<00:00, 1386.07it/s]"
     ]
    },
    {
     "name": "stdout",
     "output_type": "stream",
     "text": [
      "Fitness of Petrinet is:  53.925092764378476 %\n",
      "Precision of Petrinet is:  23.427844420210832 %\n",
      "Simplicity of Petrinet is:  100.0 %\n"
     ]
    },
    {
     "name": "stderr",
     "output_type": "stream",
     "text": [
      "\n"
     ]
    }
   ],
   "source": [
    "net, im, fm = alpha_miner.apply(som_sub_log3)\n",
    "fitness = replay_fitness_evaluator.apply(som_sub_log3, net, im, fm, variant=replay_fitness_evaluator.Variants.TOKEN_BASED)\n",
    "simp = simplicity_evaluator.apply(net)\n",
    "prec = precision_evaluator.apply(som_sub_log3, net, im, fm, variant=precision_evaluator.Variants.ETCONFORMANCE_TOKEN)\n",
    "print('Fitness of Petrinet is: ', fitness['log_fitness']*100,'%')\n",
    "print('Precision of Petrinet is: ', prec*100,'%')\n",
    "print('Simplicity of Petrinet is: ', simp*100,'%')"
   ]
  },
  {
   "cell_type": "markdown",
   "metadata": {},
   "source": [
    "## Petrinets from Alpha miner on Sub Event Log 4"
   ]
  },
  {
   "cell_type": "code",
   "execution_count": 107,
   "metadata": {},
   "outputs": [
    {
     "data": {
      "image/png": "[encoded data removed]",
      "text/plain": [
       "<IPython.core.display.Image object>"
      ]
     },
     "metadata": {},
     "output_type": "display_data"
    }
   ],
   "source": [
    "\n",
    "## Import the petrinet visualizer object\n",
    "from pm4py.algo.discovery.alpha import algorithm as alpha_miner\n",
    "net, initial_marking, final_marking = alpha_miner.apply(som_sub_log4)\n",
    "from pm4py.visualization.petrinet import visualizer as pn_visualizer\n",
    "# Visualise \n",
    "gviz = pn_visualizer.apply(net, initial_marking, final_marking) \n",
    "pn_visualizer.view(gviz)"
   ]
  },
  {
   "cell_type": "markdown",
   "metadata": {},
   "source": [
    "## Log Fitness and Precision of SubLog 4"
   ]
  },
  {
   "cell_type": "code",
   "execution_count": 108,
   "metadata": {},
   "outputs": [
    {
     "name": "stderr",
     "output_type": "stream",
     "text": [
      "replaying log with TBR, completed variants :: 100%|██████████| 8/8 [00:00<00:00, 790.69it/s]\n",
      "replaying log with TBR, completed variants :: 100%|██████████| 49/49 [00:00<00:00, 1442.28it/s]"
     ]
    },
    {
     "name": "stdout",
     "output_type": "stream",
     "text": [
      "Fitness of Petrinet is:  62.799043062200965 %\n",
      "Precision of Petrinet is:  23.1457800511509 %\n",
      "Simplicity of Petrinet is:  100.0 %\n"
     ]
    },
    {
     "name": "stderr",
     "output_type": "stream",
     "text": [
      "\n"
     ]
    }
   ],
   "source": [
    "net, im, fm = alpha_miner.apply(som_sub_log4)\n",
    "fitness = replay_fitness_evaluator.apply(som_sub_log4, net, im, fm, variant=replay_fitness_evaluator.Variants.TOKEN_BASED)\n",
    "simp = simplicity_evaluator.apply(net)\n",
    "prec = precision_evaluator.apply(som_sub_log4, net, im, fm, variant=precision_evaluator.Variants.ETCONFORMANCE_TOKEN)\n",
    "print('Fitness of Petrinet is: ', fitness['log_fitness']*100,'%')\n",
    "print('Precision of Petrinet is: ', prec*100,'%')\n",
    "print('Simplicity of Petrinet is: ', simp*100,'%')"
   ]
  },
  {
   "cell_type": "markdown",
   "metadata": {},
   "source": [
    "## Petrinets from Alpha miner on Sub Event Log 5"
   ]
  },
  {
   "cell_type": "code",
   "execution_count": 109,
   "metadata": {},
   "outputs": [
    {
     "data": {
      "image/png": "[encoded data removed]",
      "text/plain": [
       "<IPython.core.display.Image object>"
      ]
     },
     "metadata": {},
     "output_type": "display_data"
    }
   ],
   "source": [
    "\n",
    "## Import the petrinet visualizer object\n",
    "from pm4py.algo.discovery.alpha import algorithm as alpha_miner\n",
    "net, initial_marking, final_marking = alpha_miner.apply(som_sub_log5)\n",
    "from pm4py.visualization.petrinet import visualizer as pn_visualizer\n",
    "# Visualise \n",
    "gviz = pn_visualizer.apply(net, initial_marking, final_marking) \n",
    "pn_visualizer.view(gviz)"
   ]
  },
  {
   "cell_type": "markdown",
   "metadata": {},
   "source": [
    "## Log Fitness and Precision of SubLog 5"
   ]
  },
  {
   "cell_type": "code",
   "execution_count": 110,
   "metadata": {},
   "outputs": [
    {
     "name": "stderr",
     "output_type": "stream",
     "text": [
      "replaying log with TBR, completed variants :: 100%|██████████| 8/8 [00:00<00:00, 576.99it/s]\n",
      "replaying log with TBR, completed variants :: 100%|██████████| 49/49 [00:00<00:00, 1425.04it/s]"
     ]
    },
    {
     "name": "stdout",
     "output_type": "stream",
     "text": [
      "Fitness of Petrinet is:  60.20402298850575 %\n",
      "Precision of Petrinet is:  19.819819819819816 %\n",
      "Simplicity of Petrinet is:  100.0 %\n"
     ]
    },
    {
     "name": "stderr",
     "output_type": "stream",
     "text": [
      "\n"
     ]
    }
   ],
   "source": [
    "net, im, fm = alpha_miner.apply(som_sub_log5)\n",
    "fitness = replay_fitness_evaluator.apply(som_sub_log5, net, im, fm, variant=replay_fitness_evaluator.Variants.TOKEN_BASED)\n",
    "simp = simplicity_evaluator.apply(net)\n",
    "prec = precision_evaluator.apply(som_sub_log5, net, im, fm, variant=precision_evaluator.Variants.ETCONFORMANCE_TOKEN)\n",
    "print('Fitness of Petrinet is: ', fitness['log_fitness']*100,'%')\n",
    "print('Precision of Petrinet is: ', prec*100,'%')\n",
    "print('Simplicity of Petrinet is: ', simp*100,'%')"
   ]
  },
  {
   "cell_type": "markdown",
   "metadata": {},
   "source": [
    "## Petrinets from Alpha miner on Sub Event Log 6"
   ]
  },
  {
   "cell_type": "code",
   "execution_count": 111,
   "metadata": {},
   "outputs": [
    {
     "data": {
      "image/png": "[encoded data removed]",
      "text/plain": [
       "<IPython.core.display.Image object>"
      ]
     },
     "metadata": {},
     "output_type": "display_data"
    }
   ],
   "source": [
    "\n",
    "## Import the petrinet visualizer object\n",
    "from pm4py.algo.discovery.alpha import algorithm as alpha_miner\n",
    "net, initial_marking, final_marking = alpha_miner.apply(som_sub_log6)\n",
    "from pm4py.visualization.petrinet import visualizer as pn_visualizer\n",
    "# Visualise \n",
    "gviz = pn_visualizer.apply(net, initial_marking, final_marking) \n",
    "pn_visualizer.view(gviz)"
   ]
  },
  {
   "cell_type": "markdown",
   "metadata": {},
   "source": [
    "## Log Fitness and Precision of SubLog 6"
   ]
  },
  {
   "cell_type": "code",
   "execution_count": 112,
   "metadata": {},
   "outputs": [
    {
     "name": "stderr",
     "output_type": "stream",
     "text": [
      "replaying log with TBR, completed variants :: 100%|██████████| 6/6 [00:00<00:00, 1382.89it/s]\n",
      "replaying log with TBR, completed variants :: 100%|██████████| 43/43 [00:00<00:00, 1179.79it/s]"
     ]
    },
    {
     "name": "stdout",
     "output_type": "stream",
     "text": [
      "Fitness of Petrinet is:  62.9251700680272 %\n",
      "Precision of Petrinet is:  28.000000000000004 %\n",
      "Simplicity of Petrinet is:  100.0 %\n"
     ]
    },
    {
     "name": "stderr",
     "output_type": "stream",
     "text": [
      "\n"
     ]
    }
   ],
   "source": [
    "net, im, fm = alpha_miner.apply(som_sub_log6)\n",
    "fitness = replay_fitness_evaluator.apply(som_sub_log6, net, im, fm, variant=replay_fitness_evaluator.Variants.TOKEN_BASED)\n",
    "simp = simplicity_evaluator.apply(net)\n",
    "prec = precision_evaluator.apply(som_sub_log6, net, im, fm, variant=precision_evaluator.Variants.ETCONFORMANCE_TOKEN)\n",
    "print('Fitness of Petrinet is: ', fitness['log_fitness']*100,'%')\n",
    "print('Precision of Petrinet is: ', prec*100,'%')\n",
    "print('Simplicity of Petrinet is: ', simp*100,'%')"
   ]
  },
  {
   "cell_type": "markdown",
   "metadata": {},
   "source": [
    "## Petrinets from Alpha miner on Sub Event Log7"
   ]
  },
  {
   "cell_type": "code",
   "execution_count": 113,
   "metadata": {},
   "outputs": [
    {
     "data": {
      "image/png": "[encoded data removed]",
      "text/plain": [
       "<IPython.core.display.Image object>"
      ]
     },
     "metadata": {},
     "output_type": "display_data"
    }
   ],
   "source": [
    "\n",
    "## Import the petrinet visualizer object\n",
    "from pm4py.algo.discovery.alpha import algorithm as alpha_miner\n",
    "net, initial_marking, final_marking = alpha_miner.apply(som_sub_log7)\n",
    "from pm4py.visualization.petrinet import visualizer as pn_visualizer\n",
    "# Visualise \n",
    "gviz = pn_visualizer.apply(net, initial_marking, final_marking) \n",
    "pn_visualizer.view(gviz)"
   ]
  },
  {
   "cell_type": "markdown",
   "metadata": {},
   "source": [
    "## Log Fitness and Precision of som_sub_log7"
   ]
  },
  {
   "cell_type": "code",
   "execution_count": 114,
   "metadata": {},
   "outputs": [
    {
     "name": "stderr",
     "output_type": "stream",
     "text": [
      "replaying log with TBR, completed variants :: 100%|██████████| 9/9 [00:00<00:00, 640.93it/s]\n",
      "replaying log with TBR, completed variants :: 100%|██████████| 64/64 [00:00<00:00, 1808.38it/s]"
     ]
    },
    {
     "name": "stdout",
     "output_type": "stream",
     "text": [
      "Fitness of Petrinet is:  100.0 %\n",
      "Precision of Petrinet is:  25.213675213675213 %\n",
      "Simplicity of Petrinet is:  100.0 %\n"
     ]
    },
    {
     "name": "stderr",
     "output_type": "stream",
     "text": [
      "\n"
     ]
    }
   ],
   "source": [
    "net, im, fm = alpha_miner.apply(som_sub_log7)\n",
    "fitness = replay_fitness_evaluator.apply(som_sub_log7, net, im, fm, variant=replay_fitness_evaluator.Variants.TOKEN_BASED)\n",
    "simp = simplicity_evaluator.apply(net)\n",
    "prec = precision_evaluator.apply(som_sub_log7, net, im, fm, variant=precision_evaluator.Variants.ETCONFORMANCE_TOKEN)\n",
    "print('Fitness of Petrinet is: ', fitness['log_fitness']*100,'%')\n",
    "print('Precision of Petrinet is: ', prec*100,'%')\n",
    "print('Simplicity of Petrinet is: ', simp*100,'%')"
   ]
  },
  {
   "cell_type": "markdown",
   "metadata": {},
   "source": [
    "## Petrinets from Alpha miner on Sub Event Log 8"
   ]
  },
  {
   "cell_type": "code",
   "execution_count": 115,
   "metadata": {},
   "outputs": [
    {
     "data": {
      "image/png": "[encoded data removed]",
      "text/plain": [
       "<IPython.core.display.Image object>"
      ]
     },
     "metadata": {},
     "output_type": "display_data"
    }
   ],
   "source": [
    "\n",
    "## Import the petrinet visualizer object\n",
    "from pm4py.algo.discovery.alpha import algorithm as alpha_miner\n",
    "net, initial_marking, final_marking = alpha_miner.apply(som_sub_log8)\n",
    "from pm4py.visualization.petrinet import visualizer as pn_visualizer\n",
    "# Visualise \n",
    "gviz = pn_visualizer.apply(net, initial_marking, final_marking) \n",
    "pn_visualizer.view(gviz)"
   ]
  },
  {
   "cell_type": "markdown",
   "metadata": {},
   "source": [
    "## Log Fitness and Precision of Sub Event log 3"
   ]
  },
  {
   "cell_type": "code",
   "execution_count": 116,
   "metadata": {},
   "outputs": [
    {
     "name": "stderr",
     "output_type": "stream",
     "text": [
      "replaying log with TBR, completed variants :: 100%|██████████| 5/5 [00:00<00:00, 488.47it/s]\n",
      "replaying log with TBR, completed variants :: 100%|██████████| 22/22 [00:00<00:00, 2815.83it/s]"
     ]
    },
    {
     "name": "stdout",
     "output_type": "stream",
     "text": [
      "Fitness of Petrinet is:  100.0 %\n",
      "Precision of Petrinet is:  28.86808591522524 %\n",
      "Simplicity of Petrinet is:  100.0 %\n"
     ]
    },
    {
     "name": "stderr",
     "output_type": "stream",
     "text": [
      "\n"
     ]
    }
   ],
   "source": [
    "net, im, fm = alpha_miner.apply(som_sub_log8)\n",
    "fitness = replay_fitness_evaluator.apply(som_sub_log8, net, im, fm, variant=replay_fitness_evaluator.Variants.TOKEN_BASED)\n",
    "simp = simplicity_evaluator.apply(net)\n",
    "prec = precision_evaluator.apply(som_sub_log8, net, im, fm, variant=precision_evaluator.Variants.ETCONFORMANCE_TOKEN)\n",
    "print('Fitness of Petrinet is: ', fitness['log_fitness']*100,'%')\n",
    "print('Precision of Petrinet is: ', prec*100,'%')\n",
    "print('Simplicity of Petrinet is: ', simp*100,'%')"
   ]
  },
  {
   "cell_type": "markdown",
   "metadata": {},
   "source": [
    "## Petrinets from Alpha miner on Sub Event Log 9"
   ]
  },
  {
   "cell_type": "code",
   "execution_count": 117,
   "metadata": {},
   "outputs": [
    {
     "data": {
      "image/png": "[encoded data removed]",
      "text/plain": [
       "<IPython.core.display.Image object>"
      ]
     },
     "metadata": {},
     "output_type": "display_data"
    }
   ],
   "source": [
    "\n",
    "## Import the petrinet visualizer object\n",
    "from pm4py.algo.discovery.alpha import algorithm as alpha_miner\n",
    "net, initial_marking, final_marking = alpha_miner.apply(som_sub_log9)\n",
    "from pm4py.visualization.petrinet import visualizer as pn_visualizer\n",
    "# Visualise \n",
    "gviz = pn_visualizer.apply(net, initial_marking, final_marking) \n",
    "pn_visualizer.view(gviz)"
   ]
  },
  {
   "cell_type": "markdown",
   "metadata": {},
   "source": [
    "## Log Fitness and Precision of SubLog 9"
   ]
  },
  {
   "cell_type": "code",
   "execution_count": 118,
   "metadata": {},
   "outputs": [
    {
     "name": "stderr",
     "output_type": "stream",
     "text": [
      "replaying log with TBR, completed variants :: 100%|██████████| 4/4 [00:00<00:00, 1253.25it/s]\n",
      "replaying log with TBR, completed variants :: 100%|██████████| 15/15 [00:00<00:00, 1788.06it/s]"
     ]
    },
    {
     "name": "stdout",
     "output_type": "stream",
     "text": [
      "Fitness of Petrinet is:  75.0 %\n",
      "Precision of Petrinet is:  31.671554252199417 %\n",
      "Simplicity of Petrinet is:  100.0 %\n"
     ]
    },
    {
     "name": "stderr",
     "output_type": "stream",
     "text": [
      "\n"
     ]
    }
   ],
   "source": [
    "net, im, fm = alpha_miner.apply(som_sub_log9)\n",
    "fitness = replay_fitness_evaluator.apply(som_sub_log9, net, im, fm, variant=replay_fitness_evaluator.Variants.TOKEN_BASED)\n",
    "simp = simplicity_evaluator.apply(net)\n",
    "prec = precision_evaluator.apply(som_sub_log9, net, im, fm, variant=precision_evaluator.Variants.ETCONFORMANCE_TOKEN)\n",
    "print('Fitness of Petrinet is: ', fitness['log_fitness']*100,'%')\n",
    "print('Precision of Petrinet is: ', prec*100,'%')\n",
    "print('Simplicity of Petrinet is: ', simp*100,'%')"
   ]
  },
  {
   "cell_type": "markdown",
   "metadata": {},
   "source": [
    "## Petrinets from Alpha miner on Sub Event Log 10"
   ]
  },
  {
   "cell_type": "code",
   "execution_count": 119,
   "metadata": {},
   "outputs": [
    {
     "data": {
      "image/png": "[encoded data removed]",
      "text/plain": [
       "<IPython.core.display.Image object>"
      ]
     },
     "metadata": {},
     "output_type": "display_data"
    }
   ],
   "source": [
    "\n",
    "## Import the petrinet visualizer object\n",
    "from pm4py.algo.discovery.alpha import algorithm as alpha_miner\n",
    "net, initial_marking, final_marking = alpha_miner.apply(som_sub_log10)\n",
    "from pm4py.visualization.petrinet import visualizer as pn_visualizer\n",
    "# Visualise \n",
    "gviz = pn_visualizer.apply(net, initial_marking, final_marking) \n",
    "pn_visualizer.view(gviz)"
   ]
  },
  {
   "cell_type": "markdown",
   "metadata": {},
   "source": [
    "## Log Fitness and Precision of SubLog 10"
   ]
  },
  {
   "cell_type": "code",
   "execution_count": 120,
   "metadata": {},
   "outputs": [
    {
     "name": "stderr",
     "output_type": "stream",
     "text": [
      "replaying log with TBR, completed variants :: 100%|██████████| 5/5 [00:00<00:00, 536.55it/s]\n",
      "replaying log with TBR, completed variants :: 100%|██████████| 15/15 [00:00<00:00, 1757.88it/s]"
     ]
    },
    {
     "name": "stdout",
     "output_type": "stream",
     "text": [
      "Fitness of Petrinet is:  66.85823754789271 %\n",
      "Precision of Petrinet is:  30.833333333333336 %\n",
      "Simplicity of Petrinet is:  100.0 %\n"
     ]
    },
    {
     "name": "stderr",
     "output_type": "stream",
     "text": [
      "\n"
     ]
    }
   ],
   "source": [
    "net, im, fm = alpha_miner.apply(som_sub_log10)\n",
    "fitness = replay_fitness_evaluator.apply(som_sub_log10, net, im, fm, variant=replay_fitness_evaluator.Variants.TOKEN_BASED)\n",
    "simp = simplicity_evaluator.apply(net)\n",
    "prec = precision_evaluator.apply(som_sub_log10, net, im, fm, variant=precision_evaluator.Variants.ETCONFORMANCE_TOKEN)\n",
    "print('Fitness of Petrinet is: ', fitness['log_fitness']*100,'%')\n",
    "print('Precision of Petrinet is: ', prec*100,'%')\n",
    "print('Simplicity of Petrinet is: ', simp*100,'%')"
   ]
  },
  {
   "cell_type": "markdown",
   "metadata": {},
   "source": [
    "## Petrinets from Alpha miner on Sub Event Log 11"
   ]
  },
  {
   "cell_type": "code",
   "execution_count": null,
   "metadata": {},
   "outputs": [
    {
     "data": {
      "image/png": "[encoded data removed]",
      "text/plain": [
       "<IPython.core.display.Image object>"
      ]
     },
     "metadata": {},
     "output_type": "display_data"
    }
   ],
   "source": [
    "\n",
    "## Import the petrinet visualizer object\n",
    "from pm4py.algo.discovery.alpha import algorithm as alpha_miner\n",
    "net, initial_marking, final_marking = alpha_miner.apply(som_sub_log11)\n",
    "from pm4py.visualization.petrinet import visualizer as pn_visualizer\n",
    "# Visualise \n",
    "gviz = pn_visualizer.apply(net, initial_marking, final_marking) \n",
    "pn_visualizer.view(gviz)"
   ]
  },
  {
   "cell_type": "markdown",
   "metadata": {},
   "source": [
    "## Log Fitness and Precision of SubLog 12"
   ]
  },
  {
   "cell_type": "code",
   "execution_count": 121,
   "metadata": {},
   "outputs": [
    {
     "name": "stderr",
     "output_type": "stream",
     "text": [
      "replaying log with TBR, completed variants :: 100%|██████████| 3/3 [00:00<00:00, 2750.36it/s]"
     ]
    },
    {
     "name": "stdout",
     "output_type": "stream",
     "text": [
      "Fitness of Petrinet is:  100.0 %\n",
      "Precision of Petrinet is:  44.44444444444444 %\n",
      "Simplicity of Petrinet is:  100.0 %\n"
     ]
    },
    {
     "name": "stderr",
     "output_type": "stream",
     "text": [
      "\n"
     ]
    }
   ],
   "source": [
    "net, im, fm = alpha_miner.apply(som_sub_log11)\n",
    "fitness = replay_fitness_evaluator.apply(som_sub_log11, net, im, fm, variant=replay_fitness_evaluator.Variants.TOKEN_BASED)\n",
    "simp = simplicity_evaluator.apply(net)\n",
    "prec = precision_evaluator.apply(som_sub_log11, net, im, fm, variant=precision_evaluator.Variants.ETCONFORMANCE_TOKEN)\n",
    "print('Fitness of Petrinet is: ', fitness['log_fitness']*100,'%')\n",
    "print('Precision of Petrinet is: ', prec*100,'%')\n",
    "print('Simplicity of Petrinet is: ', simp*100,'%')"
   ]
  },
  {
   "cell_type": "markdown",
   "metadata": {},
   "source": [
    "## Petrinets from Alpha miner on Sub Event Log 12"
   ]
  },
  {
   "cell_type": "code",
   "execution_count": 122,
   "metadata": {},
   "outputs": [
    {
     "data": {
      "image/png": "[encoded data removed]",
      "text/plain": [
       "<IPython.core.display.Image object>"
      ]
     },
     "metadata": {},
     "output_type": "display_data"
    }
   ],
   "source": [
    "\n",
    "## Import the petrinet visualizer object\n",
    "from pm4py.algo.discovery.alpha import algorithm as alpha_miner\n",
    "net, initial_marking, final_marking = alpha_miner.apply(som_sub_log12)\n",
    "from pm4py.visualization.petrinet import visualizer as pn_visualizer\n",
    "# Visualise \n",
    "gviz = pn_visualizer.apply(net, initial_marking, final_marking) \n",
    "pn_visualizer.view(gviz)"
   ]
  },
  {
   "cell_type": "markdown",
   "metadata": {},
   "source": [
    "## Log Fitness and Precision of SubLog 12"
   ]
  },
  {
   "cell_type": "code",
   "execution_count": 124,
   "metadata": {},
   "outputs": [
    {
     "name": "stderr",
     "output_type": "stream",
     "text": [
      "replaying log with TBR, completed variants :: 100%|██████████| 4/4 [00:00<00:00, 571.51it/s]\n",
      "replaying log with TBR, completed variants :: 100%|██████████| 19/19 [00:00<00:00, 2970.58it/s]"
     ]
    },
    {
     "name": "stdout",
     "output_type": "stream",
     "text": [
      "Fitness of Petrinet is:  100.0 %\n",
      "Precision of Petrinet is:  28.596950929013822 %\n",
      "Simplicity of Petrinet is:  100.0 %\n"
     ]
    },
    {
     "name": "stderr",
     "output_type": "stream",
     "text": [
      "\n"
     ]
    }
   ],
   "source": [
    "net, im, fm = alpha_miner.apply(som_sub_log12)\n",
    "fitness = replay_fitness_evaluator.apply(som_sub_log12, net, im, fm, variant=replay_fitness_evaluator.Variants.TOKEN_BASED)\n",
    "simp = simplicity_evaluator.apply(net)\n",
    "prec = precision_evaluator.apply(som_sub_log12, net, im, fm, variant=precision_evaluator.Variants.ETCONFORMANCE_TOKEN)\n",
    "print('Fitness of Petrinet is: ', fitness['log_fitness']*100,'%')\n",
    "print('Precision of Petrinet is: ', prec*100,'%')\n",
    "print('Simplicity of Petrinet is: ', simp*100,'%')"
   ]
  }
 ],
 "metadata": {
  "interpreter": {
   "hash": "f293f16398db128e85df277de8eb5f9ab0a1b28857fa0f1c8543245825f1b931"
  },
  "kernelspec": {
   "display_name": "Python 3.7.7 ('pythonProject')",
   "language": "python",
   "name": "python3"
  },
  "language_info": {
   "codemirror_mode": {
    "name": "ipython",
    "version": 3
   },
   "file_extension": ".py",
   "mimetype": "text/x-python",
   "name": "python",
   "nbconvert_exporter": "python",
   "pygments_lexer": "ipython3",
   "version": "3.7.7"
  },
  "orig_nbformat": 4
 },
 "nbformat": 4,
 "nbformat_minor": 2
}
